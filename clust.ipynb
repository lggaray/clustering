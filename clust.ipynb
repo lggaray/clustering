{
 "cells": [
  {
   "cell_type": "code",
   "execution_count": 1,
   "metadata": {},
   "outputs": [],
   "source": [
    "import nltk\n",
    "import re\n",
    "import os\n",
    "import multiprocessing\n",
    "import gensim.models.word2vec as w2v\n",
    "import numpy as np\n",
    "import matplotlib.pyplot as plt\n",
    "import sklearn.manifold"
   ]
  },
  {
   "cell_type": "code",
   "execution_count": 2,
   "metadata": {},
   "outputs": [
    {
     "name": "stdout",
     "output_type": "stream",
     "text": [
      "[nltk_data] Downloading package punkt to /home/lgg/nltk_data...\n",
      "[nltk_data]   Package punkt is already up-to-date!\n",
      "[nltk_data] Downloading package stopwords to /home/lgg/nltk_data...\n",
      "[nltk_data]   Package stopwords is already up-to-date!\n"
     ]
    },
    {
     "data": {
      "text/plain": [
       "True"
      ]
     },
     "execution_count": 2,
     "metadata": {},
     "output_type": "execute_result"
    }
   ],
   "source": [
    "nltk.download(\"punkt\")\n",
    "nltk.download(\"stopwords\")"
   ]
  },
  {
   "cell_type": "code",
   "execution_count": 3,
   "metadata": {},
   "outputs": [],
   "source": [
    "f = open(\"pba.txt\", \"r\")\n",
    "txt = f.read()"
   ]
  },
  {
   "cell_type": "code",
   "execution_count": 4,
   "metadata": {},
   "outputs": [],
   "source": [
    "# Tokenizing\n",
    "tokenizer = nltk.data.load('tokenizers/punkt/spanish.pickle')\n",
    "raw = tokenizer.tokenize(txt)"
   ]
  },
  {
   "cell_type": "code",
   "execution_count": 26,
   "metadata": {},
   "outputs": [
    {
     "name": "stdout",
     "output_type": "stream",
     "text": [
      "['-\\n\"Lo que sostiene a la pareja es el amor\"\\nClara Crespo (50) y Rodolfo Martínez (54) no se imaginan uno sin el otro.', '\"Prefiero ni pensarlo\", dice Clara.', 'Hace 26 años que están casados, y tienen cuatro hijas mujeres.', 'Se conocieron en el Ateneo Juventus, el movimiento juvenil de Capuchinos.', 'Hoy aseguran no estar sorprendidos del tiempo que llevan juntos sino de haber logrado entenderse tan bien.', '&#226;&#8364;&#8220;¿Qué les gusta y disgusta del otro?', '¿Qué quisieran cambiarle?', '&#226;&#8364;&#8220;Rodolfo: Me gusta que sea cariñosa, alegre y esté siempre pensando en mí, y que es una gran madre.', 'Me disgustaba que cuando se enojaba no quería hablar, pero ya no lo hace más.', 'A veces es indecisa pero ya me acostumbré.', 'No quiero cambiarle nada, que sea como es.', '&#226;&#8364;&#8220;Clara : Me gusta que es una persona emprendedora, alegre, optimista y servicial.', 'Me gustaría que a veces fuera más sutil para decir las cosas.', 'Pienso que las personas vamos cambiando con el tiempo de acuerdo a la edad, a las circunstancias que vivimos y todo lo que nos rodea.', 'Seguramente que no somos los mismos que cuando nos casamos y siempre seguiremos descubriendo cosas nuevas del otro.', 'Lo bueno es conversar y ayudarse a cambiar esas cosas que molestan al otro.', '&#226;&#8364;&#8220;¿Cuál fue el momento más difícil?', '-C: Sin duda fue cuando perdimos una hija.', 'Después de un dolor tan grande uno ve la vida de otra manera y ningún problema te parece tan grande.', 'Lo que más nos ayudó es que los dos compartimos la misma fe en Dios y sólo a través de &#195;&#8240;l podes darle otro sentido a la muerte.', 'También cuando vivimos separados un año y medio, por razones de trabajo de Rody.', 'Clara asegura que lo que sostiene a la pareja es el amor.', '\"Hay que alimentarlo para que crezca siempre.', 'Los proyectos y objetivos en común también ayudan a tener ilusiones y ganas de seguir juntos, pero todo es inútil si no hay amor.', 'Hay que tratar de crecer en todos los aspectos en forma permanente\".', '&#226;&#8364;&#8220;Un matrimonio a largo plazo, ¿es un refugio contra inseguridades, una rareza, un triunfo, orgullo?', '&#226;&#8364;&#8220;R: Es un medio para ser feliz, un proyecto de vida.', '&#226;&#8364;&#8220;C: Es una hermosa experiencia, más que todo eso.', 'El triunfo es ir logrando quererse cada día más.', '&#226;&#8364;&#8220;¿Por qué ahora las parejas duran menos?', '&#226;&#8364;&#8220;C: Creo que puede faltar comunicación y a veces proyecto y objetivos en común.', 'Cuando uno elige la vida de a dos a veces tiene que dejar de lado o postergar intereses personales.', '-¿Los recursos económicos son un conflicto?', '&#226;&#8364;&#8220;R: No son un problema, aunque a veces no había suficiente nunca fue una prioridad.', 'En general lo manejamos juntos, aunque el día a día lo lleva Clara.', '&#226;&#8364;&#8220;C: Siempre pusimos en común los ingresos cuando los dos trabajábamos.', 'Todo es de los dos.', '¡Menos mal, sino ahora que no trabajo estaría chau!', 'Y nos ponemos de acuerdo en la forma de administrarlo.', '&#226;&#8364;&#8220;¿La pasión es el secreto de la duración feliz?', 'R: La pasión es necesaria, pero no es el secreto de la felicidad.', 'Es importante mantener la pasión de los primeros años, toda la vida.']\n"
     ]
    }
   ],
   "source": [
    "print(raw)"
   ]
  },
  {
   "cell_type": "code",
   "execution_count": 27,
   "metadata": {},
   "outputs": [],
   "source": [
    "# Cleaning the corpus (. , ! ? ...)\n",
    "words = []\n",
    "for s in raw:\n",
    "    #s = re.sub(r\"\\d+\", \"NUM\", s)\n",
    "    corpus = re.sub(r\"[^a-zA-ZáéíóúüñÁÉÍÓÚÜÑ]\", \" \", s)\n",
    "    corpus_sin_espacios = re.sub(' +',' ',corpus)\n",
    "    #corpus = corpus.lower()\n",
    "    #corpus = corpus.split()                              ----------> ojo \n",
    "    #corpus = re.findall(r'\\S+', corpus,flags = re.UNICODE)\n",
    "    words.append(corpus_sin_espacios)\n",
    "    \n",
    "#print(words)"
   ]
  },
  {
   "cell_type": "code",
   "execution_count": 28,
   "metadata": {},
   "outputs": [
    {
     "name": "stdout",
     "output_type": "stream",
     "text": [
      "[' Lo que sostiene a la pareja es el amor Clara Crespo y Rodolfo Martínez no se imaginan uno sin el otro ', ' Prefiero ni pensarlo dice Clara ', 'Hace años que están casados y tienen cuatro hijas mujeres ', 'Se conocieron en el Ateneo Juventus el movimiento juvenil de Capuchinos ', 'Hoy aseguran no estar sorprendidos del tiempo que llevan juntos sino de haber logrado entenderse tan bien ', ' Qué les gusta y disgusta del otro ', ' Qué quisieran cambiarle ', ' Rodolfo Me gusta que sea cariñosa alegre y esté siempre pensando en mí y que es una gran madre ', 'Me disgustaba que cuando se enojaba no quería hablar pero ya no lo hace más ', 'A veces es indecisa pero ya me acostumbré ', 'No quiero cambiarle nada que sea como es ', ' Clara Me gusta que es una persona emprendedora alegre optimista y servicial ', 'Me gustaría que a veces fuera más sutil para decir las cosas ', 'Pienso que las personas vamos cambiando con el tiempo de acuerdo a la edad a las circunstancias que vivimos y todo lo que nos rodea ', 'Seguramente que no somos los mismos que cuando nos casamos y siempre seguiremos descubriendo cosas nuevas del otro ', 'Lo bueno es conversar y ayudarse a cambiar esas cosas que molestan al otro ', ' Cuál fue el momento más difícil ', ' C Sin duda fue cuando perdimos una hija ', 'Después de un dolor tan grande uno ve la vida de otra manera y ningún problema te parece tan grande ', 'Lo que más nos ayudó es que los dos compartimos la misma fe en Dios y sólo a través de l podes darle otro sentido a la muerte ', 'También cuando vivimos separados un año y medio por razones de trabajo de Rody ', 'Clara asegura que lo que sostiene a la pareja es el amor ', ' Hay que alimentarlo para que crezca siempre ', 'Los proyectos y objetivos en común también ayudan a tener ilusiones y ganas de seguir juntos pero todo es inútil si no hay amor ', 'Hay que tratar de crecer en todos los aspectos en forma permanente ', ' Un matrimonio a largo plazo es un refugio contra inseguridades una rareza un triunfo orgullo ', ' R Es un medio para ser feliz un proyecto de vida ', ' C Es una hermosa experiencia más que todo eso ', 'El triunfo es ir logrando quererse cada día más ', ' Por qué ahora las parejas duran menos ', ' C Creo que puede faltar comunicación y a veces proyecto y objetivos en común ', 'Cuando uno elige la vida de a dos a veces tiene que dejar de lado o postergar intereses personales ', ' Los recursos económicos son un conflicto ', ' R No son un problema aunque a veces no había suficiente nunca fue una prioridad ', 'En general lo manejamos juntos aunque el día a día lo lleva Clara ', ' C Siempre pusimos en común los ingresos cuando los dos trabajábamos ', 'Todo es de los dos ', ' Menos mal sino ahora que no trabajo estaría chau ', 'Y nos ponemos de acuerdo en la forma de administrarlo ', ' La pasión es el secreto de la duración feliz ', 'R La pasión es necesaria pero no es el secreto de la felicidad ', 'Es importante mantener la pasión de los primeros años toda la vida ']\n"
     ]
    }
   ],
   "source": [
    "print(words)"
   ]
  },
  {
   "cell_type": "code",
   "execution_count": 29,
   "metadata": {},
   "outputs": [],
   "source": [
    "sent_list = []\n",
    "for sentence in words:\n",
    "    sent_list.append([sentence])"
   ]
  },
  {
   "cell_type": "code",
   "execution_count": 30,
   "metadata": {},
   "outputs": [
    {
     "data": {
      "text/plain": [
       "[[' Lo que sostiene a la pareja es el amor Clara Crespo y Rodolfo Martínez no se imaginan uno sin el otro '],\n",
       " [' Prefiero ni pensarlo dice Clara '],\n",
       " ['Hace años que están casados y tienen cuatro hijas mujeres '],\n",
       " ['Se conocieron en el Ateneo Juventus el movimiento juvenil de Capuchinos '],\n",
       " ['Hoy aseguran no estar sorprendidos del tiempo que llevan juntos sino de haber logrado entenderse tan bien '],\n",
       " [' Qué les gusta y disgusta del otro '],\n",
       " [' Qué quisieran cambiarle '],\n",
       " [' Rodolfo Me gusta que sea cariñosa alegre y esté siempre pensando en mí y que es una gran madre '],\n",
       " ['Me disgustaba que cuando se enojaba no quería hablar pero ya no lo hace más '],\n",
       " ['A veces es indecisa pero ya me acostumbré '],\n",
       " ['No quiero cambiarle nada que sea como es '],\n",
       " [' Clara Me gusta que es una persona emprendedora alegre optimista y servicial '],\n",
       " ['Me gustaría que a veces fuera más sutil para decir las cosas '],\n",
       " ['Pienso que las personas vamos cambiando con el tiempo de acuerdo a la edad a las circunstancias que vivimos y todo lo que nos rodea '],\n",
       " ['Seguramente que no somos los mismos que cuando nos casamos y siempre seguiremos descubriendo cosas nuevas del otro '],\n",
       " ['Lo bueno es conversar y ayudarse a cambiar esas cosas que molestan al otro '],\n",
       " [' Cuál fue el momento más difícil '],\n",
       " [' C Sin duda fue cuando perdimos una hija '],\n",
       " ['Después de un dolor tan grande uno ve la vida de otra manera y ningún problema te parece tan grande '],\n",
       " ['Lo que más nos ayudó es que los dos compartimos la misma fe en Dios y sólo a través de l podes darle otro sentido a la muerte '],\n",
       " ['También cuando vivimos separados un año y medio por razones de trabajo de Rody '],\n",
       " ['Clara asegura que lo que sostiene a la pareja es el amor '],\n",
       " [' Hay que alimentarlo para que crezca siempre '],\n",
       " ['Los proyectos y objetivos en común también ayudan a tener ilusiones y ganas de seguir juntos pero todo es inútil si no hay amor '],\n",
       " ['Hay que tratar de crecer en todos los aspectos en forma permanente '],\n",
       " [' Un matrimonio a largo plazo es un refugio contra inseguridades una rareza un triunfo orgullo '],\n",
       " [' R Es un medio para ser feliz un proyecto de vida '],\n",
       " [' C Es una hermosa experiencia más que todo eso '],\n",
       " ['El triunfo es ir logrando quererse cada día más '],\n",
       " [' Por qué ahora las parejas duran menos '],\n",
       " [' C Creo que puede faltar comunicación y a veces proyecto y objetivos en común '],\n",
       " ['Cuando uno elige la vida de a dos a veces tiene que dejar de lado o postergar intereses personales '],\n",
       " [' Los recursos económicos son un conflicto '],\n",
       " [' R No son un problema aunque a veces no había suficiente nunca fue una prioridad '],\n",
       " ['En general lo manejamos juntos aunque el día a día lo lleva Clara '],\n",
       " [' C Siempre pusimos en común los ingresos cuando los dos trabajábamos '],\n",
       " ['Todo es de los dos '],\n",
       " [' Menos mal sino ahora que no trabajo estaría chau '],\n",
       " ['Y nos ponemos de acuerdo en la forma de administrarlo '],\n",
       " [' La pasión es el secreto de la duración feliz '],\n",
       " ['R La pasión es necesaria pero no es el secreto de la felicidad '],\n",
       " ['Es importante mantener la pasión de los primeros años toda la vida ']]"
      ]
     },
     "execution_count": 30,
     "metadata": {},
     "output_type": "execute_result"
    }
   ],
   "source": [
    "sent_list"
   ]
  },
  {
   "cell_type": "code",
   "execution_count": 31,
   "metadata": {},
   "outputs": [
    {
     "data": {
      "text/plain": [
       "[' Rodolfo Me gusta que sea cariñosa alegre y esté siempre pensando en mí y que es una gran madre ']"
      ]
     },
     "execution_count": 31,
     "metadata": {},
     "output_type": "execute_result"
    }
   ],
   "source": [
    "sent_list[7]"
   ]
  },
  {
   "cell_type": "code",
   "execution_count": 32,
   "metadata": {},
   "outputs": [
    {
     "name": "stdout",
     "output_type": "stream",
     "text": [
      "C\n",
      "R\n",
      "C\n",
      "C\n",
      "R\n",
      "C\n",
      "R\n"
     ]
    }
   ],
   "source": [
    "final = []\n",
    "for sent in sent_list:\n",
    "    aux = sent[0].split()\n",
    "    if len(aux[0]) == 1:\n",
    "        if aux[0] not in {'A', 'Y', 'O'}:\n",
    "            print(aux[0])\n",
    "            del aux[0]\n",
    "    final.append(aux)\n"
   ]
  },
  {
   "cell_type": "code",
   "execution_count": 33,
   "metadata": {},
   "outputs": [
    {
     "name": "stdout",
     "output_type": "stream",
     "text": [
      "[['Lo', 'que', 'sostiene', 'a', 'la', 'pareja', 'es', 'el', 'amor', 'Clara', 'Crespo', 'y', 'Rodolfo', 'Martínez', 'no', 'se', 'imaginan', 'uno', 'sin', 'el', 'otro'], ['Prefiero', 'ni', 'pensarlo', 'dice', 'Clara'], ['Hace', 'años', 'que', 'están', 'casados', 'y', 'tienen', 'cuatro', 'hijas', 'mujeres'], ['Se', 'conocieron', 'en', 'el', 'Ateneo', 'Juventus', 'el', 'movimiento', 'juvenil', 'de', 'Capuchinos'], ['Hoy', 'aseguran', 'no', 'estar', 'sorprendidos', 'del', 'tiempo', 'que', 'llevan', 'juntos', 'sino', 'de', 'haber', 'logrado', 'entenderse', 'tan', 'bien'], ['Qué', 'les', 'gusta', 'y', 'disgusta', 'del', 'otro'], ['Qué', 'quisieran', 'cambiarle'], ['Rodolfo', 'Me', 'gusta', 'que', 'sea', 'cariñosa', 'alegre', 'y', 'esté', 'siempre', 'pensando', 'en', 'mí', 'y', 'que', 'es', 'una', 'gran', 'madre'], ['Me', 'disgustaba', 'que', 'cuando', 'se', 'enojaba', 'no', 'quería', 'hablar', 'pero', 'ya', 'no', 'lo', 'hace', 'más'], ['A', 'veces', 'es', 'indecisa', 'pero', 'ya', 'me', 'acostumbré'], ['No', 'quiero', 'cambiarle', 'nada', 'que', 'sea', 'como', 'es'], ['Clara', 'Me', 'gusta', 'que', 'es', 'una', 'persona', 'emprendedora', 'alegre', 'optimista', 'y', 'servicial'], ['Me', 'gustaría', 'que', 'a', 'veces', 'fuera', 'más', 'sutil', 'para', 'decir', 'las', 'cosas'], ['Pienso', 'que', 'las', 'personas', 'vamos', 'cambiando', 'con', 'el', 'tiempo', 'de', 'acuerdo', 'a', 'la', 'edad', 'a', 'las', 'circunstancias', 'que', 'vivimos', 'y', 'todo', 'lo', 'que', 'nos', 'rodea'], ['Seguramente', 'que', 'no', 'somos', 'los', 'mismos', 'que', 'cuando', 'nos', 'casamos', 'y', 'siempre', 'seguiremos', 'descubriendo', 'cosas', 'nuevas', 'del', 'otro'], ['Lo', 'bueno', 'es', 'conversar', 'y', 'ayudarse', 'a', 'cambiar', 'esas', 'cosas', 'que', 'molestan', 'al', 'otro'], ['Cuál', 'fue', 'el', 'momento', 'más', 'difícil'], ['Sin', 'duda', 'fue', 'cuando', 'perdimos', 'una', 'hija'], ['Después', 'de', 'un', 'dolor', 'tan', 'grande', 'uno', 've', 'la', 'vida', 'de', 'otra', 'manera', 'y', 'ningún', 'problema', 'te', 'parece', 'tan', 'grande'], ['Lo', 'que', 'más', 'nos', 'ayudó', 'es', 'que', 'los', 'dos', 'compartimos', 'la', 'misma', 'fe', 'en', 'Dios', 'y', 'sólo', 'a', 'través', 'de', 'l', 'podes', 'darle', 'otro', 'sentido', 'a', 'la', 'muerte'], ['También', 'cuando', 'vivimos', 'separados', 'un', 'año', 'y', 'medio', 'por', 'razones', 'de', 'trabajo', 'de', 'Rody'], ['Clara', 'asegura', 'que', 'lo', 'que', 'sostiene', 'a', 'la', 'pareja', 'es', 'el', 'amor'], ['Hay', 'que', 'alimentarlo', 'para', 'que', 'crezca', 'siempre'], ['Los', 'proyectos', 'y', 'objetivos', 'en', 'común', 'también', 'ayudan', 'a', 'tener', 'ilusiones', 'y', 'ganas', 'de', 'seguir', 'juntos', 'pero', 'todo', 'es', 'inútil', 'si', 'no', 'hay', 'amor'], ['Hay', 'que', 'tratar', 'de', 'crecer', 'en', 'todos', 'los', 'aspectos', 'en', 'forma', 'permanente'], ['Un', 'matrimonio', 'a', 'largo', 'plazo', 'es', 'un', 'refugio', 'contra', 'inseguridades', 'una', 'rareza', 'un', 'triunfo', 'orgullo'], ['Es', 'un', 'medio', 'para', 'ser', 'feliz', 'un', 'proyecto', 'de', 'vida'], ['Es', 'una', 'hermosa', 'experiencia', 'más', 'que', 'todo', 'eso'], ['El', 'triunfo', 'es', 'ir', 'logrando', 'quererse', 'cada', 'día', 'más'], ['Por', 'qué', 'ahora', 'las', 'parejas', 'duran', 'menos'], ['Creo', 'que', 'puede', 'faltar', 'comunicación', 'y', 'a', 'veces', 'proyecto', 'y', 'objetivos', 'en', 'común'], ['Cuando', 'uno', 'elige', 'la', 'vida', 'de', 'a', 'dos', 'a', 'veces', 'tiene', 'que', 'dejar', 'de', 'lado', 'o', 'postergar', 'intereses', 'personales'], ['Los', 'recursos', 'económicos', 'son', 'un', 'conflicto'], ['No', 'son', 'un', 'problema', 'aunque', 'a', 'veces', 'no', 'había', 'suficiente', 'nunca', 'fue', 'una', 'prioridad'], ['En', 'general', 'lo', 'manejamos', 'juntos', 'aunque', 'el', 'día', 'a', 'día', 'lo', 'lleva', 'Clara'], ['Siempre', 'pusimos', 'en', 'común', 'los', 'ingresos', 'cuando', 'los', 'dos', 'trabajábamos'], ['Todo', 'es', 'de', 'los', 'dos'], ['Menos', 'mal', 'sino', 'ahora', 'que', 'no', 'trabajo', 'estaría', 'chau'], ['Y', 'nos', 'ponemos', 'de', 'acuerdo', 'en', 'la', 'forma', 'de', 'administrarlo'], ['La', 'pasión', 'es', 'el', 'secreto', 'de', 'la', 'duración', 'feliz'], ['La', 'pasión', 'es', 'necesaria', 'pero', 'no', 'es', 'el', 'secreto', 'de', 'la', 'felicidad'], ['Es', 'importante', 'mantener', 'la', 'pasión', 'de', 'los', 'primeros', 'años', 'toda', 'la', 'vida']]\n"
     ]
    }
   ],
   "source": [
    "print(final)"
   ]
  },
  {
   "cell_type": "code",
   "execution_count": 34,
   "metadata": {},
   "outputs": [],
   "source": [
    "from nltk.tag.stanford import StanfordPOSTagger\n",
    "\n",
    "path_to_model = \"/home/lgg/Documentos/facu/mdt/stanford-postagger-full-2017-06-09/models/spanish-distsim.tagger\"\n",
    "path_to_jar = \"/home/lgg/Documentos/facu/mdt/stanford-postagger-full-2017-06-09/stanford-postagger-3.8.0.jar\"\n",
    "\n",
    "tagger = StanfordPOSTagger(path_to_model, path_to_jar)"
   ]
  },
  {
   "cell_type": "code",
   "execution_count": 35,
   "metadata": {},
   "outputs": [],
   "source": [
    "a = []\n",
    "for sent in final:\n",
    "    a = a + ([tagger.tag(sent)])"
   ]
  },
  {
   "cell_type": "code",
   "execution_count": 36,
   "metadata": {},
   "outputs": [
    {
     "name": "stdout",
     "output_type": "stream",
     "text": [
      "[('Lo', 'da0000'), ('que', 'pr000000'), ('sostiene', 'vmip000'), ('a', 'sp000'), ('la', 'da0000'), ('pareja', 'nc0s000'), ('es', 'vsip000'), ('el', 'da0000'), ('amor', 'nc0s000'), ('Clara', 'np00000'), ('Crespo', 'np00000'), ('y', 'cc'), ('Rodolfo', 'np00000'), ('Martínez', 'np00000'), ('no', 'rn'), ('se', 'p0000000'), ('imaginan', 'vmip000'), ('uno', 'pi000000'), ('sin', 'sp000'), ('el', 'da0000'), ('otro', 'pi000000')]\n"
     ]
    }
   ],
   "source": [
    "print(a[0])"
   ]
  },
  {
   "cell_type": "code",
   "execution_count": 37,
   "metadata": {},
   "outputs": [
    {
     "name": "stdout",
     "output_type": "stream",
     "text": [
      "[[('Lo', 'da0000'), ('que', 'pr000000'), ('sostiene', 'vmip000'), ('a', 'sp000'), ('la', 'da0000'), ('pareja', 'nc0s000'), ('es', 'vsip000'), ('el', 'da0000'), ('amor', 'nc0s000'), ('Clara', 'np00000'), ('Crespo', 'np00000'), ('y', 'cc'), ('Rodolfo', 'np00000'), ('Martínez', 'np00000'), ('no', 'rn'), ('se', 'p0000000'), ('imaginan', 'vmip000'), ('uno', 'pi000000'), ('sin', 'sp000'), ('el', 'da0000'), ('otro', 'pi000000')], [('Prefiero', 'vmip000'), ('ni', 'rg'), ('pensarlo', 'nc0s000'), ('dice', 'vmip000'), ('Clara', 'np00000')], [('Hace', 'vmip000'), ('años', 'nc0p000'), ('que', 'pr000000'), ('están', 'vmip000'), ('casados', 'aq0000'), ('y', 'cc'), ('tienen', 'vmip000'), ('cuatro', 'dn0000'), ('hijas', 'nc0p000'), ('mujeres', 'nc0p000')], [('Se', 'p0000000'), ('conocieron', 'vmis000'), ('en', 'sp000'), ('el', 'da0000'), ('Ateneo', 'np00000'), ('Juventus', 'np00000'), ('el', 'da0000'), ('movimiento', 'nc0s000'), ('juvenil', 'aq0000'), ('de', 'sp000'), ('Capuchinos', 'np00000')], [('Hoy', 'rg'), ('aseguran', 'vmip000'), ('no', 'rn'), ('estar', 'vmn0000'), ('sorprendidos', 'aq0000'), ('del', 'sp000'), ('tiempo', 'nc0s000'), ('que', 'pr000000'), ('llevan', 'vmip000'), ('juntos', 'aq0000'), ('sino', 'cc'), ('de', 'sp000'), ('haber', 'van0000'), ('logrado', 'vmp0000'), ('entenderse', 'vmn0000'), ('tan', 'rg'), ('bien', 'rg')], [('Qué', 'dt0000'), ('les', 'pp000000'), ('gusta', 'vmip000'), ('y', 'cc'), ('disgusta', 'vmip000'), ('del', 'sp000'), ('otro', 'pi000000')], [('Qué', 'de0000'), ('quisieran', 'vmsi000'), ('cambiarle', 'vmsp000')], [('Rodolfo', 'np00000'), ('Me', 'pp000000'), ('gusta', 'vmip000'), ('que', 'cs'), ('sea', 'vssp000'), ('cariñosa', 'aq0000'), ('alegre', 'aq0000'), ('y', 'cc'), ('esté', 'vmsp000'), ('siempre', 'rg'), ('pensando', 'vmg0000'), ('en', 'sp000'), ('mí', 'pp000000'), ('y', 'cc'), ('que', 'pr000000'), ('es', 'vsip000'), ('una', 'di0000'), ('gran', 'aq0000'), ('madre', 'nc0s000')], [('Me', 'pp000000'), ('disgustaba', 'vmii000'), ('que', 'cs'), ('cuando', 'cs'), ('se', 'pp000000'), ('enojaba', 'vmii000'), ('no', 'rn'), ('quería', 'vmii000'), ('hablar', 'vmn0000'), ('pero', 'cc'), ('ya', 'rg'), ('no', 'rn'), ('lo', 'pp000000'), ('hace', 'vmip000'), ('más', 'rg')], [('A', 'sp000'), ('veces', 'nc0p000'), ('es', 'vsip000'), ('indecisa', 'aq0000'), ('pero', 'cc'), ('ya', 'rg'), ('me', 'pp000000'), ('acostumbré', 'vmis000')], [('No', 'rn'), ('quiero', 'vmip000'), ('cambiarle', 'vmsp000'), ('nada', 'pi000000'), ('que', 'pr000000'), ('sea', 'vssp000'), ('como', 'cs'), ('es', 'vsip000')], [('Clara', 'nc0s000'), ('Me', 'pp000000'), ('gusta', 'vmip000'), ('que', 'cs'), ('es', 'vsip000'), ('una', 'di0000'), ('persona', 'nc0s000'), ('emprendedora', 'rg'), ('alegre', 'aq0000'), ('optimista', 'aq0000'), ('y', 'cc'), ('servicial', 'aq0000')], [('Me', 'pp000000'), ('gustaría', 'vmic000'), ('que', 'cs'), ('a', 'sp000'), ('veces', 'nc0p000'), ('fuera', 'rg'), ('más', 'rg'), ('sutil', 'aq0000'), ('para', 'sp000'), ('decir', 'vmn0000'), ('las', 'da0000'), ('cosas', 'nc0p000')], [('Pienso', 'vmip000'), ('que', 'cs'), ('las', 'da0000'), ('personas', 'nc0p000'), ('vamos', 'i'), ('cambiando', 'vmg0000'), ('con', 'sp000'), ('el', 'da0000'), ('tiempo', 'nc0s000'), ('de', 'sp000'), ('acuerdo', 'nc0s000'), ('a', 'sp000'), ('la', 'da0000'), ('edad', 'nc0s000'), ('a', 'sp000'), ('las', 'da0000'), ('circunstancias', 'nc0p000'), ('que', 'pr000000'), ('vivimos', 'vmip000'), ('y', 'cc'), ('todo', 'pi000000'), ('lo', 'da0000'), ('que', 'pr000000'), ('nos', 'pp000000'), ('rodea', 'vmip000')], [('Seguramente', 'rg'), ('que', 'cs'), ('no', 'rn'), ('somos', 'vsip000'), ('los', 'da0000'), ('mismos', 'pi000000'), ('que', 'cs'), ('cuando', 'cs'), ('nos', 'pp000000'), ('casamos', 'vmip000'), ('y', 'cc'), ('siempre', 'rg'), ('seguiremos', 'vmif000'), ('descubriendo', 'vmg0000'), ('cosas', 'nc0p000'), ('nuevas', 'aq0000'), ('del', 'sp000'), ('otro', 'pi000000')], [('Lo', 'da0000'), ('bueno', 'aq0000'), ('es', 'vsip000'), ('conversar', 'vmn0000'), ('y', 'cc'), ('ayudarse', 'vmg0000'), ('a', 'sp000'), ('cambiar', 'vmn0000'), ('esas', 'dd0000'), ('cosas', 'nc0p000'), ('que', 'pr000000'), ('molestan', 'vmip000'), ('al', 'sp000'), ('otro', 'pi000000')], [('Cuál', 'pt000000'), ('fue', 'vsis000'), ('el', 'da0000'), ('momento', 'nc0s000'), ('más', 'rg'), ('difícil', 'aq0000')], [('Sin', 'sp000'), ('duda', 'nc0s000'), ('fue', 'vsis000'), ('cuando', 'cs'), ('perdimos', 'vmis000'), ('una', 'di0000'), ('hija', 'nc0s000')], [('Después', 'rg'), ('de', 'sp000'), ('un', 'di0000'), ('dolor', 'nc0s000'), ('tan', 'rg'), ('grande', 'aq0000'), ('uno', 'pi000000'), ('ve', 'vmip000'), ('la', 'da0000'), ('vida', 'nc0s000'), ('de', 'sp000'), ('otra', 'di0000'), ('manera', 'nc0s000'), ('y', 'cc'), ('ningún', 'di0000'), ('problema', 'nc0s000'), ('te', 'pp000000'), ('parece', 'vmip000'), ('tan', 'rg'), ('grande', 'aq0000')], [('Lo', 'da0000'), ('que', 'pr000000'), ('más', 'rg'), ('nos', 'pp000000'), ('ayudó', 'vmis000'), ('es', 'vsip000'), ('que', 'cs'), ('los', 'da0000'), ('dos', 'pn000000'), ('compartimos', 'vmip000'), ('la', 'da0000'), ('misma', 'aq0000'), ('fe', 'nc0s000'), ('en', 'sp000'), ('Dios', 'np00000'), ('y', 'cc'), ('sólo', 'rg'), ('a', 'sp000'), ('través', 'nc0s000'), ('de', 'sp000'), ('l', 'nc0s000'), ('podes', 'vmip000'), ('darle', 'vmn0000'), ('otro', 'di0000'), ('sentido', 'nc0s000'), ('a', 'sp000'), ('la', 'da0000'), ('muerte', 'nc0s000')], [('También', 'rg'), ('cuando', 'pr000000'), ('vivimos', 'vmip000'), ('separados', 'aq0000'), ('un', 'di0000'), ('año', 'nc0s000'), ('y', 'cc'), ('medio', 'pn000000'), ('por', 'sp000'), ('razones', 'nc0p000'), ('de', 'sp000'), ('trabajo', 'nc0s000'), ('de', 'sp000'), ('Rody', 'np00000')], [('Clara', 'nc0s000'), ('asegura', 'vmip000'), ('que', 'cs'), ('lo', 'da0000'), ('que', 'pr000000'), ('sostiene', 'vmip000'), ('a', 'sp000'), ('la', 'da0000'), ('pareja', 'nc0s000'), ('es', 'vsip000'), ('el', 'da0000'), ('amor', 'nc0s000')], [('Hay', 'vaip000'), ('que', 'cs'), ('alimentarlo', 'np00000'), ('para', 'sp000'), ('que', 'cs'), ('crezca', 'vmsp000'), ('siempre', 'rg')], [('Los', 'da0000'), ('proyectos', 'nc0p000'), ('y', 'cc'), ('objetivos', 'nc0p000'), ('en', 'sp000'), ('común', 'aq0000'), ('también', 'rg'), ('ayudan', 'vmip000'), ('a', 'sp000'), ('tener', 'vmn0000'), ('ilusiones', 'nc0p000'), ('y', 'cc'), ('ganas', 'nc0p000'), ('de', 'sp000'), ('seguir', 'vmn0000'), ('juntos', 'aq0000'), ('pero', 'cc'), ('todo', 'pi000000'), ('es', 'vsip000'), ('inútil', 'aq0000'), ('si', 'cs'), ('no', 'rn'), ('hay', 'vaip000'), ('amor', 'nc0s000')], [('Hay', 'vaip000'), ('que', 'cs'), ('tratar', 'vmn0000'), ('de', 'sp000'), ('crecer', 'vmn0000'), ('en', 'sp000'), ('todos', 'di0000'), ('los', 'da0000'), ('aspectos', 'nc0p000'), ('en', 'sp000'), ('forma', 'nc0s000'), ('permanente', 'aq0000')], [('Un', 'di0000'), ('matrimonio', 'nc0s000'), ('a', 'sp000'), ('largo', 'aq0000'), ('plazo', 'nc0s000'), ('es', 'vsip000'), ('un', 'di0000'), ('refugio', 'nc0s000'), ('contra', 'sp000'), ('inseguridades', 'nc0p000'), ('una', 'di0000'), ('rareza', 'nc0s000'), ('un', 'di0000'), ('triunfo', 'nc0s000'), ('orgullo', 'nc0s000')], [('Es', 'vsip000'), ('un', 'di0000'), ('medio', 'nc0s000'), ('para', 'sp000'), ('ser', 'vsn0000'), ('feliz', 'aq0000'), ('un', 'di0000'), ('proyecto', 'nc0s000'), ('de', 'sp000'), ('vida', 'nc0s000')], [('Es', 'vsip000'), ('una', 'di0000'), ('hermosa', 'aq0000'), ('experiencia', 'nc0s000'), ('más', 'rg'), ('que', 'cs'), ('todo', 'di0000'), ('eso', 'pd000000')], [('El', 'da0000'), ('triunfo', 'nc0s000'), ('es', 'vsip000'), ('ir', 'vmn0000'), ('logrando', 'vmg0000'), ('quererse', 'vmn0000'), ('cada', 'di0000'), ('día', 'nc0s000'), ('más', 'rg')], [('Por', 'sp000'), ('qué', 'pt000000'), ('ahora', 'rg'), ('las', 'da0000'), ('parejas', 'nc0p000'), ('duran', 'vmip000'), ('menos', 'rg')], [('Creo', 'vmip000'), ('que', 'cs'), ('puede', 'vmip000'), ('faltar', 'vmn0000'), ('comunicación', 'nc0s000'), ('y', 'cc'), ('a', 'sp000'), ('veces', 'nc0p000'), ('proyecto', 'nc0s000'), ('y', 'cc'), ('objetivos', 'nc0p000'), ('en', 'sp000'), ('común', 'aq0000')], [('Cuando', 'cs'), ('uno', 'pi000000'), ('elige', 'vmip000'), ('la', 'da0000'), ('vida', 'nc0s000'), ('de', 'sp000'), ('a', 'sp000'), ('dos', 'pn000000'), ('a', 'sp000'), ('veces', 'nc0p000'), ('tiene', 'vmip000'), ('que', 'cs'), ('dejar', 'vmn0000'), ('de', 'sp000'), ('lado', 'nc0s000'), ('o', 'cc'), ('postergar', 'vmn0000'), ('intereses', 'nc0p000'), ('personales', 'aq0000')], [('Los', 'da0000'), ('recursos', 'nc0p000'), ('económicos', 'aq0000'), ('son', 'vsip000'), ('un', 'di0000'), ('conflicto', 'nc0s000')], [('No', 'rn'), ('son', 'vsip000'), ('un', 'di0000'), ('problema', 'nc0s000'), ('aunque', 'cs'), ('a', 'sp000'), ('veces', 'nc0p000'), ('no', 'rn'), ('había', 'vaii000'), ('suficiente', 'aq0000'), ('nunca', 'rg'), ('fue', 'vsis000'), ('una', 'di0000'), ('prioridad', 'nc0s000')], [('En', 'sp000'), ('general', 'aq0000'), ('lo', 'da0000'), ('manejamos', 'vmip000'), ('juntos', 'aq0000'), ('aunque', 'cs'), ('el', 'da0000'), ('día', 'nc0s000'), ('a', 'sp000'), ('día', 'nc0s000'), ('lo', 'da0000'), ('lleva', 'vmip000'), ('Clara', 'np00000')], [('Siempre', 'rg'), ('pusimos', 'vmis000'), ('en', 'sp000'), ('común', 'aq0000'), ('los', 'da0000'), ('ingresos', 'nc0p000'), ('cuando', 'cs'), ('los', 'da0000'), ('dos', 'dn0000'), ('trabajábamos', 'vmii000')], [('Todo', 'pi000000'), ('es', 'vsip000'), ('de', 'sp000'), ('los', 'da0000'), ('dos', 'pn000000')], [('Menos', 'rg'), ('mal', 'rg'), ('sino', 'cc'), ('ahora', 'rg'), ('que', 'pr000000'), ('no', 'rn'), ('trabajo', 'vmip000'), ('estaría', 'vmic000'), ('chau', 'i')], [('Y', 'cc'), ('nos', 'pp000000'), ('ponemos', 'vmip000'), ('de', 'sp000'), ('acuerdo', 'nc0s000'), ('en', 'sp000'), ('la', 'da0000'), ('forma', 'nc0s000'), ('de', 'sp000'), ('administrarlo', 'nc0s000')], [('La', 'da0000'), ('pasión', 'nc0s000'), ('es', 'vsip000'), ('el', 'da0000'), ('secreto', 'nc0s000'), ('de', 'sp000'), ('la', 'da0000'), ('duración', 'nc0s000'), ('feliz', 'aq0000')], [('La', 'da0000'), ('pasión', 'nc0s000'), ('es', 'vsip000'), ('necesaria', 'aq0000'), ('pero', 'cc'), ('no', 'rn'), ('es', 'vsip000'), ('el', 'da0000'), ('secreto', 'nc0s000'), ('de', 'sp000'), ('la', 'da0000'), ('felicidad', 'nc0s000')], [('Es', 'vsip000'), ('importante', 'aq0000'), ('mantener', 'vmn0000'), ('la', 'da0000'), ('pasión', 'nc0s000'), ('de', 'sp000'), ('los', 'da0000'), ('primeros', 'ao0000'), ('años', 'nc0p000'), ('toda', 'di0000'), ('la', 'da0000'), ('vida', 'nc0s000')]]\n"
     ]
    }
   ],
   "source": [
    "print(a)"
   ]
  },
  {
   "cell_type": "code",
   "execution_count": 17,
   "metadata": {},
   "outputs": [],
   "source": [
    "#rebie lista de tuplas\n",
    "#Dos modos -> \"w\" = palabra anterior , \"t\" = tag anterior\n",
    "def tw_before(lists, i, mode):\n",
    "    if i != 0:\n",
    "        if mode == \"w\":\n",
    "            return lists[i-1][0] #palabra\n",
    "        else:\n",
    "            return lists[i-1][1] #tag\n",
    "    else:\n",
    "        return \"[start]\""
   ]
  },
  {
   "cell_type": "code",
   "execution_count": 18,
   "metadata": {},
   "outputs": [],
   "source": [
    "#recibe lista de tuplas\n",
    "#Dos modos -> \"w\" = palabra siguiente , \"t\" = tag siguiente\n",
    "def tw_after(lists, i, mode):\n",
    "    if i != len(lists)-1:\n",
    "        if mode == \"w\":\n",
    "            return lists[i+1][0] #palabra\n",
    "        else:\n",
    "            return lists[i+1][1] #tag\n",
    "    else:\n",
    "        return \"[end]\""
   ]
  },
  {
   "cell_type": "code",
   "execution_count": 19,
   "metadata": {},
   "outputs": [],
   "source": [
    "#lematizado\n",
    "lemmaDict = {}\n",
    "with open('lemmatization-es.txt', 'rb') as f:\n",
    "   data = f.read().decode('utf8').replace(u'\\r', u'').split(u'\\n')\n",
    "   data = [a.split(u'\\t') for a in data]"
   ]
  },
  {
   "cell_type": "code",
   "execution_count": 20,
   "metadata": {},
   "outputs": [],
   "source": [
    "for a in data:\n",
    "   if len(a) >1:\n",
    "      lemmaDict[a[1]] = a[0]"
   ]
  },
  {
   "cell_type": "code",
   "execution_count": 21,
   "metadata": {},
   "outputs": [],
   "source": [
    "def lemmatize(word):\n",
    "   return lemmaDict.get(word, word) # + u'*'"
   ]
  },
  {
   "cell_type": "code",
   "execution_count": 22,
   "metadata": {},
   "outputs": [],
   "source": [
    "features = []\n",
    "check_list = []"
   ]
  },
  {
   "cell_type": "code",
   "execution_count": 38,
   "metadata": {},
   "outputs": [],
   "source": [
    "for sent in a:\n",
    "    for i, (fst,snd) in enumerate(sent):\n",
    "        new_stuff_dict = {'lemma':lemmatize(fst),'POS':snd, 'lowcase':fst.islower(), \"wbefore\":tw_before(sent, i, \"w\"), \"tbefore\":tw_before(sent, i, \"t\"), \"wafter\":tw_after(sent, i, \"w\"), \"tafter\":tw_after(sent,i,\"t\")} # la palabra en si no es un feature\n",
    "        features.append(new_stuff_dict)\n",
    "        check_list.append(fst)"
   ]
  },
  {
   "cell_type": "code",
   "execution_count": 40,
   "metadata": {
    "scrolled": false
   },
   "outputs": [
    {
     "data": {
      "text/plain": [
       "[{'POS': 'da0000',\n",
       "  'lemma': 'Lo',\n",
       "  'lowcase': False,\n",
       "  'tafter': 'pr000000',\n",
       "  'tbefore': '[start]',\n",
       "  'wafter': 'que',\n",
       "  'wbefore': '[start]'},\n",
       " {'POS': 'pr000000',\n",
       "  'lemma': 'que',\n",
       "  'lowcase': True,\n",
       "  'tafter': 'vmip000',\n",
       "  'tbefore': 'da0000',\n",
       "  'wafter': 'sostiene',\n",
       "  'wbefore': 'Lo'},\n",
       " {'POS': 'vmip000',\n",
       "  'lemma': 'sostener',\n",
       "  'lowcase': True,\n",
       "  'tafter': 'sp000',\n",
       "  'tbefore': 'pr000000',\n",
       "  'wafter': 'a',\n",
       "  'wbefore': 'que'},\n",
       " {'POS': 'sp000',\n",
       "  'lemma': 'a',\n",
       "  'lowcase': True,\n",
       "  'tafter': 'da0000',\n",
       "  'tbefore': 'vmip000',\n",
       "  'wafter': 'la',\n",
       "  'wbefore': 'sostiene'},\n",
       " {'POS': 'da0000',\n",
       "  'lemma': 'lo',\n",
       "  'lowcase': True,\n",
       "  'tafter': 'nc0s000',\n",
       "  'tbefore': 'sp000',\n",
       "  'wafter': 'pareja',\n",
       "  'wbefore': 'a'}]"
      ]
     },
     "execution_count": 40,
     "metadata": {},
     "output_type": "execute_result"
    }
   ],
   "source": [
    "features[:5]"
   ]
  },
  {
   "cell_type": "code",
   "execution_count": 41,
   "metadata": {},
   "outputs": [],
   "source": [
    "from sklearn.feature_extraction import DictVectorizer\n",
    "v = DictVectorizer(sparse=False)\n",
    "#D = [{'foo': 1, 'bar': 2}, {'foo': 3, 'baz': 1}] -----------> ya tengo mi dict ---> features\n",
    "X = v.fit_transform(features)"
   ]
  },
  {
   "cell_type": "code",
   "execution_count": 42,
   "metadata": {},
   "outputs": [],
   "source": [
    "Y = v.inverse_transform(X)"
   ]
  },
  {
   "cell_type": "code",
   "execution_count": 43,
   "metadata": {},
   "outputs": [
    {
     "data": {
      "text/plain": [
       "{'POS=pr000000': 1.0,\n",
       " 'lemma=que': 1.0,\n",
       " 'lowcase': 1.0,\n",
       " 'tafter=vmip000': 1.0,\n",
       " 'tbefore=da0000': 1.0,\n",
       " 'wafter=sostiene': 1.0,\n",
       " 'wbefore=Lo': 1.0}"
      ]
     },
     "execution_count": 43,
     "metadata": {},
     "output_type": "execute_result"
    }
   ],
   "source": [
    "Y[1]"
   ]
  },
  {
   "cell_type": "code",
   "execution_count": 44,
   "metadata": {},
   "outputs": [
    {
     "data": {
      "text/plain": [
       "array([ 0.,  0.,  0.,  0.,  0.,  0.,  0.,  0.,  0.,  0.,  0.,  0.,  0.,\n",
       "        0.,  0.,  0.,  0.,  0.,  0.,  1.,  0.,  0.,  0.,  0.,  0.,  0.,\n",
       "        0.,  0.,  0.,  0.,  0.,  0.,  0.,  0.,  0.,  0.,  0.,  0.,  0.,\n",
       "        0.,  0.,  0.,  0.,  0.,  0.,  0.,  0.,  0.,  0.,  0.,  0.,  0.,\n",
       "        0.,  0.,  0.,  0.,  0.,  0.,  0.,  0.,  0.,  0.,  0.,  0.,  0.,\n",
       "        0.,  0.,  0.,  0.,  0.,  0.,  0.,  0.,  0.,  0.,  0.,  0.,  0.,\n",
       "        0.,  0.,  0.,  0.,  0.,  0.,  0.,  0.,  0.,  0.,  0.,  0.,  0.,\n",
       "        0.,  0.,  0.,  0.,  0.,  0.,  0.,  0.,  0.,  0.,  0.,  0.,  0.,\n",
       "        0.,  0.,  0.,  0.,  0.,  0.,  0.,  0.,  0.,  0.,  0.,  0.,  0.,\n",
       "        0.,  0.,  0.,  0.,  0.,  0.,  0.,  0.,  0.,  0.,  0.,  0.,  0.,\n",
       "        0.,  0.,  0.,  0.,  0.,  0.,  0.,  0.,  0.,  0.,  0.,  0.,  0.,\n",
       "        0.,  0.,  0.,  0.,  0.,  0.,  0.,  0.,  0.,  0.,  0.,  0.,  0.,\n",
       "        0.,  0.,  0.,  0.,  0.,  0.,  0.,  0.,  0.,  0.,  0.,  0.,  0.,\n",
       "        0.,  0.,  0.,  0.,  0.,  0.,  0.,  0.,  0.,  0.,  0.,  0.,  0.,\n",
       "        0.,  0.,  0.,  0.,  0.,  0.,  0.,  0.,  0.,  0.,  0.,  0.,  0.,\n",
       "        0.,  0.,  0.,  0.,  0.,  0.,  0.,  0.,  0.,  0.,  0.,  0.,  0.,\n",
       "        0.,  0.,  0.,  0.,  0.,  0.,  0.,  0.,  0.,  0.,  0.,  0.,  0.,\n",
       "        0.,  0.,  0.,  0.,  0.,  1.,  0.,  0.,  0.,  0.,  0.,  0.,  0.,\n",
       "        0.,  0.,  0.,  0.,  0.,  0.,  0.,  0.,  0.,  0.,  0.,  0.,  0.,\n",
       "        0.,  0.,  0.,  0.,  0.,  0.,  0.,  0.,  0.,  0.,  0.,  0.,  0.,\n",
       "        0.,  0.,  0.,  0.,  0.,  0.,  0.,  0.,  0.,  1.,  0.,  0.,  0.,\n",
       "        0.,  0.,  0.,  0.,  0.,  0.,  0.,  0.,  0.,  0.,  0.,  0.,  0.,\n",
       "        0.,  0.,  0.,  0.,  0.,  0.,  0.,  0.,  0.,  0.,  0.,  0.,  0.,\n",
       "        0.,  1.,  0.,  0.,  0.,  0.,  0.,  0.,  0.,  0.,  0.,  0.,  0.,\n",
       "        0.,  0.,  0.,  1.,  0.,  0.,  0.,  0.,  0.,  0.,  0.,  0.,  0.,\n",
       "        0.,  0.,  0.,  0.,  0.,  0.,  0.,  0.,  0.,  0.,  0.,  0.,  0.,\n",
       "        0.,  0.,  0.,  0.,  0.,  0.,  0.,  0.,  0.,  0.,  0.,  0.,  0.,\n",
       "        0.,  0.,  0.,  0.,  0.,  0.,  0.,  0.,  0.,  0.,  0.,  0.,  0.,\n",
       "        0.,  0.,  0.,  0.,  0.,  0.,  0.,  0.,  0.,  0.,  0.,  0.,  0.,\n",
       "        0.,  0.,  0.,  0.,  0.,  0.,  0.,  0.,  0.,  0.,  0.,  0.,  0.,\n",
       "        0.,  0.,  0.,  0.,  0.,  0.,  0.,  0.,  0.,  0.,  0.,  0.,  0.,\n",
       "        0.,  0.,  0.,  0.,  0.,  0.,  0.,  0.,  0.,  0.,  0.,  0.,  0.,\n",
       "        0.,  0.,  0.,  0.,  0.,  0.,  0.,  0.,  0.,  0.,  0.,  0.,  0.,\n",
       "        0.,  0.,  0.,  0.,  0.,  0.,  0.,  0.,  0.,  0.,  0.,  0.,  0.,\n",
       "        0.,  0.,  0.,  0.,  0.,  0.,  0.,  0.,  0.,  0.,  0.,  0.,  0.,\n",
       "        0.,  0.,  0.,  0.,  0.,  0.,  0.,  0.,  0.,  0.,  0.,  0.,  0.,\n",
       "        0.,  0.,  0.,  0.,  0.,  0.,  0.,  0.,  0.,  0.,  0.,  0.,  0.,\n",
       "        0.,  0.,  0.,  0.,  0.,  0.,  0.,  0.,  0.,  0.,  0.,  0.,  0.,\n",
       "        0.,  0.,  0.,  0.,  0.,  0.,  0.,  0.,  0.,  0.,  0.,  0.,  0.,\n",
       "        0.,  0.,  0.,  0.,  0.,  0.,  0.,  0.,  0.,  0.,  0.,  0.,  0.,\n",
       "        0.,  0.,  0.,  0.,  0.,  0.,  0.,  0.,  0.,  0.,  0.,  0.,  0.,\n",
       "        0.,  0.,  0.,  0.,  0.,  0.,  0.,  0.,  0.,  0.,  0.,  0.,  0.,\n",
       "        0.,  0.,  0.,  0.,  0.,  0.,  0.,  0.,  0.,  0.,  0.,  0.,  0.,\n",
       "        0.,  0.,  0.,  0.,  0.,  0.,  1.,  0.,  0.,  0.,  0.,  0.,  0.,\n",
       "        0.,  0.,  0.,  0.,  0.,  0.,  0.,  0.,  0.,  0.,  0.,  0.,  0.,\n",
       "        0.,  0.,  0.,  0.,  0.,  0.,  0.,  0.,  0.,  0.,  0.,  0.,  0.,\n",
       "        0.,  0.,  0.,  0.,  0.,  0.,  0.,  0.,  0.,  0.,  0.,  0.,  0.,\n",
       "        1.,  0.,  0.,  0.,  0.,  0.,  0.,  0.,  0.,  0.,  0.,  0.,  0.,\n",
       "        0.,  0.,  0.,  0.,  0.,  0.,  0.,  0.,  0.,  0.,  0.,  0.,  0.,\n",
       "        0.,  0.,  0.,  0.,  0.,  0.,  0.,  0.,  0.,  0.,  0.,  0.,  0.,\n",
       "        0.,  0.,  0.,  0.,  0.,  0.,  0.,  0.,  0.,  0.,  0.,  0.,  0.,\n",
       "        0.,  0.,  0.,  0.,  0.,  0.,  0.,  0.,  0.,  0.,  0.,  0.,  0.,\n",
       "        0.,  0.,  0.,  0.,  0.,  0.,  0.,  0.,  0.,  0.,  0.,  0.,  0.,\n",
       "        0.,  0.,  0.,  0.,  0.,  0.,  0.,  0.,  0.,  0.,  0.,  0.,  0.,\n",
       "        0.,  0.,  0.,  0.,  0.,  0.,  0.,  0.,  0.,  0.,  0.,  0.,  0.,\n",
       "        0.,  0.,  0.,  0.,  0.,  0.,  0.,  0.,  0.,  0.,  0.,  0.,  0.,\n",
       "        0.,  0.,  0.,  0.,  0.,  0.,  0.,  0.,  0.,  0.,  0.,  0.,  0.,\n",
       "        0.,  0.,  0.,  0.,  0.,  0.,  0.,  0.,  0.,  0.,  0.,  0.,  0.,\n",
       "        0.,  0.,  0.,  0.,  0.,  0.,  0.,  0.,  0.,  0.,  0.,  0.,  0.,\n",
       "        0.,  0.,  0.,  0.,  0.,  0.,  0.,  0.,  0.,  0.,  0.,  0.,  0.,\n",
       "        0.,  0.,  0.,  0.,  0.,  0.,  0.,  0.,  0.,  0.,  0.,  0.,  0.,\n",
       "        0.,  0.,  0.,  0.,  0.,  0.,  0.,  0.,  0.,  0.,  0.,  0.,  0.,\n",
       "        0.,  0.,  0.,  0.,  0.,  0.,  0.,  0.,  0.,  0.,  0.,  0.,  0.,\n",
       "        0.,  0.,  0.,  0.,  0.,  0.,  0.,  0.,  0.,  0.,  0.,  0.,  0.,\n",
       "        0.,  0.,  0.,  0.,  0.,  0.,  0.,  0.,  0.,  0.,  0.])"
      ]
     },
     "execution_count": 44,
     "metadata": {},
     "output_type": "execute_result"
    }
   ],
   "source": [
    "X[1]"
   ]
  },
  {
   "cell_type": "code",
   "execution_count": 27,
   "metadata": {},
   "outputs": [],
   "source": [
    "#def sentence_to_wordlist(raw):\n",
    "#    clean = re.sub(\"[^a-zA-ZñÑÁÉÍÓÚáéíóúü]\",\" \", raw)\n",
    "#    words = clean.split()\n",
    "#    return words"
   ]
  },
  {
   "cell_type": "code",
   "execution_count": 28,
   "metadata": {},
   "outputs": [],
   "source": [
    "#tokens = []\n",
    "#for sentence in raw:\n",
    "#    tokens.append(sentence_to_wordlist(sentence))\n",
    "    \n",
    "#print(tokens[:10])"
   ]
  },
  {
   "cell_type": "code",
   "execution_count": 46,
   "metadata": {},
   "outputs": [
    {
     "name": "stdout",
     "output_type": "stream",
     "text": [
      "['Lo', 'que', 'sostiene', 'a', 'la', 'pareja', 'es', 'el', 'amor', 'Clara', 'Crespo', 'y', 'Rodolfo', 'Martínez', 'no', 'se', 'imaginan', 'uno', 'sin', 'el', 'otro', 'Prefiero', 'ni', 'pensarlo', 'dice', 'Clara', 'Hace', 'años', 'que', 'están', 'casados', 'y', 'tienen', 'cuatro', 'hijas', 'mujeres', 'Se', 'conocieron', 'en', 'el', 'Ateneo', 'Juventus', 'el', 'movimiento', 'juvenil', 'de', 'Capuchinos', 'Hoy', 'aseguran', 'no', 'estar', 'sorprendidos', 'del', 'tiempo', 'que', 'llevan', 'juntos', 'sino', 'de', 'haber', 'logrado', 'entenderse', 'tan', 'bien', 'Qué', 'les', 'gusta', 'y', 'disgusta', 'del', 'otro', 'Qué', 'quisieran', 'cambiarle', 'Rodolfo', 'Me', 'gusta', 'que', 'sea', 'cariñosa', 'alegre', 'y', 'esté', 'siempre', 'pensando', 'en', 'mí', 'y', 'que', 'es', 'una', 'gran', 'madre', 'Me', 'disgustaba', 'que', 'cuando', 'se', 'enojaba', 'no', 'quería', 'hablar', 'pero', 'ya', 'no', 'lo', 'hace', 'más', 'A', 'veces', 'es', 'indecisa', 'pero', 'ya', 'me', 'acostumbré', 'No', 'quiero', 'cambiarle', 'nada', 'que', 'sea', 'como', 'es', 'Clara', 'Me', 'gusta', 'que', 'es', 'una', 'persona', 'emprendedora', 'alegre', 'optimista', 'y', 'servicial', 'Me', 'gustaría', 'que', 'a', 'veces', 'fuera', 'más', 'sutil', 'para', 'decir', 'las', 'cosas', 'Pienso', 'que', 'las', 'personas', 'vamos', 'cambiando', 'con', 'el', 'tiempo', 'de', 'acuerdo', 'a', 'la', 'edad', 'a', 'las', 'circunstancias', 'que', 'vivimos', 'y', 'todo', 'lo', 'que', 'nos', 'rodea', 'Seguramente', 'que', 'no', 'somos', 'los', 'mismos', 'que', 'cuando', 'nos', 'casamos', 'y', 'siempre', 'seguiremos', 'descubriendo', 'cosas', 'nuevas', 'del', 'otro', 'Lo', 'bueno', 'es', 'conversar', 'y', 'ayudarse', 'a', 'cambiar', 'esas', 'cosas', 'que', 'molestan', 'al', 'otro', 'Cuál', 'fue', 'el', 'momento', 'más', 'difícil', 'Sin', 'duda', 'fue', 'cuando', 'perdimos', 'una', 'hija', 'Después', 'de', 'un', 'dolor', 'tan', 'grande', 'uno', 've', 'la', 'vida', 'de', 'otra', 'manera', 'y', 'ningún', 'problema', 'te', 'parece', 'tan', 'grande', 'Lo', 'que', 'más', 'nos', 'ayudó', 'es', 'que', 'los', 'dos', 'compartimos', 'la', 'misma', 'fe', 'en', 'Dios', 'y', 'sólo', 'a', 'través', 'de', 'l', 'podes', 'darle', 'otro', 'sentido', 'a', 'la', 'muerte', 'También', 'cuando', 'vivimos', 'separados', 'un', 'año', 'y', 'medio', 'por', 'razones', 'de', 'trabajo', 'de', 'Rody', 'Clara', 'asegura', 'que', 'lo', 'que', 'sostiene', 'a', 'la', 'pareja', 'es', 'el', 'amor', 'Hay', 'que', 'alimentarlo', 'para', 'que', 'crezca', 'siempre', 'Los', 'proyectos', 'y', 'objetivos', 'en', 'común', 'también', 'ayudan', 'a', 'tener', 'ilusiones', 'y', 'ganas', 'de', 'seguir', 'juntos', 'pero', 'todo', 'es', 'inútil', 'si', 'no', 'hay', 'amor', 'Hay', 'que', 'tratar', 'de', 'crecer', 'en', 'todos', 'los', 'aspectos', 'en', 'forma', 'permanente', 'Un', 'matrimonio', 'a', 'largo', 'plazo', 'es', 'un', 'refugio', 'contra', 'inseguridades', 'una', 'rareza', 'un', 'triunfo', 'orgullo', 'Es', 'un', 'medio', 'para', 'ser', 'feliz', 'un', 'proyecto', 'de', 'vida', 'Es', 'una', 'hermosa', 'experiencia', 'más', 'que', 'todo', 'eso', 'El', 'triunfo', 'es', 'ir', 'logrando', 'quererse', 'cada', 'día', 'más', 'Por', 'qué', 'ahora', 'las', 'parejas', 'duran', 'menos', 'Creo', 'que', 'puede', 'faltar', 'comunicación', 'y', 'a', 'veces', 'proyecto', 'y', 'objetivos', 'en', 'común', 'Cuando', 'uno', 'elige', 'la', 'vida', 'de', 'a', 'dos', 'a', 'veces', 'tiene', 'que', 'dejar', 'de', 'lado', 'o', 'postergar', 'intereses', 'personales', 'Los', 'recursos', 'económicos', 'son', 'un', 'conflicto', 'No', 'son', 'un', 'problema', 'aunque', 'a', 'veces', 'no', 'había', 'suficiente', 'nunca', 'fue', 'una', 'prioridad', 'En', 'general', 'lo', 'manejamos', 'juntos', 'aunque', 'el', 'día', 'a', 'día', 'lo', 'lleva', 'Clara', 'Siempre', 'pusimos', 'en', 'común', 'los', 'ingresos', 'cuando', 'los', 'dos', 'trabajábamos', 'Todo', 'es', 'de', 'los', 'dos', 'Menos', 'mal', 'sino', 'ahora', 'que', 'no', 'trabajo', 'estaría', 'chau', 'Y', 'nos', 'ponemos', 'de', 'acuerdo', 'en', 'la', 'forma', 'de', 'administrarlo', 'La', 'pasión', 'es', 'el', 'secreto', 'de', 'la', 'duración', 'feliz', 'La', 'pasión', 'es', 'necesaria', 'pero', 'no', 'es', 'el', 'secreto', 'de', 'la', 'felicidad', 'Es', 'importante', 'mantener', 'la', 'pasión', 'de', 'los', 'primeros', 'años', 'toda', 'la', 'vida']\n"
     ]
    }
   ],
   "source": [
    "# Flatten list\n",
    "flat_list = []\n",
    "for sublist in final:\n",
    "    for item in sublist:\n",
    "        flat_list.append(item)\n",
    "\n",
    "print(flat_list)"
   ]
  },
  {
   "cell_type": "code",
   "execution_count": 72,
   "metadata": {},
   "outputs": [
    {
     "data": {
      "text/plain": [
       "\"from nltk.corpus import stopwords\\nimportant_words=[]\\nfor word in flat_list:\\n    if word not in stopwords.words('spanish'):\\n        important_words.append(word)\\n\""
      ]
     },
     "execution_count": 72,
     "metadata": {},
     "output_type": "execute_result"
    }
   ],
   "source": [
    "#Removing StopWords\n",
    "from nltk.corpus import stopwords\n",
    "important_words=[]\n",
    "for word in flat_list:\n",
    "    if word not in stopwords.words('spanish'):\n",
    "        important_words.append(word)"
   ]
  },
  {
   "cell_type": "code",
   "execution_count": 78,
   "metadata": {},
   "outputs": [
    {
     "ename": "NameError",
     "evalue": "name 'important_words' is not defined",
     "output_type": "error",
     "traceback": [
      "\u001b[0;31m---------------------------------------------------------------------------\u001b[0m",
      "\u001b[0;31mNameError\u001b[0m                                 Traceback (most recent call last)",
      "\u001b[0;32m<ipython-input-78-1125f3745f1e>\u001b[0m in \u001b[0;36m<module>\u001b[0;34m()\u001b[0m\n\u001b[1;32m      1\u001b[0m \u001b[0mwd\u001b[0m \u001b[0;34m=\u001b[0m \u001b[0;34m[\u001b[0m\u001b[0;34m]\u001b[0m\u001b[0;34m\u001b[0m\u001b[0m\n\u001b[0;32m----> 2\u001b[0;31m \u001b[0;32mfor\u001b[0m \u001b[0ma\u001b[0m \u001b[0;32min\u001b[0m \u001b[0mimportant_words\u001b[0m\u001b[0;34m:\u001b[0m\u001b[0;34m\u001b[0m\u001b[0m\n\u001b[0m\u001b[1;32m      3\u001b[0m     \u001b[0mwd\u001b[0m\u001b[0;34m.\u001b[0m\u001b[0mappend\u001b[0m\u001b[0;34m(\u001b[0m\u001b[0mlemmatize\u001b[0m\u001b[0;34m(\u001b[0m\u001b[0ma\u001b[0m\u001b[0;34m)\u001b[0m\u001b[0;34m)\u001b[0m\u001b[0;34m\u001b[0m\u001b[0m\n",
      "\u001b[0;31mNameError\u001b[0m: name 'important_words' is not defined"
     ]
    }
   ],
   "source": [
    "wd = []\n",
    "for a in important_words:\n",
    "    wd.append(lemmatize(a))"
   ]
  },
  {
   "cell_type": "code",
   "execution_count": 70,
   "metadata": {},
   "outputs": [
    {
     "name": "stdout",
     "output_type": "stream",
     "text": [
      "['sostener', 'parejo', 'amor', 'claro', 'crespo', 'rodolfo', 'martínez', 'imaginar', 'preferir', 'pensarlo', 'decir', 'claro', 'hacer', 'año', 'casar', 'cuatro', 'hijo', 'mujer', 'conocer', 'ateneo', 'juventus', 'movimiento', 'juvenil', 'capuchino', 'hoy', 'asegurar', 'sorprender', 'tiempo', 'llevar', 'junto', 'sino', 'haber', 'lograr', 'entenderse', 'tan', 'bien', 'gustar', 'disgustar', 'querer', 'cambiarle', 'rodolfo', 'gustar', 'cariñoso', 'alegrar', 'siempre', 'pensar', 'gran', 'madre', 'disgustar', 'enojar', 'querer', 'hablar', 'hacer', 'vez', 'indeciso', 'acostumbrar', 'querer', 'cambiarle', 'claro', 'gustar', 'personar', 'emprendedor', 'alegrar', 'optimista', 'servicial', 'gustar', 'vez', 'sutil', 'decir', 'coser', 'pensar', 'personar', 'ir', 'cambiar', 'tiempo', 'acordar', 'edad', 'circunstancia', 'vivir', 'rodear', 'seguramente', 'mismo', 'casar', 'siempre', 'seguir', 'descubrir', 'coser', 'nuevo', 'bueno', 'conversar', 'ayudarse', 'cambiar', 'coser', 'molestar', 'cuál', 'momento', 'difícil', 'c', 'dudar', 'perder', 'hijo', 'después', 'dolor', 'tan', 'grande', 'ver', 'vida', 'manera', 'ninguno', 'problema', 'parecer', 'tan', 'grande', 'ayudar', 'do', 'compartir', 'mismo', 'fe', 'dios', 'sólo', 'través', 'litro', 'podar', 'darle', 'muerte', 'vivir', 'separar', 'año', 'mediar', 'razonar', 'trabajar', 'rody', 'claro', 'asegurar', 'sostener', 'parejo', 'amor', 'alimentarlo', 'crecer', 'siempre', 'proyecto', 'objetivo', 'común', 'ayudar', 'tener', 'ilusionar', 'ganar', 'seguir', 'junto', 'inútil', 'si', 'amor', 'tratar', 'crecer', 'aspecto', 'formar', 'permanente', 'matrimoniar', 'largar', 'plazo', 'refugiar', 'inseguridad', 'rareza', 'triunfar', 'orgullo', 'r', 'mediar', 'ser', 'feliz', 'proyectar', 'vida', 'c', 'hermoso', 'experiencia', 'triunfar', 'ir', 'lograr', 'quererse', 'cada', 'día', 'ahora', 'parejo', 'durar', 'menos', 'c', 'creer', 'poder', 'faltar', 'comunicación', 'vez', 'proyectar', 'objetivo', 'común', 'elegir', 'vida', 'do', 'vez', 'dejar', 'lado', 'postergar', 'interesar', 'personal', 'recurso', 'económico', 'conflicto', 'r', 'problema', 'aunque', 'vez', 'suficiente', 'nunca', 'prioridad', 'general', 'manejar', 'junto', 'aunque', 'día', 'día', 'llevar', 'claro', 'c', 'siempre', 'poner', 'común', 'ingreso', 'do', 'trabajar', 'do', 'menos', 'mal', 'sino', 'ahora', 'trabajar', 'chau', 'poner', 'acordar', 'formar', 'administrarlo', 'pasión', 'secretar', 'duración', 'feliz', 'r', 'pasión', 'necesario', 'secretar', 'felicidad', 'importante', 'mantener', 'pasión', 'primero', 'año', 'todo', 'vida']\n"
     ]
    }
   ],
   "source": [
    "print(wd)"
   ]
  },
  {
   "cell_type": "code",
   "execution_count": null,
   "metadata": {},
   "outputs": [],
   "source": [
    "#define hyperparameters ----> W2V\n",
    "\n",
    "# Dimensionality of the resulting word vectors.\n",
    "#more dimensions mean more traiig them, but more generalized\n",
    "num_features = 300\n",
    "\n",
    "#\n",
    "# Minimum word count threshold.\n",
    "min_word_count = 3\n",
    "\n",
    "# Number of threads to run in parallel.\n",
    "num_workers = multiprocessing.cpu_count()\n",
    "\n",
    "# Context window length.\n",
    "context_size = 7\n",
    "\n",
    "# Downsample setting for frequent words.\n",
    "#rate 0 and 1e-5 \n",
    "#how often to use\n",
    "downsampling = 1e-3\n",
    "\n",
    "# Seed for the RNG, to make the results reproducible.\n",
    "seed = 1"
   ]
  },
  {
   "cell_type": "code",
   "execution_count": 77,
   "metadata": {},
   "outputs": [],
   "source": [
    "model = w2v.Word2Vec(\n",
    "    sg=1,\n",
    "    seed=seed,\n",
    "    workers=num_workers,\n",
    "    size=num_features,\n",
    "    min_count=min_word_count,\n",
    "    window=context_size,\n",
    "    sample=downsampling\n",
    ")\n"
   ]
  },
  {
   "cell_type": "code",
   "execution_count": 78,
   "metadata": {},
   "outputs": [],
   "source": [
    "model.build_vocab(wd)"
   ]
  },
  {
   "cell_type": "code",
   "execution_count": 80,
   "metadata": {},
   "outputs": [
    {
     "name": "stdout",
     "output_type": "stream",
     "text": [
      "Word2Vec vocabulary length: 27\n"
     ]
    }
   ],
   "source": [
    "print(\"Word2Vec vocabulary length:\", len(model.wv.vocab))"
   ]
  },
  {
   "cell_type": "code",
   "execution_count": 84,
   "metadata": {},
   "outputs": [
    {
     "data": {
      "text/plain": [
       "1290"
      ]
     },
     "execution_count": 84,
     "metadata": {},
     "output_type": "execute_result"
    }
   ],
   "source": [
    "model.train(wd, total_examples=model.corpus_count, epochs=model.iter)"
   ]
  },
  {
   "cell_type": "code",
   "execution_count": 93,
   "metadata": {},
   "outputs": [],
   "source": [
    "#save model\n",
    "if not os.path.exists(\"trained\"):\n",
    "    os.makedirs(\"trained\")"
   ]
  },
  {
   "cell_type": "code",
   "execution_count": 94,
   "metadata": {},
   "outputs": [],
   "source": [
    "model.save(os.path.join(\"trained\", \"model.w2v\"))"
   ]
  },
  {
   "cell_type": "code",
   "execution_count": 95,
   "metadata": {},
   "outputs": [],
   "source": [
    "#load model\n",
    "thrones2vec = w2v.Word2Vec.load(os.path.join(\"trained\", \"model.w2v\"))\n",
    "\n"
   ]
  },
  {
   "cell_type": "code",
   "execution_count": 117,
   "metadata": {},
   "outputs": [],
   "source": [
    "#squash dimensionality to 2\n",
    "tsne = sklearn.manifold.TSNE(n_components=2, random_state=0)"
   ]
  },
  {
   "cell_type": "code",
   "execution_count": 101,
   "metadata": {},
   "outputs": [
    {
     "name": "stdout",
     "output_type": "stream",
     "text": [
      "[[  1.59485091e-03  -5.24131535e-03  -9.36476805e-04 ...,   5.67359966e-04\n",
      "   -6.98121125e-03  -1.30501180e-03]\n",
      " [  1.47739565e-03  -4.89296019e-03  -1.24174613e-03 ...,  -7.97333720e-04\n",
      "   -9.07105114e-03  -4.47742781e-03]\n",
      " [  2.90518487e-03  -4.56162961e-03  -6.96335919e-05 ...,  -5.77366096e-04\n",
      "   -4.79755085e-03  -4.05834988e-03]\n",
      " ..., \n",
      " [  1.08342757e-03  -1.42059312e-03   1.36115355e-03 ...,  -8.94279336e-04\n",
      "    3.96205374e-04  -2.07119738e-03]\n",
      " [  1.48800761e-03  -5.14182611e-04   1.30775513e-03 ...,  -8.60943517e-04\n",
      "    3.26947513e-04  -1.30869332e-04]\n",
      " [  8.79041676e-04   5.96209778e-04   1.15195417e-03 ...,   1.15180330e-03\n",
      "   -2.56616483e-03   9.59541823e-04]]\n"
     ]
    }
   ],
   "source": [
    "#put it all into a giant matrix\n",
    "all_word_vectors_matrix = model.wv.syn0\n",
    "\n",
    "print(all_word_vectors_matrix)"
   ]
  },
  {
   "cell_type": "code",
   "execution_count": 118,
   "metadata": {},
   "outputs": [],
   "source": [
    "#train t sne\n",
    "all_word_vectors_matrix_2d = tsne.fit_transform(X)"
   ]
  },
  {
   "cell_type": "code",
   "execution_count": 119,
   "metadata": {
    "scrolled": true
   },
   "outputs": [
    {
     "name": "stdout",
     "output_type": "stream",
     "text": [
      "[[-32.41333389  20.46725845]\n",
      " [-20.39487267   0.57270986]\n",
      " [ -0.03552187   4.26517725]\n",
      " ..., \n",
      " [ 10.11000919 -12.05168724]\n",
      " [  8.0414753  -23.51309013]\n",
      " [ 15.42374992  13.35458279]]\n"
     ]
    }
   ],
   "source": [
    "print(all_word_vectors_matrix_2d)"
   ]
  },
  {
   "cell_type": "code",
   "execution_count": 101,
   "metadata": {},
   "outputs": [
    {
     "data": {
      "text/plain": [
       "KMeans(algorithm='auto', copy_x=True, init='k-means++', max_iter=300,\n",
       "    n_clusters=40, n_init=10, n_jobs=1, precompute_distances='auto',\n",
       "    random_state=None, tol=0.0001, verbose=0)"
      ]
     },
     "execution_count": 101,
     "metadata": {},
     "output_type": "execute_result"
    }
   ],
   "source": [
    "from sklearn.cluster import KMeans\n",
    "km = KMeans(n_clusters=40)\n",
    "km.fit(X)"
   ]
  },
  {
   "cell_type": "code",
   "execution_count": 54,
   "metadata": {},
   "outputs": [
    {
     "data": {
      "text/plain": [
       "array([[ 0.,  0.,  0., ...,  0.,  0.,  0.],\n",
       "       [ 0.,  0.,  0., ...,  0.,  0.,  0.],\n",
       "       [ 0.,  0.,  0., ...,  0.,  0.,  0.],\n",
       "       ..., \n",
       "       [ 0.,  0.,  0., ...,  0.,  0.,  0.],\n",
       "       [ 0.,  0.,  0., ...,  0.,  0.,  0.],\n",
       "       [ 0.,  0.,  0., ...,  0.,  0.,  0.]])"
      ]
     },
     "execution_count": 54,
     "metadata": {},
     "output_type": "execute_result"
    }
   ],
   "source": [
    "X"
   ]
  },
  {
   "cell_type": "code",
   "execution_count": 102,
   "metadata": {},
   "outputs": [],
   "source": [
    "labels = km.predict(X)"
   ]
  },
  {
   "cell_type": "code",
   "execution_count": 103,
   "metadata": {},
   "outputs": [
    {
     "name": "stdout",
     "output_type": "stream",
     "text": [
      "[34 22 11 29  2 12 31 16 24  6 13 30 21  6 26 38 11  1 28  2 10  9  8  0 11\n",
      "  6  9  5 22 11 13 15 21  3  5 10  9  1 28  2 24 28 16 24 18  7  6  9 11 26\n",
      " 38 18  7 23 22 11 18 15  7 23  0  0  8 10  9 14 13 30 21  3 10  9  0 10  9\n",
      " 14 33  3  1 18 13 15 21  8 21  7 13 30 21 19 36  0 27  9 33  3  1  1  0 26\n",
      " 38  0 15  8 26 38 11 10  9  5 31 18 15  8 14 10  9 11  3  1 22 19 12 10  9\n",
      " 14 33  3 19 36 20  8 18 13 15 32  9 33  3 17  5  8  8 18  7 25 17 27 33  3\n",
      "  1  5  0 21 28 16 24  7 23 29  2 24 29  2  5 22 11 30 21 16 22 14 10  9  3\n",
      " 26 19  2 33  3  1 14 13 30 21  0 17  5 18 15 10 34 12 19 13 30 21 17  5 17\n",
      "  5 22 11  3 10  9 28 16 24  8 32 34 23 31 37  1  4 27  9  7  4 20  8 18 15\n",
      " 28  2 24  7  4 13 30  4 20 14 11  8 32 34 22  8 14 12 19 37  1 39 25  2 18\n",
      " 20 29 13 30 21  7 23  7 23 11  0  4 20 29  2 27  9 22 11  0  4 20 30 21 17\n",
      " 23  7 23  7  6  9 33  3  1 22 11 29  2 12 31 16 27  9  3  1 33  3  1 10 34\n",
      " 13 30 21  7 35  8 11 17  5 13 30 21  7 23 18 15 12 31 18  3 26 38 27  9  3\n",
      "  1  7 23  7 25  2 39  7 23 32 34 20 29 18 12 19 36 20 17  5  4 20  4 20 27\n",
      "  9 36 20 29 31  0  4 20  7 27  9 36  0  0  8  3  1 10 34 12 31  0  0  0  4\n",
      " 20 10  9 23  8  2  5 11 10 33  3  1  0 13 30 17  5 13 30 21  7 35  9  1 28\n",
      "  2 24  7 17 23 17  5 33  3  1  7 23 30  0  5 32 34  5 18 19 36 27  9 19 36\n",
      " 20  3 17  5 26 38 18  8 19  4 27  9 35 16 11 18 28 16 24 29 23 16 11  6  9\n",
      "  1  7 35  2 39 37  2 39 10  9 31  7  2 39  9  8 15  8 22 26 38  3 10  9 14\n",
      " 11  7 23 29  2 24  7 27 34 12 31 16 24 29  2 24 32 34 12 31 18 15 26 19 16\n",
      " 24 29  2 27  9 18 25  2 24 29  2 39  0 25  2 27]\n"
     ]
    }
   ],
   "source": [
    "print(labels)"
   ]
  },
  {
   "cell_type": "code",
   "execution_count": 57,
   "metadata": {},
   "outputs": [
    {
     "data": {
      "text/plain": [
       "'gusta'"
      ]
     },
     "execution_count": 57,
     "metadata": {},
     "output_type": "execute_result"
    }
   ],
   "source": [
    "check_list[66]"
   ]
  },
  {
   "cell_type": "code",
   "execution_count": 110,
   "metadata": {},
   "outputs": [],
   "source": [
    "from collections import defaultdict"
   ]
  },
  {
   "cell_type": "code",
   "execution_count": 113,
   "metadata": {},
   "outputs": [
    {
     "name": "stdout",
     "output_type": "stream",
     "text": [
      "defaultdict(<class 'set'>, {34: {'El', 'Los', 'La', 'Un', 'Sin', 'Lo'}, 22: {'cuando', 'que'}, 11: {'sostiene', 'imaginan', 'hace', 'ayudan', 'molestan', 'dice', 'quiero', 'duran', 'manejamos', 'están', 'podes', 'parece', 'ponemos', 'lleva', 'vivimos', 'llevan', 'aseguran'}, 29: {'a', 'en', 'de', 'para'}, 2: {'la', 'el', 'los', 'las'}, 12: {'triunfo', 'pasión', 'plazo', 'pareja', 'como', 'bueno', 'ayudó', 'todo'}, 31: {'fue', 'es', 'ser'}, 16: {'el', 'lo'}, 24: {'movimiento', 'día', 'tiempo', 'amor', 'duración', 'edad', 'vida', 'forma', 'Ateneo', 'pasión', 'secreto', 'momento'}, 6: {'Clara', 'Capuchinos', 'Rody', 'Martínez'}, 13: {'proyecto', 'gusta', 'casamos', 'Dios', 'casados', 'optimista', 'Crespo', 'manera', 'ilusiones', 'mí', 'comunicación', 'proyectos', 'conversar', 'alegre'}, 30: {'y', 'o'}, 21: {'sólo', 'Rodolfo', 'tienen', 'que', 'ayudarse', 'cambiando', 'objetivos', 'todo', 'medio', 'pensando', 'esté', 'siempre', 'disgusta', 'ganas'}, 26: {'no'}, 38: {'hay', 'trabajo', 'lo', 'quería', 'había', 'se', 'estar'}, 1: {'cuando', 'los', 'nada', 'pusimos', 'lo', 'perdimos', 'dejar', 'sea', 'uno', 'puede', 'conocieron', 'las', 'todo', 'crezca', 'alimentarlo', 'se', 'tratar'}, 28: {'elige', 'sin', 'aunque', 'con', 've', 'fue', 'Juventus', 'en'}, 10: {'otro', 'más', 'es', 'eso', 'acostumbré', 'chau', 'bien', 'menos', 'cambiarle', 'rodea', 'siempre', 'mujeres', 'trabajábamos'}, 9: {'En', 'Todo', 'Hoy', 'Menos', 'Hay', 'Por', 'No', 'Cuando', 'Cuál', 'Se', 'Siempre', 'A', 'Prefiero', 'Rodolfo', 'Qué', 'También', 'Y', 'Seguramente', 'Es', 'Me', 'Después', 'Hace', 'Clara'}, 8: {'tan', 'más', 'también', 'mal', 'ahora', 'ya', 'emprendedora', 'ni', 'nunca', 'siempre', 'fuera'}, 0: {'quererse', 'separados', 'postergar', 'darle', 'gran', 'entenderse', 'faltar', 'enojaba', 'quisieran', 'logrando', 'logrado', 'pensarlo', 'vamos', 'hermosa', 'feliz', 'ir', 'experiencia', 'años', 'hablar', 'seguiremos'}, 5: {'parejas', 'hijas', 'personas', 'inseguridades', 'recursos', 'intereses', 'circunstancias', 'cambiar', 'veces', 'años', 'cosas', 'tener'}, 15: {'y', 'del', 'uno', 'sino', 'pero'}, 3: {'que', 'aunque', 'cuatro', 'al', 'del', 'estaría', 'si', 'cambiarle'}, 18: {'suficiente', 'largo', 'juvenil', 'cariñosa', 'misma', 'indecisa', 'grande', 'juntos', 'sorprendidos', 'inútil', 'necesaria', 'sutil', 'económicos', 'importante', 'nuevas', 'alegre'}, 7: {'del', 'a', 'para', 'en', 'de'}, 23: {'día', 'tiempo', 'razones', 'dos', 'trabajo', 'qué', 'acuerdo', 'través', 'crecer', 'forma', 'lado', 'duda', 'seguir', 'haber', 'l'}, 14: {'les', 'nos', 'me', 'te', 'Me'}, 33: {'disgustaba', 'Pienso', 'tiene', 'gusta', 'mismos', 'gustaría', 'Creo', 'para', 'asegura'}, 19: {'somos', 'es', 'sea', 'fue', 'son'}, 36: {'una', 'un'}, 27: {'madre', 'hija', 'amor', 'orgullo', 'vida', 'felicidad', 'administrarlo', 'prioridad', 'cosas', 'conflicto', 'muerte'}, 20: {'refugio', 'triunfo', 'proyecto', 'día', 'persona', 'dolor', 'fe', 'sentido', 'año', 'rareza', 'medio', 'problema', 'matrimonio'}, 32: {'permanente', 'personales', 'grande', 'servicial', 'feliz', 'difícil'}, 17: {'descubriendo', 'esas', 'a', 'contra', 'las', 'por'}, 25: {'todos', 'toda', 'mantener', 'compartimos', 'decir'}, 37: {'cuando', 'que'}, 4: {'una', 'otro', 'otra', 'ningún', 'un', 'cada'}, 39: {'ingresos', 'aspectos', 'dos', 'primeros'}, 35: {'común', 'general'}})\n"
     ]
    }
   ],
   "source": [
    "words = defaultdict(set)\n",
    "for i, label in enumerate(labels):\n",
    "    words[label].add(check_list[i])\n",
    "print(words)"
   ]
  },
  {
   "cell_type": "code",
   "execution_count": null,
   "metadata": {},
   "outputs": [],
   "source": [
    "#squash dimensionality to 2\n",
    "tsne = sklearn.manifold.TSNE(n_components=2, random_state=0)"
   ]
  },
  {
   "cell_type": "code",
   "execution_count": null,
   "metadata": {},
   "outputs": [],
   "source": []
  },
  {
   "cell_type": "code",
   "execution_count": 99,
   "metadata": {},
   "outputs": [],
   "source": [
    "# in row_dict we store actual meanings of rows\n",
    "clusters = {}\n",
    "n = 0\n",
    "for item in labels:\n",
    "    if item in clusters:\n",
    "        clusters[item].append(check_list[n])\n",
    "    else:\n",
    "        clusters[item] = [check_list[n]]\n",
    "    n += 1"
   ]
  },
  {
   "cell_type": "code",
   "execution_count": 100,
   "metadata": {},
   "outputs": [
    {
     "name": "stdout",
     "output_type": "stream",
     "text": [
      "Cluster  18\n",
      "Lo\n",
      "Pienso\n",
      "Seguramente\n",
      "Lo\n",
      "Hay\n",
      "Hay\n",
      "Creo\n",
      "Cluster  5\n",
      "que\n",
      "que\n",
      "que\n",
      "que\n",
      "que\n",
      "que\n",
      "que\n",
      "que\n",
      "que\n",
      "que\n",
      "que\n",
      "que\n",
      "que\n",
      "que\n",
      "cuando\n",
      "que\n",
      "que\n",
      "que\n",
      "que\n",
      "que\n",
      "si\n",
      "que\n",
      "que\n",
      "que\n",
      "que\n",
      "aunque\n",
      "aunque\n",
      "cuando\n",
      "que\n",
      "Cluster  3\n",
      "sostiene\n",
      "están\n",
      "llevan\n",
      "sea\n",
      "cuando\n",
      "sea\n",
      "a\n",
      "las\n",
      "nos\n",
      "no\n",
      "cuando\n",
      "molestan\n",
      "perdimos\n",
      "más\n",
      "vivimos\n",
      "sostiene\n",
      "alimentarlo\n",
      "crezca\n",
      "tratar\n",
      "todo\n",
      "puede\n",
      "dejar\n",
      "no\n",
      "Cluster  12\n",
      "a\n",
      "sin\n",
      "en\n",
      "con\n",
      "a\n",
      "a\n",
      "de\n",
      "a\n",
      "de\n",
      "a\n",
      "a\n",
      "contra\n",
      "para\n",
      "de\n",
      "a\n",
      "de\n",
      "en\n",
      "de\n",
      "de\n",
      "de\n",
      "Cluster  22\n",
      "la\n",
      "la\n",
      "los\n",
      "la\n",
      "los\n",
      "la\n",
      "la\n",
      "la\n",
      "los\n",
      "la\n",
      "los\n",
      "los\n",
      "los\n",
      "la\n",
      "la\n",
      "la\n",
      "la\n",
      "los\n",
      "la\n",
      "Cluster  23\n",
      "pareja\n",
      "como\n",
      "bueno\n",
      "ayudó\n",
      "pareja\n",
      "todo\n",
      "plazo\n",
      "triunfo\n",
      "pasión\n",
      "pasión\n",
      "no\n",
      "Cluster  21\n",
      "es\n",
      "es\n",
      "es\n",
      "es\n",
      "somos\n",
      "es\n",
      "fue\n",
      "es\n",
      "es\n",
      "es\n",
      "es\n",
      "son\n",
      "son\n",
      "es\n",
      "es\n",
      "es\n",
      "es\n",
      "Cluster  14\n",
      "el\n",
      "el\n",
      "el\n",
      "el\n",
      "el\n",
      "lo\n",
      "el\n",
      "lo\n",
      "el\n",
      "lo\n",
      "el\n",
      "lo\n",
      "el\n",
      "el\n",
      "Cluster  1\n",
      "amor\n",
      "movimiento\n",
      "tiempo\n",
      "edad\n",
      "vida\n",
      "fe\n",
      "través\n",
      "sentido\n",
      "matrimonio\n",
      "refugio\n",
      "medio\n",
      "proyecto\n",
      "vida\n",
      "día\n",
      "ponemos\n",
      "forma\n",
      "secreto\n",
      "duración\n",
      "secreto\n",
      "pasión\n",
      "Cluster  0\n",
      "Clara\n",
      "Martínez\n",
      "no\n",
      "se\n",
      "imaginan\n",
      "uno\n",
      "dice\n",
      "cuatro\n",
      "Ateneo\n",
      "Juventus\n",
      "no\n",
      "estar\n",
      "logrado\n",
      "tan\n",
      "les\n",
      "quisieran\n",
      "Me\n",
      "siempre\n",
      "se\n",
      "enojaba\n",
      "no\n",
      "quería\n",
      "lo\n",
      "quiero\n",
      "cambiarle\n",
      "nada\n",
      "Me\n",
      "emprendedora\n",
      "las\n",
      "vamos\n",
      "nos\n",
      "esas\n",
      "más\n",
      "tan\n",
      "uno\n",
      "ve\n",
      "te\n",
      "parece\n",
      "tan\n",
      "dos\n",
      "compartimos\n",
      "podes\n",
      "también\n",
      "no\n",
      "hay\n",
      "logrando\n",
      "ahora\n",
      "duran\n",
      "uno\n",
      "elige\n",
      "no\n",
      "había\n",
      "nunca\n",
      "manejamos\n",
      "lleva\n",
      "dos\n",
      "trabajo\n",
      "estaría\n",
      "nos\n",
      "mantener\n",
      "primeros\n",
      "toda\n",
      "Cluster  17\n",
      "Crespo\n",
      "casados\n",
      "gusta\n",
      "alegre\n",
      "mí\n",
      "optimista\n",
      "vivimos\n",
      "casamos\n",
      "conversar\n",
      "manera\n",
      "Dios\n",
      "año\n",
      "ilusiones\n",
      "comunicación\n",
      "proyecto\n",
      "Cluster  9\n",
      "y\n",
      "y\n",
      "sino\n",
      "y\n",
      "y\n",
      "y\n",
      "pero\n",
      "pero\n",
      "y\n",
      "y\n",
      "y\n",
      "y\n",
      "y\n",
      "y\n",
      "y\n",
      "y\n",
      "y\n",
      "pero\n",
      "y\n",
      "y\n",
      "o\n",
      "sino\n",
      "pero\n",
      "Cluster  15\n",
      "Rodolfo\n",
      "tienen\n",
      "disgusta\n",
      "esté\n",
      "que\n",
      "ya\n",
      "ya\n",
      "todo\n",
      "siempre\n",
      "ayudarse\n",
      "ningún\n",
      "sólo\n",
      "medio\n",
      "objetivos\n",
      "ganas\n",
      "a\n",
      "objetivos\n",
      "ahora\n",
      "Cluster  8\n",
      "otro\n",
      "Clara\n",
      "mujeres\n",
      "Capuchinos\n",
      "bien\n",
      "otro\n",
      "cambiarle\n",
      "madre\n",
      "más\n",
      "acostumbré\n",
      "es\n",
      "servicial\n",
      "cosas\n",
      "rodea\n",
      "otro\n",
      "otro\n",
      "difícil\n",
      "hija\n",
      "grande\n",
      "muerte\n",
      "Rody\n",
      "amor\n",
      "siempre\n",
      "amor\n",
      "permanente\n",
      "orgullo\n",
      "vida\n",
      "eso\n",
      "más\n",
      "menos\n",
      "común\n",
      "personales\n",
      "conflicto\n",
      "prioridad\n",
      "Clara\n",
      "trabajábamos\n",
      "dos\n",
      "chau\n",
      "administrarlo\n",
      "feliz\n",
      "felicidad\n",
      "vida\n",
      "Cluster  4\n",
      "Prefiero\n",
      "Hace\n",
      "Se\n",
      "Hoy\n",
      "Qué\n",
      "Qué\n",
      "Rodolfo\n",
      "Me\n",
      "A\n",
      "No\n",
      "Clara\n",
      "Me\n",
      "Lo\n",
      "Cuál\n",
      "Sin\n",
      "Después\n",
      "También\n",
      "Clara\n",
      "Los\n",
      "Un\n",
      "Es\n",
      "Es\n",
      "El\n",
      "Por\n",
      "Cuando\n",
      "Los\n",
      "No\n",
      "En\n",
      "Siempre\n",
      "Todo\n",
      "Menos\n",
      "Y\n",
      "La\n",
      "La\n",
      "Es\n",
      "Cluster  13\n",
      "ni\n",
      "hablar\n",
      "darle\n",
      "ir\n",
      "quererse\n",
      "faltar\n",
      "postergar\n",
      "Cluster  24\n",
      "pensarlo\n",
      "conocieron\n",
      "aseguran\n",
      "pensando\n",
      "no\n",
      "me\n",
      "más\n",
      "cambiando\n",
      "seguiremos\n",
      "descubriendo\n",
      "nos\n",
      "cuando\n",
      "ayudan\n",
      "las\n",
      "fue\n",
      "pusimos\n",
      "mal\n",
      "Cluster  20\n",
      "años\n",
      "hijas\n",
      "personas\n",
      "circunstancias\n",
      "cosas\n",
      "cosas\n",
      "proyectos\n",
      "aspectos\n",
      "parejas\n",
      "intereses\n",
      "recursos\n",
      "ingresos\n",
      "años\n",
      "Cluster  6\n",
      "juvenil\n",
      "sorprendidos\n",
      "juntos\n",
      "cariñosa\n",
      "gran\n",
      "indecisa\n",
      "alegre\n",
      "sutil\n",
      "nuevas\n",
      "grande\n",
      "misma\n",
      "separados\n",
      "común\n",
      "juntos\n",
      "inútil\n",
      "feliz\n",
      "hermosa\n",
      "económicos\n",
      "suficiente\n",
      "general\n",
      "juntos\n",
      "común\n",
      "necesaria\n",
      "importante\n",
      "Cluster  2\n",
      "de\n",
      "del\n",
      "de\n",
      "del\n",
      "en\n",
      "para\n",
      "de\n",
      "del\n",
      "a\n",
      "al\n",
      "de\n",
      "en\n",
      "a\n",
      "de\n",
      "por\n",
      "de\n",
      "en\n",
      "a\n",
      "de\n",
      "de\n",
      "en\n",
      "en\n",
      "de\n",
      "en\n",
      "a\n",
      "de\n",
      "a\n",
      "en\n",
      "de\n",
      "de\n",
      "Cluster  7\n",
      "tiempo\n",
      "haber\n",
      "decir\n",
      "acuerdo\n",
      "duda\n",
      "otra\n",
      "l\n",
      "trabajo\n",
      "seguir\n",
      "crecer\n",
      "todos\n",
      "forma\n",
      "ser\n",
      "qué\n",
      "a\n",
      "lado\n",
      "acuerdo\n",
      "Cluster  11\n",
      "entenderse\n",
      "hace\n",
      "persona\n",
      "fuera\n",
      "momento\n",
      "dolor\n",
      "problema\n",
      "que\n",
      "rareza\n",
      "triunfo\n",
      "experiencia\n",
      "día\n",
      "problema\n",
      "Cluster  10\n",
      "gusta\n",
      "disgustaba\n",
      "gusta\n",
      "gustaría\n",
      "mismos\n",
      "fue\n",
      "es\n",
      "asegura\n",
      "para\n",
      "más\n",
      "tiene\n",
      "Cluster  19\n",
      "una\n",
      "una\n",
      "una\n",
      "un\n",
      "otro\n",
      "un\n",
      "un\n",
      "una\n",
      "un\n",
      "un\n",
      "un\n",
      "una\n",
      "cada\n",
      "un\n",
      "un\n",
      "una\n",
      "Cluster  16\n",
      "veces\n",
      "veces\n",
      "las\n",
      "cambiar\n",
      "razones\n",
      "tener\n",
      "largo\n",
      "inseguridades\n",
      "veces\n",
      "dos\n",
      "veces\n",
      "veces\n",
      "día\n"
     ]
    }
   ],
   "source": [
    "for item in clusters:\n",
    "    print(\"Cluster \", item)\n",
    "    for i in clusters[item]:\n",
    "        print(i)"
   ]
  },
  {
   "cell_type": "code",
   "execution_count": null,
   "metadata": {},
   "outputs": [],
   "source": []
  },
  {
   "cell_type": "code",
   "execution_count": null,
   "metadata": {},
   "outputs": [],
   "source": []
  },
  {
   "cell_type": "code",
   "execution_count": null,
   "metadata": {},
   "outputs": [],
   "source": []
  },
  {
   "cell_type": "code",
   "execution_count": 104,
   "metadata": {},
   "outputs": [],
   "source": [
    "#euclidian distance between 2 data points. For as many data points as necessary. \n",
    "def euclidian(a, b):\n",
    "    return np.linalg.norm(a-b)"
   ]
  },
  {
   "cell_type": "code",
   "execution_count": 115,
   "metadata": {},
   "outputs": [],
   "source": [
    "\n",
    "\n",
    "#lets define a plotting algorithm for our dataset and our centroids\n",
    "def plot(dataset, history_centroids, belongs_to):\n",
    "    #we'll have 2 colors for each centroid cluster\n",
    "    colors = ['r', 'g']\n",
    "\n",
    "    #split our graph by its axis and actual plot\n",
    "    fig, ax = plt.subplots()\n",
    "\n",
    "    #for each point in our dataset\n",
    "    for index in range(dataset.shape[0]):\n",
    "        #get all the points assigned to a cluster\n",
    "        instances_close = [i for i in range(len(belongs_to)) if belongs_to[i] == index]\n",
    "        #assign each datapoint in that cluster a color and plot it\n",
    "        for instance_index in instances_close:\n",
    "            ax.plot(dataset[instance_index][0], dataset[instance_index][1], (colors[index] + 'o'))\n",
    "\n",
    "    #lets also log the history of centroids calculated via training\n",
    "    history_points = []\n",
    "    #for each centroid ever calculated\n",
    "    for index, centroids in enumerate(history_centroids):\n",
    "        #print them all out\n",
    "        for inner, item in enumerate(centroids):\n",
    "            if index == 0:\n",
    "                history_points.append(ax.plot(item[0], item[1], 'bo')[0])\n",
    "            else:\n",
    "                history_points[inner].set_data(item[0], item[1])\n",
    "                print(\"centroids {} {}\".format(index, item))\n",
    "\n",
    "                plt.show()\n",
    "\n"
   ]
  },
  {
   "cell_type": "code",
   "execution_count": 119,
   "metadata": {},
   "outputs": [],
   "source": [
    "#main file \n",
    "def execute():\n",
    "    #load dataset\n",
    "    dataset = all_word_vectors_matrix_2d ###############load_dataset('durudataset.txt')\n",
    "    #train the model on the data\n",
    "    centroids, history_centroids, belongs_to = kmeans(3)\n",
    "    #plot the results\n",
    "    plot(dataset, history_centroids, belongs_to)\n",
    "\n"
   ]
  },
  {
   "cell_type": "code",
   "execution_count": 120,
   "metadata": {},
   "outputs": [
    {
     "ename": "KeyboardInterrupt",
     "evalue": "",
     "output_type": "error",
     "traceback": [
      "\u001b[0;31m---------------------------------------------------------------------------\u001b[0m",
      "\u001b[0;31mKeyboardInterrupt\u001b[0m                         Traceback (most recent call last)",
      "\u001b[0;32m<ipython-input-120-409d0a91ca70>\u001b[0m in \u001b[0;36m<module>\u001b[0;34m()\u001b[0m\n\u001b[1;32m      2\u001b[0m \u001b[0;34m\u001b[0m\u001b[0m\n\u001b[1;32m      3\u001b[0m \u001b[0;31m#do everything\u001b[0m\u001b[0;34m\u001b[0m\u001b[0;34m\u001b[0m\u001b[0m\n\u001b[0;32m----> 4\u001b[0;31m \u001b[0mexecute\u001b[0m\u001b[0;34m(\u001b[0m\u001b[0;34m)\u001b[0m\u001b[0;34m\u001b[0m\u001b[0m\n\u001b[0m",
      "\u001b[0;32m<ipython-input-119-e78268297f46>\u001b[0m in \u001b[0;36mexecute\u001b[0;34m()\u001b[0m\n\u001b[1;32m      4\u001b[0m     \u001b[0mdataset\u001b[0m \u001b[0;34m=\u001b[0m \u001b[0mall_word_vectors_matrix_2d\u001b[0m \u001b[0;31m###############load_dataset('durudataset.txt')\u001b[0m\u001b[0;34m\u001b[0m\u001b[0m\n\u001b[1;32m      5\u001b[0m     \u001b[0;31m#train the model on the data\u001b[0m\u001b[0;34m\u001b[0m\u001b[0;34m\u001b[0m\u001b[0m\n\u001b[0;32m----> 6\u001b[0;31m     \u001b[0mcentroids\u001b[0m\u001b[0;34m,\u001b[0m \u001b[0mhistory_centroids\u001b[0m\u001b[0;34m,\u001b[0m \u001b[0mbelongs_to\u001b[0m \u001b[0;34m=\u001b[0m \u001b[0mkmeans\u001b[0m\u001b[0;34m(\u001b[0m\u001b[0;36m3\u001b[0m\u001b[0;34m)\u001b[0m\u001b[0;34m\u001b[0m\u001b[0m\n\u001b[0m\u001b[1;32m      7\u001b[0m     \u001b[0;31m#plot the results\u001b[0m\u001b[0;34m\u001b[0m\u001b[0;34m\u001b[0m\u001b[0m\n\u001b[1;32m      8\u001b[0m     \u001b[0mplot\u001b[0m\u001b[0;34m(\u001b[0m\u001b[0mdataset\u001b[0m\u001b[0;34m,\u001b[0m \u001b[0mhistory_centroids\u001b[0m\u001b[0;34m,\u001b[0m \u001b[0mbelongs_to\u001b[0m\u001b[0;34m)\u001b[0m\u001b[0;34m\u001b[0m\u001b[0m\n",
      "\u001b[0;32m<ipython-input-118-45c08713298a>\u001b[0m in \u001b[0;36mkmeans\u001b[0;34m(k, epsilon, distance)\u001b[0m\n\u001b[1;32m     22\u001b[0m     \u001b[0;32mwhile\u001b[0m \u001b[0mnorm\u001b[0m \u001b[0;34m>\u001b[0m \u001b[0mepsilon\u001b[0m\u001b[0;34m:\u001b[0m\u001b[0;34m\u001b[0m\u001b[0m\n\u001b[1;32m     23\u001b[0m         \u001b[0miteration\u001b[0m \u001b[0;34m+=\u001b[0m \u001b[0;36m1\u001b[0m\u001b[0;34m\u001b[0m\u001b[0m\n\u001b[0;32m---> 24\u001b[0;31m         \u001b[0mnorm\u001b[0m \u001b[0;34m=\u001b[0m \u001b[0mdist_method\u001b[0m\u001b[0;34m(\u001b[0m\u001b[0mprototypes\u001b[0m\u001b[0;34m,\u001b[0m \u001b[0mprototypes_old\u001b[0m\u001b[0;34m)\u001b[0m\u001b[0;34m\u001b[0m\u001b[0m\n\u001b[0m\u001b[1;32m     25\u001b[0m         \u001b[0;31m#for each instance in the dataset\u001b[0m\u001b[0;34m\u001b[0m\u001b[0;34m\u001b[0m\u001b[0m\n\u001b[1;32m     26\u001b[0m         \u001b[0;32mfor\u001b[0m \u001b[0mindex_instance\u001b[0m\u001b[0;34m,\u001b[0m \u001b[0minstance\u001b[0m \u001b[0;32min\u001b[0m \u001b[0menumerate\u001b[0m\u001b[0;34m(\u001b[0m\u001b[0mdataset\u001b[0m\u001b[0;34m)\u001b[0m\u001b[0;34m:\u001b[0m\u001b[0;34m\u001b[0m\u001b[0m\n",
      "\u001b[0;32m<ipython-input-104-d4868736c001>\u001b[0m in \u001b[0;36meuclidian\u001b[0;34m(a, b)\u001b[0m\n\u001b[1;32m      1\u001b[0m \u001b[0;31m#euclidian distance between 2 data points. For as many data points as necessary.\u001b[0m\u001b[0;34m\u001b[0m\u001b[0;34m\u001b[0m\u001b[0m\n\u001b[1;32m      2\u001b[0m \u001b[0;32mdef\u001b[0m \u001b[0meuclidian\u001b[0m\u001b[0;34m(\u001b[0m\u001b[0ma\u001b[0m\u001b[0;34m,\u001b[0m \u001b[0mb\u001b[0m\u001b[0;34m)\u001b[0m\u001b[0;34m:\u001b[0m\u001b[0;34m\u001b[0m\u001b[0m\n\u001b[0;32m----> 3\u001b[0;31m     \u001b[0;32mreturn\u001b[0m \u001b[0mnp\u001b[0m\u001b[0;34m.\u001b[0m\u001b[0mlinalg\u001b[0m\u001b[0;34m.\u001b[0m\u001b[0mnorm\u001b[0m\u001b[0;34m(\u001b[0m\u001b[0ma\u001b[0m\u001b[0;34m-\u001b[0m\u001b[0mb\u001b[0m\u001b[0;34m)\u001b[0m\u001b[0;34m\u001b[0m\u001b[0m\n\u001b[0m",
      "\u001b[0;32m~/Documentos/facu/mdt/venv/lib/python3.6/site-packages/numpy/linalg/linalg.py\u001b[0m in \u001b[0;36mnorm\u001b[0;34m(x, ord, axis, keepdims)\u001b[0m\n\u001b[1;32m   2166\u001b[0m             \u001b[0;32melse\u001b[0m\u001b[0;34m:\u001b[0m\u001b[0;34m\u001b[0m\u001b[0m\n\u001b[1;32m   2167\u001b[0m                 \u001b[0msqnorm\u001b[0m \u001b[0;34m=\u001b[0m \u001b[0mdot\u001b[0m\u001b[0;34m(\u001b[0m\u001b[0mx\u001b[0m\u001b[0;34m,\u001b[0m \u001b[0mx\u001b[0m\u001b[0;34m)\u001b[0m\u001b[0;34m\u001b[0m\u001b[0m\n\u001b[0;32m-> 2168\u001b[0;31m             \u001b[0mret\u001b[0m \u001b[0;34m=\u001b[0m \u001b[0msqrt\u001b[0m\u001b[0;34m(\u001b[0m\u001b[0msqnorm\u001b[0m\u001b[0;34m)\u001b[0m\u001b[0;34m\u001b[0m\u001b[0m\n\u001b[0m\u001b[1;32m   2169\u001b[0m             \u001b[0;32mif\u001b[0m \u001b[0mkeepdims\u001b[0m\u001b[0;34m:\u001b[0m\u001b[0;34m\u001b[0m\u001b[0m\n\u001b[1;32m   2170\u001b[0m                 \u001b[0mret\u001b[0m \u001b[0;34m=\u001b[0m \u001b[0mret\u001b[0m\u001b[0;34m.\u001b[0m\u001b[0mreshape\u001b[0m\u001b[0;34m(\u001b[0m\u001b[0mndim\u001b[0m\u001b[0;34m*\u001b[0m\u001b[0;34m[\u001b[0m\u001b[0;36m1\u001b[0m\u001b[0;34m]\u001b[0m\u001b[0;34m)\u001b[0m\u001b[0;34m\u001b[0m\u001b[0m\n",
      "\u001b[0;31mKeyboardInterrupt\u001b[0m: "
     ]
    }
   ],
   "source": [
    "%matplotlib notebook\n",
    "\n",
    "#do everything\n",
    "execute()"
   ]
  },
  {
   "cell_type": "code",
   "execution_count": null,
   "metadata": {},
   "outputs": [],
   "source": []
  }
 ],
 "metadata": {
  "kernelspec": {
   "display_name": "Python 3",
   "language": "python",
   "name": "python3"
  },
  "language_info": {
   "codemirror_mode": {
    "name": "ipython",
    "version": 3
   },
   "file_extension": ".py",
   "mimetype": "text/x-python",
   "name": "python",
   "nbconvert_exporter": "python",
   "pygments_lexer": "ipython3",
   "version": "3.6.1"
  }
 },
 "nbformat": 4,
 "nbformat_minor": 2
}
