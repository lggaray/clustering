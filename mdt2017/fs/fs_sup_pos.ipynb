{
 "cells": [
  {
   "cell_type": "code",
   "execution_count": 2,
   "metadata": {},
   "outputs": [],
   "source": [
    "from collections import defaultdict"
   ]
  },
  {
   "cell_type": "code",
   "execution_count": 3,
   "metadata": {},
   "outputs": [],
   "source": [
    "from itertools import islice\n",
    "with open(\"wikicorpus_01\") as myfile:\n",
    "    head = list(islice(myfile, 651))"
   ]
  },
  {
   "cell_type": "code",
   "execution_count": 4,
   "metadata": {},
   "outputs": [],
   "source": [
    "sent = []\n",
    "for s in head:\n",
    "    sent.append(s.split())"
   ]
  },
  {
   "cell_type": "code",
   "execution_count": 5,
   "metadata": {},
   "outputs": [],
   "source": [
    "words = []\n",
    "sentences = []\n",
    "for s in sent:\n",
    "    if len(s) == 4 and s[0] not in {'(', ')', ','} and '[' not in s[1]:\n",
    "        words.append((s[0], s[1], s[2], s[3]))\n",
    "        #if 'endofarticle' in s[1]:\n",
    "        #    sentences.append(words)\n",
    "        #    words = []"
   ]
  },
  {
   "cell_type": "code",
   "execution_count": 6,
   "metadata": {},
   "outputs": [
    {
     "data": {
      "text/plain": [
       "[('Néstor_Gabriel_Martinena', 'néstor_gabriel_martinena', 'NP00000', '0'),\n",
       " ('La', 'el', 'DA0FS0', '0'),\n",
       " ('Plata', 'plata', 'NP00000', '10501473'),\n",
       " ('Buenos_Aires', 'buenos_aires', 'NP00000', '0')]"
      ]
     },
     "execution_count": 6,
     "metadata": {},
     "output_type": "execute_result"
    }
   ],
   "source": [
    "words[:4]"
   ]
  },
  {
   "cell_type": "code",
   "execution_count": 7,
   "metadata": {},
   "outputs": [],
   "source": [
    "count = dict()\n",
    "for fst,snd,trd, fth in words:\n",
    "    if fst not in count:\n",
    "        count[fst] = 1\n",
    "    else:\n",
    "        count[fst] += 1"
   ]
  },
  {
   "cell_type": "code",
   "execution_count": 8,
   "metadata": {},
   "outputs": [],
   "source": [
    "aux = []\n",
    "check = []\n",
    "for fst,snd,trd, fth in words:\n",
    "    aux.append((fst,snd,trd, fth))\n",
    "    if fst == '.':\n",
    "        check.append(aux)\n",
    "        aux = []"
   ]
  },
  {
   "cell_type": "code",
   "execution_count": 9,
   "metadata": {},
   "outputs": [
    {
     "data": {
      "text/plain": [
       "[[('Néstor_Gabriel_Martinena', 'néstor_gabriel_martinena', 'NP00000', '0'),\n",
       "  ('La', 'el', 'DA0FS0', '0'),\n",
       "  ('Plata', 'plata', 'NP00000', '10501473'),\n",
       "  ('Buenos_Aires', 'buenos_aires', 'NP00000', '0'),\n",
       "  ('Argentina', 'argentina', 'NP00000', '02035234'),\n",
       "  ('es', 'ser', 'VSIP3S0', '01775973'),\n",
       "  ('un', 'uno', 'DI0MS0', '0'),\n",
       "  ('futbolista', 'futbolista', 'NCCS000', '0'),\n",
       "  ('argentino', 'argentino', 'AQ0MS0', '00278090'),\n",
       "  ('.', '.', 'Fp', '0')],\n",
       " [('Juega', 'jugar', 'VMM02S0', '00727813'),\n",
       "  ('de', 'de', 'SPS00', '0'),\n",
       "  ('delantero', 'delantero', 'NCMS000', '00466114'),\n",
       "  ('y', 'y', 'CC', '0'),\n",
       "  ('su', 'su', 'DP3CS0', '0'),\n",
       "  ('equipo', 'equipo', 'NCMS000', '06093198'),\n",
       "  ('actual', 'actual', 'AQ0CS0', '01667781'),\n",
       "  ('es', 'ser', 'VSIP3S0', '01775973'),\n",
       "  ('Gimnasia', 'gimnasia', 'NP00000', '00275488'),\n",
       "  ('y', 'y', 'CC', '0'),\n",
       "  ('Esgrima_La_Plata_de_la_Primera_División_de_Argentina',\n",
       "   'esgrima_la_plata_de_la_primera_división_de_argentina',\n",
       "   'NP00000',\n",
       "   '0'),\n",
       "  ('.', '.', 'Fp', '0')]]"
      ]
     },
     "execution_count": 9,
     "metadata": {},
     "output_type": "execute_result"
    }
   ],
   "source": [
    "check[:2]"
   ]
  },
  {
   "cell_type": "code",
   "execution_count": 10,
   "metadata": {},
   "outputs": [],
   "source": [
    "dicc_backward = defaultdict(list)\n",
    "dicc_forward = defaultdict(list)\n",
    "for s in check:\n",
    "    for i,w in enumerate(s):\n",
    "        if i != 0:\n",
    "            dicc_backward[w[0]].append((s[i-1][0], s[i-1][1], s[i-1][2], s[i-1][3]))\n",
    "        else:\n",
    "            dicc_backward[w[0]].append(('[W.Start]', '[L.Start]', '[T.Start]', '[S.Start]'))\n",
    "        if i != len(s)-1:\n",
    "            dicc_forward[w[0]].append((s[i+1][0], s[i+1][1], s[i+1][2], s[i+1][3]))\n",
    "        else:\n",
    "            dicc_forward[w[0]].append(('[W.End]', '[T.End]', '[T.End]', '[S.End]'))"
   ]
  },
  {
   "cell_type": "code",
   "execution_count": 11,
   "metadata": {},
   "outputs": [
    {
     "data": {
      "text/plain": [
       "[('su', 'su', 'DP3CS0', '0'),\n",
       " ('el', 'el', 'DA0MS0', '0'),\n",
       " ('su', 'su', 'DP3CS0', '0'),\n",
       " ('el', 'el', 'DA0MS0', '0')]"
      ]
     },
     "execution_count": 11,
     "metadata": {},
     "output_type": "execute_result"
    }
   ],
   "source": [
    "dicc_backward['equipo']"
   ]
  },
  {
   "cell_type": "code",
   "execution_count": 12,
   "metadata": {},
   "outputs": [
    {
     "data": {
      "text/plain": [
       "[('actual', 'actual', 'AQ0CS0', '01667781'),\n",
       " ('Racing_Club', 'racing_club', 'NP00000', '0'),\n",
       " ('y', 'y', 'CC', '0'),\n",
       " ('de', 'de', 'SPS00', '0')]"
      ]
     },
     "execution_count": 12,
     "metadata": {},
     "output_type": "execute_result"
    }
   ],
   "source": [
    "dicc_forward['equipo']"
   ]
  },
  {
   "cell_type": "code",
   "execution_count": 13,
   "metadata": {},
   "outputs": [
    {
     "data": {
      "text/plain": [
       "1"
      ]
     },
     "execution_count": 13,
     "metadata": {},
     "output_type": "execute_result"
    }
   ],
   "source": [
    "count['La']"
   ]
  },
  {
   "cell_type": "code",
   "execution_count": 14,
   "metadata": {},
   "outputs": [],
   "source": [
    "dicc = dict()\n",
    "vec = dict()\n",
    "for fst,snd,trd,fth in words:\n",
    "    features = defaultdict(int)\n",
    "    if snd not in dicc and snd not in {'.', ',', ':', ';'} and snd.isalpha() and count[fst] > 2:\n",
    "        dicc[fst] = features\n",
    "        vec[fst] = trd\n",
    "        features[fth] = 1 #synset\n",
    "        for i in dicc_backward[fst]:\n",
    "            features[i[0]+\"-1\"] += 1\n",
    "            features[i[3]+\"-1\"] += 1\n",
    "        for i in dicc_forward[fst]:\n",
    "            features[i[0]+\"+1\"] += 1\n",
    "            features[i[3]+\"+1\"] += 1\n",
    "        \n",
    "    elif fst in dicc:\n",
    "        has_it = dicc[fst]\n",
    "        if fth in has_it:\n",
    "            has_it[fth] += 1\n",
    "        else:\n",
    "            has_it[fth] = 1"
   ]
  },
  {
   "cell_type": "code",
   "execution_count": 15,
   "metadata": {},
   "outputs": [
    {
     "data": {
      "text/plain": [
       "defaultdict(int,\n",
       "            {'0': 3,\n",
       "             '0-1': 3,\n",
       "             '04538868+1': 1,\n",
       "             '06239374+1': 1,\n",
       "             '07076177+1': 1,\n",
       "             'Ayuntamiento_de_Valle_de_Losa-1': 1,\n",
       "             'Ha-1': 1,\n",
       "             'La_Zarza-1': 1,\n",
       "             'plan+1': 1,\n",
       "             'promotor+1': 1,\n",
       "             'sistema+1': 1})"
      ]
     },
     "execution_count": 15,
     "metadata": {},
     "output_type": "execute_result"
    }
   ],
   "source": [
    "dicc['cuyo']"
   ]
  },
  {
   "cell_type": "code",
   "execution_count": 16,
   "metadata": {},
   "outputs": [
    {
     "data": {
      "text/plain": [
       "{'a': 'SPS00',\n",
       " 'alturas': 'NCFP000',\n",
       " 'con': 'SPS00',\n",
       " 'cuyo': 'PR0MS000',\n",
       " 'de': 'SPS00',\n",
       " 'el': 'DA0MS0',\n",
       " 'en': 'SPS00',\n",
       " 'equipo': 'NCMS000',\n",
       " 'es': 'VSIP3S0',\n",
       " 'localidad': 'NCFS000',\n",
       " 'minutos': 'NCMP000',\n",
       " 'partido': 'NCMS000',\n",
       " 'planta': 'NCFS000',\n",
       " 'por': 'SPS00',\n",
       " 'que': 'PR0CN000',\n",
       " 'su': 'DP3CS0',\n",
       " 'tiempo': 'NCMS000',\n",
       " 'una': 'DI0FS0',\n",
       " 'y': 'CC'}"
      ]
     },
     "execution_count": 16,
     "metadata": {},
     "output_type": "execute_result"
    }
   ],
   "source": [
    "vec"
   ]
  },
  {
   "cell_type": "code",
   "execution_count": 17,
   "metadata": {},
   "outputs": [],
   "source": [
    "matrix = []\n",
    "vector = []\n",
    "final_check = []\n",
    "for key, value in dicc.items():    #preparo la lista de dicts y la lista de chequeo para recuperar el nombre al final\n",
    "    final_check.append(key)\n",
    "    matrix.append(value)\n",
    "for key, value in vec.items():       #vector de synsets\n",
    "    vector.append(value)"
   ]
  },
  {
   "cell_type": "code",
   "execution_count": 18,
   "metadata": {},
   "outputs": [
    {
     "data": {
      "text/plain": [
       "['VSIP3S0',\n",
       " 'SPS00',\n",
       " 'CC',\n",
       " 'DP3CS0',\n",
       " 'NCMS000',\n",
       " 'SPS00',\n",
       " 'DA0MS0',\n",
       " 'SPS00',\n",
       " 'NCMP000',\n",
       " 'NCMS000',\n",
       " 'NCMS000',\n",
       " 'PR0CN000',\n",
       " 'SPS00',\n",
       " 'DI0FS0',\n",
       " 'NCFS000',\n",
       " 'SPS00',\n",
       " 'PR0MS000',\n",
       " 'NCFS000',\n",
       " 'NCFP000']"
      ]
     },
     "execution_count": 18,
     "metadata": {},
     "output_type": "execute_result"
    }
   ],
   "source": [
    "vector"
   ]
  },
  {
   "cell_type": "code",
   "execution_count": 19,
   "metadata": {},
   "outputs": [],
   "source": [
    "from sklearn.feature_extraction import DictVectorizer\n",
    "v = DictVectorizer()\n",
    "X = v.fit_transform(matrix)"
   ]
  },
  {
   "cell_type": "code",
   "execution_count": 20,
   "metadata": {},
   "outputs": [],
   "source": [
    "from sklearn.feature_selection import SelectKBest\n",
    "from sklearn.feature_selection import chi2"
   ]
  },
  {
   "cell_type": "code",
   "execution_count": 25,
   "metadata": {},
   "outputs": [],
   "source": [
    "Y = SelectKBest(chi2, k=4).fit_transform(X, vector)"
   ]
  },
  {
   "cell_type": "code",
   "execution_count": 26,
   "metadata": {},
   "outputs": [
    {
     "data": {
      "text/plain": [
       "(19, 4)"
      ]
     },
     "execution_count": 26,
     "metadata": {},
     "output_type": "execute_result"
    }
   ],
   "source": [
    "Y.shape"
   ]
  },
  {
   "cell_type": "code",
   "execution_count": 27,
   "metadata": {},
   "outputs": [
    {
     "data": {
      "text/plain": [
       "KMeans(algorithm='auto', copy_x=True, init='k-means++', max_iter=300,\n",
       "    n_clusters=3, n_init=10, n_jobs=1, precompute_distances='auto',\n",
       "    random_state=None, tol=0.0001, verbose=0)"
      ]
     },
     "execution_count": 27,
     "metadata": {},
     "output_type": "execute_result"
    }
   ],
   "source": [
    "#Clustering\n",
    "from sklearn.cluster import KMeans\n",
    "km = KMeans(n_clusters=3)\n",
    "km.fit(Y)"
   ]
  },
  {
   "cell_type": "code",
   "execution_count": 28,
   "metadata": {},
   "outputs": [],
   "source": [
    "labels = km.predict(Y)"
   ]
  },
  {
   "cell_type": "code",
   "execution_count": 30,
   "metadata": {},
   "outputs": [
    {
     "name": "stdout",
     "output_type": "stream",
     "text": [
      "defaultdict(<class 'set'>, {0: {'su', 'equipo', 'planta', 'una', 'que', 'con', 'es', 'por', 'partido', 'tiempo', 'alturas', 'localidad', 'minutos', 'cuyo'}, 2: {'de'}, 1: {'el', 'a', 'y', 'en'}})\n"
     ]
    }
   ],
   "source": [
    "clusters = defaultdict(set)\n",
    "for i, label in enumerate(labels):\n",
    "    clusters[label].add(final_check[i])\n",
    "print(clusters)"
   ]
  },
  {
   "cell_type": "code",
   "execution_count": null,
   "metadata": {},
   "outputs": [],
   "source": []
  }
 ],
 "metadata": {
  "kernelspec": {
   "display_name": "Python 3",
   "language": "python",
   "name": "python3"
  },
  "language_info": {
   "codemirror_mode": {
    "name": "ipython",
    "version": 3
   },
   "file_extension": ".py",
   "mimetype": "text/x-python",
   "name": "python",
   "nbconvert_exporter": "python",
   "pygments_lexer": "ipython3",
   "version": "3.6.1"
  }
 },
 "nbformat": 4,
 "nbformat_minor": 2
}
