{
 "cells": [
  {
   "cell_type": "code",
   "execution_count": 236,
   "metadata": {},
   "outputs": [],
   "source": [
    "from collections import defaultdict"
   ]
  },
  {
   "cell_type": "code",
   "execution_count": 237,
   "metadata": {},
   "outputs": [],
   "source": [
    "from itertools import islice\n",
    "with open(\"wikicorpus_01\") as myfile:\n",
    "    head = list(islice(myfile, 150000))"
   ]
  },
  {
   "cell_type": "code",
   "execution_count": 238,
   "metadata": {},
   "outputs": [],
   "source": [
    "sent = []\n",
    "for s in head:\n",
    "    sent.append(s.split())"
   ]
  },
  {
   "cell_type": "code",
   "execution_count": 239,
   "metadata": {},
   "outputs": [],
   "source": [
    "words = []\n",
    "sentences = []\n",
    "for s in sent:\n",
    "    if len(s) == 4 and s[0] not in {'(', ')', ','} and '[' not in s[1]:\n",
    "        words.append((s[0], s[1], s[2], s[3]))\n",
    "        #if 'endofarticle' in s[1]:\n",
    "        #    sentences.append(words)\n",
    "        #    words = []"
   ]
  },
  {
   "cell_type": "code",
   "execution_count": 240,
   "metadata": {},
   "outputs": [
    {
     "data": {
      "text/plain": [
       "[('Néstor_Gabriel_Martinena', 'néstor_gabriel_martinena', 'NP00000', '0'),\n",
       " ('La', 'el', 'DA0FS0', '0'),\n",
       " ('Plata', 'plata', 'NP00000', '10501473'),\n",
       " ('Buenos_Aires', 'buenos_aires', 'NP00000', '0')]"
      ]
     },
     "execution_count": 240,
     "metadata": {},
     "output_type": "execute_result"
    }
   ],
   "source": [
    "words[:4]"
   ]
  },
  {
   "cell_type": "code",
   "execution_count": 241,
   "metadata": {},
   "outputs": [],
   "source": [
    "#Creamos un diccionario con las palabras y su cantidad de apariciones\n",
    "count = dict()\n",
    "for fst,snd,trd, fth in words:\n",
    "    if fst not in count:\n",
    "        count[fst] = 1\n",
    "    else:\n",
    "        count[fst] += 1"
   ]
  },
  {
   "cell_type": "code",
   "execution_count": 242,
   "metadata": {},
   "outputs": [],
   "source": [
    "#Tupla con (word,lemma,PoS tag, synset)\n",
    "aux = []\n",
    "check = []   #Lista de listas de cada oración\n",
    "for fst,snd,trd, fth in words:\n",
    "    aux.append((fst,snd,trd, fth))\n",
    "    if fst == '.':\n",
    "        check.append(aux)\n",
    "        aux = []"
   ]
  },
  {
   "cell_type": "code",
   "execution_count": 243,
   "metadata": {},
   "outputs": [
    {
     "data": {
      "text/plain": [
       "[[('Néstor_Gabriel_Martinena', 'néstor_gabriel_martinena', 'NP00000', '0'),\n",
       "  ('La', 'el', 'DA0FS0', '0'),\n",
       "  ('Plata', 'plata', 'NP00000', '10501473'),\n",
       "  ('Buenos_Aires', 'buenos_aires', 'NP00000', '0'),\n",
       "  ('Argentina', 'argentina', 'NP00000', '02035234'),\n",
       "  ('es', 'ser', 'VSIP3S0', '01775973'),\n",
       "  ('un', 'uno', 'DI0MS0', '0'),\n",
       "  ('futbolista', 'futbolista', 'NCCS000', '0'),\n",
       "  ('argentino', 'argentino', 'AQ0MS0', '00278090'),\n",
       "  ('.', '.', 'Fp', '0')],\n",
       " [('Juega', 'jugar', 'VMM02S0', '00727813'),\n",
       "  ('de', 'de', 'SPS00', '0'),\n",
       "  ('delantero', 'delantero', 'NCMS000', '00466114'),\n",
       "  ('y', 'y', 'CC', '0'),\n",
       "  ('su', 'su', 'DP3CS0', '0'),\n",
       "  ('equipo', 'equipo', 'NCMS000', '06093198'),\n",
       "  ('actual', 'actual', 'AQ0CS0', '01667781'),\n",
       "  ('es', 'ser', 'VSIP3S0', '01775973'),\n",
       "  ('Gimnasia', 'gimnasia', 'NP00000', '00275488'),\n",
       "  ('y', 'y', 'CC', '0'),\n",
       "  ('Esgrima_La_Plata_de_la_Primera_División_de_Argentina',\n",
       "   'esgrima_la_plata_de_la_primera_división_de_argentina',\n",
       "   'NP00000',\n",
       "   '0'),\n",
       "  ('.', '.', 'Fp', '0')]]"
      ]
     },
     "execution_count": 243,
     "metadata": {},
     "output_type": "execute_result"
    }
   ],
   "source": [
    "check[:2]"
   ]
  },
  {
   "cell_type": "code",
   "execution_count": 244,
   "metadata": {},
   "outputs": [],
   "source": [
    "#Diccionario con todas las palabras anteriores a una palabra (ventana de 1) --> dicc_backward\n",
    "#Diccionario con todas las palabras siguientes a una palabra (ventana de 1) --> dicc_forward\n",
    "dicc_backward = defaultdict(list)\n",
    "dicc_forward = defaultdict(list)\n",
    "for s in check:\n",
    "    for i,w in enumerate(s):\n",
    "        if i != 0:\n",
    "            dicc_backward[w[0]].append((s[i-1][0], s[i-1][1], s[i-1][2], s[i-1][3]))\n",
    "        else:\n",
    "            dicc_backward[w[0]].append(('[W.Start]', '[L.Start]', '[T.Start]', '[S.Start]'))\n",
    "        if i != len(s)-1:\n",
    "            dicc_forward[w[0]].append((s[i+1][0], s[i+1][1], s[i+1][2], s[i+1][3]))\n",
    "        else:\n",
    "            dicc_forward[w[0]].append(('[W.End]', '[T.End]', '[T.End]', '[S.End]'))"
   ]
  },
  {
   "cell_type": "code",
   "execution_count": 245,
   "metadata": {},
   "outputs": [
    {
     "data": {
      "text/plain": [
       "[('Néstor_Gabriel_Martinena', 'néstor_gabriel_martinena', 'NP00000', '0'),\n",
       " ('La', 'el', 'DA0FS0', '0')]"
      ]
     },
     "execution_count": 245,
     "metadata": {},
     "output_type": "execute_result"
    }
   ],
   "source": [
    "words[:2]"
   ]
  },
  {
   "cell_type": "code",
   "execution_count": 246,
   "metadata": {},
   "outputs": [
    {
     "data": {
      "text/plain": [
       "11"
      ]
     },
     "execution_count": 246,
     "metadata": {},
     "output_type": "execute_result"
    }
   ],
   "source": [
    "count[\"Plata\"]"
   ]
  },
  {
   "cell_type": "code",
   "execution_count": 247,
   "metadata": {},
   "outputs": [],
   "source": [
    "#Creación del diccionario de features\n",
    "#Recordemos que words es una lista de tuplas del tipo (word,lemma,Pos,synset)\n",
    "dicc = dict()\n",
    "vec = dict() #vector de clases\n",
    "for fst,snd,trd,fth in words:\n",
    "    features = defaultdict(int)\n",
    "    #La palabra se encuentra en el dict\n",
    "    if fst not in dicc and fst not in {'.', ',', ':', ';'} and fst.isalpha() and count[fst] > 1 and fth != 0:\n",
    "        dicc[fst] = features\n",
    "        vec[fst] = trd\n",
    "        features[fth] += 1\n",
    "        for i in dicc_backward[fst]:\n",
    "            features[i[0]+\"-1\"] += 1\n",
    "            features[i[3]+\"-1\"] += 1\n",
    "        for i in dicc_forward[fst]:\n",
    "            features[i[0]+\"+1\"] += 1\n",
    "            features[i[3]+\"+1\"] += 1\n",
    "    #La pabra no se encuentra en el dict\n",
    "    elif fst in dicc:\n",
    "        if trd not in vec[fst]:\n",
    "            dicc[fst] = features\n",
    "            vec[fst] = trd\n",
    "            for i in dicc_backward[fst]:\n",
    "                features[i[0]+\"-1\"] += 1\n",
    "                features[i[3]+\"-1\"] += 1\n",
    "            for i in dicc_forward[fst]:\n",
    "                features[i[0]+\"+1\"] += 1\n",
    "                features[i[3]+\"+1\"] += 1\n",
    "        has_it = dicc[fst]\n",
    "        if fth in has_it:\n",
    "            has_it[fth] += 1\n",
    "        else:\n",
    "            has_it[fth] = 1"
   ]
  },
  {
   "cell_type": "code",
   "execution_count": 248,
   "metadata": {},
   "outputs": [
    {
     "name": "stdout",
     "output_type": "stream",
     "text": [
      "7483 7483\n"
     ]
    }
   ],
   "source": [
    "#Controlamos que el largo sea consistente\n",
    "print(len(vec), len(dicc))"
   ]
  },
  {
   "cell_type": "code",
   "execution_count": 249,
   "metadata": {},
   "outputs": [],
   "source": [
    "#Para remover stopwords\n",
    "from nltk.corpus import stopwords"
   ]
  },
  {
   "cell_type": "code",
   "execution_count": 250,
   "metadata": {},
   "outputs": [],
   "source": [
    "matrix = []\n",
    "vector = []\n",
    "final_check = []\n",
    "for key, value in dicc.items():    #preparo la lista de dicts y la lista de chequeo para recuperar el nombre al final\n",
    "    if key not in stopwords.words('spanish'):\n",
    "        final_check.append(key)\n",
    "        matrix.append(value)\n",
    "for key, value in vec.items():       #vector de PoS\n",
    "    if key not in stopwords.words('spanish'):\n",
    "        vector.append(value)"
   ]
  },
  {
   "cell_type": "code",
   "execution_count": 251,
   "metadata": {},
   "outputs": [],
   "source": [
    "#Transformamos nuestra lista de diccionarios de features en un vector\n",
    "from sklearn.feature_extraction import DictVectorizer\n",
    "v = DictVectorizer()\n",
    "X = v.fit_transform(matrix)"
   ]
  },
  {
   "cell_type": "code",
   "execution_count": 252,
   "metadata": {},
   "outputs": [
    {
     "data": {
      "text/plain": [
       "<7338x26470 sparse matrix of type '<class 'numpy.float64'>'\n",
       "\twith 102983 stored elements in Compressed Sparse Row format>"
      ]
     },
     "execution_count": 252,
     "metadata": {},
     "output_type": "execute_result"
    }
   ],
   "source": [
    "X"
   ]
  },
  {
   "cell_type": "code",
   "execution_count": 253,
   "metadata": {},
   "outputs": [],
   "source": [
    "k_best = X.shape"
   ]
  },
  {
   "cell_type": "code",
   "execution_count": 254,
   "metadata": {},
   "outputs": [],
   "source": [
    "#seleccionamos el 70% de los features\n",
    "kbest = k_best[1]*0.7"
   ]
  },
  {
   "cell_type": "code",
   "execution_count": 255,
   "metadata": {},
   "outputs": [
    {
     "data": {
      "text/plain": [
       "18529.0"
      ]
     },
     "execution_count": 255,
     "metadata": {},
     "output_type": "execute_result"
    }
   ],
   "source": [
    "kbest"
   ]
  },
  {
   "cell_type": "code",
   "execution_count": 256,
   "metadata": {},
   "outputs": [],
   "source": [
    "#Normalización\n",
    "import sklearn\n",
    "X = sklearn.preprocessing.normalize(X)"
   ]
  },
  {
   "cell_type": "code",
   "execution_count": null,
   "metadata": {},
   "outputs": [],
   "source": [
    "##########################################Supervisada, clase: PoS tag ##################################################"
   ]
  },
  {
   "cell_type": "code",
   "execution_count": 257,
   "metadata": {},
   "outputs": [],
   "source": [
    "from sklearn.feature_selection import SelectKBest\n",
    "from sklearn.feature_selection import chi2"
   ]
  },
  {
   "cell_type": "code",
   "execution_count": 258,
   "metadata": {},
   "outputs": [],
   "source": [
    "#Método supervisado para feature selection usando la función chi2\n",
    "Y = SelectKBest(chi2, k=int(kbest)).fit_transform(X, vector)"
   ]
  },
  {
   "cell_type": "code",
   "execution_count": 270,
   "metadata": {},
   "outputs": [
    {
     "data": {
      "text/plain": [
       "KMeans(algorithm='auto', copy_x=True, init='k-means++', max_iter=300,\n",
       "    n_clusters=80, n_init=10, n_jobs=1, precompute_distances='auto',\n",
       "    random_state=None, tol=0.0001, verbose=0)"
      ]
     },
     "execution_count": 270,
     "metadata": {},
     "output_type": "execute_result"
    }
   ],
   "source": [
    "#Clustering\n",
    "from sklearn.cluster import KMeans\n",
    "km = KMeans(n_clusters=80)\n",
    "km.fit(Y)"
   ]
  },
  {
   "cell_type": "code",
   "execution_count": 271,
   "metadata": {},
   "outputs": [],
   "source": [
    "labels = km.predict(Y)"
   ]
  },
  {
   "cell_type": "code",
   "execution_count": 272,
   "metadata": {},
   "outputs": [
    {
     "name": "stdout",
     "output_type": "stream",
     "text": [
      "defaultdict(<class 'set'>, {72: {'Nombre', 'Ha', 'Diseñado', 'Texto', 'Debutó', 'La', 'Publicado', 'No', 'Uso', 'Sistema', 'Son', 'Contexto', 'Experiencia', 'Estrenada', 'Fueron', 'Puede', 'Guarda', 'Lista', 'Crea', 'Pertenece', 'Diccionario', 'periodística', 'Quedó', 'Mientras', 'Otras', 'Edición', 'Limita', 'Jugaba', 'Video', 'Mide', 'Algunos', 'Set', 'Dura', 'Vea', 'Ejemplos', 'Colonización', 'Muchos', 'El', 'Convencido', 'Otros', 'Atraído', 'Él', 'Ingresó', 'Nacido', 'Las', 'Tabla', 'Está', 'Estuvo', 'Resultados', 'Siguiendo', 'Habiendo', 'Polígono', 'Organización', 'Web', 'Dicha', 'Dada', 'Ver', 'Se', 'Tienen', 'Escribió', 'Referencia', 'Hizo', 'Obra', 'Colección', 'Cuenta', 'Minas', 'Juega', 'Participó', 'Adaptación', 'Extraña', 'Surgido', 'Siendo', 'Existen', 'Empezó', 'Corresponde', 'Jugó', 'Alberga', 'Perfil', 'Tenía', 'Principales', 'Obtuvo', 'Carretera', 'Este', 'Contiene', 'Estudió', 'Situación', 'Fútbol', 'Ocupa', 'Datos', 'Reacción', 'Aplicaciones', 'Nació', 'Tuvo', 'Página', 'Llegó', 'Fallece', 'Estudia', 'J', 'Dicho', 'Ambos', 'Lucha', 'Sin', 'Era', 'Hay', 'Solo', 'Fue', 'Recibe', 'Utilizando', 'Sitio', 'Posee', 'Lleva', 'A', 'Fundó', 'Tiene', 'Recibió', 'Copas', 'Murió', 'Consigue', 'Todos', 'Los', 'Nace', 'cursiva', 'Siguió', 'Incluye', 'Diseño', 'Consta', 'Cuarto', 'Ella', 'Ficha', 'Es', 'Cuencas', 'Destaca', 'Luchó', 'Exploración', 'Vida', 'Poco', 'Han', 'Cabe', 'También', 'Realizó', 'Límite', 'Ring', 'Dirigió', 'Regresó', 'Falleció', 'Finalista', 'Nuevos', 'Estadísticas', 'Durante', 'Hacen', 'Visa', 'Fábrica', 'Regulación', 'Esta', 'En'}, 74: {'ambición', 'estructura', 'expedición', 'hora', 'razón', 'estación', 'puesta', 'Academia', 'amenaza', 'sede', 'civilización', 'personalidad', 'reacción', 'potencia', 'recreación', 'flota', 'máquina', 'cantante', 'infantería', 'intérprete', 'democracia', 'canción', 'correspondiente', 'responsabilidad', 'crisis', 'revolución', 'recluta', 'distancia', 'hormona', 'locura', 'corte', 'burbuja', 'piedra', 'interfaz', 'rápida', 'sucesión', 'actividad', 'religión', 'navegación', 'racha', 'especialidad', 'consolidación', 'proyección', 'técnica', 'planta', 'victoria', 'posición', 'película', 'barra', 'píldora', 'ciencia', 'H', 'sección', 'firma', 'relación', 'gira', 'secuela', 'recuperación', 'unidad', 'fuerza', 'bebida', 'posterior', 'recompensa', 'pantalla', 'balaustrada', 'tecla', 'pareja', 'directora', 'pistola', 'superficie', 'permanencia', 'cornisa', 'liga', 'sangre', 'mano', 'visita', 'letra', 'formación', 'separación', 'información', 'marcha', 'Serie', 'habanera', 'actual', 'concentración', 'familia', 'operación', 'tierra', 'cascada', 'transición', 'ventaja', 'autoridad', 'pintura', 'plataforma', 'investigación', 'crítica', 'decoración', 'secuencia', 'atleta', 'amistad', 'nebulosa', 'versión', 'actuación', 'infraestructura', 'cámara', 'antigua', 'validez', 'actriz', 'mejora', 'capilla', 'toma', 'autorización', 'indexación', 'orilla', 'Información', 'bestia', 'rivalidad', 'fiesta', 'ascensión', 'boda', 'estabilidad', 'curva', 'pila', 'vida', 'punta', 'orquesta', 'barbacana', 'batalla', 'forma', 'abstracción', 'radio', 'torre', 'precisión', 'característica', 'belga', 'grabación', 'asamblea', 'mansión', 'respuesta', 'cadena', 'cuida', 'opinión', 'transmisión', 'acción', 'ley', 'calificación', 'niñez', 'escalera', 'necrópolis', 'escena', 'tecnología', 'mañana', 'localización', 'competencia', 'calle', 'diabetes', 'instancia', 'suerte', 'funcionalidad', 'atacaron', 'copa', 'educación', 'cuestión', 'construcción', 'costumbre', 'montaña', 'meseta', 'exposición', 'libertad', 'humanidad', 'luz', 'estrella', 'playa', 'Argentina', 'comedia', 'página', 'agrupación', 'solución', 'carretera', 'lista', 'cuenca', 'lenta', 'primavera', 'Misa', 'monomanía', 'barrera', 'Marmota', 'topografía', 'capitulación', 'independencia', 'imitación', 'última', 'mayor', 'marca', 'figura', 'árida', 'banda', 'lectura', 'vía', 'espada', 'institución', 'dirección', 'cárcel', 'casa', 'habitación', 'competición', 'mezcla', 'república', 'pata', 'guarnición', 'Plata', 'orientación', 'fachada', 'transferencia'}, 66: {'sobrevivientes', 'interventricular', 'DS', 'algún', 'Bethesda', 'adinerada', 'Víti', 'Nox', 'tambien', 'dónde', 'ferroviarios', 'reporte', 'aquella', 'polonaise', 'sesenta', 'mayoritariamente', 'Leyes', 'comúnmente', 'naturalmente', 'Faith', 'ninguna', 'tres', 'salvo', 'dem', 'Himeto', 'azafea', 'cuales', 'ne', 'EISA', 'programable', 'GOR', 'vertiente', 'marre', 'varias', 'NAS', 'Beethoven', 'ahora', 'ningún', 'catorce', 'Corrieri', 'Janice', 'doscientos', 'constantemente', 'proglucagón', 'Whistle', 'Mandern', 'i', 'jaspeado', 'consecuentemente', 'izhitsa', 'otrora', 'designadores', 'Guatemala', 'definitivamente', 'Charlesfort', 'Lindsey', 'Fred', 'hoy', 'futbolista', 'Gunn', 'Essbase', 'tan', 'comicios', 'latitudes', 'CETRAM', 'tr', 'periódicamente', 'Bacadéhuachi', 'HTML', 'eventualmente', 'cuspidata', 'Illinois', 'cuyos', 'cuarenta', 'ocasionalmente', 'Hitlerjunge', 'simplemente', 'Telesport', 'ocho', 'cualquier', 'Link', 'computadoras', 'Harris', 'Maria', 'mucha', 'talk', 'Dru', 'sugerente', 'cinco', 'pocas', 'posteriormente', 'Beatlemanía', 'Ricardo', 'siempre', 'Siete', 'Gutiérrez', 'trece', 'maple', 'bhajan', 'proteólisis', 'contigo', 'villismo', 'Scoobies', 'bien', 'Transform', 'Cienfuegos', 'Pauline', 'permanentemente', 'dos', 'agrarismo', 'biológicamente', 'Timur', 'latitud', 'Site', 'Aleix', 'Prayer', 'Tollanos', 'Angle', 'between', 'luego', 'Miguel', 'Palmyra', 'Setenta', 'doce', 'Qué', 'Kubuntu', 'McMahon', 'diez', 'nunca', 'estragos', 'unas', 'Templarios', 'aquellas', 'trunco', 'ventricular', 'altamente', 'Massachusetts', 'defunctis', 'cuyas', 'noventa', 'popularmente', 'NBC', 'Shriver', 'cuál', 'Sakazaki', 'hallaron', 'alguna', 'Beatles', 'modalidad', 'Cordelia', 'siquiera', 'alienígenas', 'oxintomodulina', 'originalmente', 'Racing', 'Universidades', 'Pixies', 'kazajo', 'Saggi', 'brillantemente', 'Baire', 'Texas', 'tanta', 'Grandes', 'cuatro', 'Bolivia', 'nadie', 'IMDB', 'mil', 'quince', 'Adalides', 'once', 'aparte', 'ratos', 'sumamente', 'usualmente', 'Cruzados', 'digraph', 'Tito', 'automotores', 'cada', 'recién', 'edificaciones', 'típicamente', 'cuya', 'videos', 'cuyo', 'Poesías', 'seis', 'siete', 'Rivera', 'aquel', 'Martin', 'Chester', 'KNIFE', 'Crusaders', 'extremadamente', 'finalmente'}, 49: {'Club', 'penales', 'anuales', 'vocación', 'americanos', 'cola', 'materiales', 'abandonado', 'pregunta', 'animal', 'celular', 'corriendo', 'hermanas', 'proporciones', 'ocultar', 'restaurado', 'normal', 'fallece', 'colectivo', 'feliz', 'indígenas', 'lesionada', 'To', 'interpretados', 'auxiliares', 'electricidad', 'electorales', 'incrementa', 'roles', 'deportivas', 'c', 'particulares', 'abdomen', 'exteriores', 'polar', 'vueltas', 'externos', 'pelea', 'distancias', 'femenina', 'comunidades', 'internacionales', 'local', 'pinturas', 'políticas', 'opera', 'eléctrica', 'azul', 'natal', 'estadounidenses', 'administrativo', 'generales', 'Ama', 'desaparecido', 'olas', 'rentables', 'analógicos', 'Adagio', 'cargas', 'Música', 'poderosas', 'pagadas', 'Clarín', 'histórica', 'sociales', 'cura', 'muerto', 'eslovaco', 'escapar', 'mongol', 'privados', 'institucional', 'esquina', 'autopropulsados', 'competidores', 'individuales', 'recibieron', 'francés', 'salvaron', 'esclavizado', 'tumbita', 'solares', 'administrativa', 'rápido', 'bahías', 'significativo', 'profesional', 'matanzas', 'Rosales', 'norteamericanas', 'andino', 'Ley', 'nacional', 'series', 'acomodados', 'determinado', 'nacionales', 'épocas', 'geográficas', 'volcánicas', 'alturas', 'mecánico', 'práctico', 'argentino', 'árabes', 'traducido', 'letona', 'intestinal', 'esquinas', 'italiano', 'moralista', 'privilegio', 'duodécimo', 'modernos', 'lirismo', 'federal', 'latino', 'humanos', 'amplio', 'compromiso', 'pace', 'vasallos', 'manual', 'digitales', 'peruano', 'aloja', 'desapareció', 'desapareciendo', 'mentira', 'físico', 'construye', 'circunstancias', 'Hospital', 'traiciones', 'interiores', 'personal', 'literarias', 'llanuras', 'subordinado', 'Fuego', 'Turismo', 'Imperialista', 'pobladas', 'sexual', 'norteamericana', 'externo', 'italiana', 'Televisión', 'universales', 'marcando', 'célebre', 'terrestre', 'delgado', 'imaginó', 'gallego', 'español', 'deseada', 'Pueblo', 'fortuna', 'románticas', 'momentos', 'morir', 'populares', 'pan', 'vs', 'rectangulares', 'enfermedad', 'cubano', 'universal', 'deportiva', 'lípidos', 'temprano', 'huracán', 'Crítica', 'rendimiento', 'musulmanes'}, 28: {'don', 'nacer', 'soporte', 'mecanismos', 'reggae', 'RPM', 'mensajes', 'ancho', 'doblaje', 'Química', 'espadaña', 'pie', 'entretenimiento', 'negocios', 'preparar', 'profesión', 'defensor', 'cuna', 'admisión', 'justicia', 'ofrecer', 'flores', 'música', 'pérdidas', 'Sonora', 'Educación', 'iniciativa', 'centenares', 'estructuras', 'esquí', 'almacenamiento', 'recambio', 'origen', 'poesía', 'extensión', 'temperatura', 'exhibición', 'delantero', 'prisión', 'clásicos', 'soldados', 'Cazadora', 'pies', 'esclavos', 'novelas', 'traición', 'actuaciones', 'proyectos', 'cuencas', 'lenguas', 'blanco', 'voz', 'escuelas', 'elaboración', 'Hora', 'sillería', 'desagüe', 'dinero', 'curvas', 'pobreza', 'separar', 'asesores', 'batería', 'defensa', 'doña', 'acceso', 'astronomía', 'derecho', 'química', 'tambor', 'seguridad', 'grupos', 'l', 'subordinación', 'gestiones', 'lluvias', 'esfuerzo', 'excepción', 'visitantes', 'chocolate', 'internado', 'comunicación', 'gramática', 'bárbaros', 'vídeo', 'canales', 'montañas', 'clasificación', 'pago', 'cuidar', 'mostrar', 'congregaciones', 'esclavo', 'ritmos', 'ficción', 'televisión', 'socios', 'especies', 'filosofía', 'carga', 'canciones', 'aprendiz', 'madera', 'revoluciones', 'conservación', 'agua', 'medio', 'amabilidad', 'metro', 'hecho', 'intrigas', 'altitud', 'aprobar', 'aplicar', 'sonetos', 'noticias', 'dura', 'estudiantes', 'notables', 'abogacía', 'correr', 'vista', 'edad', 'galés', 'vehículos', 'hielo', 'apertura', 'mujer', 'apuestas', 'códigos', 'levas', 'Aspar', 'menores', 'artistas', 'semana', 'defender', 'largometraje', 'instrumentos', 'eventos', 'manzana', 'religiosos', 'Frankfurt', 'manos', 'velocidad', 'combustión', 'diques', 'cámaras', 'honor', 'ignición', 'color', 'paseo', 'procesos', 'edificios', 'autobuses', 'guitarras', 'violencia', 'píldoras', 'adolescente', 'cuentos', 'moda', 'profesores', 'energía', 'Gramática', 'difuntos', 'vuelta', 'animales', 'comentarios', 'patrulla', 'lituana', 'cambio', 'pobres', 'escritura', 'S', 'telefonía', 'objetos', 'espesor', 'entrada', 'protección', 'baja', 'liderazgo', 'álbumes'}, 6: {'efecto', 'jugador', 'objetivos', 'acrónimo', 'palacio', 'régimen', 'cuidado', 'romance', 'programa', 'registro', 'descanso', 'perro', 'salón', 'reloj', 'gen', 'nombre', 'horario', 'pelaje', 'canal', 'quórum', 'tratado', 'punto', 'objetivo', 'juicio', 'ingreso', 'ángulo', 'claustro', 'servicio', 'gallardete', 'cuento', 'circuito', 'papel', 'análisis', 'mando', 'puente', 'eje', 'uso', 'fondo', 'espacio', 'poder', 'período', 'convento', 'periodo', 'modelo', 'algoritmo', 'campamento', 'nacimiento', 'guionista', 'director', 'nivel', 'ilustre', 'show', 'área', 'estilo', 'presidente', 'clásico', 'cruce', 'control', 'Tratado', 'episodio', 'grupo', 'municipio', 'dibujo', 'triunfo', 'momento', 'acto', 'mandato', 'menú', 'sueño', 'general', 'comportamiento', 'partido', 'antiguo', 'deseo', 'enemigo', 'conductor', 'dominio', 'impulso', 'desarrollo', 'marco', 'jugo', 'receptor', 'ayuntamiento', 'álbum', 'personaje', 'sistema', 'cultivo', 'sello', 'examen', 'objeto', 'concejal', 'templo', 'castigo', 'esplendor', 'extremo', 'volcán', 'embarazo', 'jazz', 'cauce', 'estreno', 'regreso', 'tema', 'lado', 'afecto', 'apoyo', 'ganador', 'caso', 'panorama', 'cuadro', 'balón', 'torneo', 'Instituto', 'rescate', 'territorio', 'tamaño', 'cumpleaños', 'alto', 'museo', 'monstruo', 'parecido', 'rol', 'freno', 'octavo', 'sonido', 'reconocimiento', 'séptimo', 'resultado', 'procesamiento', 'árbol', 'galardón', 'soberano', 'hogar', 'recurso', 'dedo', 'libro', 'cáncer', 'propósito', 'capítulo', 'jefe', 'apellido', 'vino', 'casco', 'fenómeno', 'dueño', 'diseño', 'proceso', 'promotor', 'otoño', 'valor', 'aspecto', 'santo', 'filo', 'computador', 'equipo', 'conjunto', 'drama', 'catálogo'}, 67: {'precisa', 'Jurisprudencia', 'seminarios', 'tableta', 'Catedral', 'empresarios', 'Albornoz', 'patios', 'rituales', 'vivos', 'polaco', 'restaurantes', 'ternura', 'observaciones', 'mates', 'jefes', 'facilidad', 'libera', 'cartuchos', 'quinta', 'extintores', 'mozartiana', 'maestrías', 'visibles', 'complejidad', 'Filosofía', 'Gimnasia', 'Cultura', 'astro', 'sexto', 'esenciales', 'besar', 'temible', 'perros', 'independiente', 'arma', 'Villancicos', 'sencilla', 'fabricación', 'cornisas', 'farmacia', 'luchas', 'periodos', 'resurrección', 'letras', 'física', 'invertida', 'extranjeros', 'resoluciones', 'fascinante', 'transmitir', 'latitudinal', 'Diamante', 'presentaciones', 'Do', 'inventarios', 'limpio', 'seguro', 'oficiales', 'habitaciones', 'ricos', 'archivos', 'entidad', 'masculino', 'portavoz', 'humano', 'golpearon', 'moderno', 'ventajas', 'nobles', 'Soledad', 'rica', 'específicos', 'policías', 'puestos', 'mampostería', 'sastrería', 'construyó', 'productivas', 'lados', 'salvaje', 'asistencia', 'patas', 'publico', 'demanda', 'convivencia', 'logrado', 'gracia', 'prestigio', 'muralla', 'pobre', 'blues', 'Verde', 'Bravo', 'C', 'amoroso', 'ancha', 'carbohidratos', 'garita', 'adolescentes', 'bombas', 'temprana', 'guitarrista', 'entidades', 'dardos', 'vocales', 'lagos', 'lección', 'ídolo', 'Sable', 'potente', 'escudos', 'penitencias', 'sumar', 'derrotado', 'amplias', 'secuestran', 'armado', 'escenarios', 'Regulus', 'residencias', 'arqueros', 'fusiones', 'anteriores', 'inminente', 'plantas', 'clínicas', 'abogado', 'lógica', 'puntual', 'ejemplar', 'antífonas', 'múltiples', 'caballo', 'rastreadoras', 'rocas', 'doctorados'}, 4: {'blogspot', 'Historia', 'Patrimonio', 'Parroquia', 'Argumento', 'Actores', 'Gastronomía', 'Trayectoria', 'Versiones', 'Juego', 'Dobles', 'AA', 'Fiestas', 'Fuente', 'Libros', 'Palmarés', 'Sinópsis', 'Gobernador', 'Características', 'Dir', 'Geografía', 'Amen', 'Síntesis', 'Reparto', 'Arquitectura', 'Presidente', 'Personajes', 'Carrera', 'Concordia', 'Clima', 'Descripción', 'Filmografía', 'Emporis', 'Juventud', 'Bibliografía', 'Comentarios', 'Honorificados', 'Demografía', 'Discografía', 'Miscelánea', 'Trama', 'VV', 'Return', 'Referencias', 'Comunicaciones', 'Clubes', 'Obras', 'Inicios', 'Movimientos', 'Singles', 'Biografía', 'Notas', 'Funciones', 'Toponimia', 'Fuentes', 'Multijugador'}, 59: {'sentencia', 'controversia', 'criatura', 'verdadera', 'nueva', 'única', 'cancillería', 'nominación', 'herramienta', 'cuarta', 'cinematografía', 'enorme', 'avenida', 'devastación', 'compañía', 'relativa', 'consecuente', 'conciencia', 'legítima', 'compleja', 'décima', 'primera', 'mecanización', 'materia', 'vecina', 'incursión', 'dinámica', 'comunidad', 'consiguiente', 'undécima', 'tabla', 'explícita', 'fértil', 'mala'}, 71: {'lagunas', 'dicho', 'recuerda', 'ofrece', 'reconocida', 'ocasiones', 'gano', 'haciendo', 'entrando', 'recibe', 'shows', 'controlando', 'ordenar', 'esperaban', 'minutos', 'desarrolló', 'nacida', 'aparecer', 'discos', 'explica', 'Sorpresa', 'at', 'equal', 'político', 'impide', 'Colonia', 'abrió', 'Arma', 'quiere', 'Basta', 'Triple', 'atraviesa', 'conocidos', 'adquirió', 'cálida', 'mensajero', 'dio', 'cambiando', 'guitarristas', 'baratos', 'deidad', 'Pilar', 'veces', 'afirmó', 'obtuvo', 'vocal', 'cordilleras', 'visitaron', 'peligrosa', 'horas', 'novedades', 'ganar', 'deportes', 'siglo', 'Dobla', 'hizo', 'Configura', 'pequeños', 'describió', 'dice', 'sorprende', 'inteligente', 'compone', 'temporadas', 'reteniendo', 'M', 'guitarra', 'existe', 'factores', 'voces', 'desea', 'fuerte', 'importantes', 'aminoácidos', 'discurre', 'dirigió', 'retrato', 'tramos', 'poderosos', 'recoge', 'poblados', 'bajo', 'Voz', 'niños', 'llevaba', 'Real', 'Agenda', 'elementos', 'reiterando', 'Ruso', 'suma', 'intuye', 'cruza', 'advierte', 'school', 'meses', 'logró', 'diamantes', 'organizado', 'abandono', 'Marco', 'León', 'ganaba', 'femenino', 'hará', 'semanas', 'revela', 'atractivo', 'secciones', 'aplica', 'Abre', 'numeroso', 'tradujo', 'surgieron', 'combates', 'alias', 'dulce', 'body', 'Secretario', 'ataques', 'turnos', 'péptidos', 'podios', 'reportó', 'frutas', 'crea', 'días', 'dejar', 'di', 'pop', 'describe', 'lanza', 'logra', 'cantaba', 'común', 'responde', 'sufre', 'monstruos', 'piensa', 'sumando', 'lecciones', 'espera', 'recibió', 'ganó', 'ofreciendo', 'cc', 'estima', 'manifestó', 'in', 'Memoria', 'ensordecedor', 'node', 'aprendió', 'Transcripción', 'casos', 'acciones', 'mueren', 'permanece', 'Andante', 'der', 'are', 'adulto', 'discusión', 'sirvió', 'concurre', 'Polifonía', 'jugó', 'dijo', 'consideran', 'reformatorio', 'quiero', 'victorias', 'atacó', 'temperaturas', 'Letras', 'regidor', 'países', 'pierden', 'desatando', 'atraviesan', 'chicos', 'of', 'alzando', 'balas', 'Estudios', 'Define', 'mejoras', 'veteranos', 'olvidar', 'referente', 'diferencia', 'misionero', 'personas', 'músicos', 'Guerrero', 'pico', 'to', 'terminar', 'van', 'valió', 'per', 'milita', 'diputados', 'Formula', 'famoso', 'bandas', 'según', 'declarada', 'Rock', 'libres', 'representa', 'saxofón', 'partidos', 'dejó', 'condenó', 'black', 'remedio', 'debutando', 'persona', 'negar', 'pasar', 'cree', 'considera', 'controlan', 'embargo', 'cayó', 'the', 'ofreció', 'cambios', 'Protector', 'campeones', 'lanzó', 'directores', 'escribió', 'paralelos', 'dios', 'with', 'baila', 'fatídica', 'puntos', 'hace', 'intitulado', 'hacen', 'pueblos', 'vez', 'quedó', 'conduciendo', 'bajos', 'constante', 'ocasión', 'hicieron', 'salió', 'piratas', 'proporciona', 'isleños', 'Zona', 'Nuevo', 'triples', 'pensaba', 'idiomas', 'à', 'instalación', 'Alemán', 'expresó', 'estudió', 'afirma', 'años', 'señaló', 'movimientos', 'regla', 'pronto', 'Rosario', 'Trinidad', 's', 'regulares', 'impuesto', 'modernas', 'carpetas', 'as', 'solo', 'islotes', 'añadió', 'humanista', 'publicó', 'elevada', 'comprende', 'críticos', 'queda'}, 22: {'marqués', 'resto', 'diseñador', 'cántico', 'inicio', 'peligro', 'sur', 'cierre', 'Presto', 'productor', 'seno', 'banco', 'desfile', 'aumento', 'descendiente', 'escenario', 'ejercicio', 'plano', 'delta', 'terror', 'medidor', 'profesor', 'escudo', 'alcalde', 'ojo', 'estrecho', 'manillar', 'techo', 'repertorio', 'sudeste', 'solar', 'despacho', 'símbolo', 'fortalecimiento', 'censo', 'oficio', 'duque', 'litoral', 'pedal', 'sencillo', 'establecimiento', 'mecanismo', 'amparo', 'pecho', 'noreste', 'título', 'vecino', 'ministro', 'ideal', 'taller', 'levantamiento', 'mundial', 'norte', 'avance', 'Diálogo', 'filial', 'festival', 'advenimiento', 'Oficio', 'fiscal', 'fin', 'volumen', 'exterior', 'paisaje', 'guión', 'vigía', 'campo', 'costado', 'goleador', 'titulo', 'centro', 'estallido', 'mítico', 'descubrimiento', 'manejo', 'poblado', 'jurado', 'concepto', 'cadáver', 'sureste', 'empleo', 'estuario', 'afán', 'templario', 'conde', 'verano', 'traslado', 'lapso', 'librillo', 'fallecimiento', 'deshielo', 'fundador', 'ala', 'ranking', 'noroeste', 'número', 'comienzo', 'condado', 'testigo', 'apartamento', 'distrito', 'propietario', 'sindicato', 'aprendizaje', 'grado', 'valle', 'choque', 'archivo', 'Interior'}, 51: {'peligroso', 'paraje', 'patrón', 'astrónomo', 'monumento', 'bravo', 'gigantesco', 'pasodoble', 'soldado', 'patrimonio', 'cuartel', 'primer', 'verdadero', 'pirata', 'cruel', 'gángster', 'humor', 'invencible', 'código', 'mismo', 'tour', 'film', 'licenciado', 'reparto', 'poderoso', 'observatorio', 'fabricante', 'trazado', 'anfiteatro', 'apodo', 'viejo', 'arroyo', 'último', 'novelista', 'ambiente', 'acantilado', 'jardín', 'pintor', 'actor', 'republicanismo', 'joven', 'proyectado', 'lenguaje', 'ingeniero', 'repentino', 'costo', 'disparo', 'viento', 'documento', 'puma', 'edificio', 'péptido', 'misterioso', 'fútbol', 'noveno', 'basamento', 'video', 'jurisconsulto', 'sueldo', 'alfabeto', 'tramo', 'carnaval', 'único', 'prolífico', 'cubo', 'Colegio', 'instrumento', 'escultor', 'monasterio', 'renacimiento', 'aclamado', 'astrolabio', 'set', 'segundo', 'reglamento', 'escritor', 'calentamiento', 'explorador', 'Secretariado', 'espíritu', 'producto', 'ámbito', 'organismo', 'Caudillo', 'vasallaje', 'atacar', 'cilindro', 'hotel', 'quedar', 'ex', 'compacto', 'complejo', 'deterioro', 'nodo', 'máximo', 'calado', 'publicar', 'doble', 'mejor', 'esquema', 'texto'}, 13: {'single', 'salto', 'material', 'sitio', 'acuífero', 'mundo', 'citado', 'modo', 'metal', 'Gobierno', 'Volumen', 'rock', 'club', 'artículo', 'automóvil', 'órgano', 'saber', 'camino', 'respeto', 'recorrido', 'tono', 'negocio', 'público', 'principio', 'enfrentamiento', 'Beagle', 'mausoleo', 'griego', 'hospital', 'Arsenal', 'diario', 'arquitecto', 'mal', 'término', 'alquiler', 'Hombre', 'beso', 'corazón', 'comercio', 'proyecto', 'capullo', 'circunstancia', 'sexo', 'equilibrio', 'bar', 'operativo', 'laboratorio', 'espectáculo', 'truco', 'periodista', 'delito', 'teclado', 'éxito', 'torrente', 'cómic', 'chileno', 'historiador', 'miocardio', 'cañón', 'disco', 'Sur', 'poema', 'músico', 'fuego', 'mercado', 'pensamiento', 'trabajo', 'atentado', 'jesuita', 'lugar', 'coche', 'odio', 'castellano', 'Sol', 'planeta', 'cuerpo', 'ratón', 'finalizar', 'conocimiento', 'transporte', 'bebé', 'acabado', 'crucero', 'celoso', 'cargo', 'oeste', 'clan', 'Ecuador', 'aire', 'cine', 'autor', 'funcionamiento', 'paso', 'capitán', 'Ser', 'doctor', 'muñeco', 'caos', 'documental', 'secundario', 'cielo', 'arte', 'interior', 'País', 'Juez', 'placer', 'vigor', 'asesinar', 'consumo', 'chico', 'Canal', 'candidato', 'líder', 'motor', 'idioma', 'estómago', 'vaso', 'congresista', 'frente', 'cabo', 'círculo', 'Renacimiento', 'futuro', 'trofeo', 'rió', 'defecto', 'recibir', 'pertenecía', 'país', 'talento', 'tren', 'barrio', 'barco', 'deporte', 'precepto', 'meteoro', 'software', 'concierto', 'escape', 'pasado', 'infierno', 'relato', 'año', 'impresor', 'puerto', 'igual', 'alemán', 'asedio', 'contexto', 'Decreto', 'Coro', 'combate', 'hardware', 'temido', 'afirmar', 'día', 'regalo', 'predicado', 'pueblo', 'demonio', 'suelo', 'tiempo', 'médico', 'presente', 'latín', 'gato', 'amor', 'gas', 'puesto', 'primero', 'colegio', 'dobles', 'vendedor', 'género', 'glaciar', 'destino'}, 24: {'Tlaltizapán', 'Bitch', 'si', 'galardonado', 'storyboard', 'Arpad', 'ECU', 'Andes', 'tras', 'Vogue', 'computadora', 'Ducke', 'I', 'tabbys', 'disputarón', 'Quién', 'Santos', 'It', 'á', 'retransmisión', 'recursive', 'aquí', 'kami', 'Cinco', 'usted', 'ben', 'cuerdo', 'Xtone', 'Honorificado', 'into', 'III', 'concreto', 'Murcia', 'Power', 'circa', 'algorithm', 'Inglaterra', 'vintage', 'Aprilia', 'GMT', 'igualmente', 'cherry', 'Opera', 'Harms', 'ai', 'Angel', 'Delcourt', 'Fighting', 'K', 'chicana', 'internet', 'cerro', 'by', 'Praga', 'filling', 'Japón', 'franja', 'equipped', 'Villamartín', 'ESP', 'Neopolis', 'additional', 'géographique', 'architecture', 'boludas', 'fabes', 'matches', 'Nicaragua', 'life', 'estellas', 'Londres', 'Bischoff', 'nuevamente', 'Uruguay', 'Gardelito', 'Proceedings', 'vinculación', 'halla', 'Kansas', 'Ibanez', 'asignatura', 'Jesse', 'abajo', 'John', 'music', 'add', 'et', 'Vogel', 'allegretto', 'Norteamérica', 'Toay', 'tremolo', 'cordobés', 'Salamanca', 'tarde', 'allows', 'quién', 'Kim', 'looping', 'Philip', 'Sinaloa', 'Way', 'Song', 'Tucumán', 'actualmente', 'Patri', 'anteriormente', 'longer', 'Matulic', 'Too', 'Filipinas', 'allegro', 'Fran', 'Japon', 'casi', 'miniserie', 'Feel', 'conforman', 'Stones', 'explicitly', 'Ichigo', 'and', 'Madrid', 'Espargaró', 'goles', 'vie', 'collección', 'Suecia', 'store', 'COIFE', 'Wanda', 'Hofner', 'kompa', 'scanline', 'Francia', 'Beware', 'version', 'Cross', 'Timmy', 'glicentina', 'bastantes', 'bonaerense', 'und', 'it', 'lavaderos', 'until', 'Short', 'Luxemburgo', 'nella', 'mas', 'up', 'future', 'Tolanos', 'TAC', 'Buffyverso', 'Chipre', 'west', 'taylorii', 'Suiza', 'Ciara', 'Viena', 'Sevilla', 'Alemania', 'Drusilla', 'white', 'NJ', 'Darla', 'Basilea', 'from', 'setenta', 'Barcelona', 'end', 'Brookes', 'Grecia', 'Teaser', 'O', 'You', 'Mint', 'stack', 'además', 'region', 'Sloan', 'Hour', 'Arf', 'Antioquia', 'Wesley', 'Jane', 'Sephardim', 'for', 'tabique', 'éstos', 'Fantasio', 'south', 'Hamburgo', 'Signature', 'used', 'reelegibles', 'Italia', 'anegadiza', 'Q', 'acerca', 'Cyniclones', 'neue', 'fill', 'Keep', 'posiblemente', 'entonces', 'not', 'Patagonia', 'Allegretto', 'navíos', 'laudo', 'Schoppen', 'Hawaii', 'cover', 'element', 'concretamente', 'vihuela', 'París', 'realmente', 'kurii', 'Estados', 'incluso', 'aparentemente', 'Sardar', 'FARC', 'vano', 'aún', 'responsorio', 'Together', 'Faline', 'Sports', 'jo', 'sólo', 'adscrita', 'Roma', 'pro', 'Alabama', 'Hell', 'Casalincontrada', 'Floride', 'Pharrell', 'minería', 'UTC', 'on', 'Fjöllum', 'desempeñó', 'information', 'Copenhague', 'Mix', 'editada', 'antiguamente', 'reazionario', 'OEA', 'Journal', 'toda', 'where', 'Céspedes', 'empty', 'national', 'is', 'alguien', 'Groove', 'Dinamarca', 'hab', 'comarca', 'tienda', 'Nominado', 'or', 'Haarlem', 'that', 'Atlanta', 'east', 'NBA', 'Music', 'each', 'Beverly', 'Chaos', 'von', 'which', 'ARNm', 'vihuelistas', 'Tennessee', 'Milán', 'array', 'metadata', 'Internet', 'implementation', 'flood', 'quizás', 'muchas', 'Valenzuela', 'Freunde', 'Munich', 'blog', 'Tokio', 'EMD', 'Gowen', 'Kirtland', 'Australia', 'recientemente', 'enterprise', 'ello', 'Castalia', 'north', 'Äbbelwoi', 'justamente', 'Newcastle', 'actuadores', 'Remix', 'todavía', 'Arequipa', 'pixels', 'Arguru', 'picado', 'x', 'Cowan', 'this', 'Stuttgart', 'run', 'msnm', 'u', 'David', 'tantos', 'anfitrión', 'Omoc', 'Apfelwein', 'guitar', 'Dupuis', 'Arts', 'des', 'allí', 'Reykjavík', 'aunque', 'Spike', 'Kalango', 'gol', 'Egipto', 'omnia', 'Magic', 'Ebbelwei', 'Malevo', 'LTD', 'Honda', 'Jumpin', 'jamás', 'editó', 'Giglio', 'Sophomores', 'Pai', 'Orlando', 'Old', 'Huber', 'Galicia', 'Bambi', 'Contratierra', 'Paul', 'ga', 'Morelos', 'pocos', 'mira'}, 12: {'embalsado', 'resultando', 'basados', 'repetidas', 'extranjero', 'analógico', 'localizado', 'cubana', 'disminuye', 'bajas', 'toca', 'interesados', 'Huerta', 'muriendo', 'básica', 'almacenados', 'viven', 'publicado', 'permanente', 'ubicado', 'disponible', 'secuestrada', 'permanecer', 'ofrecía', 'variado', 'laterales', 'debido', 'existente', 'secundarios', 'aparecieron', 'poetas', 'masculina', 'división', 'fundamentales', 'artesanal', 'ubicados', 'Grande', 'generó', 'especializado', 'rojo', 'prisionero', 'cantando', 'estadía', 'discurrió', 'expertos', 'abandonada', 'manchas', 'residuos', 'intervinieron', 'contiguos', 'peligros', 'termino', 'prevaleció', 'refugio', 'electoral', 'brillantes', 'científicas', 'ubicada', 'ocurridos', 'establecida', 'compitió', 'creadas', 'aplicado', 'clínica', 'educativo', 'implicado', 'extranjera', 'ruso', 'basado', 'avanzar', 'decisiva', 'aumentó', 'hallazgos', 'viajes', 'astronómica', 'desarrollados', 'podio', 'gobernar', 'enterrados', 'triste', 'debutar', 'posar', 'portátil', 'clasificado', 'sepultado', 'neozelandés', 'viviendo', 'científicos', 'automáticos', 'fabricados', 'inspirada', 'romana', 'trabajando', 'presentes', 'anónima', 'realizada', 'entrenado', 'rematado', 'convertido', 'compite', 'enterrado', 'situada', 'permanecen', 'agrícolas', 'ubicadas', 'centrales', 'indio', 'neutral', 'incluido', 'breves', 'convertida', 'orígenes', 'consecutivo', 'planetaria', 'dividida', 'fijada', 'explorado', 'División', 'pionero', 'establecido', 'encerrada', 'introducir', 'tercero', 'preclasificado', 'invirtiendo', 'Monumento', 'iniciada', 'ocurrió', 'situado', 'fechado', 'aisladas', 'sudamericanos', 'citada', 'francesa', 'satélite'}, 37: {'tercer', 'segunda', 'tercera'}, 36: {'digital', 'acompañado', 'dossiers', 'artístico', 'variable', 'instrumentales', 'archipiélagos', 'electrónicos', 'cultural', 'legal', 'constitucional', 'alfa', 'proviene', 'argentina', 'pastor', 'satelitales', 'aventuras', 'sudoeste', 'artística', 'ora', 'agregados', 'rival', 'subcampeón', 'nominada', 'recuerdos', 'cuadrada', 'científico', 'tecnológicos', 'triangular', 'experimental', 'auxiliar', 'nativas', 'militares', 'delantera', 'etapa', 'inicial', 'luchador', 'docente', 'autónoma', 'inferiores', 'L', 'completa', 'económica', 'australiano', 'tratamiento', 'dorados', 'acompañada', 'singular', 'necesita', 'corrientes', 'mineral', 'argentinas', 'detallada', 'saladas', 'ronda', 'comisaría', 'central', 'histórico', 'coloración', 'copia', 'calidad', 'perdida', 'exacta', 'musical', 'moral', 'alguno', 'interno', 'incorporación', 'parlamentario', 'imaginación', 'espacial', 'mexicanos', 'elemental', 'asiento', 'considerable', 'vestido', 'comunes', 'arqueológicas', 'contemporánea', 'ejemplos', 'original', 'médicas', 'suave', 'metropolitana', 'trasera', 'derivada', 'estatales', 'intermedio', 'comercial', 'asustado', 'marinas', 'entero', 'minas', 'capaces', 'goreana', 'municipal', 'costera', 'regular', 'trenes', 'meridional', 'mexicano', 'vientos', 'prisionera', 'funcional', 'separado', 'capitulares', 'aumenta', 'tratos', 'endémica', 'colombiana', 'medieval', 'romano', 'maravillas', 'finaliza', 'académica', 'rodeado', 'clave', 'naturales', 'técnicos', 'arquitectónico', 'blanca', 'diplomáticas', 'imposible', 'territorial', 'presidencial', 'originales', 'interna', 'partidario', 'formales', 'canadiense', 'liberal', 'definitivo', 'inmediata', 'masiva', 'desconocida', 'volúmenes', 'profesionales', 'sacra', 'morales', 'indicación', 'editor', 'judicial', 'vómitos', 'claro', 'exponentes', 'negras', 'pública', 'ejes', 'reconocidos', 'web', 'tailandés', 'japonesa', 'sueltas', 'botánica', 'interino', 'saben', 'cargos', 'amurallado', 'europea', 'provienen', 'septentrional', 'libre', 'restaurada', 'estelar', 'coste', 'botánico', 'sabido', 'consecutivos', 'oficial', 'típico', 'académico', 'mensual', 'críticas', 'profeta', 'políticos', 'ficticio', 'protegidas', 'solicitado', 'dependiendo', 'activa', 'técnico', 'rural', 'capaz', 'característico', 'rico', 'hecha', 'catalán', 'emanadas', 'abierto', 'negra', 'culturales', 'corriente', 'sospechosos', 'anual', 'aprendido', 'eliminados', 'fundamental', 'entradas', 'materna', 'conceptual', 'sacar', 'surgido', 'roja', 'clasificatoria', 'inéditas', 'celulares', 'tradicionales', 'política', 'encargado', 'fruto', 'salieron', 'afluentes', 'alemana', 'profana', 'simples', 'básicos', 'trataron', 'básico', 'multitud', 'fluvial', 'deportivo', 'rodeada', 'tridimensional', 'electrónica', 'dependerá', 'recta', 'natural', 'arqueológico', 'bajan', 'diplomática', 'gaditana', 'barroco', 'mackerel', 'colombiano', 'variedad', 'sostenible'}, 69: {'miedo', 'pertenece', 'va', 'comienza', 'Proceso', 'paralelas', 'envió', 'iba', 'derrotar', 'accediendo', 'agregado', 'comienzan', 'acceder', 'corresponden', 'ingresó', 'volvió', 'tiende', 'volvieron', 'franco', 'expulsar', 'viajó', 'localizada', 'detalles', 'aplicó', 'daño', 'matar', 'ayudaron', 'regresan', 'cercanas', 'afición', 'empezó', 'esperar', 'mataron', 'sultán', 'buscan', 'unión', 'tributo', 'satisfacer', 'plata', 'renunció', 'vienen', 'pasa', 'enseña', 'ingresa', 'perpendicular', 'proceder', 'entrar', 'llegaron', 'llegar', 'entrenó', 'ingresar', 'envía', 'pertenecen', 'recibía', 'ayudar', 'colocó', 'recomendando', 'empieza', 'inferior', 'agresión', 'regresaría', 'comenzaron', 'correspondientes', 'informan', 'asciende', 'encontramos', 'aprende', 'llegó', 'entra', 'limita', 'relacionada', 'acuerdo', 'llevó', 'interpretó', 'ataca', 'rescatar', 'comenzó', 'sustituyó', 'cubrió', 'ordenó', 'ejecutar', 'homenaje', 'ducados', 'volver', 'retornó', 'parar', 'vaya', 'ciervo', 'izquierda', 'mató', 'injurias', 'salvar', 'dirige', 'contrató', 'dicen', 'viaje', 'viaja', 'dejando', 'consume', 'representó', 'asistir', 'lleno', 'entregó', 'trasladado', 'encontraremos', 'viajan', 'capturar', 'ordena', 'aceptando', 'conoció', 'encierra', 'entregar', 'regresa', 'contrario', 'aprender', 'regresó', 'corresponde', 'preguntó', 'llano', 'solista', 'procedió', 'invita', 'rechazó', 'comunicando', 'mata', 'instrucción', 'acoge', 'referencia', 'villancicos', 'derrotó', 'pasó', 'zarista', 'matando', 'llega', 'regresar', 'empezando', 'dieron', 'presentó', 'vamos', 'volvería', 'regresando', 'llorando', 'derrotan', 'narra', 'llegando', 'ayudó', 'llevan', 'contribuyó', 'cargadores', 'renunciar', 'ecuatorianos', 'perseguir', 'vuelve', 'abandonó', 'conduce', 'californianos', 'fotográfico', 'Introducción'}, 44: {'desear', 'marchar', 'introduciendo', 'limar', 'ir', 'superar', 'girar', 'marcar', 'imponer', 'traducir', 'viendo', 'confundir', 'alcanzar', 'intercomunicación', 'alquilar', 'manejar', 'trasladar', 'mostrando', 'basando', 'presentar', 'lanzar', 'pensar', 'astronómico', 'centrando', 'Quijote', 'inaugurando', 'proclamar', 'diseñar', 'rendir', 'declarar', 'retirar', 'mudar', 'ajustar', 'lambda', 'concretar', 'sindical', 'enfrentando', 'hablar', 'considerar', 'convertir', 'referir', 'elegir', 'apreciar', 'despertar', 'internar', 'instalar', 'procesar', 'robar', 'vea', 'disputar', 'atravesar', 'someter', 'mencionado', 'rastro', 'interpretando', 'despedir', 'ejecutando', 'convirtiendo', 'ver', 'excepciones', 'obtener', 'actuar', 'produciendo', 'enfrentar'}, 48: {'otorgan', 'luchan', 'llenó', 'esclavizan', 'indica', 'lidera', 'poseen', 'constituyen', 'relatan', 'da', 'alcanzan', 'requieren', 'ofrecen', 'ejerció', 'veía', 'aspiraban', 'quieren', 'ocupó', 'valen', 'cruzar', 'perteneció', 'consideraba', 'vierten', 'hacía', 'enviaría', 'dan', 'separan', 'afectaron', 'formaban', 'protagoniza', 'sirve', 'otorgaba', 'huir', 'operan', 'presentan', 'destruyó', 'vendió', 'describen', 'supone', 'llegue', 'ocurren', 'posea', 'deje', 'atravesando', 'gobiernan', 'calificaron', 'sucedió', 'desaparece', 'hagan', 'perdió', 'continúa', 'inauguraron', 'alberga', 'constituyó', 'descienden', 'quedaba', 'rellenar', 'poseía', 'servía', 'presentaba', 'controla', 'falleció', 'mide', 'incorpora', 'bailar', 'tomaron', 'supuso', 'alcanzó', 'relata', 'demuestra', 'comunicaba', 'dará', 'soporta', 'significa', 'sube', 'presentaban', 'conlleva', 'detuvo', 'transcurre', 'partiendo', 'comunica', 'puso', 'sufren', 'consiguió', 'posee', 'desaguan', 'graban', 'existen', 'consiguieron', 'compuso', 'buscaba', 'influir', 'confía', 'requiere'}, 63: {'disparar', 'compartir', 'designar', 'operar', 'transformar', 'clasificar', 'reemplazar', 'sufrir', 'tomar', 'beber', 'establecer', 'eliminar', 'describir', 'apoyar', 'luchar', 'buscar', 'realizar', 'conquistar', 'pagar', 'proteger', 'vivir', 'abandonar', 'proporcionar', 'consultar', 'emitir', 'sustituir', 'evitar', 'pelear', 'ocupar', 'funcionar', 'revisar', 'visitar', 'alinear', 'reorientar', 'menudo', 'sostener', 'producir', 'adjudicar', 'unir', 'educar', 'filmar', 'financiar', 'recuperar', 'crear', 'iniciar', 'entender', 'resolver', 'desarrollar', 'ser', 'jugar', 'conseguir', 'dar', 'escribir', 'determinar', 'lograr', 'restaurar', 'continuación', 'viajar', 'tocar', 'representar', 'investigar', 'proveer', 'cumplir', 'seguir', 'competir', 'mantener', 'colaborar', 'construir', 'dirigir', 'trabajar', 'expandir', 'estudiar', 'promover', 'pilotar', 'reunir', 'controlar', 'celebrar', 'reducir', 'seleccionar', 'hacer', 'prevenir', 'abrir', 'aceptar', 'dominar', 'piano', 'descubrir', 'erigir', 'dedicar', 'destruir', 'servir'}, 62: {'Lamentablemente', 'Lugares', 'Hasta', 'Bancos', 'Actividades', 'Bajo', 'Institut', 'Bust', 'Lost', 'Dorian', 'Enterprise', 'González', 'Cuando', 'Move', 'Pero', 'Títulos', 'Lo', 'Tras', 'Sólo', 'Nunca', 'Uno', 'Monumentos', 'Jelo', 'Desde', 'Anualmente', 'De', 'Aunque', 'Con', 'Ante', 'The', 'Kaskade', 'Entonces', 'Juntos', 'Visiones', 'Reacciones', 'Inicialmente', 'SummerSlam', 'Para', 'Spanish', 'Sobre', 'Luisa', 'Ya', 'Aquí', 'Después', 'Artemis', 'For', 'Por', 'Add', 'Finalmente', 'Peabody', 'Mellefresh', 'com', 'Según', 'Aun', 'Además', 'Danzós', 'Tiberio', 'Ahora', 'Svartifoss', 'Históricamente', 'Normalmente', 'Individuales', 'Así', 'Más', 'MEC', 'Todas', 'Publicaciones', 'Muy', 'º', 'Carr', 'Igualmente', 'net', 'Novedades', 'Frida', 'Y', 'Boston', 'If', 'INSEE', 'Entre', 'Tanto', 'Como', 'Luego', 'Hoy', 'Editado', 'Continue', 'Glossa', 'Teletrak', 'Posteriormente', 'Que', 'org', 'Malmea'}, 43: {'Dos', 'Imation', 'Estos', 'Esa', 'Ellos', 'Muchas', 'ar', 'Actualmente', 'Quien', 'Krafla', 'Éste', 'EL', 'Sus', 'Cousas', 'Allí', 'Otra', 'Ésta', 'Algunas', 'UltraStar', 'Unos', 'Éstas', 'Asimismo', 'Generalmente', 'Ese', 'Nuncarga', 'Un', 'Pocos', 'Caverzaschi', 'Una', 'Estas', 'Campeonatos', 'Cada', 'Nuevamente', 'Varias', 'Segunda', 'Boatwright', 'Distinciones', 'Cualquier', 'Anteriormente', 'Otro', 'Su', 'Esto'}, 11: {'Prestissimo', 'attabi', 'feat', 'Intérpretes', 'appassionato', 'fingerboard', 'LCD', 'PP', 'Justice', 'ROLAP', 'Roa', 'Hidalgo', 'nueve', 'Queen', 'Santiago', 'Academias', 'WAV', 'Nápoles', 'Venezuela', 'demócrata', 'CBA', 'p', 'Balances', 'St', 'respectivamente', 'Indonesia', 'BBC', 'Videojuegos', 'one', 'antioqueña', 'TI', 'Weißenstein', 'Tollan', 'Lobos', 'list', 'estudiantina', 'Gibson', 'cosianos', 'Stripped', 'Indochina', 'PCB', 'afuera', 'Joe', 'Levante', 'n', 'India', 'Arancibia', 'Atoyac', 'CPU', 'desambiguación', 'Pennsylvania', 'Berlin', 'pinjantes', 'Premios', 'Robocannon', 'Sunnydale', 'Fighters', 'Michigan', 'Escocia', 'Sáenz', 'Torres', 'paradójicamente', 'trailers', 'Curiosidades', 'viceversa', 'incas', 'bando', 'Plasencia', 'implementations', 'Arminio', 'Kong', 'exhausted', 'Granderroble', 'maps', 'lines', 'Caquetá', 'Lincoln', 'gobernación', 'Knoxville', 'Medicine', 'vivace', 'Finlandia', 'Vain', 'Grazioso', 'Irlanda', 'Clarkston', 'EEUU', 'espantá', 'Fechas', 'dentro', 'Guaviare', 'queue', 'Tarragona', 'Altair', 'return', 'IRAS', 'WNBA', 'palatizadas', 'miliones', 'implicitly', 'top', 'rías', 'Andalucía', 'California', 'XVI', 'Roy', 'hamburguesería', 'CONMEBOL', 'programables', 'Lekeitio', 'Valderrábano', 'habaneras', 'Cazadoras', 'Missouri', 'España', 'Presentadores', 'castellanos', 'lejos', 'Equipos', 'Cazavampiros', 'Cortes', 'Benth', 'ENDOFARTICLE', 'forestales', 'Tokyo', 'pickups', 'Lic', 'SkycraperPage', 'preferentemente', 'Megadeth', 'CART', 'Sheffield', 'musicología', 'Renaissance', 'Narim', 'Sencillos', 'Alhambra', 'maravedíes', 'Iztaccíhuatl', 'dolares', 'asi', 'Aubl', 'Padua', 'Hungría', 'Empire', 'Hollywood', 'Bélgica'}, 54: {'concedidos', 'diputado', 'caer', 'facilitar', 'indicó', 'otorgado', 'formada', 'conocieron', 'coros', 'referido', 'sumó', 'siendo', 'CAN', 'encarcelado', 'alcanzando', 'llamada', 'do', 'afectada', 'Largo', 'comprimido', 'artículos', 'dirigida', 'afirman', 'duró', 'añadir', 'privado', 'construidos', 'terminan', 'democrático', 'derecha', 'alcanzado', 'cosa', 'agregando', 'desarrollada', 'vuela', 'reciben', 'interpretado', 'dando', 'titulado', 'separadas', 'perdieron', 'jurídica', 'perdiendo', 'desarrollan', 'dictar', 'belleza', 'Institución', 'consolidar', 'compuestos', 'guardaespaldas', 'producciones', 'eléctrico', 'versiones', 'disputada', 'invadir', 'pierde', 'esculturas', 'contacto', 'interpretada', 'ganando', 'popular', 'alumno', 'ceremonias', 'famosa', 'justo', 'gravedad', 'importancia', 'anunció', 'abarca', 'amiga', 'Ayuda', 'juntas', 'acantilados', 'avanzaron', 'ocuparon', 'propuso', 'monumental', 'elevado', 'noticia', 'explotar', 'tejedora', 'real', 'campeonatos', 'cosecha', 'anime', 'asume', 'tomaba', 'genera', 'japonés', 'cae', 'denominada', 'acreditar', 'aportaron', 'oponentes', 'be', 'producida', 'especialidades', 'ocupa', 'buscando', 'ficha', 'roto', 'formado', 'w', 'fichó', 'infantil', 'conocido', 'iniciaba', 'sufrió', 'cortos', 'comenzando', 'estimado', 'escrita', 'Segundo', 'implica', 'formando', 'Eclipse', 'eslavo', 'recursos', 'an', 'Lanzado', 'titulada', 'Dulce', 'agente', 'capillas', 'ambigua', 'útil', 'mes', 'evitando', 'diseñados', 'conocida', 'nº', 'alternando', 'restos', 'adicionales', 'logrando', 'jugaba', 'inteligentes', 'lugares', 'temporada', 'muere', 'avanzada', 'coloniales', 'Carismático', 'flash', 'antiguas', 'privadas', 'perdido', 'señor', 'británico', 'funciona', 'nacido', 'causando', 'ocupadas', 'comprendió', 'Valencia', 'suprime', 'tener', 'Coordinador', 'especial', 'Fox', 'alcanza', 'promedió', 'enemigos', 'reglas', 'amenazaba', 'provoca', 'existentes', 'avispas', 'hablando', 'gaviotas', 'Sonata', 'aceptó', 'determinada', 'extranjeras', 'siguiendo', 'G', 'rebotes', 'protector', 'determina', 'ampliar', 'bárbara', 'descritos', 'turístico', 'traductor', 'manteniendo', 'jugando', 'parecen', 'ma', 'circular', 'musicales', 'peleas', 'temían', 'rechazar', 'aviones', 'soportar', 'golpear', 'afectadas', 'constituida', 'ocupan', 'concluye', 'negro', 'murieron', 'iniciando', 'perder', 'principal', 'afirmando', 'oferta', 'sabor', 'logo', 'conocer', 'marcó', 'decidir', 'interesante', 'estrellas', 'preocupado', 'redactado', 'optó', 'aprovechó', 'incursiones', 'denominado', 'aprovechando', 'abreviado', 'sufriendo', 'señalar', 'obteniendo', 'anterior', 'cerrada', 'introduce', 'individual', 'declara', 'pilotando', 'chica'}, 17: {'esencia', 'provincia', 'rectoría', 'cara', 'acumulación', 'mitad', 'presión', 'pérdida', 'adición', 'terraza', 'pretensión', 'transcripción', 'transformación', 'promoción', 'crueldad', 'lengua', 'ejecución', 'sombra', 'parroquia', 'camiseta', 'muerte', 'consciente', 'caleta', 'isla', 'utilización', 'fama', 'presencia', 'bomba', 'programación', 'traducción', 'sidra', 'Francisca', 'representación', 'existencia', 'responsable', 'masacre', 'llegada', 'noche', 'inclusión', 'aparición', 'publicación', 'ciudad', 'cumbre', 'anfitriona', 'denominación', 'década', 'secreción', 'atención', 'caída', 'resolución', 'idea', 'ayuda', 'mascota', 'mayoría', 'administración', 'excelencia', 'casta', 'cabecera', 'restauración', 'difusión', 'foto', 'derrota', 'colección', 'oportunidad', 'infancia', 'expresión', 'creación', 'influencia', 'capital', 'línea', 'práctica', 'ironía', 'crecida', 'nota', 'afluencia', 'escuela', 'confluencia', 'medalla', 'venta', 'resistencia', 'narrativa', 'sal', 'arquitectura', 'imagen', 'reunión', 'evolución', 'recepción', 'conexión', 'reforma', 'falta', 'tesis', 'fecha', 'participación', 'capacidad', 'búsqueda', 'columna', 'estrategia', 'sorpresa', 'rendición', 'intención', 'singularidad', 'cabeza', 'ceremonia', 'prueba', 'persecución', 'sierra', 'diocesis', 'cima', 'conquista', 'totalidad', 'bahía', 'legislación', 'adicción', 'presidencia', 'salida', 'opción', 'oposición', 'serie', 'pasión', 'Generación', 'final', 'particularidad', 'iniciación', 'categoría', 'Administración', 'integración', 'declaración', 'compilación', 'habilidad', 'compra', 'necesidad', 'clase', 'dedicación', 'abundancia', 'proliferación', 'emoción', 'expulsión', 'presentación', 'entrega', 'constelación', 'misa', 'posibilidad', 'catedral', 'medida', 'niñera', 'delegación', 'descripción', 'realización', 'sobreviviente', 'enseñanza', 'masa', 'orden', 'aldea', 'renuncia', 'región', 'conclusión', 'memoria', 'revisión', 'celebración', 'Luna', 'pendiente', 'tarea', 'aceptación', 'desembocadura', 'cátedra', 'atmósfera', 'cantidad', 'leyenda', 'evacuación', 'cobertura', 'huella', 'candidatura', 'producción', 'favorita', 'historia', 'portada', 'quiebra', 'localidad', 'máxima', 'doctrina', 'campaña', 'ira', 'autenticidad', 'autora', 'epidemia', 'ocupación', 'fusión', 'obligación', 'ganadora', 'decisión', 'altura', 'combinación', 'hija', 'liberación', 'plaza'}, 32: {'Bachelor', 'Envigado', 'Sheila', 'Xen', 'Liechtenstein', 'Mozart', 'Steinsel', 'Tlalpan', 'Wimbledon', 'Tepeaca', 'Vaduz', 'Nävis', 'Merlin', 'cien', 'Talena', 'indie', 'montura', 'Elinor', 'Sollano', 'Galway', 'Valparaíso', 'Cambridge', 'Debian', 'famille', 'Mývatn', 'Cristo', 'Zamora', 'Paide', 'Oxford', 'Colombia', 'Järvamaa', 'Merindades', 'obrar', 'Rusia', 'Reyes', 'Florida', 'Arwad', 'Mendoza', 'Reinosa', 'Navidad', 'Ancerville', 'Guadalajara', 'Asturias', 'supervivencia', 'Chevalier', 'Múnich', 'Zantetsu', 'Ruad', 'Estonia', 'Augsburgo', 'Gourgues', 'Algeciras', 'Shakespeare', 'Tipperary', 'Tortosa', 'Pantaleón', 'Drôme', 'ahí', 'Puebla', 'Daytona', 'Serita', 'Lorena', 'Peramola', 'éstas', 'éste', 'cómo', 'replantear', 'Smith', 'varios', 'Sirius', 'África', 'Galveston', 'América', 'veinte', 'Jujuy', 'Lafuente', 'Cillaperlata', 'Merlo', 'Medellín', 'Monterrey', 'realengo', 'Quintueles', 'inconstitucionalidad', 'Oviedo', 'Lorca', 'México', 'Serbia', 'aproximadamente', 'Utah', 'Järva', 'aquél', 'todas', 'Laura', 'heavy', 'Cheshire', 'Madonna', 'Torrevieja', 'Manila', 'escriba', 'France', 'Ar', 'Villarcayo', 'Luisiana', 'Álamos', 'centrodelantero', 'Geras', 'Alamos', 'Siria', 'Inmarsat', 'posgrado', 'Cheste', 'Olivares', 'Berberana', 'Kosovo', 'Atoyatempan', 'Dallas', 'Stereolab', 'Ebbelwoi', 'Gijón', 'ésta', 'Antofagasta', 'Letonia', 'pregrado', 'Malvinas', 'Tepeji', 'Islandia', 'Montebourg', 'Vancouver', 'Downingtown', 'Castelao', 'Metallica', 'Benavente', 'Nico', 'Pylea', 'Buitrago', 'Cataluña', 'Matanzas', 'Toledo', 'Asia', 'Miraflores', 'Gales', 'Livonia', 'Leeds', 'treinta', 'Stenay', 'Martínez', 'Belfast', 'Schwarzenegger', 'Reykjahlíð', 'dirimir', 'Gor', 'Mosa', 'Bristol', 'Ohio', 'Germania', 'Henan', 'Canadá', 'sendas', 'Vásquez', 'Estocolmo', 'Burgos', 'Manchester', 'Neuquén', 'Hesse', 'Shorty', 'hip', 'Nintendo'}, 5: {'Popayán', 'Cosmo', 'Christchurch', 'Santander', 'Paraguay', 'catedrático', 'Europa', 'Nightwish', 'DVDs', 'Justified', 'Riga', 'Bilbao', 'Coig', 'Brasil', 'Street', 'apasionada', 'Salta', 'Castilla', 'NCAA', 'Connemara', 'Misiones', 'Corrientes', 'Timberlake', 'Commercy', 'singles', 'Höfn', 'FM', 'Vesoul', 'Cowdery', 'Bajoquinto', 'caudalosos', 'Luke', 'Deportes', 'Bismarck', 'Lure', 'Lille', 'Pornocorridos', 'Formosa', 'Pärnu', 'Zacarías', 'Cervantes', 'Dunkerque', 'Marlenus', 'Verdun', 'Zúñiga', 'repechaje', 'Campoy', 'DVD', 'Arphad', 'Die', 'Alicante', 'Templars', 'dungan', 'perdidas', 'Ross', 'patagónicos', 'Tartu', 'Catamarca', 'Sita', 'casetones', 'Fabolous', 'Zaragoza', 'Marengo', 'Douai', 'Relloso', 'Albania', 'Glasgow', 'Pepe', 'Hereveri', 'Villaviciosa', 'Steve', 'Rhyno', 'mediocampista', 'Türi', 'Rosello', 'Badajoz', 'transistorizado', 'Oz', 'Vaupés', 'Perú', 'Bogotá', 'Canciones', 'Durango', 'Birmingham', 'Lillo', 'cerros', 'Huila', 'Mannheim', 'China', 'Jorgen', 'Chaco', 'Hulagu', 'esteros', 'Washington', 'Flores', 'WMA', 'Acadia', 'Talladega', 'Phoenixville', 'Maxwell'}, 3: {'ratas', 'relacionadas', 'tratando', 'coordinación', 'licencia', 'obtenida', 'compartido', 'frenado', 'plataformas', 'contar', 'cuentan', 'contaba', 'mezcladas', 'cirílico', 'terminaron', 'colabora', 'coincidió', 'firmó', 'comunicar', 'irregulares', 'decoradas', 'hechizo', 'termina', 'organizada', 'decorados', 'desacuerdo', 'cuenta', 'casado', 'activos', 'contó', 'angular', 'matrimonio', 'comenzada', 'tropezó', 'presionando', 'equipado', 'corrió', 'presas', 'normas', 'Manicomio', 'relacionado', 'Cuidado', 'viajando', 'conecta', 'obsesionado'}, 15: {'registros', 'valles', 'miembros', 'valores', 'representantes', 'acordes', 'informativos', 'rincones', 'servicios', 'actos', 'equipos', 'muchachos', 'cárteles', 'derechos', 'puentes', 'sectores', 'sistemas', 'clubes', 'deseos', 'manuscritos', 'conjuntos', 'escritores', 'seguidores', 'campos', 'vecinos', 'volcanes', 'montes', 'fans', 'laboratorios', 'actores', 'motores', 'torneos', 'resultados', 'sacrificios', 'motivos', 'alumnos', 'maestros', 'municipios', 'tours', 'frutos', 'episodios', 'conciertos', 'teatros', 'créditos', 'territorios', 'altos', 'heridos', 'empleados', 'compositores', 'concurso', 'problemas', 'bits', 'personajes', 'intermedios', 'productores', 'ganadores', 'gastos', 'guiones', 'costes', 'esfuerzos', 'ingresos', 'glaciares', 'bienes', 'rudimentos', 'reglamentos', 'bosques', 'domingos', 'ríos', 'sentimientos', 'dispositivos', 'dichos', 'jinetes', 'nombres', 'hipódromos', 'chips', 'requerimientos', 'franceses', 'habitantes', 'terroristas', 'integrantes', 'irracionales', 'libros', 'tiempos', 'humanistas', 'museos', 'departamentos', 'líderes', 'estudios', 'intérpretes', 'mapas', 'guerreros', 'medios', 'planes', 'españoles', 'tratados', 'brazos', 'cantantes', 'barrios', 'duques', 'coches', 'vinos', 'inicios', 'géneros', 'delitos', 'productos', 'balcones'}, 23: {'comprar', 'ambas', 'célebres', 'cuartas'}, 79: {'manga', 'movimiento', 'alienígena', 'instituto', 'altar', 'ruido', 'precursor', 'tamarindo', 'Solar', 'bosque', 'usuario', 'restaurante', 'imperio', 'gobierno', 'paciente', 'cuarto', 'universo', 'secuestro', 'terrorismo', 'micrófono', 'relieve', 'informativo', 'sector', 'premio', 'océano', 'acelerador', 'intestino', 'folclore', 'desierto', 'río', 'continente', 'cómputo', 'estándar', 'diablo', 'golfo', 'conflicto', 'Himno', 'tránsito', 'bachiller', 'manuscrito', 'ascenso', 'terreno', 'vehículo', 'transepto', 'tango', 'surco', 'giro', 'instructor', 'espectador', 'botón', 'Estado', 'problema', 'campeonato', 'límite', 'ramal', 'parecer', 'periodismo', 'ejército', 'juego', 'permiso', 'sol', 'plantel', 'brazo', 'Ejército', 'castillo', 'asfalto', 'desastre', 'oponente', 'Vaso', 'paralelo', 'horizonte', 'compositor', 'Imperio', 'mar', 'décimo', 'legado', 'calendario', 'macizo', 'dúo', 'procedimiento', 'apfelwein', 'cervatillo', 'exilio', 'parque', 'reality', 'gatillo', 'páncreas', 'asentamiento', 'recinto', 'cementerio', 'lago', 'clima', 'propio', 'volante', 'arco', 'Búho', 'senador', 'quinto', 'obelisco', 'gabinete', 'adversario', 'estallar', 'bebe', 'seleccionado', 'coro', 'Maestro', 'hueso', 'monte', 'ring', 'tráfico', 'Oeste', 'suroeste', 'yacimiento', 'idealismo', 'palenque', 'rey'}, 31: {'Bermejo', 'Suir', 'aportaba', 'Paraná', 'Quinto', 'Weser', 'Vosk', 'Pilcomayo', 'Deseado', 'Jerea', 'Colorado', 'Chico', 'Salado', 'Amazonas', 'Desaguadero', 'Atuel', 'Curacó', 'Teuco', 'Coyle', 'Negro', 'Jökulsá', 'Tajo', 'Lozoya', 'Gallegos'}, 8: {'embajador', 'pusieron', 'convirtió', 'construyeron', 'suceden', 'secuelas', 'navegables', 'interesado', 'teología', 'ubican', 'fijó', 'imprime', 'incrementó', 'fusilado', 'fundaron', 'competidor', 'divide', 'trabaja', 'triunfos', 'nació', 'murió', 'establece', 'aparece', 'lisa', 'vive', 'convertiría', 'grabaciones', 'trayecto', 'tarda', 'nacen', 'emitió', 'convierte', 'corre', 'finalizando', 'trabajó', 'inspiró', 'constituye', 'inició', 'celebran', 'participaron', 'colocaron', 'almacena', 'realizaba', 'actúa', 'juega', 'quede', 'pantanos', 'Silvia', 'vierte', 'equivalente', 'colaboraciones', 'acabar', 'participa', 'entró', 'apareció', 'convirtieron', 'terminó', 'permaneció', 'ocurre', 'diversión', 'apariciones', 'finalizó', 'localiza', 'impacto', 'participó', 'contactos', 'tardó', 'participando', 'siguió', 'Arado', 'basadas', 'basada', 'vivía', 'vistas', 'publicados', 'vivió', 'familiares', 'inyectar', 'participar', 'nace', 'estrenada', 'aparecen', 'consiste', 'celebrado', 'fundó', 'aterrizó', 'Norte', 'vivieron', 'licenció', 'debutó', 'participan', 'sigue', 'operando', 'adentra', 'escritos', 'orientales', 'confirmó', 'Discurso', 'reconoce'}, 61: {'juegos', 'locales', 'circuitos', 'zumo', 'pruebas', 'permanentes', 'compromisos', 'niña', 'salir', 'paradas', 'financiamiento', 'lateral', 'sinónimo', 'cursos', 'total', 'función', 'cantón', 'aula', 'comienzos', 'películas', 'expresiones', 'aniversario', 'festivales', 'coordinador', 'Oficial', 'difícil', 'asesinato', 'miembro', 'trata', 'data', 'mesas', 'niveles', 'fase', 'apartado', 'descarga', 'mentor', 'habitante', 'representante', 'invitación', 'cuerpos', 'parte', 'atractivos', 'edición', 'tarjetas', 'minuto', 'danza', 'creadores', 'creador', 'periódico', 'cientos', 'Hombres', 'grande', 'adaptación', 'intrusos', 'red', 'huyendo', 'carreras', 'fuente', 'nsito', 'miles', 'sensación', 'parámetros', 'tipos', 'moderna', 'oriental', 'colecciones', 'inyección', 'obispo', 'instancias', 'Diseñador', 'fábrica', 'humedad', 'campeón', 'manchado', 'rango', 'rangos', 'hoja', 'personales', 'Casa', 'guerrero', 'óvalo', 'disfruta', 'ciclo', 'ermita', 'reducción', 'depende', 'morada', 'ideología', 'seguido', 'módulos', 'generaciones', 'arcos', 'intento', 'intentos', 'unanimidad', 'posesión', 'universidades', 'metros', 'despliegue', 'motivo', 'habla', 'nieto', 'fechas', 'Estilo', 'asesino', 'Recopilación', 'compañero', 'jugadora', 'orillas', 'ejemplo', 'afluente', 'flujo', 'variantes', 'investigadores', 'mediados', 'tomos', 'pelota', 'integrante', 'escuchado', 'millones', 'escapa', 'razones', 'caldo', 'socorro', 'generación', 'clubs', 'desventaja', 'finalista', 'beneficio', 'programas', 'par', 'bajado', 'retirado', 'fundadores', 'signo', 'recuperado', 'entera', 'grados', 'influencias', 'estudio', 'argumento', 'cuadros', 'modificación', 'elemento', 'esposa', 'estudiante', 'traducciones', 'novia', 'sucesor', 'batallones', 'típica', 'Junta', 'titular', 'Libro', 'marcos', 'aspectos', 'definir', 'salvajes', 'tendencia', 'colonia', 'cambiar', 'mapa', 'pilastras', 'aerolínea', 'fácil', 'ejecuta', 'transcripciones', 'maestro', 'jurisdicción', 'gusta', 'tratan', 'amante', 'copias', 'mediterránea', 'décadas', 'ráfaga', 'geográfica', 'medias', 'cerca', 'salas', 'consta', 'causa', 'finales', 'continuidad', 'monumentos', 'mina', 'brillante', 'ejemplares', 'hijo', 'departamento', 'estribos', 'vasos', 'disminución', 'gratuita', 'fines', 'largo', 'imágenes', 'protagonista', 'sensor', 'hermano', 'perfil', 'diagramas', 'occidentales', 'pináculos', 'condados', 'dependiente', 'disfrutar', 'tipo', 'distribución', 'aplicación', 'cuestiones', 'propiedad', 'esclava', 'ubicación', 'originaria', 'altas', 'viviendas', 'informado', 'esperanza', 'rector', 'inactivo', 'remix', 'cambia', 'Mujer', 'gobernador', 'completo', 'síntesis', 'socio', 'asesor', 'seguida', 'roca', 'principios', 'instintos', 'sustitución'}, 26: {'tabby', 'Ajusco', 'glucagón', 'Palermo', 'Rin', 'CEV', 'pololeo', 'TX', 'videoclip', 'cabildo', 'BDSM', 'mouse', 'Ulster', 'contravolante', 'Bronze', 'Apfelwine', 'subcampeonato', 'Putumayo', 'bus', 'baby', 'guerrillero', 'booklet', 'Aniceto', 'turbocompresor', 'SGC', 'Ungido', 'Groovetron', 'microcontrolador', 'shintoísmo', 'concejo', 'ADN', 'menos', 'Officium', 'Aconcagua', 'Ubar', 'QPR', 'Bebedero', 'Wilson', 'ENARM', 'Whirlwind', 'triatlón', 'SG', 'Shea', 'Misisipi', 'Memorial', 'derbi', 'ARN', 'Cuzco', 'Requiescant', 'F', 'interes', 'Kremlin', 'Pacífico', 'croata', 'Atlántico', 'pancreas', 'expresidente', 'rio', 'Ebro', 'ochenta', 'Cairo', 'XV', 'Mundial', 'PDP', 'mosto', 'Iberá', 'ninja', 'Fulham', 'MicroTAC', 'demo', 'Chelsea'}, 38: {'retablo', 'carácter', 'magia', 'bondad', 'granja', 'venganza', 'lento', 'curso', 'novio', 'estancia', 'sonata', 'protagonismo', 'fichaje', 'faceta', 'creencia', 'solicitud', 'madre', 'identidad', 'propia', 'lealtad', 'disfraz', 'abuelo', 'labor', 'salmo', 'mente', 'margen', 'trayectoria', 'junta', 'raza', 'cuádruple', 'peculiar', 'toque', 'lanzamiento', 'rostro', 'interpretación', 'tripulación', 'patria', 'ausencia', 'mortal', 'frágil', 'amada', 'voluntad', 'lesión', 'amo', 'carrera', 'mínima', 'marido', 'abuela', 'esposo', 'guarida', 'aventura', 'compartimiento', 'debut', 'prima', 'padre', 'encuentro', 'expansión', 'residencia', 'misión'}, 0: {'civil', 'alcance', 'Vidriera', 'remoto', 'argentinos', 'gigante', 'industrial', 'urbano', 'ecuatoriano', 'cambian', 'militar', 'económico', 'negros', 'mágico', 'humanitario', 'iguales', 'iris', 'reguladora', 'generada', 'toscano', 'marciales', 'habitado', 'recientes', 'tradicional', 'comprendido', 'baterías', 'contundente', 'sofisticados', 'mágicos', 'especiales', 'privada', 'huecos', 'renombre', 'biográficos', 'buenas', 'colombianas', 'comandadas', 'colectiva', 'cumpliendo', 'preparando', 'griega', 'históricos', 'leal', 'literaria', 'competentes', 'unitaria', 'decidieron', 'global', 'escuchar', 'verde', 'comandada', 'verdes', 'literarios', 'inglesa', 'geográfico', 'malo', 'formados', 'administrativos', 'regional', 'am', 'decretos', 'rectangular', 'inclinada', 'antártica', 'curvadas', 'benedictinas', 'españolas', 'legales', 'caramelos', 'cristianas', 'costeras', 'mental', 'aéreo', 'cautivo', 'directos', 'franciscana', 'numérico', 'fría', 'pornográficos', 'agrarias', 'poetisa', 'continental', 'postal', 'constancia', 'figuran', 'salpicada', 'velocidades', 'unitario', 'finlandesa', 'estratégicas', 'sonora', 'occidental', 'relevancia', 'numeral', 'diciendo', 'eléctricos', 'básicas', 'potable', 'magnitud', 'instantes', 'continuo', 'literario', 'álgebra', 'amarillo', 'necesarias', 'externa', 'automática', 'uruguayo', 'protagonizó', 'plana', 'previsto', 'paterno', 'públicos', 'deseado', 'gráfico', 'aseguran', 'juntos', 'caen', 'electrónico', 'excepcionales', 'germanas', 'alemanas', 'concéntricos', 'comerciales', 'monástico', 'teatral', 'egipcio', 'independientes', 'bemol', 'nocturno', 'formal', 'naval', 'tribal', 'italianos', 'dominica', 'artificiales', 'viviente', 'existían', 'secundaria', 'encabezada', 'izquierdo', 'clásica', 'concluido', 'adicional', 'astronómicos', 'ofrecido', 'aparente', 'humana', 'fotográfica', 'civiles', 'resultar', 'perdidos', 'sólida', 'represión', 'traseros', 'inmune', 'andina', 'sagrado', 'encajonado', 'cometidos', 'católico', 'mexicana', 'teatrales', 'telefónica', 'instrumental', 'humilde', 'estalla', 'vanos', 'religiosa', 'americana', 'definido', 'gaélico', 'disponibles', 'internacional', 'artificial', 'cerradas', 'electrónicas', 'amarilla', 'mezclado', 'victoriosos', 'claras', 'denominados', 'extraño', 'agrario', 'ordenanzas', 'zapatistas', 'dificultades', 'sirios', 'híbrido', 'doméstico', 'mortales', 'biológica', 'útiles', 'creando', 'muscular', 'fondos', 'parques', 'táctil', 'calcular', 'social', 'exploraciones', 'turística', 'marítima', 'suponer', 'eléctricas', 'reguladoras', 'climático', 'funcionalidades', 'superando', 'estadounidense', 'cortas', 'apagar', 'ocupados', 'venezolano', 'interestelar', 'acabo', 'islandeses', 'académicos', 'suficiente', 'noruego', 'nordeste', 'planetarias', 'prácticos', 'americano', 'pasados', 'creen', 'transferencias', 'australiana', 'ecuatoriana', 'Tambor', 'soberana', 'provincial', 'bautismal', 'reflejar', 'plantear', 'española', 'realista', 'latina', 'cómica', 'giratoria', 'cortando', 'económicos', 'móviles', 'Argentino', 'empresarial', 'marinos', 'destruyendo', 'cruciforme', 'móvil'}, 53: {'adagio', 'alma', 'sentimiento', 'ladrón', 'piso', 'individuo', 'segmento', 'precio', 'videojuego', 'automotor', 'traidor', 'aliado', 'infarto', 'religioso', 'triángulo', 'hombre', 'selecto', 'ataque', 'mensaje', 'método', 'arreglo', 'ahorro', 'láser', 'dispositivo', 'poeta', 'componente', 'ensayo', 'fallo', 'evento', 'consejo', 'grosor', 'espejo', 'ordenador', 'instante', 'chip', 'estadio', 'piloto', 'caudal', 'profundo', 'plan', 'desafío', 'anillo', 'incendio', 'juez', 'rascacielos', 'genérico', 'noble', 'servidor', 'amigo', 'juguete', 'controlador', 'memory', 'comunicado', 'favor', 'visible'}, 70: {'fundada', 'fundado', 'designado', 'promovido', 'conducidos', 'filmado', 'aprobado', 'levantado', 'confirmada', 'abiertas', 'trasladados', 'premiada', 'enviado', 'filmada', 'Presentador', 'concedido', 'contratado', 'levantar', 'creada', 'novios', 'entregado', 'representada', 'peor', 'implantadas', 'inyectado', 'pacífico', 'popularizada', 'distribuida', 'considerados', 'diseñadas', 'incorporada', 'profesora', 'secretario', 'habitual', 'capturado', 'publicadas', 'usadas', 'conocidas', 'declarado', 'sometida', 'controlada', 'realizadas', 'reconstruido', 'reducido', 'honesto', 'reclamado', 'admitido', 'desactivado', 'convocado', 'agitado', 'dominada', 'nombrado', 'oscuro', 'jugado', 'controlado', 'frecuente', 'transmitido', 'atravesado', 'adaptada', 'diseñado', 'eliminado', 'destruida', 'inmortal', 'anunciado', 'destruido', 'grabado', 'controlados', 'reemplazado', 'dada', 'autoritario', 'cerrado', 'formadas', 'construida', 'electo', 'ocupada', 'herido', 'conducida', 'considerada', 'creados', 'condenado', 'diseñada', 'producidas', 'inaugurada', 'modificada', 'requeridos', 'asignado', 'alimentados', 'escogido', 'nombrados', 'fabricadas', 'considerado', 'descrita', 'adquirida', 'presentado', 'lanzada', 'pensado', 'mostrado', 'devuelto', 'realizados', 'necesarios', 'inaugurado', 'mantenida', 'doblados', 'publicada', 'decir', 'administrados', 'enseñadas', 'secuestrado', 'bueno', 'significado', 'compuesta', 'atrapado', 'estrenado', 'elegido', 'construido', 'acusado', 'compuestas', 'necesario', 'ordenado', 'traspasado', 'eliminada', 'reconocido', 'asesinado', 'dirigido', 'emitido', 'limitada', 'sucedido', 'capturados', 'posible', 'identificado', 'asesinados', 'acompañados', 'nombrada', 'fabricado', 'nominado', 'temporal', 'lanzado', 'calentado', 'promulgado'}, 68: {'numerosas', 'alianzas', 'relatos', 'inusual', 'quiso', 'nuevas', 'consejero', 'testigos', 'altitudinal', 'suelen', 'futura', 'valioso', 'debe', 'deben', 'melodía', 'Tiro', 'fauna', 'sale', 'entrenador', 'debió', 'terrenos', 'deberían', 'resultó', 'bancos', 'hamburguesa', 'solían', 'formular', 'gran', 'pecado', 'causó', 'corresponda', 'distintos', 'ayudantes', 'viene', 'cabaña', 'planea', 'actas', 'poderosa', 'Germánico', 'contrajo', 'melodías', 'seco', 'suele', 'primeras', 'comuna', 'saberes', 'tenista', 'hostil', 'Pantalla', 'Coca', 'logran', 'Púa', 'sociedades', 'escaleras', 'leer', 'implacables', 'quedará', 'distintas', 'mística', 'consiguen', 'irregular', 'contemporáneo', 'Pampa', 'educador', 'visitan', 'proporcionó', 'alta', 'caracteres', 'grandes', 'marineros', 'formar', 'Carta', 'formaciones', 'árabe', 'fincas', 'numerosos', 'quedando', 'padrinos', 'apasionantes', 'secuencias', 'continuaba', 'duda', 'quedan', 'consecuencia', 'abuelos', 'quería', 'adquisiciones', 'bellas', 'gatos', 'pequeñas', 'decidió', 'arquitectos', 'can', 'realizaron', 'añaden', 'impresionante', 'ingredientes', 'dormitorios', 'últimas', 'pilotos', 'notable', 'siguen', 'Español', 'calles', 'intenta', 'intentan', 'siguiente', 'resulta', 'crítico', 'malos', 'debería', 'patentes', 'mecánica', 'diversas', 'comercializar', 'busca', 'decide', 'piel', 'Gigantes', 'tomó', 'ciclistas', 'dicha', 'creía', 'haber', 'avanzadas', 'procesadores', 'gentes', 'empresas', 'tareas', 'presentadora', 'diferencias', 'ciertos', 'lograron', 'constantes', 'Ciudades', 'intelectual', 'Correa', 'Gallego', 'nieve', 'naves', 'respetado', 'menor', 'ciertas', 'Equipo', 'querían', 'prefiere', 'solicitó', 'Centralita', 'oyó', 'agudeza', 'bellos', 'economía', 'secretos', 'W', 'debía', 'disculpas', 'Batería', 'andante', 'Cosas', 'acústica', 'estancias', 'azúcar', 'deberá', 'contrafuertes', 'intentaron', 'media', 'viejos', 'solía', 'diferentes', 'posibles', 'deciden', 'voluptuosa', 'poner', 'Rama', 'mayores', 'geografía', 'hiciera', 'enormes', 'sencillos', 'metalurgia', 'manifestaciones', 'anclas', 'centralita', 'Fase', 'nuevos', 'darán', 'granadas', 'artefactos', 'hicieran', 'esencial', 'sindicatos', 'Aguilera', 'diversos', 'poderes', 'Orquesta', 'muertos', 'Ingleses', 'reciente', 'pretende', 'extraños', 'gobiernos', 'fuertes', 'antiguos', 'lodo', 'variadas', 'enfrentamientos', 'jardines', 'buena', 'Margarita', 'continua', 'escala', 'intensa', 'rinde', 'proclamaba', 'acabó', 'plazas', 'monjas', 'debían', 'parece', 'delicada', 'náuticas', 'aves', 'artista', 'lindos', 'buen', 'pedagógicos'}, 29: {'caballos', 'rosa', 'vanguardia', 'hierro', 'extrema', 'fabricar', 'maquinaria', 'fiebre', 'Tarifa', 'observación', 'Córdoba', 'intereses', 'telecomunicaciones', 'Pelotón', 'baile', 'hormigón', 'dados', 'pasajeros', 'audio', 'manera', 'máquinas', 'intercambio', 'karaoke', 'escaso', 'tenis', 'cooperación', 'elección', 'cajeros', 'alimentos', 'alimentación', 'lava', 'datos', 'informática', 'sastre', 'tablero', 'baloncesto', 'arena', 'baladas', 'nebulosas', 'prensa', 'crecimiento', 'tracción', 'varia', 'masas', 'intensas', 'órganos', 'duración', 'tal', 'abogados', 'ingeniería', 'bautizo', 'felicidad', 'motociclismo', 'fantasías', 'débito', 'medicina', 'ondas', 'escasa', 'costilla', 'cocaína', 'autonomía', 'causar', 'aquellos', 'temática', 'mínimo', 'indicar', 'droga', 'cálculo', 'suspense', 'dólares', 'detalle', 'riquezas', 'protesta', 'soledad', 'acantonamiento', 'capitel', 'seda', 'piedras', 'títulos', 'bolas', 'anillos', 'cruz', 'capitales', 'preparación', 'núcleo', 'romper', 'frecuencia', 'arbitraje', 'memorias', 'popularidad', 'ritmo', 'oxígeno', 'animación', 'fisuras'}, 20: {'sonatas', 'costumbres', 'labores', 'metas', 'vendas', 'sierras', 'alegaciones', 'levaduras', 'unidades', 'autoridades', 'interesantes', 'investigaciones', 'elecciones', 'modificaciones', 'regiones', 'organizaciones', 'instituciones', 'técnicas', 'mismas', 'matemáticas', 'ruedas', 'cosas', 'estaciones', 'competencias', 'tropas', 'tribus', 'dependencias', 'fuentes', 'divisiones', 'variaciones', 'centralitas', 'cumbres', 'continuas', 'rectas', 'escalas', 'artes', 'materias', 'excavaciones', 'pistas', 'formas', 'herramientas', 'restantes', 'famosas', 'murallas', 'relaciones', 'campañas', 'criaturas', 'futuras', 'lesiones', 'ventanas', 'misiones', 'células', 'compañías', 'cuerdas', 'estepas', 'confusiones', 'elevadas', 'casas', 'gracias', 'iglesias', 'civilizaciones', 'disposiciones', 'guerras', 'malas', 'zonas', 'rayas', 'conferencias', 'enseñanzas', 'aguas', 'palabras', 'fuerzas', 'principales', 'rutas', 'actuales', 'columnas', 'islas', 'colonias', 'torres', 'cualidades', 'tensiones', 'notas', 'sombras', 'manzanas', 'llamas', 'bebidas', 'frases', 'ampliaciones', 'galeras', 'decisiones', 'variedades', 'mujeres', 'ciencias', 'precipitaciones', 'bóvedas', 'demandas', 'esclavas', 'piernas', 'explicaciones'}, 21: {'desviación', 'reputación', 'alucinante', 'implacable', 'invasión', 'nariz', 'pequeña', 'carta', 'delgada', 'biografía', 'bella', 'población', 'antena', 'corta', 'bibliografía', 'deformación', 'raqueta', 'parodia', 'transacción', 'gigantesca', 'profunda', 'longitud', 'nutrida', 'oficina', 'católica', 'anchura', 'excedencia', 'importante', 'escritora', 'congregación', 'sola', 'extraña', 'multinacional', 'cubierta', 'placa', 'amplia', 'apariencia', 'molécula', 'grave', 'silla', 'caja', 'matriz', 'vieja', 'norma', 'entrevista', 'simple', 'histeria', 'noches', 'cierta', 'profundidad', 'variante', 'camisa', 'locomotora', 'trilogía', 'especie', 'hermana', 'señora', 'flor', 'conferencia', 'coda', 'explicación', 'kajira'}, 2: {'pedáneo', 'claramente', 'Arvad', 'financieras', 'asimismo', 'arréicas', 'Francisco', 'get', 'Bond', 'demasiado', 'inicialmente', 'Koller', 'GSM', 'interviniente', 'patagónica', 'andaluza', 'conforma', 'exactamente', 'Main', 'Opus', 'OLAP', 'ferroviaria', 'Aozora', 'Flood', 'Disney', 'caliza', 'inca', 'apenas', 'USB', 'vasallo', 'asiduamente', 'tricúspide', 'universitario', 'Vasquez', 'activamente', 'legalmente', 'Tabby', 'mundialista', 'pertenecientes', 'goreanas', 'obviamente', 'but', 'du', 'sino', 'diariamente', 'cosianas', 'específicamente', 'prácticamente', 'setlists', 'exóticos', 'oficialmente', 'afectados', 'finalistas', 'enteramente', 'rápidamente', 'probablemente', 'Pantaleone', 'Jacksonville', 'especialmente', 'tampoco', 'tales', 'editado', 'únicamente', 'totalmente', 'Kennedy', 'Récit', 'Äppler', 'B', 'atrás', 'plenamente', 'abruptamente', 'chilena', 'universitaria', 'Josefina', 'defunctorum', 'fundamentalmente', 'reingresó', 'goreano', 'KTM', 'absolutamente', 'explícitamente', 'goreanos', 'lentamente', 'EXP', 'McAvoy', 'Explorer', 'adosada', 'simultáneamente', 'mediante', 'Konrad', 'multidimensional', 'andalusí', 'generalmente', 'históricamente', 'enormemente', 'inmerso', 'estereográfica', 'Hillsboro', 'SUD', 'drásticamente', 'bastante', 'universitarias', 'geotermal', 'hawaiano', 'Bancaja', 'exclusivamente', 'octogonal', 'principalmente', 'directamente', 'BQR', 'satelital', 'particularmente', 'perteneciente', 'visiblemente', 'referentes', 'mecenas', 'mixtilíneo', 'habitualmente', 'Ute', 'formalmente', 'filled', 'lateralmente', 'precisamente', 'Joyce', 'jaghan', 'chicanas', 'premium', 'hacia', 'Vatnajökull', 'Viedma', 'apropiado', 'esencialmente', 'atlánticas', 'ROM', 'extremeño', 'diésel', 'dramáticamente', 'BACH', 'endorréicas', 'monomaníacos', 'significativamente', 'conformado', 'excepto', 'aun', 'básicamente', 'SMS', 'Upsilon', 'íntimamente', 'arrogantemente', 'patagónico', 'Like', 'huracanados', 'frecuentemente', 'continuamente', 'precámbricos', 'visigoda', 'temporalmente', 'extrañamente', 'franjas', 'torrevejense', 'Checks', 'suriano', 'automáticamente', 'previamente', 'Kisaragi', 'organizacionales', 'completamente', 'solamente', 'megami', 'madrileña', 'pampeana', 'IPA', 'conjuntamente', 'extremeña', 'así', 'pues', 'mientras', 'Siècle', 'ó', 'inmediatamente', 'Rosenstock', 'subandinas', 'Alfonso', 'después', 'mayormente', 'normalmente', 'londinense', 'internacionalmente', 'relacional', 'fácilmente', 'televisivo', 'clamshell'}, 27: {'Derecho', 'Guapo', 'Diagrama', 'Diario', 'Relaciones', 'Seguridad', 'Película', 'Fin', 'Cartas', 'Shinto', 'Java', 'Imagen', 'Si', 'Premio', 'Años', 'Ayuntamiento', 'Salud', 'Policía', 'Dispara', 'Rojo', 'Be', 'Melodía', 'Director', 'Gato', 'Altura', 'Final', 'Letra', 'Strike', 'Galería', 'Gauss', 'Listas', 'Mujeres', 'Crónica', 'm', 'Torre', 'Guía', 'Soporte', 'Forma', 'Lima', 'Haz', 'Watt', 'Regreso', 'Nada', 'Disminución', 'Musique', 'Conjunto', 'Cine', 'Dibujo', 'Control', 'Primer', 'Extended', 'Literatura', 'Todo', 'Me', 'Terror', 'Municipio', 'Ciudad', 'Soporta', 'Selección', 'James'}, 40: {'discográfica', 'salud', 'colina', 'Guerra', 'comida', 'sacristía', 'ribera', 'frontera', 'dictadura', 'porción', 'Provincia', 'santa', 'nobleza', 'antigüedad', 'iglesia', 'novela', 'fermentación', 'tradición', 'dinastía', 'fórmula', 'fundación', 'literatura', 'bujía', 'cultura', 'valva', 'circulación', 'gestión', 'dimensión', 'Constitución', 'renovación', 'bola', 'Empresa', 'integridad', 'naturaleza', 'época', 'fortaleza', 'ingestión', 'República', 'Independencia', 'península', 'sociedad', 'condición', 'tristeza', 'ganadería', 'NASA', 'audiencia', 'guerra', 'pista', 'selección', 'juventud', 'normalidad', 'ama', 'base', 'cercana', 'policía', 'bienvenida', 'llanura', 'hermosa', 'chispa', 'puerta', 'gente', 'palabra', 'resultante', 'disposición', 'cúpula', 'trazada', 'selva', 'destrucción', 'ilustración', 'constitución', 'telenovela', 'minúscula', 'Tierra', 'desesperación', 'Fraternidad', 'cédula', 'costa', 'rondalla', 'verdad', 'lucha', 'Mancha', 'asociación', 'biblioteca', 'industria', 'soberanía', 'saga', 'villa', 'trasladan', 'interacción', 'laguna', 'excursión', 'empresa', 'Iglesia', 'infamia', 'feria', 'sala', 'propuesta', 'Cosecha', 'pierna', 'válvula', 'organización', 'espalda', 'nave', 'emisora', 'cancha', 'actualidad', 'dolorosa', 'amnistía', 'agricultura', 'esclavitud', 'rama', 'zona', 'universidad', 'fina', 'revista', 'Revolución', 'imprenta', 'Universidad', 'depresión', 'cordillera', 'abadía', 'misma', 'votación', 'nación', 'autonómica'}, 73: {'golf', 'ocio', 'peso', 'botella', 'caza', 'eliminación', 'aplicaciones', 'paz', 'litro', 'oro', 'desaparecer', 'arranque', 'Cuba', 'roble', 'relleno', 'meta', 'béisbol', 'vivienda', 'católicos', 'emisión', 'impuestos', 'anotaciones', 'compresión', 'boxeo', 'Jerez', 'picardía', 'enfermedades', 'videojuegos', 'séptima', 'adelantamiento', 'interés', 'ácido', 'TV', 'cristal', 'contenido', 'tranquilidad', 'caminos', 'idénticas', 'algodón', 'pastilla', 'fantasía', 'carreteras', 'abundantes', 'vigilancia', 'teatro', 'comunicaciones', 'basalto', 'combustible', 'ventas', 'drogas', 'rotación', 'entrenamiento', 'mineralogía', 'cultivos', 'mármol', 'inundación', 'suministros', 'espectáculos', 'peras', 'goma', 'climas', 'distinta', 'Dios', 'entrenamientos', 'ilustres', 'autobús', 'aceleración', 'vidrio', 'insulina', 'Bolívar', 'Cuenca', 'espectadores', 'continuar', 'glucosa', 'válvulas', 'Medicina', 'portero', 'dioramas', 'manipular', 'natación', 'Chile'}, 10: {'actividades', 'ferias', 'inmediaciones', 'batallas', 'filas', 'familias', 'cátedras', 'ordenes', 'medidas', 'corales', 'tácticas', 'tierras', 'dudas', 'fachadas', 'ideas', 'competiciones', 'escenas', 'crónicas', 'listas', 'bromas', 'Memorias', 'ciudades', 'razas', 'condiciones', 'marcas', 'causas', 'costas', 'huacas', 'acusaciones', 'opciones', 'consecuencias', 'dimensiones', 'clases', 'puertas', 'órdenes', 'bases', 'figuras', 'planchas', 'ramas', 'canteras', 'reliquias', 'tomas', 'vidas', 'tecnologías', 'facciones', 'localidades', 'muertes', 'rondas', 'propiedades', 'estadísticas', 'aulas', 'finanzas', 'líneas', 'arquitecturas', 'páginas', 'estribaciones', 'prácticas', 'características', 'fiestas', 'posiciones', 'facultades', 'emisiones', 'cadenas', 'leyes', 'motos', 'proteínas', 'partes', 'lágrimas', 'amenazas', 'dunas', 'vías', 'provincias', 'hojas'}, 41: {'Enlaces', 'Quiero', 'Graba', 'Porción', 'Armas', 'Lee', 'Mi', 'Henry', 'Primera', 'Posiblemente', 'Elecciones', 'Obtener', 'Debe', 'Recién', 'Periodo', 'Alta', 'ETA', 'Gran', 'Economía', 'Usa', 'Enlace'}, 78: {'arquero', 'cacique', 'auténtico', 'ciudadano', 'cierto', 'cable', 'nuevo', 'corto', 'generador', 'disputado', 'fugaz', 'veterano', 'creciente', 'auto', 'obvio', 'DJ', 'remake', 'sacerdote', 'préstamo', 'distintivo', 'enclave', 'rayo', 'patio', 'apéndice', 'vampiro', 'gaucho', 'perfecto', 'entorno', 'duro', 'balcón', 'esquimal', 'invento', 'príncipe', 'caballero', 'pequeño', 'matemático', 'accidente', 'tarnsman', 'estribillo', 'breve', 'decreto', 'teléfono', 'proscrito', 'canto', 'autódromo', 'niño', 'vela', 'trío', 'monomaníaco', 'camión', 'contrastante', 'serio', 'primitivo', 'rondó'}, 47: {'podría', 'pueda', 'pudieran', 'pudiera', 'pudieron', 'podrá', 'pudiendo', 'podido', 'podía', 'podemos', 'puede', 'pueden', 'podrían', 'puedan', 'podrán', 'podían', 'pudo', 'puedes'}, 34: {'incluyendo', 'incluye', 'incluyeron', 'incluyen', 'incluir', 'integra', 'integrada', 'contiene', 'contenía', 'incluidas', 'contienen', 'integrado', 'incluidos', 'integrando', 'incluida', 'incluyó'}, 55: {'atadas', 'similares', 'destinados', 'obligados', 'relacionados', 'similar', 'dedicado', 'obligada', 'adiós', 'cercanos', 'dedicadas', 'asistiendo', 'reservada', 'anticipando', 'llegan', 'entregada', 'sucediendo', 'incorporado', 'empiezan', 'traducidos', 'subterránea', 'presionado', 'decidido', 'preguntas', 'agregar', 'mestiza', 'vencer', 'reemplazó', 'coral', 'gritar', 'partir', 'diferente', 'ingresaron', 'alusión', 'superior', 'dispuesto', 'asistió', 'apuntan', 'orientada', 'mudado', 'ido', 'llego', 'fiel', 'construidas', 'dedicada', 'ecuatorianas', 'obligado', 'atraer', 'himno', 'emigrado', 'vengar', 'superiores', 'conectado', 'directo', 'ocurrido', 'subió', 'territoriales', 'pasaba', 'forzados', 'referencias', 'pasando', 'comenzado', 'abierta', 'acompañando', 'limitado', 'reducidos', 'reformas', 'enfocada', 'empezaron', 'vinculados', 'consigo'}, 46: {'reclutas', 'anfitriones', 'disturbios', 'automóviles', 'temibles', 'famosos', 'agricultores', 'mundos', 'astrolabios', 'peces', 'cronistas', 'demás', 'usuarios', 'primeros', 'griegos', 'proveedores', 'crecidos', 'colores', 'jóvenes', 'procedimientos', 'yacimientos', 'emigrantes', 'trabajadores', 'historiadores', 'cánones', 'indios', 'sensores', 'guerrilleros', 'caballeros', 'mismos', 'últimos', 'agentes', 'especialistas', 'versos', 'eternos', 'baños', 'documentos', 'botones', 'seres', 'siguientes', 'ciudadanos', 'romanos', 'publicaron', 'hermanos', 'rehenes', 'conocimientos', 'hombres', 'demonios', 'siglos', 'máximos', 'jugadores', 'éxitos', 'labios', 'sustituye', 'bordes', 'misteriosos', 'métodos', 'próximos', 'teléfonos', 'ingleses', 'mejores', 'crueles', 'asesinos', 'componentes', 'adultos', 'vampiros', 'árboles', 'números', 'colonos', 'templarios', 'barcos', 'neumáticos', 'modelos', 'espacios', 'hechos', 'papeles', 'demas', 'gases', 'venecianos', 'británicos', 'ojos', 'nativos', 'skuas', 'sitios', 'individuos', 'fabricantes', 'valientes', 'capítulos', 'votos', 'Ojos', 'acontecimientos', 'textos', 'mongoles', 'premios', 'espíritus', 'chipriotas', 'temas', 'jesuitas', 'pistones', 'hugonotes', 'franciscanos', 'frailes', 'escasos', 'únicos', 'centros', 'sonidos', 'funcionarios', 'campesinos'}, 30: {'ambos', 'ruinas', 'categorías', 'secreto', 'Dragón', 'invierno', 'porciones', 'soluciones', 'bares', 'portugués', 'Corea', 'rodajas', 'irlandés', 'cooperativo', 'angustia', 'comparación', 'cargar', 'vivo', 'inglés', 'fa', 'descripciones', 'suaves', 'quechua', 'particular', 'hospitales', 'activo', 'concordancia', 'plural', 'verso', 'cercanías', 'neerlandés', 'plena', 'congresos', 'alzar', 'estonio', 'formato', 'términos', 'realidad', 'protocolos', 'precedentes', 'disciplinas', 'revistas', 'áreas', 'parejas', 'colaboración', 'Granada', 'botellas', 'cita', 'CD', 'caliente', 'entrevistas', 'definitiva', 'parrilla'}, 19: {'llamando', 'llamaron', 'llaman', 'llamar', 'llamaban', 'llamado', 'llamó', 'llamadas', 'llamados'}, 64: {'usaba', 'utilizando', 'usado', 'usa', 'usada', 'USA', 'usar', 'use', 'utilizaba', 'emplea', 'utilizaron', 'empleado', 'usan', 'usando', 'utilizada', 'usaban', 'usados', 'utilizado', 'utiliza', 'utilizan', 'utilizó', 'utilizar'}, 45: {'especifican', 'estableció', 'incorporan', 'denomina', 'debate', 'trate', 'cubren', 'ponía', 'plantea', 'fabrica', 'escapan', 'informó', 'ponen', 'realiza', 'creó', 'crearon', 'desata', 'sitúa', 'construiría', 'obtienen', 'introdujo', 'relaciona', 'despierta', 'disputa', 'conserva', 'definió', 'detallan', 'salva', 'caracteriza', 'clasificó', 'sostiene', 'forman', 'presenta', 'haría', 'anuncia', 'realizó', 'preocupa', 'esconden', 'enfrentaban', 'produjo', 'adjudicó', 'desarrolla', 'extiende', 'añade', 'mezclan', 'funda', 'alzó', 'vio', 'deja', 'celebró', 'vuelvan', 'consideraban', 'distribuye', 'creo', 'rompe', 'abrieron', 'conservan', 'demoró', 'verá', 'renovaron', 'ignora', 'suspende', 'incorporó', 'centró', 'casó', 'mantuvo', 'introdujeron', 'ven', 'levantan', 'dispone', 'identifican', 'inauguró', 'topa', 'celebra', 'desprenden', 'estrena', 'transmite', 'levantó', 'fabrican', 'acaba', 'estrenó', 'enfrenta', 'decoran', 'sabe', 'alza', 'realizaban', 'abren', 'repiten', 'unieron', 'desconoce', 'menciona', 'complementa', 'cubre', 've', 'comunican', 'clasifican', 'separaron', 'practica', 'llama', 'declaró', 'retira', 'dobla', 'merece', 'disputó', 'realizan', 'extrae', 'acabará', 'formó', 'refleja', 'une', 'crean', 'eligió', 'producen', 'produce', 'cruzan', 'muestra', 'libró', 'reunió', 'abre', 'obsesiona', 'deriva', 'centra', 'muestran', 'componen', 'cambió', 'autorizó', 'presentaron', 'representan', 'conoce', 'enmarca'}, 16: {'distraen', 'suman', 'reúne', 'ubica', 'rehusó', 'dedica', 'unió', 'vieron', 'unen', 'remonta', 'niega', 'accede', 'mudó', 'siguieron', 'negó', 'refirió', 'colocan', 'opuso', 'vuelven', 'adelante', 'dedicó', 'estrenará', 'llevaron', 'gana', 'refiere', 'producía', 'trasladó', 'pasaron', 'traslada', 'retiró'}, 9: {'recibido', 'representado', 'marcado', 'prometido', 'sufrido', 'comprado', 'escrito', 'inspirado', 'trabajado', 'criticado', 'desarrollado', 'salido', 'conservado', 'matado', 'sido', 'llegado', 'registrado', 'cambiado', 'realizado', 'renovado', 'creado', 'indicado', 'querido', 'ganado', 'ocupado', 'transferido', 'ideado', 'dado', 'firmado', 'crecido', 'contribuido', 'quedado', 'mantenido', 'participado', 'arrebatado', 'sobrevivido', 'compuesto', 'conseguido', 'introducido', 'colaborado', 'producido', 'acuñado', 'estudiado', 'visto', 'encontrado', 'caído', 'obtenido', 'aparecido', 'vuelto', 'vendido'}, 42: {'posibilidades', 'dueños', 'almas', 'artífices', 'retratos', 'dirigentes', 'habilidades', 'rivales', 'publicaciones', 'pertenencias', 'amigos', 'armas', 'intenciones', 'compañeros', 'limites', 'participaciones', 'participantes', 'historias', 'oficinas', 'ediciones', 'posteriores', 'efectos', 'rasgos', 'prisioneros', 'pastillas', 'pilares', 'trabajos', 'heridas', 'hijos', 'operaciones', 'tejidos', 'miradas', 'honores', 'padres', 'pasos', 'funciones', 'fronteras', 'clientes', 'propias', 'posesiones', 'propios', 'virtudes', 'rodillas', 'excusas', 'instrucciones', 'amos', 'instalaciones'}, 52: {'Donde', 'Nash', 'Uribe', 'Hardy', 'Poof', 'Rhyl', 'Lenbachhaus', 'Álvarez', 'Wilding', 'Ocho', 'Bomberman', 'Niedra', 'Seis', 'Rodríguez', 'Ronno', 'Treinta', 'Snyder', 'Ribault', 'Eiji', 'Praia', 'Warlords', 'Stephanie', 'Lorne', 'GameTrailers', 'Nadie', 'Armentières', 'Möngke', 'Holden', 'Mackerel', 'There', 'Teléfonos', 'Jason', 'Rebecca', 'Maybourne', 'Jaded', 'Cursos', 'Tres', 'Florianópolis', 'Cuatro', 'Despachos', 'Azarquiel', 'Banelco', 'Listado', 'Arleux', 'Kisshu', 'Holopainen', 'Dren', 'Ludwig', 'Farragut', 'tvtime', 'Lenbach', 'Iridium', 'Pepper', 'Cómo', 'Danni', 'Jökulsárlón', 'Norwich', 'ECUs', 'Pope', 'Le', 'Caritas', 'Castresana', 'Wanted'}, 65: {'sanguínea', 'laboral', 'proveniente', 'mot', 'maestre', 'CDs', 'sochantre', 'record', 'elenco', 'Diez', 'inhospito', 'taoísta', 'Superstar', 'directiva', 'protagónico', 'universitarios', 'sample', 'giras', 'laborales', 'cualquiera', 'provenientes', 'II', 'Juegos', 'hinchas', 'promedio', 'perfectamente', 'pechinas', 'procedentes', 'inalámbrica', 'aproximado', 'ending', 'derbis', 'custom', 'legislativo', 'IV', 'procedente', 'asistente', 'cinematográfica', 'transplantes', 'poblacionales', 'Relatos', 'personalmente', 'baterista', 'hop', 'Pierreodendron', 'caudalosa', 'cinematográficos', 'homónima', 'tiendas', 'Youtube', 'signature', 'cantorcicos', 'alrededores', 'Interna', 'colocadores', 'ciclista', 'Ending', 'optimización', 'multijugador', 'egresado', 'homónimo', 'peatonal', 'Prisioneros', 'Silva', 'souvenirs', 'poniente', 'cantor'}, 35: {'destacar', 'destacando', 'destacadas', 'distinguió', 'distingue', 'destaca', 'destacó', 'distinguido', 'destacan', 'destacado', 'destacada'}, 77: {'encontraron', 'observó', 'encontró', 'encontraba', 'descubrieron', 'encontraban', 'encontrar', 'observan', 'observar', 'observa', 'encuentra', 'descubren', 'descubriendo', 'descubre', 'encuentran', 'descubrió', 'encontrará'}, 50: {'Ángel', 'experiencia', 'experiencias', 'ángel', 'censura', 'litigios', 'carburador'}, 60: {'Valladolid', 'Wikipedia', 'Rookies', 'Menéndez', 'Kivi', 'Malin', 'Daniel', 'Spirou', 'Doreen', 'Escenarios', 'Version', 'ISBN', 'Verna', 'In', 'Texts', 'Chicago', 'Vertiente', 'Houston', 'Alejandro', 'UK', 'Heat', 'Siempre', 'NGC', 'Kylemore', 'Demurger', 'Les', 'Timbaland', 'Columbo', 'Art', 'Shaba', 'Músicos', 'Ono', 'IT', 'Series', 'José', 'Survivor', 'Treve', 'Common', 'Güemes', 'Songs', 'Cambios', 'Romances', 'Yo', 'Hiro', 'Molina', 'Buffy', 'Oxintomodulina', 'Giles', 'Vive', 'Spain', 'GLP', 'Novelas', 'University', 'Gourgue', 'Hamm', 'Dettifoss', 'Single', 'Arados', 'Cádiz', 'Traducciones', 'Vientos', 'Ensemble', 'Philadelphia', 'MOLAP', 'Love', 'Berkeley', 'Mario', 'Fotos', 'bonus', 'Kelly', 'Nickel', 'Vinum', 'Pamplona', 'Iranians', 'Especificaciones', 'Tendencias', 'Chansons', 'Osuna', 'Willow', 'Emmy', 'V', 'Motorola', 'Mejoras', 'Fresnillo', 'Leiden', 'Zacatecas', 'Vox', 'Lil', 'Xander', 'Cabot'}, 14: {'emprendió', 'terminada', 'grabaron', 'asumió', 'comenzar', 'prestado', 'consiguiendo', 'combinando', 'graba', 'mejoró', 'mover', 'mostró', 'compró', 'extender', 'mejorar', 'recupera', 'publica', 'organiza', 'abandona', 'consigue', 'grabar', 'cerró', 'aprobó', 'inicia', 'grabó', 'ceder', 'compaginando', 'nombró', 'salga', 'continuó', 'encargó', 'absorber'}, 39: {'obras', 'piezas', 'composición', 'obra', 'composiciones', 'pieza'}, 76: {'pide', 'pidió', 'pidiendo', 'pedir'}, 75: {'permitan', 'permitía', 'Permite', 'permitió', 'permitiendo', 'permite', 'permiten', 'permitir', 'dejaron', 'permitido'}, 33: {'denominar', 'conflictos', 'interpretar', 'tratar', 'distribuir', 'sonar', 'rondar'}, 7: {'situaciones', 'situación'}, 1: {'editorial'}, 18: {'Mercado', 'Promotor', 'Hazlitt', 'Let', 'Zapatismo', 'Palais', 'MVP', 'Diddy', 'All', 'Contigo', 'Because', 'Eve', 'Antología', 'Péptido', 'Missa', 'Bruselas', 'Rickenbacker', 'Singapur', 'Truth', 'VENCEDOR', 'Festhalle', 'Kane', 'Rakim', 'Italcred', 'Poemas', 'Nuevas', 'Peso', 'Allegro', 'Whispers', 'Kimi', 'Variantes', 'Scherzo', 'Hemicraneal', 'Civilization', 'Friends', 'Nas', 'Jammer', 'Adiós', 'Berlanga', 'Changin', 'Whodini', 'Véase', 'Jagger', 'Capoeira', 'Pesadilla', 'Redes', 'Asegurar', 'Agricultura', 'Colaborar', 'StarTAC', 'Toronto', 'Macrolobium', 'Itaú', 'Nelly', 'Romeo', 'HOLAP', 'Tipo', 'Viez', 'Distancias', 'Life', 'Guainía', 'Forum', 'Scarface', 'Edad'}, 25: {'llevado', 'traído', 'llevando', 'trae', 'llevada', 'lleva', 'llevar'}, 57: {'muro', 'muros', 'pared', 'paredes'}, 56: {'largos', 'extensa', 'largas', 'larga', 'extensas'}, 58: {'brasileñas', 'filósofo', 'brasileño'}})\n"
     ]
    }
   ],
   "source": [
    "#clusters\n",
    "clusters = defaultdict(set)\n",
    "for i, label in enumerate(labels):\n",
    "    clusters[label].add(final_check[i])\n",
    "print(clusters)"
   ]
  },
  {
   "cell_type": "code",
   "execution_count": 267,
   "metadata": {},
   "outputs": [
    {
     "name": "stdout",
     "output_type": "stream",
     "text": [
      "{'pastilla', 'píldoras', 'píldora', 'tableta'}\n"
     ]
    }
   ],
   "source": [
    "print(clusters[97])"
   ]
  },
  {
   "cell_type": "code",
   "execution_count": 265,
   "metadata": {},
   "outputs": [
    {
     "name": "stdout",
     "output_type": "stream",
     "text": [
      "{'debían', 'debió', 'deberían', 'deberá', 'debe', 'deben', 'debería', 'debía'}\n"
     ]
    }
   ],
   "source": [
    "print(clusters[92])"
   ]
  },
  {
   "cell_type": "code",
   "execution_count": 266,
   "metadata": {},
   "outputs": [
    {
     "name": "stdout",
     "output_type": "stream",
     "text": [
      "{'Bachelor', 'north', 'Art', 'Hour', 'Way', 'east', 'empty', 'implementation', 'west', 'end', 'Because', 'south', 'Sephardim', 'Proceedings', 'Old', 'Journal'}\n"
     ]
    }
   ],
   "source": [
    "print(clusters[88])"
   ]
  },
  {
   "cell_type": "code",
   "execution_count": 268,
   "metadata": {},
   "outputs": [
    {
     "name": "stdout",
     "output_type": "stream",
     "text": [
      "{'ocupan', 'pobladas', 'ocuparon', 'ocupados', 'vivieron', 'poblados', 'ocupa', 'ocupar', 'ocupó', 'ocupado', 'habitado', 'vivió', 'ocupadas', 'viven'}\n"
     ]
    }
   ],
   "source": [
    "print(clusters[114])"
   ]
  },
  {
   "cell_type": "code",
   "execution_count": 276,
   "metadata": {},
   "outputs": [
    {
     "name": "stdout",
     "output_type": "stream",
     "text": [
      "{'llamando', 'llamaron', 'llaman', 'llamar', 'llamaban', 'llamado', 'llamó', 'llamadas', 'llamados'}\n"
     ]
    }
   ],
   "source": [
    "print(clusters[19])"
   ]
  },
  {
   "cell_type": "code",
   "execution_count": 273,
   "metadata": {},
   "outputs": [
    {
     "name": "stdout",
     "output_type": "stream",
     "text": [
      "{'muro', 'muros', 'pared', 'paredes'}\n"
     ]
    }
   ],
   "source": [
    "print(clusters[57])"
   ]
  },
  {
   "cell_type": "code",
   "execution_count": 274,
   "metadata": {},
   "outputs": [
    {
     "name": "stdout",
     "output_type": "stream",
     "text": [
      "{'largos', 'extensa', 'largas', 'larga', 'extensas'}\n"
     ]
    }
   ],
   "source": [
    "print(clusters[56])"
   ]
  },
  {
   "cell_type": "code",
   "execution_count": 275,
   "metadata": {},
   "outputs": [
    {
     "name": "stdout",
     "output_type": "stream",
     "text": [
      "{'encontraron', 'observó', 'encontró', 'encontraba', 'descubrieron', 'encontraban', 'encontrar', 'observan', 'observar', 'observa', 'encuentra', 'descubren', 'descubriendo', 'descubre', 'encuentran', 'descubrió', 'encontrará'}\n"
     ]
    }
   ],
   "source": [
    "print(clusters[77])"
   ]
  },
  {
   "cell_type": "code",
   "execution_count": 277,
   "metadata": {},
   "outputs": [
    {
     "name": "stdout",
     "output_type": "stream",
     "text": [
      "{'usaba', 'utilizando', 'usado', 'usa', 'usada', 'USA', 'usar', 'use', 'utilizaba', 'emplea', 'utilizaron', 'empleado', 'usan', 'usando', 'utilizada', 'usaban', 'usados', 'utilizado', 'utiliza', 'utilizan', 'utilizó', 'utilizar'}\n"
     ]
    }
   ],
   "source": [
    "print(clusters[64])"
   ]
  },
  {
   "cell_type": "code",
   "execution_count": null,
   "metadata": {},
   "outputs": [],
   "source": []
  }
 ],
 "metadata": {
  "kernelspec": {
   "display_name": "Python 3",
   "language": "python",
   "name": "python3"
  },
  "language_info": {
   "codemirror_mode": {
    "name": "ipython",
    "version": 3
   },
   "file_extension": ".py",
   "mimetype": "text/x-python",
   "name": "python",
   "nbconvert_exporter": "python",
   "pygments_lexer": "ipython3",
   "version": "3.6.1"
  }
 },
 "nbformat": 4,
 "nbformat_minor": 2
}
