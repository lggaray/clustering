{
 "cells": [
  {
   "cell_type": "code",
   "execution_count": 2,
   "metadata": {},
   "outputs": [],
   "source": [
    "from itertools import islice\n",
    "with open(\"wikicorpus_01\") as myfile:\n",
    "    head = list(islice(myfile, 651))"
   ]
  },
  {
   "cell_type": "code",
   "execution_count": 3,
   "metadata": {},
   "outputs": [
    {
     "name": "stdout",
     "output_type": "stream",
     "text": [
      "['Néstor_Gabriel_Martinena néstor_gabriel_martinena NP00000 0\\n', '( ( Fpa 0\\n', 'La el DA0FS0 0\\n', 'Plata plata NP00000 10501473\\n', ', , Fc 0\\n', 'Buenos_Aires buenos_aires NP00000 0\\n', ', , Fc 0\\n', 'Argentina argentina NP00000 02035234\\n', ', , Fc 0\\n']\n"
     ]
    }
   ],
   "source": [
    "print(head[:9])"
   ]
  },
  {
   "cell_type": "code",
   "execution_count": 4,
   "metadata": {},
   "outputs": [],
   "source": [
    "sent = []\n",
    "for s in head:\n",
    "    sent.append(s.split())"
   ]
  },
  {
   "cell_type": "code",
   "execution_count": 5,
   "metadata": {},
   "outputs": [
    {
     "data": {
      "text/plain": [
       "[['Néstor_Gabriel_Martinena', 'néstor_gabriel_martinena', 'NP00000', '0'],\n",
       " ['(', '(', 'Fpa', '0'],\n",
       " ['La', 'el', 'DA0FS0', '0'],\n",
       " ['Plata', 'plata', 'NP00000', '10501473'],\n",
       " [',', ',', 'Fc', '0']]"
      ]
     },
     "execution_count": 5,
     "metadata": {},
     "output_type": "execute_result"
    }
   ],
   "source": [
    "sent[:5]"
   ]
  },
  {
   "cell_type": "code",
   "execution_count": 6,
   "metadata": {},
   "outputs": [],
   "source": [
    "words = []\n",
    "sentences = []\n",
    "for s in sent:\n",
    "    if len(s) == 4 and s[0] not in {'(', ')', ','} and '[' not in s[1]:\n",
    "        words.append((s[1], s[2], s[3]))\n",
    "        #if 'endofarticle' in s[1]:\n",
    "        #    sentences.append(words)\n",
    "        #    words = []"
   ]
  },
  {
   "cell_type": "code",
   "execution_count": 7,
   "metadata": {},
   "outputs": [],
   "source": [
    "count = dict()\n",
    "for fst,snd,trd in words:\n",
    "    if fst not in count:\n",
    "        count[fst] = 1\n",
    "    else:\n",
    "        count[fst] += 1"
   ]
  },
  {
   "cell_type": "code",
   "execution_count": 8,
   "metadata": {},
   "outputs": [
    {
     "data": {
      "text/plain": [
       "2"
      ]
     },
     "execution_count": 8,
     "metadata": {},
     "output_type": "execute_result"
    }
   ],
   "source": [
    "count['entrar']"
   ]
  },
  {
   "cell_type": "code",
   "execution_count": 9,
   "metadata": {},
   "outputs": [
    {
     "data": {
      "text/plain": [
       "[('néstor_gabriel_martinena', 'NP00000', '0'),\n",
       " ('el', 'DA0FS0', '0'),\n",
       " ('plata', 'NP00000', '10501473'),\n",
       " ('buenos_aires', 'NP00000', '0')]"
      ]
     },
     "execution_count": 9,
     "metadata": {},
     "output_type": "execute_result"
    }
   ],
   "source": [
    "words[:4]"
   ]
  },
  {
   "cell_type": "code",
   "execution_count": 10,
   "metadata": {},
   "outputs": [],
   "source": [
    "aux = []\n",
    "check = []\n",
    "for fst,snd,trd in words:\n",
    "    aux.append((fst,snd, trd))\n",
    "    if fst == '.':\n",
    "        check.append(aux)\n",
    "        aux = []"
   ]
  },
  {
   "cell_type": "code",
   "execution_count": 11,
   "metadata": {},
   "outputs": [
    {
     "data": {
      "text/plain": [
       "[[('néstor_gabriel_martinena', 'NP00000', '0'),\n",
       "  ('el', 'DA0FS0', '0'),\n",
       "  ('plata', 'NP00000', '10501473'),\n",
       "  ('buenos_aires', 'NP00000', '0'),\n",
       "  ('argentina', 'NP00000', '02035234'),\n",
       "  ('ser', 'VSIP3S0', '01775973'),\n",
       "  ('uno', 'DI0MS0', '0'),\n",
       "  ('futbolista', 'NCCS000', '0'),\n",
       "  ('argentino', 'AQ0MS0', '00278090'),\n",
       "  ('.', 'Fp', '0')],\n",
       " [('jugar', 'VMM02S0', '00727813'),\n",
       "  ('de', 'SPS00', '0'),\n",
       "  ('delantero', 'NCMS000', '00466114'),\n",
       "  ('y', 'CC', '0'),\n",
       "  ('su', 'DP3CS0', '0'),\n",
       "  ('equipo', 'NCMS000', '06093198'),\n",
       "  ('actual', 'AQ0CS0', '01667781'),\n",
       "  ('ser', 'VSIP3S0', '01775973'),\n",
       "  ('gimnasia', 'NP00000', '00275488'),\n",
       "  ('y', 'CC', '0'),\n",
       "  ('esgrima_la_plata_de_la_primera_división_de_argentina', 'NP00000', '0'),\n",
       "  ('.', 'Fp', '0')],\n",
       " [('trayectoria', 'NP00000', '06709272'), ('.', 'Fp', '0')]]"
      ]
     },
     "execution_count": 11,
     "metadata": {},
     "output_type": "execute_result"
    }
   ],
   "source": [
    "check[:3]"
   ]
  },
  {
   "cell_type": "code",
   "execution_count": 12,
   "metadata": {},
   "outputs": [],
   "source": [
    "from collections import defaultdict"
   ]
  },
  {
   "cell_type": "code",
   "execution_count": 13,
   "metadata": {},
   "outputs": [],
   "source": [
    "dicc_backward = defaultdict(list)\n",
    "dicc_forward = defaultdict(list)\n",
    "for s in check:\n",
    "    for i,w in enumerate(s):\n",
    "        if i != 0:\n",
    "            dicc_backward[w[0]].append((s[i-1][0], s[i-1][1]))\n",
    "        else:\n",
    "            dicc_backward[w[0]].append(('[W.Start]', '[T.Start]'))\n",
    "        if i != len(s)-1:\n",
    "            dicc_forward[w[0]].append((s[i+1][0], s[i+1][1]))\n",
    "        else:\n",
    "            dicc_forward[w[0]].append(('[W.End]', '[T.End]'))"
   ]
  },
  {
   "cell_type": "code",
   "execution_count": 14,
   "metadata": {},
   "outputs": [
    {
     "data": {
      "text/plain": [
       "[('river_plate', 'NP00000'), ('el', 'DA0MS0')]"
      ]
     },
     "execution_count": 14,
     "metadata": {},
     "output_type": "execute_result"
    }
   ],
   "source": [
    "dicc_backward['entrar']"
   ]
  },
  {
   "cell_type": "code",
   "execution_count": 15,
   "metadata": {},
   "outputs": [
    {
     "data": {
      "text/plain": [
       "[('desde', 'SPS00'), ('a', 'SPS00')]"
      ]
     },
     "execution_count": 15,
     "metadata": {},
     "output_type": "execute_result"
    }
   ],
   "source": [
    "dicc_forward['entrar']"
   ]
  },
  {
   "cell_type": "code",
   "execution_count": 17,
   "metadata": {},
   "outputs": [],
   "source": [
    "dicc = dict()\n",
    "vec = dict()\n",
    "for fst,snd,trd in words:\n",
    "    features = defaultdict(int)\n",
    "    pos = 'PoS__' + snd\n",
    "    if fst not in dicc and fst not in {'.', ',', ':', ';'} and fst.isalpha() and count[fst] > 2:\n",
    "        dicc[fst] = features\n",
    "        vec[fst] = trd\n",
    "        features[pos] = 1\n",
    "        for i in dicc_backward[fst]:\n",
    "            features[i[0]+\"-1\"] += 1\n",
    "            features[i[1]+\"-1\"] += 1\n",
    "        for i in dicc_forward[fst]:\n",
    "            features[i[0]+\"+1\"] += 1\n",
    "            features[i[0]+\"+1\"] += 1\n",
    "        \n",
    "    elif fst in dicc:\n",
    "        has_it = dicc[fst]\n",
    "        if pos in has_it:\n",
    "            has_it[pos] += 1\n",
    "        else:\n",
    "            has_it[pos] = 1"
   ]
  },
  {
   "cell_type": "code",
   "execution_count": 18,
   "metadata": {},
   "outputs": [
    {
     "data": {
      "text/plain": [
       "defaultdict(int,\n",
       "            {'35+1': 2,\n",
       "             'AQ0FP0-1': 1,\n",
       "             'NCFS000-1': 1,\n",
       "             'NCMP000-1': 1,\n",
       "             'NCMS000-1': 3,\n",
       "             'NP00000-1': 1,\n",
       "             'PoS__SPS00': 9,\n",
       "             'VMII1S0-1': 1,\n",
       "             'VMIP3S0-1': 1,\n",
       "             'arco+1': 2,\n",
       "             'balcón+1': 2,\n",
       "             'balcón-1': 1,\n",
       "             'bilbao-1': 1,\n",
       "             'conectar-1': 1,\n",
       "             'contar-1': 1,\n",
       "             'cubo+1': 2,\n",
       "             'decoración+1': 2,\n",
       "             'desarrollo+1': 2,\n",
       "             'el+1': 2,\n",
       "             'escudo-1': 1,\n",
       "             'etapa-1': 1,\n",
       "             'gótico-1': 1,\n",
       "             'realengo-1': 1,\n",
       "             'recinto-1': 1,\n",
       "             'regidor+1': 2,\n",
       "             'trespaderne+1': 2})"
      ]
     },
     "execution_count": 18,
     "metadata": {},
     "output_type": "execute_result"
    }
   ],
   "source": [
    "dicc['con']"
   ]
  },
  {
   "cell_type": "code",
   "execution_count": 19,
   "metadata": {},
   "outputs": [
    {
     "data": {
      "text/plain": [
       "{'a': '0',\n",
       " 'altura': '03998008',\n",
       " 'con': '0',\n",
       " 'cuyo': '0',\n",
       " 'de': '0',\n",
       " 'el': '0',\n",
       " 'en': '0',\n",
       " 'equipo': '06093198',\n",
       " 'localidad': '06368526',\n",
       " 'minuto': '10943650',\n",
       " 'partido': '05554348',\n",
       " 'planta': '03138429',\n",
       " 'por': '0',\n",
       " 'que': '0',\n",
       " 'ser': '01775973',\n",
       " 'situar': '01354457',\n",
       " 'su': '0',\n",
       " 'tiempo': '10850147',\n",
       " 'uno': '0',\n",
       " 'y': '0'}"
      ]
     },
     "execution_count": 19,
     "metadata": {},
     "output_type": "execute_result"
    }
   ],
   "source": [
    "vec"
   ]
  },
  {
   "cell_type": "code",
   "execution_count": 20,
   "metadata": {},
   "outputs": [],
   "source": [
    "matrix = []\n",
    "vector = []\n",
    "final_check = []\n",
    "for key, value in dicc.items():    #preparo la lista de dicts y la lista de chequeo para recuperar el nombre al final\n",
    "    final_check.append(key)\n",
    "    matrix.append(value)\n",
    "for key, value in vec.items():       #vector de synsets\n",
    "    vector.append(int(value))"
   ]
  },
  {
   "cell_type": "code",
   "execution_count": 21,
   "metadata": {},
   "outputs": [
    {
     "data": {
      "text/plain": [
       "[0,\n",
       " 1775973,\n",
       " 0,\n",
       " 0,\n",
       " 0,\n",
       " 0,\n",
       " 6093198,\n",
       " 0,\n",
       " 0,\n",
       " 10943650,\n",
       " 10850147,\n",
       " 5554348,\n",
       " 0,\n",
       " 0,\n",
       " 6368526,\n",
       " 1354457,\n",
       " 0,\n",
       " 3998008,\n",
       " 0,\n",
       " 3138429]"
      ]
     },
     "execution_count": 21,
     "metadata": {},
     "output_type": "execute_result"
    }
   ],
   "source": [
    "vector"
   ]
  },
  {
   "cell_type": "code",
   "execution_count": 22,
   "metadata": {},
   "outputs": [],
   "source": [
    "from sklearn.feature_extraction import DictVectorizer\n",
    "v = DictVectorizer()\n",
    "X = v.fit_transform(matrix)"
   ]
  },
  {
   "cell_type": "code",
   "execution_count": 23,
   "metadata": {},
   "outputs": [
    {
     "data": {
      "text/plain": [
       "<20x325 sparse matrix of type '<class 'numpy.float64'>'\n",
       "\twith 450 stored elements in Compressed Sparse Row format>"
      ]
     },
     "execution_count": 23,
     "metadata": {},
     "output_type": "execute_result"
    }
   ],
   "source": [
    "X"
   ]
  },
  {
   "cell_type": "code",
   "execution_count": 24,
   "metadata": {},
   "outputs": [],
   "source": [
    "##########################################Supervisada, clase: synset ##################################################"
   ]
  },
  {
   "cell_type": "code",
   "execution_count": 25,
   "metadata": {},
   "outputs": [],
   "source": [
    "from sklearn.feature_selection import SelectKBest\n",
    "from sklearn.feature_selection import chi2"
   ]
  },
  {
   "cell_type": "code",
   "execution_count": 26,
   "metadata": {},
   "outputs": [],
   "source": [
    "Y = SelectKBest(chi2, k=4).fit_transform(X, vector)"
   ]
  },
  {
   "cell_type": "code",
   "execution_count": 27,
   "metadata": {},
   "outputs": [
    {
     "data": {
      "text/plain": [
       "KMeans(algorithm='auto', copy_x=True, init='k-means++', max_iter=300,\n",
       "    n_clusters=3, n_init=10, n_jobs=1, precompute_distances='auto',\n",
       "    random_state=None, tol=0.0001, verbose=0)"
      ]
     },
     "execution_count": 27,
     "metadata": {},
     "output_type": "execute_result"
    }
   ],
   "source": [
    "#Clustering\n",
    "from sklearn.cluster import KMeans\n",
    "km = KMeans(n_clusters=3)\n",
    "km.fit(Y)"
   ]
  },
  {
   "cell_type": "code",
   "execution_count": 28,
   "metadata": {},
   "outputs": [],
   "source": [
    "labels = km.predict(Y)"
   ]
  },
  {
   "cell_type": "code",
   "execution_count": null,
   "metadata": {},
   "outputs": [],
   "source": []
  }
 ],
 "metadata": {
  "kernelspec": {
   "display_name": "Python 3",
   "language": "python",
   "name": "python3"
  },
  "language_info": {
   "codemirror_mode": {
    "name": "ipython",
    "version": 3
   },
   "file_extension": ".py",
   "mimetype": "text/x-python",
   "name": "python",
   "nbconvert_exporter": "python",
   "pygments_lexer": "ipython3",
   "version": "3.6.1"
  }
 },
 "nbformat": 4,
 "nbformat_minor": 2
}
