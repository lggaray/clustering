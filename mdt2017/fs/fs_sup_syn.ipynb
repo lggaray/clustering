{
 "cells": [
  {
   "cell_type": "code",
   "execution_count": 24,
   "metadata": {},
   "outputs": [],
   "source": [
    "from itertools import islice\n",
    "with open(\"wikicorpus_01\") as myfile:\n",
    "    content = list(islice(myfile, 150000))"
   ]
  },
  {
   "cell_type": "code",
   "execution_count": 25,
   "metadata": {},
   "outputs": [
    {
     "name": "stdout",
     "output_type": "stream",
     "text": [
      "['Néstor_Gabriel_Martinena néstor_gabriel_martinena NP00000 0\\n', '( ( Fpa 0\\n', 'La el DA0FS0 0\\n', 'Plata plata NP00000 10501473\\n', ', , Fc 0\\n', 'Buenos_Aires buenos_aires NP00000 0\\n', ', , Fc 0\\n', 'Argentina argentina NP00000 02035234\\n', ', , Fc 0\\n']\n"
     ]
    }
   ],
   "source": [
    "print(content[:9])"
   ]
  },
  {
   "cell_type": "code",
   "execution_count": 26,
   "metadata": {},
   "outputs": [],
   "source": [
    "sent = []\n",
    "for s in content:\n",
    "    sent.append(s.split())"
   ]
  },
  {
   "cell_type": "code",
   "execution_count": 27,
   "metadata": {},
   "outputs": [
    {
     "data": {
      "text/plain": [
       "[['Néstor_Gabriel_Martinena', 'néstor_gabriel_martinena', 'NP00000', '0'],\n",
       " ['(', '(', 'Fpa', '0'],\n",
       " ['La', 'el', 'DA0FS0', '0'],\n",
       " ['Plata', 'plata', 'NP00000', '10501473'],\n",
       " [',', ',', 'Fc', '0']]"
      ]
     },
     "execution_count": 27,
     "metadata": {},
     "output_type": "execute_result"
    }
   ],
   "source": [
    "sent[:5]"
   ]
  },
  {
   "cell_type": "code",
   "execution_count": 28,
   "metadata": {},
   "outputs": [],
   "source": [
    "#Creamos una tripla del estilo (lemma, PoS tag, synset)\n",
    "words = []\n",
    "#sentences = []\n",
    "for s in sent:\n",
    "    if len(s) == 4 and s[0] not in {'(', ')', ','} and '[' not in s[1]:\n",
    "        words.append((s[1], s[2], s[3]))\n",
    "        #if 'endofarticle' in s[1]:\n",
    "        #    sentences.append(words)\n",
    "        #    words = []"
   ]
  },
  {
   "cell_type": "code",
   "execution_count": 29,
   "metadata": {},
   "outputs": [],
   "source": [
    "#Creamos un diccionario con las palabras y su cantidad de apariciones\n",
    "count = dict()\n",
    "for fst,snd,trd in words:\n",
    "    if fst not in count:\n",
    "        count[fst] = 1\n",
    "    else:\n",
    "        count[fst] += 1"
   ]
  },
  {
   "cell_type": "code",
   "execution_count": 30,
   "metadata": {},
   "outputs": [
    {
     "data": {
      "text/plain": [
       "35"
      ]
     },
     "execution_count": 30,
     "metadata": {},
     "output_type": "execute_result"
    }
   ],
   "source": [
    "count['entrar']"
   ]
  },
  {
   "cell_type": "code",
   "execution_count": 31,
   "metadata": {},
   "outputs": [
    {
     "data": {
      "text/plain": [
       "[('néstor_gabriel_martinena', 'NP00000', '0'),\n",
       " ('el', 'DA0FS0', '0'),\n",
       " ('plata', 'NP00000', '10501473'),\n",
       " ('buenos_aires', 'NP00000', '0')]"
      ]
     },
     "execution_count": 31,
     "metadata": {},
     "output_type": "execute_result"
    }
   ],
   "source": [
    "words[:4]"
   ]
  },
  {
   "cell_type": "code",
   "execution_count": 32,
   "metadata": {},
   "outputs": [],
   "source": [
    "#Check es una lista de listas de tuplas del estilo (lemma,PoS tag, synset), así obtenemos una separación por oración.\n",
    "aux = []\n",
    "check = []\n",
    "for fst,snd,trd in words:\n",
    "    aux.append((fst,snd, trd))\n",
    "    if fst == '.':\n",
    "        check.append(aux)\n",
    "        aux = []"
   ]
  },
  {
   "cell_type": "code",
   "execution_count": 57,
   "metadata": {},
   "outputs": [
    {
     "data": {
      "text/plain": [
       "[[('néstor_gabriel_martinena', 'NP00000', '0'),\n",
       "  ('el', 'DA0FS0', '0'),\n",
       "  ('plata', 'NP00000', '10501473'),\n",
       "  ('buenos_aires', 'NP00000', '0'),\n",
       "  ('argentina', 'NP00000', '02035234'),\n",
       "  ('ser', 'VSIP3S0', '01775973'),\n",
       "  ('uno', 'DI0MS0', '0'),\n",
       "  ('futbolista', 'NCCS000', '0'),\n",
       "  ('argentino', 'AQ0MS0', '00278090'),\n",
       "  ('.', 'Fp', '0')],\n",
       " [('jugar', 'VMM02S0', '00727813'),\n",
       "  ('de', 'SPS00', '0'),\n",
       "  ('delantero', 'NCMS000', '00466114'),\n",
       "  ('y', 'CC', '0'),\n",
       "  ('su', 'DP3CS0', '0'),\n",
       "  ('equipo', 'NCMS000', '06093198'),\n",
       "  ('actual', 'AQ0CS0', '01667781'),\n",
       "  ('ser', 'VSIP3S0', '01775973'),\n",
       "  ('gimnasia', 'NP00000', '00275488'),\n",
       "  ('y', 'CC', '0'),\n",
       "  ('esgrima_la_plata_de_la_primera_división_de_argentina', 'NP00000', '0'),\n",
       "  ('.', 'Fp', '0')]]"
      ]
     },
     "execution_count": 57,
     "metadata": {},
     "output_type": "execute_result"
    }
   ],
   "source": [
    "check[:2]"
   ]
  },
  {
   "cell_type": "code",
   "execution_count": 33,
   "metadata": {},
   "outputs": [],
   "source": [
    "from collections import defaultdict"
   ]
  },
  {
   "cell_type": "code",
   "execution_count": 34,
   "metadata": {},
   "outputs": [],
   "source": [
    "#Diccionario con todas las palabras anteriores a una palabra (ventana de 1) --> dicc_backward\n",
    "#Diccionario con todas las palabras siguientes a una palabra (ventana de 1) --> dicc_forward\n",
    "dicc_backward = defaultdict(list)\n",
    "dicc_forward = defaultdict(list)\n",
    "for s in check:\n",
    "    for i,w in enumerate(s):\n",
    "        if i != 0:\n",
    "            dicc_backward[w[0]].append((s[i-1][0], s[i-1][1]))\n",
    "        else:\n",
    "            dicc_backward[w[0]].append(('[W.Start]', '[T.Start]'))\n",
    "        if i != len(s)-1:\n",
    "            dicc_forward[w[0]].append((s[i+1][0], s[i+1][1]))\n",
    "        else:\n",
    "            dicc_forward[w[0]].append(('[W.End]', '[T.End]'))"
   ]
  },
  {
   "cell_type": "code",
   "execution_count": 35,
   "metadata": {},
   "outputs": [],
   "source": [
    "#Creación del diccionario de features\n",
    "#Recordemos que words es una lista de tuplas del tipo (lemma,Pos,synset)\n",
    "dicc = dict()\n",
    "vec = dict()    #vector de clases\n",
    "for fst,snd,trd in words:\n",
    "    features = defaultdict(int)\n",
    "    pos = 'PoS__' + snd\n",
    "    #La palabra se encuentra en el dict\n",
    "    if fst not in dicc and fst not in {'.', ',', ':', ';'} and fst.isalpha() and count[fst] > 1 and trd != 0:\n",
    "        dicc[fst] = features\n",
    "        vec[fst] = trd\n",
    "        features[pos] = 1\n",
    "        for i in dicc_backward[fst]:\n",
    "            features[i[0]+\"-1\"] += 1\n",
    "            features[i[1]+\"-1\"] += 1\n",
    "        for i in dicc_forward[fst]:\n",
    "            features[i[0]+\"+1\"] += 1\n",
    "            features[i[1]+\"+1\"] += 1\n",
    "    #La palabra no se encuentra en el dict     \n",
    "    elif fst in dicc:\n",
    "        if trd not in vec[fst]:\n",
    "            dicc[fst] = features\n",
    "            vec[fst] = trd\n",
    "            for i in dicc_backward[fst]:\n",
    "                features[i[0]+\"-1\"] += 1\n",
    "                features[i[1]+\"-1\"] += 1\n",
    "            for i in dicc_forward[fst]:\n",
    "                features[i[0]+\"+1\"] += 1\n",
    "                features[i[1]+\"+1\"] += 1\n",
    "        has_it = dicc[fst]\n",
    "        if pos in has_it:\n",
    "            has_it[pos] += 1\n",
    "        else:\n",
    "            has_it[pos] = 1"
   ]
  },
  {
   "cell_type": "code",
   "execution_count": 36,
   "metadata": {},
   "outputs": [
    {
     "name": "stdout",
     "output_type": "stream",
     "text": [
      "5524 5524\n"
     ]
    }
   ],
   "source": [
    "#Controlamos que el largo sea consistente\n",
    "print(len(dicc), len(vec))"
   ]
  },
  {
   "cell_type": "code",
   "execution_count": 37,
   "metadata": {},
   "outputs": [],
   "source": [
    "#Para remover stopwords\n",
    "from nltk.corpus import stopwords"
   ]
  },
  {
   "cell_type": "code",
   "execution_count": 38,
   "metadata": {},
   "outputs": [],
   "source": [
    "matrix = []\n",
    "vector = []\n",
    "final_check = []\n",
    "for key, value in dicc.items():    #preparo la lista de dicts y la lista de chequeo para recuperar el nombre al final\n",
    "    if key not in stopwords.words('spanish'):\n",
    "        final_check.append(key)\n",
    "        matrix.append(value)\n",
    "for key, value in vec.items():       #vector de synsets\n",
    "    if key not in stopwords.words('spanish'):\n",
    "        vector.append(int(value))"
   ]
  },
  {
   "cell_type": "code",
   "execution_count": 39,
   "metadata": {},
   "outputs": [],
   "source": [
    "#Transformamos nuestra lista de diccionarios de features en un vector\n",
    "from sklearn.feature_extraction import DictVectorizer\n",
    "v = DictVectorizer()\n",
    "X = v.fit_transform(matrix)"
   ]
  },
  {
   "cell_type": "code",
   "execution_count": 40,
   "metadata": {},
   "outputs": [
    {
     "data": {
      "text/plain": [
       "<5445x13727 sparse matrix of type '<class 'numpy.float64'>'\n",
       "\twith 113085 stored elements in Compressed Sparse Row format>"
      ]
     },
     "execution_count": 40,
     "metadata": {},
     "output_type": "execute_result"
    }
   ],
   "source": [
    "X"
   ]
  },
  {
   "cell_type": "code",
   "execution_count": 41,
   "metadata": {},
   "outputs": [],
   "source": [
    "mejor_k = X.shape"
   ]
  },
  {
   "cell_type": "code",
   "execution_count": 42,
   "metadata": {},
   "outputs": [],
   "source": [
    "#seleccionamos el 70% de los features\n",
    "k_best = mejor_k[1]*0.7"
   ]
  },
  {
   "cell_type": "code",
   "execution_count": 43,
   "metadata": {},
   "outputs": [],
   "source": [
    "##########################################Supervisada, clase: synset ##################################################"
   ]
  },
  {
   "cell_type": "code",
   "execution_count": 44,
   "metadata": {},
   "outputs": [],
   "source": [
    "from sklearn.feature_selection import SelectKBest\n",
    "from sklearn.feature_selection import chi2"
   ]
  },
  {
   "cell_type": "code",
   "execution_count": 45,
   "metadata": {},
   "outputs": [],
   "source": [
    "#Normalización\n",
    "import sklearn\n",
    "X = sklearn.preprocessing.normalize(X)"
   ]
  },
  {
   "cell_type": "code",
   "execution_count": 46,
   "metadata": {},
   "outputs": [],
   "source": [
    "#Método supervisado para feature selection usando la función chi2\n",
    "Y = SelectKBest(chi2, k=int(k_best)).fit_transform(X, vector)"
   ]
  },
  {
   "cell_type": "code",
   "execution_count": 71,
   "metadata": {},
   "outputs": [
    {
     "data": {
      "text/plain": [
       "KMeans(algorithm='auto', copy_x=True, init='k-means++', max_iter=300,\n",
       "    n_clusters=90, n_init=10, n_jobs=1, precompute_distances='auto',\n",
       "    random_state=None, tol=0.0001, verbose=0)"
      ]
     },
     "execution_count": 71,
     "metadata": {},
     "output_type": "execute_result"
    }
   ],
   "source": [
    "#Clustering\n",
    "from sklearn.cluster import KMeans\n",
    "km = KMeans(n_clusters=90)\n",
    "km.fit(Y)"
   ]
  },
  {
   "cell_type": "code",
   "execution_count": 72,
   "metadata": {},
   "outputs": [],
   "source": [
    "labels = km.predict(Y)"
   ]
  },
  {
   "cell_type": "code",
   "execution_count": 73,
   "metadata": {},
   "outputs": [
    {
     "name": "stdout",
     "output_type": "stream",
     "text": [
      "defaultdict(<class 'set'>, {40: {'nbc', 'plata', 'constitución', 'santo', 'francisca', 'nasa', 'ama', 'estación', 'bujía', 'conmebol', 'cart', 'época', 'compañía', 'ecu', 'belga', 'alhambra', 'academia', 'saga', 'revolución', 'oea', 'organización', 'mancha', 'minigun', 'nba', 'naturaleza', 'ncaa', 'mode', 'wnba', 'cosecha', 'primera', 'cba', 'crisis', 'acadia', 'fraternidad', 'patagonia', 'marmota', 'contratierra', 'india', 'bestia', 'vertiente'}, 73: {'pamplona', 'shorty', 'floride', 'sirius', 'kubuntu', 'kirtland', 'kansas', 'riga', 'canadá', 'song', 'rhyno', 'torrevieja', 'corrientes', 'internet', 'sevilla', 'bdfa', 'mendoza', 'jesse', 'japón', 'hawaii', 'munich', 'indochina', 'hungría', 'smith', 'pylea', 'suiza', 'michigan', 'argentina', 'angel', 'cordelia', 'norteamérica', 'salta', 'groove', 'durango', 'méxico', 'múnich', 'wimbledon', 'antioquia', 'altair', 'cienfuegos', 'cross', 'alemania', 'catamarca', 'francia', 'luxemburgo', 'praga', 'tokio', 'neuquén', 'valenzuela', 'santiago', 'utah', 'italia', 'filipinas', 'china', 'españa', 'colombia', 'bolivia', 'australia', 'tokyo', 'europa', 'omoc', 'beverly', 'bogotá', 'cataluña', 'corea', 'luke', 'chipre', 'ecuador', 'wesley', 'hollywood', 'prayer', 'brasil', 'ltd', 'nicaragua', 'badajoz', 'ichigo', 'imdb', 'talladega', 'bischoff', 'link', 'cd', 'grecia', 'casalincontrada'}, 18: {'revivir', 'conllevar', 'según', 'experimentar', 'prestar', 'permitir', 'implementar', 'decidir', 'leer', 'intentar', 'prever', 'detectar', 'planear', 'deber', 'tras', 'lograr', 'conseguir', 'ser', 'emprender', 'jurar', 'concurrir', 'preferir', 'proporcionar', 'ocasionar', 'caber', 'recorrer', 'encender', 'cultivar', 'meter', 'apagar', 'causar', 'costar', 'fallecer', 'promediar', 'traer', 'querer', 'disparar', 'proponer', 'ejercer', 'complicar', 'configurar', 'tener', 'grabar', 'implicar', 'prevalecer', 'recibir', 'mediante', 'resultar', 'pretender', 'existir', 'oír', 'relatar', 'prometer', 'faltar', 'anotar', 'comprimir', 'decrementar', 'proyectar', 'cobrar', 'moderar', 'poder', 'poseer', 'durar', 'provocar', 'si', 'imprimir'}, 64: {'rival', 'humanista', 'esquimal', 'aspirante', 'guionista', 'alienígenas', 'pinjante', 'artista', 'artífice', 'portavoz', 'interfaz', 'congresista', 'novelista', 'habitante', 'punta', 'fabricante', 'piloto', 'atleta', 'ninja', 'but', 'guía', 'jinete', 'mar', 'policía', 'pariente', 'inmigrante', 'estudiante', 'ayudante', 'element', 'defensa', 'agente', 'guitarrista', 'testigo', 'azúcar', 'hincha', 'cliente', 'solista', 'fan', 'componente', 'cantante', 'periodista', 'dirigente', 'amante', 'líder', 'futbolista', 'adolescente', 'participante', 'juez', 'protagonista', 'aprendiz', 'batería'}, 9: {'junto', 'oficial', 'académico', 'románico', 'personal', 'útil', 'secundario', 'militar', 'natural', 'local', 'libre', 'técnico', 'consecutivo', 'rojo', 'ecuatoriano', 'federal', 'básico', 'inicial', 'portátil', 'argentino', 'musical', 'cubano', 'corriente', 'físico', 'biográfico', 'privar', 'indio', 'blanco', 'docente', 'mexicano', 'exterior', 'francés', 'colombiano', 'singular', 'público', 'central', 'unitario', 'natal', 'regular', 'americano', 'legal', 'político', 'prisionero', 'chileno', 'español', 'cultural', 'real', 'nacional', 'negro', 'móvil', 'profesional'}, 32: {'mentir', 'actuar', 'transformar', 'colocar', 'reportero', 'bautizar', 'contar', 'continuar', 'experto', 'fundamental', 'caer', 'luchar', 'tropezar', 'declinar', 'fallar', 'modificar', 'asistente', 'situar', 'interesar', 'localizar', 'rediseñar', 'competir', 'dudar', 'finalizar', 'invocar', 'coincidir', 'entrar', 'finalista', 'webcam', 'estadía', 'sudamericano', 'influir', 'pionero', 'dividir', 'desembocar', 'jugar', 'llano', 'ocurrir', 'ubicar', 'evolucionar', 'concentrar', 'almacenar', 'licenciar', 'colaborar', 'contiguo', 'j', 'fabricar', 'operar', 'mixtilíneo', 'inmerso', 'reelegible', 'organizar', 'trabajar', 'residir', 'mecenas', 'oculto', 'construir', 'nacer', 'aparecer', 'encerrar', 'arrastrar', 'precedente', 'fechar', 'embalsar', 'expresar', 'discurrir', 'rechazar', 'primero', 'participar', 'permanecer', 'científico', 'triste', 'basar', 'publicar', 'novedoso', 'estornudar', 'dormir', 'defraudar', 'especializar', 'fundar', 'reparar', 'insistir', 'debutar', 'enfocar', 'renacer', 'sujeto', 'morir', 'correr', 'aterrizar', 'plantar', 'adecuar', 'ocasión', 'andar', 'inspirar', 'truncar', 'vivir', 'fijar', 'figurar', 'entrenar', 'arf', 'consistir', 'avanzar'}, 60: {'futbol', 'vidrio', 'error', 'famille', 'basalto', 'roble', 'iceberg', 'delantero', 'adelantamiento', 'karaoke', 'peso', 'fantasía', 'oro', 'arranque', 'litro', 'pera', 'algodón', 'golf', 'interés', 'consejero', 'centrodelantero', 'motociclismo', 'pregrado', 'clavijero', 'baile', 'baloncesto', 'relleno', 'boxeo', 'cristal', 'portero', 'mármol', 'ocio', 'combustible', 'contenido', 'béisbol', 'escriba', 'capitel', 'clima', 'eco', 'entrenamiento'}, 31: {'tiempo', 'norte', 'disco', 'centro', 'diseño', 'arte', 'límite', 'oficio', 'desarrollo', 'hombre', 'giro', 'capítulo', 'escudo', 'grupo', 'pueblo', 'examen', 'área', 'rescate', 'corazón', 'sistema', 'programa', 'principio', 'partido', 'torneo', 'momento', 'ala', 'mundial', 'movimiento', 'equipo', 'libro', 'camino', 'maestre', 'sencillo', 'fiscal', 'paralelo', 'caso', 'gobernador', 'espacio', 'tema', 'resultado', 'jugador', 'fin', 'expresidente', 'filial', 'trabajo', 'médico', 'éxito', 'puesto', 'lugar', 'título', 'ideal', 'plano', 'cargo', 'canal', 'punto', 'grado', 'puente', 'diálogo', 'noroeste', 'lado', 'registro', 'campo', 'objetivo', 'conjunto', 'instrumento', 'clásico', 'interior', 'romance', 'cómputo', 'cruce', 'regreso', 'informativo', 'escenario', 'crucero', 'ascenso', 'transporte', 'papel', 'modelo', 'pololear', 'cuerpo', 'volumen', 'director', 'deshielo'}, 78: {'fiel', 'consecuente', 'interviniente', 'fértil', 'sugerente', 'posible', 'invencible', 'breve', 'fascinante', 'temporal', 'numeral', 'fill', 'tvtime', 'inteligente', 'enorme', 'maple', 'hostil', 'frecuente', 'reciente', 'an', 'frágil', 'doble', 'consiguiente', 'equal', 'notable', 'gran', 'anterior', 'relacional', 'caliente', 'feliz', 'inmune', 'peor', 'alucinante', 'contundente', 'tridimensional', 'habitual', 'menor', 'creciente', 'grave', 'puntual', 'regional', 'sublime', 'peculiar', 'difícil', 'inusual', 'fugaz', 'additional', 'or', 'impresionante', 'until', 'actual'}, 12: {'die', 'verdun', 'christchurch', 'timbaland', 'templars', 'nightwish', 'arphad', 'cervantes', 'coca', 'lord', 'zacarías', 'pärnu', 'alicante', 'huerta', 'pornocorridos', 'spirou', 'connemara', 'shaba', 'lille', 'campoy', 'lure', 'timberlake', 'flores', 'chaco', 'mannheim', 'castilla', 'rpm', 'douai', 'fabolous', 'phoenixville', 'canciones', 'villaviciosa', 'maxwell', 'washington', 'mejoras', 'misiones', 'steve', 'gramática', 'química', 'commercy', 'formosa', 'dvd', 'bqr', 'gimnasia', 'birmingham', 'albania', 'relloso', 'presupuesto', 'dunkerque', 'vesoul', 'santander', 'coig', 'türi', 'sita', 'cosmo', 'tartu', 'diamante', 'oz', 'wma', 'arminio', 'perú'}, 50: {'vv', 'concordia', 'fiestas', 'trama', 'discografía', 'títulos', 'saneamiento', 'venganza', 'fuentes', 'trayectoria', 'clubes', 'publicaciones', 'galería', 'sinópsis', 'recepción', 'hábitat', 'resumen', 'toponimia', 'filmografía', 'one', 'dobles', 'geografía', 'aa', 'nota', 'reacciones', 'emporis', 'be', 'descripción', 'directorio', 'blogspot', 'individuales', 'org', 'fresnillo', 'demografía', 'especificaciones', 'gastronomía', 'actores', 'monumentos', 'inicios', 'musealización', 'dir', 'miscelánea', 'return', 'gauss', 'bibliografía', 'argumento', 'automatización', 'wikipedia', 'comunicaciones', 'personajes', 'referenciar', 'patrimonio', 'definición', 'conectividad', 'movimientos', 'reparto', 'palmarés', 'comentarios', 'honorificados', 'equipos', 'singles', 'referencias', 'biografiar', 'novedades', 'historia', 'malin'}, 17: {'sucesivo', 'colaboración', 'cómo', 'danzar', 'nadie', 'numeroso', 'defunctis', 'diabetes', 'agregado', 'sirio', 'tal', 'vario', 'ai', 'cierto', 'cada', 'visitante', 'distinto', 'proteólisis', 'galés', 'diverso', 'ahorrar', 're', 'ambos', 'heavy', 'realidad', 'aquel', 'estonio', 'botánica', 'fa', 'grande', 'ninguno', 'pleno', 'coordinar', 'dónde', 'inglés', 'insertar', 'intenso', 'escala', 'notorio', 'indie', 'franco', 'portugués', 'circular', 'varios', 'banco', 'pronto', 'particular', 'alguien', 'neerlandés', 'secreto', 'cargar', 'quechua', 'cualquiera', 'menudo', 'escaso', 'future', 'sendos', 'arcada', 'echar', 'cuanto', 'bruto', 'verso', 'irlandés', 'alguno', 'tremolar', 'concreto', 'griego'}, 13: {'cocaína', 'tracción', 'manera', 'moda', 'impresión', 'semana', 'incertidumbre', 'droga', 'paz', 'telecomunicación', 'ignición', 'arena', 'altitud', 'diversión', 'seguridad', 'edad', 'cuna', 'cuota', 'inundación', 'subordinación', 'emisión', 'conservación', 'concordancia', 'mineralogía', 'informática', 'amabilidad', 'vanguardia', 'exhibición', 'montura', 'rosa', 'madera', 'continuación', 'alimentación', 'parrilla', 'piedra', 'fiebre', 'medicina', 'frecuencia', 'prisión', 'inconstitucionalidad', 'comunicación', 'balada', 'vigilancia', 'combustión', 'iniciativa', 'cooperación', 'preparación', 'seda', 'sillería', 'extensión', 'protección', 'costilla', 'televisión', 'unión', 'apertura', 'apuesta', 'maternidad', 'insulina', 'autonomía', 'elaboración', 'maquinaria', 'lava', 'experiencia', 'traición', 'protesta', 'vihuela', 'educación', 'animación', 'goma', 'ingeniería', 'telefonía', 'duración', 'temática', 'tormenta', 'física', 'boca', 'leguminosa', 'excepción', 'intercomunicación', 'suplente', 'vuelta', 'suma', 'natación', 'supervivencia', 'felicidad', 'carga', 'eliminación', 'botella'}, 28: {'minuto', 'retrato', 'cometido', 'módulo', 'parámetro', 'burgués', 'instinto', 'ducado', 'remate', 'millón', 'designador', 'recuerdo', 'vómito', 'admirador', 'gasto', 'tomo', 'compuesto', 'islote', 'coste', 'cuento', 'factor', 'mes', 'cargador', 'rebote', 'lector', 'hallazgo', 'ciento', 'empleado', 'intruso', 'semestre', 'mil', 'marinero', 'afectado', 'transplante', 'requerimiento', 'colocador', 'batallón', 'escrito', 'navío', 'hipódromo', 'foco', 'sobrenombre', 'dossier', 'doctorado', 'reto', 'diagrama', 'cuadro', 'rato', 'gol', 'sentimiento', 'bit', 'trato', 'protocolo', 'récord', 'pedazo'}, 79: {'restante', 'misterioso', 'skuas', 'chipriota', 'adulto', 'cuál', 'adalides', 'emigrante', 'californiano', 'pixies', 'franciscano', 'mongol', 'destrozar', 'nox', 'cruzados', 'rehén', 'santos', 'distante', 'tabbys', 'eterno', 'beatles', 'temible', 'ojos', 'trabajador', 'goreanos', 'tolanos', 'caballero', 'joven', 'siguiente', 'ilustrar', 'crusaders', 'demás', 'jesuita', 'especialista', 'demas', 'andes', 'vihuelista', 'scoobies', 'ojo', 'próximo', 'kurii', 'cronista', 'tollanos', 'nativo', 'grandes', 'demonio', 'stones'}, 23: {'dependencia', 'operación', 'lágrima', 'levadura', 'ampliación', 'lista', 'proteína', 'hoja', 'herramienta', 'excavación', 'rueda', 'autoridad', 'demanda', 'sala', 'pechina', 'elección', 'rodilla', 'tribu', 'táctica', 'precipitación', 'venda', 'ruta', 'broma', 'inmediación', 'mirada', 'coral', 'característica', 'plancha', 'meta', 'puerta', 'confusión', 'tensión', 'ría', 'pierna', 'estellas', 'facultad', 'huaca', 'escena', 'dimensión', 'moto', 'boludas', 'división', 'facción', 'estepa', 'célula', 'raya', 'acusación', 'herida', 'cátedra', 'sierra', 'sombra', 'costumbre', 'válvula', 'cumbre', 'recta', 'tropa', 'variable', 'plantilla', 'fila', 'cuerda', 'laguna', 'variación', 'cantera', 'campana', 'estribación', 'reliquia', 'estadística', 'finanzas', 'traza'}, 27: {'poema', 'tablero', 'miocardio', 'fútbol', 'audio', 'entretenimiento', 'desagüe', 'embargo', 'acceso', 'acantonamiento', 'arbitraje', 'pie', 'paseo', 'estreno', 'impulso', 'negocio', 'origen', 'pago', 'doblaje', 'repechaje', 'sastre', 'hierro', 'invierno', 'glucagón', 'caracol', 'carácter', 'recambio', 'tenis', 'realengo', 'dinero', 'hielo', 'defensor', 'teatro', 'hockey', 'intercambio', 'vasallaje', 'abandono', 'liderazgo', 'hormigón', 'honor', 'procesamiento', 'concejo', 'truco', 'suspense', 'color', 'descanso', 'crecimiento', 'órgano', 'ángel', 'respeto', 'débito', 'esquí', 'bautizo', 'aire', 'vídeo', 'detalle', 'núcleo', 'acuerdo', 'oxígeno', 'metal', 'acabado', 'cálculo', 'almacenamiento', 'posgrado', 'socorro'}, 8: {'pagar', 'educar', 'acabar', 'limar', 'atender', 'compartir', 'ocultar', 'concretar', 'inyectar', 'parar', 'imitar', 'obrar', 'vengar', 'funcionar', 'andrew', 'cazar', 'defender', 'posar', 'procesar', 'estudiar', 'entender', 'olvidar', 'apoyar', 'desecar', 'cuidar', 'pilotar', 'rellenar', 'robar', 'tocar', 'pelear', 'escapar', 'llorar', 'sonar', 'dictar', 'absorber', 'alinear', 'recolectar', 'proteger', 'manejar', 'proveer', 'brindar', 'comercializar', 'contestar', 'justificar', 'combatir', 'besar', 'matricular', 'triunfar', 'consultar', 'recuperar', 'ajustar'}, 26: {'venir', 'informar', 'devolver', 'aprender', 'gritar', 'ordenar', 'reservar', 'pasar', 'retornar', 'acudir', 'adscribir', 'dedicar', 'proceder', 'perteneciente', 'empezar', 'obligar', 'like', 'enseñar', 'acceder', 'llegar', 'encarnar', 'saltar', 'vencer', 'acompañar', 'matar', 'orientar', 'criticar', 'secretar', 'cubrir', 'adelantar', 'acoger', 'conversar', 'guiar', 'vincular', 'contrario', 'comenzar', 'referencia', 'limitar', 'ayudar', 'reingresar', 'devorar', 'ir', 'regresar', 'atar', 'adosar', 'introducción', 'exponer', 'homenaje', 'parecer', 'contribuir', 'referente', 'tender', 'renunciar', 'invitar', 'mandar', 'disponer', 'arreglar', 'entregar', 'trasladar', 'atribuir', 'pertenecer', 'forzar', 'arrojar', 'apuntar', 'derrotar', 'confesar', 'ascender', 'afectar', 'sacar', 'subir', 'caminar', 'cercano', 'perseguir', 'superior', 'encadenar', 'seducir', 'correspondiente', 'navegar', 'corresponder', 'masacrar', 'tributo', 'destinar', 'conectar', 'llevar', 'ingresar', 'alusión', 'incorporar', 'volver', 'atraer', 'resucitar', 'viajar', 'distraer', 'conducir', 'enfrentar', 'enviar', 'alabar', 'perpendicular', 'asistir'}, 49: {'optimizar', 'superar', 'explorar', 'mejorar', 'rociar', 'renovar', 'soportar', 'evitar', 'desembarcar', 'preservar', 'manipular', 'reorientar', 'potenciar', 'alcanzar', 'arrancar', 'cortar', 'concluir', 'consolidar', 'copiar', 'excavar', 'cumplir', 'garantizar', 'determinar', 'controlar', 'combinar', 'monitorizar', 'promover', 'abordar', 'curar', 'cruzar', 'expandir', 'plantear', 'completar', 'resaltar', 'marcar', 'restablecer', 'explotar', 'suprimir', 'respaldar', 'estallar', 'reventar', 'otorgar', 'romper', 'visitar', 'explicar', 'investigar', 'revisar', 'dirimir', 'retener', 'ganar', 'intercambiar', 'ampliar', 'replantear', 'financiar', 'hacia', 'recobrar', 'documentar', 'asumir', 'reportar', 'calcular', 'amenazar', 'alternar', 'obtener', 'preparar', 'prevenir', 'saquear', 'atravesar', 'iluminar', 'reabrir', 'reclutar', 'conquistar', 'bajo', 'aprobar', 'tomar', 'aprovechar', 'acreditar', 'facilitar', 'actualizar', 'alquilar', 'abandonar'}, 81: {'identificar', 'incluir', 'iniciar', 'terminar', 'dar', 'quedar', 'producir', 'recoger', 'salvar', 'desarrollar', 'pedir', 'representar', 'sufrir', 'disputar', 'considerar', 'detener', 'reconocer', 'crear', 'pronunciar', 'realizar', 'añadir', 'respetar', 'definir', 'frenar', 'mantener', 'utilizar', 'escribir', 'ofrecer', 'destacar', 'constituir', 'agregar', 'girar', 'usar', 'suceder', 'comunicar', 'introducir', 'presentar', 'perder', 'reflejar', 'abrir', 'sostener', 'seguir', 'estrenar', 'reducir', 'poner', 'hacer', 'describir', 'comprender', 'integrar', 'establecer', 'requerir', 'autorizar', 'aceptar', 'aumentar', 'vender', 'cambiar', 'doblar', 'incrementar', 'repetir', 'transmitir', 'prolongar', 'sumar', 'admitir', 'ocupar', 'impartir', 'implantar', 'levantar', 'dejar'}, 51: {'propietario', 'poniente', 'record', 'villano', 'taller', 'ordenamiento', 'lapso', 'fortalecimiento', 'mandato', 'administrador', 'traslado', 'himno', 'cauce', 'propósito', 'establecimiento', 'delta', 'filo', 'uso', 'apoyo', 'álbum', 'sur', 'cántico', 'ejercicio', 'periódico', 'guión', 'periodo', 'municipio', 'octavo', 'choque', 'afán', 'ranking', 'singstar', 'marqués', 'concejal', 'dedo', 'sureste', 'fenómeno', 'jurado', 'cadáver', 'salón', 'empleo', 'techo', 'apellido', 'cierre', 'repertorio', 'rango', 'goleador', 'cuidado', 'ministro', 'alcalde', 'desfile', 'odio', 'concepto', 'distrito', 'censo', 'aprendizaje', 'pecho', 'estallido', 'museo', 'concurso', 'condado', 'manejo', 'manillar', 'levantamiento', 'descubrimiento', 'vigía', 'sudeste', 'mosto', 'esplendor', 'convento', 'promotor', 'caldo', 'otoño', 'número', 'nombre', 'maestro', 'conde', 'tribunal', 'poblado', 'aumento', 'panorama', 'símbolo', 'campamento', 'valle', 'autor', 'comportamiento', 'subcampeonato', 'catálogo', 'elenco', 'librillo', 'acrónimo', 'triunfo', 'seno', 'noreste', 'estuario', 'mando', 'estrecho', 'fallecimiento', 'verano', 'festival', 'advenimiento', 'sueño', 'duque', 'embarazo', 'demo', 'pelaje', 'pedal', 'régimen', 'resto', 'despacho', 'amparo', 'conflicto', 'bus', 'costado'}, 61: {'asi', 'realmente', 'sólo', 'Normalmente', 'Nuevamente', 'aparte', 'anteriormente', 'paradójicamente', 'Finalmente', 'tampoco', 'Anualmente', 'simplemente', 'ahí', 'claramente', 'Históricamente', 'implicitly', 'respectivamente', 'jamás', 'to', 'this', 'Generalmente', 'allí', 'entonces', 'Igualmente', 'aproximadamente', 'add', 'todavía', 'definitivamente', 'permanentemente', 'menos', 'aquí', 'explicitly', 'dentro', 'Actualmente', 'Posteriormente', 'nunca', 'implementations', 'Inicialmente', 'lejos', 'siquiera', 'ahora', 'taylorii', 'recién', 'diariamente', 'antiguamente', 'luego', 'aun', 'run', 'otrora', 'abajo', 'apenas', 'Lamentablemente', 'viceversa', 'allows', 'consecuentemente', 'además', 'demasiado', 'finalmente', 'Anteriormente', 'así', 'posteriormente', 'asimismo', 'casi', 'kami', 'ocasionalmente', 'siempre', 'tambien'}, 5: {'apfelwein', 'caudillo', 'leyes', 'nas', 'palermo', 'groovetron', 'cuzco', 'old', 'chelsea', 'occidente', 'ajusco', 'sardar', 'aniceto', 'tx', 'wilson', 'apfelwine', 'bebedero', 'opus', 'xv', 'arn', 'ungido', 'pacífico', 'fulham', 'pdp', 'atlántico', 'officium', 'bronze', 'aconcagua', 'qpr', 'arsenal', 'requiescant', 'shea', 'búho', 'f', 'septum', 'farc', 'misisipi', 'secretariado', 'bdsm', 'whirlwind', 'vaupés', 'beagle', 'sg', 'kremlin', 'rin', 'ubar', 'microtac', 'iberá', 'cairo', 'sol', 'elecciones', 'justified', 'turbo', 'comandante', 'g', 'enarm', 'ebro', 'quijote', 'mosel', 'fascismo', 'cortes', 'sgc', 'cev', 'coro', 'guaviare', 'adn', 'ulster'}, 15: {'ohio', 'hindú', 'gijón', 'américa', 'áfrica', 'levante', 'metallica', 'arleux', 'castelao', 'cambridge', 'irlanda', 'lekeitio', 'ar', 'järvamaa', 'hesse', 'andalucía', 'cuba', 'ancerville', 'quintueles', 'tortosa', 'sunnydale', 'asia', 'nápoles', 'clarkston', 'missouri', 'tiro', 'padua', 'jujuy', 'geras', 'finlandia', 'jerez', 'serbia', 'kosovo', 'cillaperlata', 'stenay', 'shakespeare', 'siria', 'höfn', 'luisiana', 'bolívar', 'cheste', 'järva', 'tepeaca', 'menéndez', 'tv', 'puebla', 'zamora', 'chile', 'plasencia', 'joe', 'cádiz', 'vaduz', 'oviedo', 'armentières', 'knoxville', 'merlin', 'debian', 'lincoln', 'xen', 'cristo', 'montebourg', 'monterrey', 'caquetá', 'guadalajara', 'gales', 'córdoba', 'granderroble', 'sáenz', 'kylemore', 'valderrábano', 'belfast', 'mývatn', 'augsburgo'}, 59: {'características', 'sencillos', 'tendencias', 'músicos', 'mirador', 'intérpretes', 'fechas', 'amplificación', 'imperialista', 'lugares', 'turismo', 'skycraperpage', 'desbloqueables', 'premios', 'endofarticle', 'bbc', 'videojuegos', 'notas', 'cursos', 'justice', 'curiosidades', 'traducciones', 'escenarios', 'presentadores'}, 21: {'enterrar', 'equipar', 'elaborar', 'preclasificado', 'remover', 'traspasar', 'transferir', 'emigrar', 'decorar', 'obsesionar', 'firmar', 'asignar', 'reconstruir', 'idear', 'editar', 'manchar', 'amurallar', 'prohibir', 'conocer', 'elevar', 'diseñar', 'reclamar', 'comprar', 'concebir', 'armar', 'atrapar', 'rodar', 'apropiar', 'nombrar', 'herir', 'elogiar', 'apasionar', 'acoplar', 'adiestrar', 'condenar', 'contratar', 'sobrevivir', 'encarcelar', 'seleccionar', 'acuñar', 'involucrar', 'reorganizar', 'asustar', 'confirmar', 'solicitar', 'curvar', 'cesar', 'galardonar', 'relacionar', 'presionar', 'inaugurar', 'fusilar', 'filmar', 'lanzar', 'registrar', 'cerrar', 'promulgar', 'conceder', 'poblar', 'esparcir', 'confundir', 'sepultar', 'vestir', 'escoger', 'citar', 'catalogar', 'mezclar', 'crecer', 'emplear'}, 89: {'presidir', 'reglar', 'autografiar', 'surcar', 'influenciar', 'agrupar', 'liderar', 'caminata', 'comandar', 'formar', 'cometer', 'dirigir', 'habitar', 'generar', 'rodear', 'coronar', 'popularizar', 'emmy', 'interpretar', 'premiar', 'redactar', 'componer', 'salpicar', 'rematar', 'dominar', 'originar', 'guardar', 'dorar', 'encabezar', 'peabody', 'nominado', 'apreciar', 'prórroga', 'fichar', 'cantar', 'reivindicar', 'interrumpir', 'impresionar', 'campar', 'recubrir', 'guardaespaldas', 'conformar', 'juzgar', 'sustentar', 'optar', 'encomendar', 'devastar', 'ficha', 'protagonizar'}, 36: {'esperanza', 'personalidad', 'restauración', 'invitación', 'forma', 'ceremonia', 'doctrina', 'rivalidad', 'ciudad', 'programación', 'opinión', 'luz', 'conexión', 'misa', 'burbuja', 'calidad', 'marcha', 'fama', 'cantidad', 'utilización', 'comarca', 'corte', 'playa', 'enseñanza', 'renuncia', 'fusión', 'caída', 'aparición', 'evolución', 'excelencia', 'dedicación', 'armada', 'unanimidad', 'participación', 'estrategia', 'importancia', 'catedral', 'reducción', 'derrota', 'distancia', 'resistencia', 'localidad', 'medalla', 'declaración', 'temporada', 'década', 'expresión', 'sal', 'difusión', 'venta', 'integración', 'niñera', 'chicana', 'cobertura', 'humedad', 'victoria', 'pasión', 'sonata', 'retransmisión', 'sede', 'rectoría', 'admisión', 'gira', 'incorporación', 'multitud', 'locura', 'influencia', 'coordinación', 'mansión', 'precisión', 'afluencia', 'salida', 'batalla', 'fecha', 'inclusión', 'búsqueda', 'posibilidad', 'comisaría', 'crecida', 'oportunidad', 'causa', 'iniciación', 'ermita', 'candidatura', 'acción', 'jurisdicción', 'ideología', 'web', 'totalidad', 'confluencia', 'plataforma', 'decoración', 'compra', 'fase', 'cadena', 'llegada', 'intención', 'magnitud', 'creación', 'página', 'grabación', 'capilla', 'data', 'navegación', 'infancia', 'vinculación', 'permanencia', 'cabecera', 'altura', 'optimización', 'separación', 'orilla', 'abundancia', 'constancia', 'continuidad', 'coloración', 'barra', 'validez', 'expedición', 'evacuación', 'etapa', 'adicción', 'portada', 'mayoría', 'distribución'}, 35: {'digraph', 'reality', 'beber', 'juicio', 'cruel', 'juego', 'acertar', 'extremo', 'paciente', 'precursor', 'británico', 'futuro', 'oponente', 'máximo', 'almirante', 'mal', 'gobierno', 'horario', 'terreno', 'mismo', 'páncreas', 'documental', 'campeonato', 'amor', 'diablo', 'espectáculo', 'renacimiento', 'término', 'mundo', 'presente', 'alienígena', 'cervato', 'solar', 'país', 'proyecto', 'paraninfo', 'manga', 'explorador', 'ámbito', 'arzobispo', 'pancreas', 'andante', 'anciano', 'material', 'celoso', 'reír', 'neoclasicismo', 'cine', 'pirata', 'viejo', 'operativo', 'género', 'fuego', 'ruso', 'paisaje'}, 2: {'cabeza', 'pretensión', 'reforma', 'ley', 'leyenda', 'clase', 'pieza', 'orden', 'pendiente', 'pirámide', 'asociación', 'noche', 'frontera', 'cartera', 'línea', 'autenticidad', 'casta', 'tierra', 'actividad', 'expulsión', 'institución', 'presencia', 'superficie', 'serie', 'ironía', 'combinación', 'vida', 'presidencia', 'obligación', 'lengua', 'edición', 'mitad', 'toma', 'constelación', 'estrella', 'cara', 'habilidad', 'situación', 'figura', 'esencia', 'dirección', 'prueba', 'iglesia', 'cuestión', 'lectura', 'producción', 'administración', 'base', 'masa', 'fiesta', 'marca', 'zona', 'pérdida', 'promoción', 'colección', 'favorito', 'práctica', 'hora', 'razón', 'humillación', 'celebración', 'tendencia', 'bolsa', 'necesidad', 'idea', 'carátula', 'semifinal', 'cima', 'donación', 'categoría', 't', 'desembocadura', 'colonia', 'proliferación', 'casa', 'estructura', 'aceptación', 'construcción', 'pintura', 'existencia', 'singularidad', 'izquierda', 'ocupación', 'entrada', 'sección', 'parroquia', 'investigación', 'memoria', 'canción', 'oposición', 'unidad', 'posición', 'transformación', 'acumulación', 'persecución', 'traducción', 'rama', 'lucha', 'conclusión', 'cuenca', 'escuela', 'ayuda', 'ilustración', 'representación', 'ira', 'reina', 'diocesis', 'atención', 'falta', 'luna', 'arquitectura', 'divisoria', 'columna', 'región', 'imagen', 'medida', 'ubicación', 'determinación', 'represa', 'rendición', 'fuerza', 'liberación', 'conquista', 'final', 'muerte', 'realización', 'publicación', 'actuación', 'obra', 'clave', 'delegación', 'provincia', 'secreción', 'película', 'tesis', 'presentación', 'particularidad', 'radio', 'licencia', 'campaña', 'terraza', 'flota', 'competición', 'vía', 'bahía', 'síntesis', 'versión', 'crueldad', 'familia', 'ejecución', 'capital', 'resolución', 'tradición', 'plaza'}, 55: {'vásquez', 'tarifa', 'gor', 'youtube', 'nintendo', 'peramola', 'navidad', 'estonia', 'arwad', 'frankfurt', 'elinor', 'france', 'germania', 'merlo', 'pelotón', 'burgos', 'liechtenstein', 'atoyatempan', 'florida', 'charlesfort', 'atlanta', 'toledo', 'bismarck', 'medellín', 'daytona', 'ds', 'benavente', 'hulagu', 'malvinas', 'mosa', 'pantaleón', 'cazadora', 'merindades', 'villarcayo', 'letonia', 'popayán', 'zantetsu', 'talena', 'matanzas', 'sollano', 'ebbelwoi', 'matulic', 'nävis', 'bambi', 'martínez', 'stereolab', 'sheila', 'valparaíso', 'paide', 'rusia', 'ross', 'cheshire', 'ludwig', 'madonna', 'dios', 'islandia', 'germánico', 'olivares', 'gourgues', 'livonia', 'tepeji', 'algeciras', 'ruad', 'galveston', 'galway', 'chevalier', 'schwarzenegger', 'aprilia', 'lorena', 'antofagasta', 'reyes', 'mozart', 'farragut', 'drôme', 'dragón', 'henan', 'berberana', 'aleix', 'buitrago', 'lorca', 'alamos', 'tipperary', 'reykjahlíð', 'faline', 'sonora'}, 83: {'personalizar', 'architecture', 'enfermedad', 'cosianos', 'norteamericano', 'fingerboard', 'lines', 'musulmán', 'esclavizar', 'externo', 'dolar', 'tue', 'islandés', 'contrato', 'aditivo', 'jaspear', 'sobrar', 'corredor', 'palo', 'feat', 'administrativo', 'igual', 'cc', 'gastar', 'cristiano', 'esquina', 'paradero', 'costoso', 'mentira', 'mozartiano', 'encajonar', 'colaborador', 'divorciar', 'subordinado', 'list', 'pickups', 'lípido', 'comunidad', 'gubernamental', 'desambiguación', 'vivace', 'universal', 'indígena', 'matanza', 'queue', 'amnistiar', 'cola', 'dormitorio', 'maravedí', 'maps', 'tío', 'motocicleta', 'riqueza', 'palatizadas', 'vasallo', 'penal', 'moneda', 'granjero', 'vs', 'eslovaco', 'appassionato', 'proporción', 'rígido', 'pastilla', 'postgrado', 'exhausted', 'cantorcicos', 'circunstancia', 'romántico', 'competidor', 'victorioso', 'p', 'neoclásico'}, 85: {'harto', 'clasificatorio', 'mediterráneo', 'cinematográfico', 'gregoriano', 'recto', 'exacto', 'directivo', 'trasero', 'melódico', 'híbrido', 'anónimo', 'electrónico', 'pecuario', 'profano', 'fronterizo', 'turístico', 'narrativo', 'masivo', 'irónico', 'mestizo', 'decisivo', 'jurídico', 'magnífico', 'ligero', 'inalámbrico', 'automático', 'autónomo', 'rumano', 'finlandés', 'sanguíneo', 'sacro', 'tecnológico', 'clínico', 'estereográfico', 'farmacéutico', 'costero', 'endorreico', 'universitario', 'europeo', 'definitivo', 'investigador', 'gaditano', 'económico', 'interno', 'gratuito', 'inmediato', 'patagónico', 'fotográfico', 'subterráneo'}, 86: {'rivera', 'reykjavík', 'gallegos', 'albornoz', 'trinidad', 'deportes', 'miraflores', 'xvi', 'miguel', 'roa', 'ciara', 'dj', 'marlenus', 'ii', 'xtone', 'letras', 'púa', 'tucumán', 'percusión', 'pai', 'whistle', 'uruguay', 'giglio', 'orquesta', 'león', 'lobos', 'jane', 'gunn', 'rosales', 'fran', 'megadeth', 'wanda', 'rosello', 'jorgen', 'academias', 'presentador', 'darla', 'regulus', 'gowen', 'egipto', 'margarita', 'dru', 'murcia', 'david', 'fantasio', 'arequipa', 'short', 'pradera', 'pharrell', 'marengo', 'zúñiga', 'telesport', 'polifonía', 'venezuela', 'jurisprudencia', 'stripped'}, 37: {'popular', 'general', 'liberal', 'rural', 'leal', 'conceptual', 'similar', 'formal', 'provincial', 'procedente', 'auxiliar', 'comercial', 'baterista', 'posterior', 'goreana', 'ausente', 'meridional', 'franquista', 'mineral', 'comunista', 'septentrional', 'judicial', 'municipal', 'triangular', 'especial', 'terminal', 'funcional', 'estelar', 'sostenible', 'alfa', 'brillante', 'imposible', 'occidental', 'excepcional', 'ciclista', 'suave', 'constitucional', 'disponible', 'peatonal', 'altisonante', 'fascista', 'ilustre', 'elemental', 'canadiense', 'criminal', 'sample', 'fácil', 'territorial', 'moral', 'laboral', 'ejemplar', 'medieval', 'presidencial'}, 0: {'altar', 'suelo', 'prestigio', 'compositor', 'turbocompresor', 'idealismo', 'muñeco', 'casco', 'vigor', 'cielo', 'tránsito', 'tamarindo', 'castillo', 'trayecto', 'planeta', 'cementerio', 'procedimiento', 'secuestro', 'tono', 'latín', 'horizonte', 'teclado', 'booklet', 'gallardete', 'jardín', 'cáncer', 'instituto', 'triatlón', 'filósofo', 'barrio', 'consumo', 'shintoísmo', 'pecado', 'oeste', 'puma', 'gatillo', 'ejército', 'imperio', 'sabor', 'humor', 'cabildo', 'deporte', 'tráfico', 'agrarismo', 'paraje', 'folclore', 'dúo', 'monasterio', 'estómago', 'periodismo', 'esquema', 'botón', 'presidente', 'motor', 'vendedor', 'medidor', 'recorrido', 'surco', 'calendario', 'claustro', 'cubo', 'sector', 'micrófono', 'calado', 'alfabeto', 'club', 'gabinete', 'nodo', 'suroeste', 'pasado', 'templo', 'talento', 'relieve', 'desierto', 'colegio', 'volante', 'comercio', 'villismo', 'plantel', 'transepto', 'castellano', 'atentado', 'continente', 'sultán', 'candidato', 'terrorismo', 'palenque', 'conductor', 'contravolante', 'pensamiento', 'palacio', 'gato', 'recinto', 'republicanismo', 'universo', 'arroyo', 'observatorio', 'ayuntamiento', 'capullo', 'yacimiento', 'acelerador', 'mercado', 'estándar', 'carnaval', 'asentamiento', 'desastre', 'premio', 'cómic', 'tabby', 'territorio', 'instructor', 'ruido', 'destino', 'legado', 'meteoro', 'algoritmo', 'asfalto', 'baby', 'salto', 'macizo', 'exilio', 'mausoleo', 'doctor', 'rey', 'parque', 'escape', 'manuscrito', 'disfraz', 'videoclip', 'intestino', 'lirismo', 'tango', 'infierno', 'amanecer', 'permiso', 'precepto', 'ciervo', 'organismo', 'obelisco', 'proglucagón', 'adversario'}, 4: {'kivi', 'most', 'enigma', 'svartifoss', 'segundar', 'boatwright', 'source', 'insee', 'chansons', 'com', 'dorian', 'vector', 'carr', 'datos', 'university', 'luisa', 'bust', 'using', 'intabulaciones', 'exploración', 'jelo', 'distinciones', 'glossa', 'campeonatos', 'romances', 'institut', 'spanish', 'mención', 'comic', 'there', 'ejemplos', 'imation', 'cousas', 'gonzález', 'baritone', 'diccionario', 'guarda', 'enterprise', 'lima', 'set', 'kaskade', 'años', 'ultrastar', 'move', 'º', 'bancos', 'continue', 'colonización', 'regulación', 'malmea', 'frida', 'ibn', 'nuncarga', 'gt', 'enlace', 'vicepresidente', 'mec', 'net', 'polígono', 'boston', 'texts', 'iranians', 'if', 'vinum', 'lost', 'rosewood', 'krafla', 'guapo', 'favorable', 'cambios', 'juntos', 'minar', 'actividades', 'mellefresh', 'cursivo', 'josé', 'palanca'}, 46: {'acuífero', 'senador', 'templario', 'predicado', 'cable', 'clan', 'jurisconsulto', 'procesador', 'marzo', 'ramal', 'croata', 'cerro', 'recluta', 'alquiler', 'cabo', 'volcán', 'golfo', 'dique', 'ferrocarril', 'monte', 'bachiller', 'glaciar', 'rio', 'nevado', 'capitán', 'diario', 'microcontrolador', 'lago', 'hotel', 'licenciado', 'impresor', 'río', 'laudo', 'océano', 'cañón'}, 48: {'amazonas', 'colorado', 'curacó', 'pilcomayo', 'suir', 'jökulsá', 'quinto', 'paraná', 'tajo', 'salado', 'deseado', 'vosk', 'desaguadero', 'bermejo', 'teuco', 'weser', 'lozoya', 'jerea'}, 77: {'listado', 'provenir', 'emblemático', 'rector', 'salar', 'acusar', 'disfrutar', 'diferir', 'inferior', 'metropolitano', 'propiedad', 'sinónimo', 'arrebatar', 'total', 'egresar', 'marea', 'programar', 'campeon', 'consultor', 'listar', 'timucua', 'soporte', 'terrorista', 'representativo', 'depender', 'sobreviviente', 'derivar', 'integrante', 'pierreodendron', 'huir', 'terror', 'alejar', 'sustitución', 'cumpleaños', 'prisioneros', 'variedad', 'hijo', 'aproximar', 'orar', 'par', 'visión', 'afluente', 'carecer', 'disfrazar', 'profeta', 'atractivo', 'seguidor', 'constar', 'bajar', 'compañero', 'hablar', 'descendiente', 'crónica', 'deslizamiento', 'diplomático', 'calificar', 'asesor', 'descarga', 'originario', 'sustituto', 'generación', 'departamento', 'responsable', 'separar', 'consciente', 'morar', 'réplica', 'oriental', 'mot', 'dependiente', 'apartar', 'partir', 'tratar', 'capaz', 'adaptación', 'cerca', 'representante', 'convencer', 'mediar', 'endémico', 'permanente', 'ronda', 'salir', 'tarjeta', 'gozar', 'proveniente', 'datar', 'presto', 'parada', 'souvenirs', 'papal', 'surgir', 'encargar', 'ending', 'parte', 'emanar', 'exponente', 'reacción', 'resurgir', 'poseedor'}, 43: {'noruego', 'scanline', 'diputado', 'lodo', 'mas', 'tambor', 'east', 'looping', 'cuerdo', 'diésel', 'west', 'ídolo', 'piano', 'rostro', 'from', 'hip', 'trance', 'defunctorum', 'alcance', 'for', 'Äppler', 'storyboard', 'educador', 'géographique', 'responsorio', 'pan', 'abdomen', 'nordeste', 'cuchillo', 'margen', 'renombre', 'mensajero', 'stack', 'body', 'black', 'as', 'ganado', 'by', 'kazajo', 'flash', 'traductor', 'salmo', 'polonaise', 'astrónomo', 'logo', 'that', 'rendimiento', 'cordobés', 'up', 'multijugador', 'bando', 'top', 'premium', 'and', 'pop', 'equipped', 'rock', 'protagonismo', 'dem', 'at', 'vintage', 'marido', 'can', 'entrenador', 'regidor'}, 30: {'sagrado', 'interino', 'gemelo', 'vivo', 'liso', 'nocturno', 'tailandés', 'previo', 'barroco', 'adjunto', 'activo', 'extranjero', 'marrar', 'hawaiano', 'suriano', 'funerario', 'psicológico', 'directo', 'típico', 'australiano', 'intermedio', 'parlamentario', 'artístico', 'homónimo', 'electo', 'botánico', 'periférico', 'partidario', 'ficticio', 'protagónico', 'histórico', 'legislativo', 'analógico', 'arqueológico', 'urbano', 'ibérico', 'numérico', 'completo', 'característico', 'educativo', 'entero', 'amoroso', 'arquitectónico', 'alemán', 'cautivo', 'izquierdo', 'intimidar', 'astronómico', 'catalán', 'tardo', 'genérico'}, 54: {'tecnología', 'tranquilidad', 'reunión', 'legislación', 'tristeza', 'carretera', 'libertad', 'vista', 'transmisión', 'garita', 'sastrería', 'cabaña', 'transición', 'religión', 'pobreza', 'agricultura', 'música', 'independencia', 'velocidad', 'poesía', 'espadaña', 'nieve', 'escritura', 'tecla', 'manzana', 'astronomía', 'picardía', 'primavera', 'votación', 'metalurgia', 'mano', 'violencia', 'cárcel', 'salud', 'abogacía', 'convivencia', 'clasificación', 'sidra', 'sangre', 'energía', 'cruz', 'compresión', 'antigüedad', 'mampostería', 'fortuna', 'justicia', 'soberanía', 'espera', 'dicha', 'glucosa', 'aceleración', 'prensa', 'máquina', 'recreación', 'estabilidad', 'visita', 'proyección', 'ficción', 'democracia', 'ternura', 'potencia', 'orientación', 'complejidad', 'quinta', 'información', 'guitarra', 'lógica'}, 33: {'dvds', 'tennessee', 'proceedings', 'zaragoza', 'coyle', 'poesías', 'maitines', 'man', 'nj', 'villamartín', 'cetram', 'hell', 'cowdery', 'martin', 'c', 'california', 'pennsylvania', 'lillo', 'inglaterra', 'mint', 'journal', 'superstar', 'linux', 'valencia', 'circa', 'bachelor', 'massachusetts', 'opera', 'sinaloa', 'rosenstock', 'rosario', 'basilea', 'secretario', 'fred', 'milán', 'paraguay', 'morelos', 'arpad', 'illinois', 'racing', 'ad', 'eisa', 'h', 'huila', 'essbase', 'bilbao', 'hidalgo', 'texas', 'tarragona', 'hereveri', 'aguilera', 'delcourt', 'bélgica', 'théorie', 'aozora'}, 68: {'árabe', 'comparable', 'tribal', 'considerable', 'octogonal', 'anual', 'manierista', 'rectangular', 'internacional', 'demócrata', 'intestinal', 'sexual', 'polar', 'estadounidense', 'individual', 'institucional', 'satelital', 'inca', 'celular', 'torrevejense', 'interventricular', 'manual', 'espacial', 'londinense', 'muscular', 'independiente', 'viviente', 'digital', 'original', 'industrial'}, 62: {'extraño', 'feroz', 'último', 'cuádruple', 'talk', 'obvio', 'nutrir', 'sutil', 'esencial', 'auténtico', 'solo', 'brutal', 'cuyo', 'aislar', 'propio', 'simple', 'ex', 'amplio', 'malo', 'primitivo', 'contrastante', 'mayor', 'corto', 'mejor', 'bhajan', 'pequeño', 'agenda', 'fuerte', 'aclamar', 'complejo', 'perfecto', 'nuevo', 'constante'}, 6: {'valor', 'motivo', 'titular', 'derecho', 'producto', 'mecanismo', 'inicio', 'episodio', 'drama', 'objeto', 'control', 'circuito', 'paso', 'nacimiento', 'tubo', 'ganador', 'lanzamiento', 'fundador', 'signo', 'ingreso', 'zumo', 'artículo', 'tratado', 'proceso', 'lateral', 'miembro', 'sensor', 'carrera', 'profesor', 'nivel', 'estudio', 'archipiélago', 'satélite', 'golpe', 'peligro', 'fruto', 'problema', 'aspecto', 'intento', 'socio', 'comienzo', 'deseo', 'cambio', 'marco', 'solsticio', 'diseñador', 'acto', 'intérprete', 'largo', 'eje', 'rasgo', 'elemento', 'discípulo', 'guerrero', 'personaje', 'amigo', 'curso', 'músico', 'estampado', 'mapa', 'aviso', 'esclavo', 'grito', 'plan', 'mensaje', 'esfuerzo', 'medio', 'contacto', 'litoral', 'dominio', 'creador', 'vecino', 'dibujo', 'estilo', 'filtro', 'jefe', 'mercenario'}, 58: {'practicar', 'caracterizar', 'regenerar', 'disputarón', 'fusionar', 'sorprender', 'desplazar', 'ensuciar', 'remontar', 'aplicar', 'conservar', 'desconocer', 'adentrar', 'deducir', 'observar', 'enterar', 'merecer', 'enmarcar', 'preocupar', 'mostrar', 'repartir', 'erguir', 'esconder', 'inscribir', 'distinguir', 'detallar', 'denominar', 'negar', 'burlar', 'sentar', 'retomar', 'reunir', 'complementar', 'extraer', 'agravar', 'suspender', 'solapar', 'distribuir', 'comprobar', 'notificar', 'desatar', 'manifestar', 'edificar', 'sentir', 'encontrar', 'ignorar', 'ligar', 'rehusar', 'demorar', 'celebrar', 'desempeñar', 'librar', 'soler', 'especificar', 'ejecutar', 'doctorar', 'extender', 'oponer', 'recurrir', 'afiliar', 'mencionar', 'batir', 'acercar', 'topar', 'asemejar', 'saber', 'hallar', 'recomendar', 'comer', 'acostar', 'asociar', 'desmayar', 'desprender', 'profesar', 'reeditar'}, 38: {'delicado', 'duro', 'valioso', 'paulatino', 'siniestro', 'ambiguo', 'prestigioso', 'fatídico', 'doloroso', 'andaluz', 'fantástico', 'árido', 'oceánico', 'generoso', 'voluptuoso', 'sólido', 'autonómico', 'bueno', 'listo', 'justo', 'cantábrico', 'continuo', 'mínimo', 'correcto', 'extenso', 'antiguo', 'fino', 'rotundo', 'acelerar', 'into', 'verdadero', 'gigantesco', 'único', 'mítico', 'explícito', 'relativo', 'hermoso'}, 70: {'wav', 'hillsboro', 'lcd', 'robocannon', 'madrigals', 'kennedy', 'escocia', 'bond', 'technology', 'aubl', 'ono', 'viedma', 'pcb', 'renaissance', 'cpu', 'sheffield', 'pampa', 'rolap', 'atoyac', 'lic', 'roy', 'vatnajökull', 'medicine', 'flamenco', 'mario', 'torres', 'altiplanicie', 'indonesia', 'arancibia', 'iztaccíhuatl', 'iras', 'cazavampiros', 'eeuu', 'empire', 'kong', 'narim', 'pp', 'benth', 'will', 'queen', 'iv', 'balances', 'main', 'fighters', 'departamental', 'bancaja', 'weißenstein', 'vain', 'tollan', 'cazadoras', 'kisaragi', 'st', 'atuel'}, 29: {'peruano', 'católico', 'carismático', 'democrático', 'aéreo', 'honesto', 'gástrico', 'femenino', 'zamorano', 'vikingo', 'sordo', 'andino', 'doméstico', 'cooperativo', 'valeroso', 'discográfico', 'mecánico', 'necesario', 'geográfico', 'solidario', 'mágico', 'autoritario', 'repentino', 'serio', 'escocés', 'protector', 'ácido', 'binario', 'magnético', 'delgado', 'humanitario', 'monástico', 'deportivo', 'italiano', 'egipcio', 'remoto', 'discreto', 'pedáneo', 'gráfico', 'venezolano', 'selecto', 'climático', 'chino', 'amistoso', 'paterno', 'inactivo', 'gaélico', 'eléctrico', 'literario', 'legítimo', 'uruguayo', 'amarillo', 'goreano', 'televisivo', 'humano'}, 74: {'kompa', 'jaghan', 'estimar', 'renombrado', 'temer', 'asegurar', 'cálido', 'importar', 'demostrar', 'exigir', 'decir', 'declarar', 'preguntar', 'sospechar', 'ensordecedor', 'esperar', 'impedir', 'señalar', 'revelar', 'claro', 'indicar', 'probar', 'descubrir', 'anticipar', 'intuir', 'desear', 'suponer', 'argumentar', 'pensar', 'remedio', 'creer', 'afirmar', 'reiterar', 'anunciar', 'advertir'}, 44: {'comparación', 'relación', 'formación', 'sucesión', 'tabla', 'topografía', 'carta', 'recuperación', 'desventaja', 'planta', 'red', 'flecha', 'recopilación', 'variante', 'explicación', 'imaginación', 'infraestructura', 'inyección', 'bebida', 'tienda', 'tumba', 'atmósfera', 'explosión', 'desviación', 'fábrica', 'instalación', 'oficina', 'adición', 'agresión', 'locomotora', 'junta', 'revisión', 'calzada', 'deformación', 'pelota', 'suerte', 'patrulla', 'aerolínea', 'compilación', 'exposición', 'epidemia', 'aldea', 'mina', 'mezcla', 'raza', 'mañana', 'disminución', 'cámara', 'guarnición', 'oferta', 'foto', 'imitación', 'caja', 'capacidad', 'norma', 'sensación', 'ráfaga', 'recompensa', 'rebelión', 'farmacia', 'mascota'}, 1: {'marítimo', 'japonés', 'sonoro', 'unificar', 'suizo', 'privilegiar', 'antioqueña', 'letón', 'dominico', 'embarazar', 'materno', 'imaginar', 'calizo', 'inclinar', 'madrileño', 'sino', 'biológico', 'telefónico', 'cómico', 'metálico', 'soberano', 'ferroviario', 'periodístico', 'latino', 'colectivo', 'extremeño', 'cuadrar', 'normal', 'poético', 'antártico', 'corporativo', 'acomodar', 'giratorio', 'comparar', 'motivar', 'pampeano', 'planetario'}, 67: {'perdido', 'monje', 'matemática', 'ventana', 'consideración', 'leva', 'ancla', 'ruina', 'injuria', 'antífona', 'cifra', 'ave', 'disciplina', 'manifestación', 'i', 'pilastra', 'náutica', 'disculpa', 'novedad', 'acta', 'cualidad', 'cosa', 'erupción', 'anotación', 'frase', 'rata', 'llama', 'víctima', 'd', 'alegación', 'bonus', 'presa', 'escultura', 'gaviota', 'vertical', 'ordenanza', 'cosianas', 'bala', 'lluvia', 'comisión', 'finca', 'avispa', 'carpeta', 'miliones', 'lección', 'pregunta', 'fisura', 'galera', 'rodaja', 'patente', 'tira'}, 84: {'am', 'neue', 'per', 'on', 'mouse', 'legendario', 'of', 'do', 'von', 'formular', 'abreviar', 'alias', 'ben', 'nella', 'relanzar', 'jo', 'the', 'don', 'infantil', 'faster', 'gótico', 'reazionario', 'it', 'Äbbelwoi', 'toar', 'du', 'jamar', 'señor', 'amado', 'et', 'llamar', 'orlar', 'bravo', 'ga', 'intitular', 'bemol', 'titulado', 'with', 'à', 'collección', 'acústico', 'der', 'und', 'in', 'lituano', 'promocionar', 'animar', 'amar'}, 45: {'emoción', 'nebulosa', 'fórmula', 'angustia', 'fachada', 'circulación', 'alegría', 'selección', 'costa', 'cédula', 'inmunidad', 'vocación', 'técnica', 'cancillería', 'barrera', 'camiseta', 'esclavitud', 'identidad', 'feria', 'desobediencia', 'península', 'llamada', 'convocatoria', 'nobleza', 'cinematografía', 'villa', 'fundación', 'letra', 'huella', 'musicología', 'instrumentación', 'calle', 'selva', 'fermentación', 'caleta', 'comedia', 'presión', 'política', 'nave', 'integridad', 'asamblea', 'devastación', 'ingestión', 'propuesta', 'glicentina', 'llanura', 'abstracción', 'empresa', 'chispa', 'revista', 'reclamación', 'niñez', 'materia', 'oxintomodulina', 'liga', 'biblioteca', 'interacción', 'milla', 'asignatura', 'verdad', 'gestión', 'modalidad', 'minúscula', 'porción', 'gravedad', 'vie', 'habanera', 'depresión', 'novela', 'espalda', 'torre', 'conciencia', 'amnistía', 'gente', 'entrega', 'fauna', 'infantería', 'comida', 'cordillera', 'juventud', 'normalidad', 'república', 'derecha', 'racha', 'infamia', 'ribera', 'excursión', 'ganadería', 'sociedad', 'creencia', 'desesperación', 'capitulación', 'carne', 'denominación', 'actualidad', 'colina', 'amistad', 'pantalla', 'disposición', 'solución', 'fortaleza', 'sacristía', 'meseta', 'audiencia', 'bola', 'actriz', 'remodelación', 'imprenta', 'rondalla', 'industria', 'emisora', 'controversia', 'cultura', 'agrupación', 'puesta', 'isla', 'metadata', 'palabra', 'cúpula', 'mecanización', 'masacre', 'autovía', 'pareja', 'dinastía', 'valva', 'universidad', 'nominación', 'hormona', 'renovación', 'sentencia', 'destrucción', 'dictadura', 'banda', 'literatura', 'firma', 'guerra', 'minería', 'espada', 'azafea', 'telenovela', 'abadía', 'nación', 'pista', 'cancha', 'ascensión'}, 3: {'espíritu', 'arco', 'delito', 'ingeniero', 'barco', 'prado', 'fantasma', 'balcón', 'privilegio', 'coche', 'defecto', 'texto', 'apunte', 'colector', 'hueco', 'efecto', 'placer', 'reglamento', 'arquitecto', 'telescopio', 'dispositivo', 'show', 'cartel', 'informe', 'reconocimiento', 'freno', 'dueño', 'dialecto', 'derbi', 'rol', 'enemigo', 'monstruo', 'historiador', 'hueso', 'comando', 'año', 'exorcismo', 'servicio', 'vehículo', 'laboratorio', 'productor', 'automóvil', 'panel', 'apartamento', 'hecho', 'sindicato', 'hermano', 'asunto', 'interesado', 'círculo', 'vaso', 'concierto', 'sonido', 'bombardeo', 'bosque', 'compromiso', 'brazo', 'método', 'segundo', 'árbol', 'hospital', 'acantilado', 'cultivo', 'látigo', 'recurso', 'castigo', 'vino', 'avión', 'bar', 'día', 'viento'}, 88: {'apostar', 'rescatar', 'expulsar', 'reemplazar', 'adorar', 'nominar', 'gravar', 'secuestrar', 'elegir', 'ceder', 'adaptar', 'eliminar', 'asaltar', 'adquirir', 'destruir', 'golpear', 'descargar', 'designar', 'negociar', 'someter', 'administrar', 'traducir', 'subordinar', 'alimentar', 'apto', 'quemar', 'bombardear', 'satisfacer', 'capturar', 'atropellar', 'vulnerable', 'convocar', 'pintar', 'sustituir', 'transportar', 'asesinar'}, 20: {'entidad', 'pertenencia', 'amenaza', 'ciencia', 'duda', 'noticia', 'decisión', 'duna', 'computador', 'maravilla', 'aula', 'civilización', 'tarea', 'bomba', 'persona', 'máscara', 'lesión', 'almenara', 'habitación', 'agua', 'oreja', 'edificación', 'instancia', 'transferencia', 'franja', 'penitencia', 'alma', 'melodía', 'aplicación', 'ida', 'diferencia', 'función', 'audición', 'ventaja', 'muralla', 'consecuencia', 'secuencia', 'serranía', 'vivienda', 'mujer', 'instrucción', 'mesa', 'flor', 'roca', 'modificación', 'incursión', 'curva', 'alianza', 'copia', 'conferencia', 'arma', 'facilidad', 'ola', 'maestría', 'dificultad', 'mejora', 'excusa', 'onda', 'condición', 'observación', 'negociación', 'píldora', 'pelea', 'pared', 'montaña', 'temperatura', 'cercanía', 'aventura', 'posesión', 'gracia', 'funcionalidad', 'movilización', 'competencia', 'opción', 'bóveda', 'virtud', 'fuente', 'intriga', 'composición', 'transcripción', 'cornisa'}, 66: {'individuo', 'forastero', 'estribo', 'labio', 'itinerario', 'relato', 'agricultor', 'fraile', 'alumno', 'disturbio', 'asesino', 'lavadero', 'documento', 'sagamores', 'cártel', 'residuo', 'voto', 'veneciano', 'rudimento', 'acorde', 'padrino', 'colono', 'plato', 'eclesiástico', 'borde', 'videos', 'crédito', 'pez', 'guerrillero', 'siglo', 'pistón', 'baño', 'espectador', 'rincón', 'hugonote', 'muerto', 'danés', 'usuario', 'neumático', 'diorama', 'funcionario', 'muchacho', 'ingrediente', 'anfitrión', 'estrago', 'romano', 'mormón', 'actuador', 'turco', 'domingo', 'trailer', 'alrededor', 'ciudadano', 'otomano', 'tigre', 'carrizo', 'vampiro'}, 56: {'nuevamente', 'brillantemente', 'completamente', 'absolutamente', 'bastante', 'sumamente', 'frecuentemente', 'solamente', 'empty', 'biológicamente', 'automáticamente', 'dramáticamente', 'naturalmente', 'obviamente', 'prácticamente', 'drásticamente', 'esencialmente', 'temporalmente', 'mayoritariamente', 'bien', 'tan', 'usualmente', 'popularmente', 'históricamente', 'flood', 'fácilmente', 'constantemente', 'extremadamente', 'quizás', 'oficialmente', 'altamente', 'aparentemente', 'típicamente', 'totalmente', 'formalmente'}, 34: {'itaú', 'steinsel', 'italcred', 'capoeira', 'toronto', 'escenografía', 'zapatismo', 'whodini', 'fotos', 'pesadilla', 'civilization', 'eclipse', 'rakim', 'mantenimiento', 'allegro', 'silvia', 'kim', 'macro', 'romeo', 'honorificado', 'caramelo', 'kelly', 'guainía', 'saxofón', 'sophomores', 'bajoquinto', 'relatos', 'prestissimo', 'life', 'holap', 'power', 'galicia', 'variantes', 'interna', 'transform', 'hemicraneal'}, 25: {'segmento', 'chip', 'vagabundo', 'modificador', 'generador', 'trío', 'portal', 'préstamo', 'estribillo', 'toque', 'apéndice', 'espesor', 'servidor', 'incendio', 'teléfono', 'fallo', 'camión', 'judío', 'auto', 'consejo', 'gaucho', 'traidor', 'ensayo', 'juguete', 'canto', 'niño', 'rayo', 'calzón', 'compartimiento', 'revolucionario', 'favor', 'aliado', 'monomaníaco', 'formato', 'carburador', 'desafío', 'sacerdote', 'invento', 'infarto', 'tarnsman', 'morado', 'estadio', 'caudal', 'ordenador', 'picado', 'huracán', 'accidente', 'comunicado', 'crimen', 'suburbio', 'precio', 'viaje', 'cacique', 'enclave', 'equipamiento', 'triángulo', 'vano', 'espejo', 'veterano', 'internado', 'subdirector', 'grosor', 'ladrón', 'microprocesador', 'videojuego', 'láser', 'autódromo'}, 41: {'cocina', 'fracasar', 'espiritual', 'mate', 'latitudinal', 'filosofía', 'calentar', 'fortificar', 'sinuoso', 'autóctono', 'húmedo', 'tableta', 'asistencia', 'labrar', 'information', 'proscribir', 'astro', 'mediocampista', 'hidráulico', 'moderno', 'traicionar', 'cansar', 'fabricación', 'sociológico', 'agrícola', 'dungan', 'violar', 'vocal', 'almohadillar', 'invertir', 'frustrar', 'lamentar', 'refinar', 'verde', 'masculino', 'potente', 'transistorizar', 'activar', 'montar', 'lesionar', 'tranquilo', 'voz', 'noble', 'bendecir', 'liberar', 'agitar', 'desactivar', 'seguro', 'trazar', 'irracional', 'rastreador', 'remolcar', 'invadir', 'sellar', 'inocente', 'ancho', 'sofocar', 'filosófico', 'organizacional', 'admirar', 'ártico', 'exótico', 'específico', 'oscuro', 'riguroso'}, 71: {'voluntad', 'estancia', 'madre', 'responsabilidad', 'piel', 'solicitud', 'tripulación', 'faceta', 'localización', 'labor', 'belleza', 'omnia', 'used', 'magia', 'n', 'patria', 'esposo', 'consolidación', 'residencia', 'popularidad', 'lealtad', 'afición', 'lambda', 'relevancia', 'prima', 'profesión', 'abuelo', 'cuspidata', 'interpretación', 'álgebra', 'ausencia', 'frente', 'concepción', 'poetisa', 'electricidad', 'indicación', 'bondad', 'economía', 'narrativa', 'especialidad', 'novio', 'detención', 'guarida', 'x', 'granja', 'expansión', 'mente', 's', 'agudeza', 'miniserie', 'misión', 'w', 'discusión', 'cura', 'ambición'}, 75: {'piso', 'actor', 'entorno', 'modo', 'asedio', 'apodo', 'ring', 'deterioro', 'padre', 'film', 'antepecho', 'anillo', 'patrón', 'sueldo', 'controlador', 'retablo', 'astrolabio', 'lenguaje', 'video', 'trazado', 'balón', 'cuartel', 'edificio', 'single', 'ambiente', 'calentamiento', 'sitio', 'ataque', 'combate', 'tabique', 'escritor', 'rondó', 'sexo', 'reloj', 'bebé', 'tamaño', 'filme', 'hardware', 'tramo', 'tour', 'galardón', 'receptor', 'beso', 'hogar', 'jazz', 'monumento', 'matemático', 'automotor', 'pasodoble', 'tren', 'ángulo', 'basamento', 'gen', 'menú', 'torrente', 'costo', 'poeta', 'contexto', 'enfrentamiento', 'ratón', 'puerto', 'dicho', 'anfiteatro', 'gángster', 'encuentro', 'evento', 'chico', 'sello', 'idioma', 'disparo', 'período', 'remake', 'decreto', 'gas', 'escultor', 'pintor', 'péptido', 'cilindro'}, 72: {'nariz', 'cita', 'copa', 'parodia', 'apariencia', 'escalera', 'multinacional', 'avenida', 'dinámica', 'invasión', 'balaustrada', 'anomalía', 'profundidad', 'matriz', 'cascada', 'pata', 'anchura', 'resurrección', 'editorial', 'excedencia', 'cubierta', 'varita', 'especialización', 'hamburguesería', 'respuesta', 'secuela', 'población', 'raqueta', 'calificación', 'silla', 'longitud', 'placa', 'coda', 'barbacana', 'histeria', 'kajira', 'antena', 'mira', 'humanidad', 'especie', 'boda', 'indexación', 'pila', 'trilogía', 'vela', 'reputación', 'regla', 'gobernación', 'vez', 'concentración', 'criatura', 'entrevista', 'monomanía', 'latitud', 'encuesta', 'hamburguesa', 'estudiantina', 'transacción', 'autorización', 'biografía', 'camisa', 'congregación', 'molécula', 'atracción', 'pistola'}, 14: {'posicionar', 'lindo', 'pacer', 'izhitsa', 'each', 'end', 'filled', 'tirar', 'pegar', 'which', 'volar', 'u', 'get', 'node', 'implementation', 'guitar', 'aportar', 'not', 'longer', 'pornográfico', 'haber', 'asediar', 'bastar', 'interactuar', 'envolver', 'dulce', 'south', 'tr', 'mientras', 'where', 'mecanizar', 'adoptar', 'encarnizar', 'pues', 'between', 'match', 'seco', 'version', 'fabes', 'north', 'pro', 'contraer', 'postal', 'salvo', 'aunque', 'prosperar', 'sofisticar', 'entablar', 'ó', 'encubrir', 'recursive', 'fluir', 'array', 'compaginar', 'reproducir', 'quién', 'personificar', 'conocido', 'pico', 'excepto', 'arar', 'musicar', 'ma', 'etcétera', 'trunco', 'region'}, 16: {'específicamente', 'personalmente', 'justamente', 'incluso', 'arrogantemente', 'fundamentalmente', 'principalmente', 'únicamente', 'lateralmente', 'extrañamente', 'legalmente', 'lentamente', 'concretamente', 'íntimamente', 'significativamente', 'periódicamente', 'posiblemente', 'preferentemente', 'exactamente', 'inmediatamente', 'enormemente', 'actualmente', 'básicamente', 'después', 'abruptamente', 'igualmente', 'simultáneamente', 'rápidamente', 'inicialmente', 'activamente', 'generalmente', 'exclusivamente', 'internacionalmente', 'enteramente', 'visiblemente', 'particularmente', 'perfectamente', 'previamente', 'comúnmente', 'conjuntamente', 'megami', 'eventualmente', 'mayormente', 'precisamente', 'continuamente', 'especialmente', 'normalmente', 'atrás', 'recientemente', 'directamente', 'afuera', 'probablemente', 'hoy', 'originalmente', 'habitualmente', 'explícitamente', 'plenamente', 'asiduamente'}, 10: {'valer', 'sobresalir', 'culminar', 'ne', 'intervenir', 'desaguar', 'transcurrir', 'alojar', 'disminuir', 'gustar', 'albergar', 'descender', 'rondar', 'vaciar', 'contradecir', 'desaparecer', 'consumir', 'verter', 'buscar', 'servir', 'gobernar', 'narrar', 'necesitar', 'emular', 'confiar', 'regar', 'contener', 'fundamentar', 'atacar', 'allegar', 'padecer', 'recordar', 'bailar', 'aterrorizar', 'odiar', 'responder', 'abarcar', 'soñar', 'atentar', 'aspirar', 'beneficiar', 'significar', 'medir', 'ratificar', 'tardar', 'anidar', 'predominar', 'sugerir'}, 65: {'regulador', 'alternativo', 'estratégico', 'redondo', 'óptico', 'bogotano', 'agrario', 'mero', 'pancreático', 'endorréicas', 'arréicas', 'bélico', 'brasileño', 'primario', 'financiero', 'habanero', 'marino', 'explosivo', 'casero', 'inédito', 'suelto', 'jónico', 'germano', 'subandinas', 'volcánico', 'basáltico', 'curvo', 'goreanas', 'visigodo', 'práctico', 'benedictino'}, 63: {'eficiente', 'programable', 'irregular', 'artificial', 'forestal', 'mortal', 'adicional', 'navegable', 'competente', 'poblacional', 'múltiple', 'célebre', 'abundante', 'satelitales', 'implacable', 'hexagonal', 'instrumental', 'salvaje', 'existente', 'apasionante', 'diferente', 'capitular', 'estatal', 'marcial', 'colonial', 'electoral', 'civil', 'principal', 'sobresaliente', 'rentable', 'oral', 'interesante', 'renacentista'}, 82: {'crítica', 'restaurar', 'trampa', 'luchador', 'villancico', 'religioso', 'rotación', 'cuenta', 'productivo', 'cantón', 'pantano', 'adquisición', 'engañar', 'campesino', 'teología', 'lírico', 'crítico', 'químico', 'templar', 'pedagógico', 'agresivo', 'frío', 'difundir', 'estimular', 'tranvía', 'contemporáneo', 'idéntico', 'comuna', 'séptimo', 'empapar', 'afortunado', 'autopropulsado', 'danza', 'cápsula', 'altitudinal', 'familiar'}, 24: {'terrestre', 'fluvial', 'artesanal', 'mundialista', 'neutral', 'interestelar', 'táctil', 'empresarial', 'azul', 'mental', 'realista', 'potable', 'continental', 'humilde', 'cruciforme', 'funeral', 'gigante', 'tricúspide', 'geotermal', 'ventricular', 'semejante', 'teatral', 'naval', 'eficaz', 'angular', 'experimental', 'inminente', 'tradicional', 'taoísta', 'global', 'zarista', 'mensual', 'aparente', 'social', 'bautismal', 'monumental', 'sindical', 'suficiente', 'multidimensional', 'inmortal', 'resultante'}, 76: {'poderoso', 'orgulloso', 'valiente', 'grueso', 'llamativo', 'temprano', 'peligroso', 'variar', 'profundo', 'malvado', 'compacto', 'preciso', 'exitoso', 'lento', 'distintivo', 'escuchar', 'inhospito', 'violento', 'rápido', 'importante', 'maduro', 'común', 'significativo', 'famoso', 'visible', 'pobre', 'rico', 'alto', 'prolífico', 'tarde', 'agradable', 'barato', 'emocionante', 'caudaloso', 'bello'}, 69: {'trofeo', 'coordinador', 'eslavo', 'jugo', 'mural', 'sochantre', 'pastor', 'tipo', 'pacto', 'hechizo', 'mediador', 'rastro', 'obispo', 'estéreo', 'cuarto', 'cover', 'príncipe', 'fichaje', 'invitatorio', 'reporte', 'regalo', 'aniversario', 'largometraje', 'promedio', 'catedrático', 'ciclo', 'sucesor', 'fondo', 'campeón', 'mentor', 'beneficio', 'almuerzo', 'flujo', 'misionero', 'cirílico', 'equilibrio', 'sudoeste', 'equivalente', 'bienvenido', 'refugio', 'cantor', 'funcionamiento', 'subcampeón', 'tercero', 'ejemplo', 'arreglo', 'desacuerdo', 'editor', 'asiento', 'cabaret', 'embajador', 'plural', 'despliegue', 'daño', 'hop', 'tratamiento', 'nieto', 'ahorro', 'asesinato', 'debut', 'lleno', 'matrimonio', 'perfil', 'podio', 'miedo', 'impacto', 'tau', 'financiamiento', 'instante', 'destello', 'óvalo', 'avance'}, 52: {'mudar', 'diferenciar', 'verificar', 'personar', 'ver', 'clasificar', 'marchar', 'erigir', 'graduar', 'adjudicar', 'retirar', 'instalar', 'refugiar', 'exiliar', 'despedir', 'comprometer', 'proclamar', 'emitir', 'resolver', 'unir', 'asentar', 'convertir', 'internar', 'rendir', 'llenar', 'referir', 'centrar', 'imponer', 'alzar', 'casar', 'mover', 'despertar'}, 22: {'centralita', 'vox', 'hardy', 'let', 'inmarsat', 'mcmahon', 'friends', 'forum', 'truth', 'jaded', 'sable', 'scarface', 'glp', 'beautiful', 'angle', 'palais', 'eve', 'bruselas', 'diddy', 'common', 'hiro', 'manicomio', 'lil', 'watt', 'obras', 'gametrailers', 'all', 'jagger', 'pepe', 'vientos', 'véase', 'contigo', 'esmeralda', 'enlaces', 'mvp', 'because', 'jammer', 'guirnalda', 'quiero', 'nelly', 'scherzo', 'macrolobium', 'site', 'demurger', 'cuaderno', 'memorial', 'teléfonos', 'kimi', 'distancias', 'pole', 'juegos', 'identificador', 'despachos', 'adiós', 'nuevas', 'berlanga', 'hazlitt', 'redes', 'festhalle', 'changin', 'rickenbacker', 'startac', 'operador', 'señal', 'only', 'discurso', 'singapur', 'repetición', 'kane', 'vencedor', 'antología', 'nickel', 'uk', 'missa', 'ute', 'series'}, 39: {'songs', 'knife', 'estudios', 'roma', 'baire', 'arado', 'kalango', 'street', 'chester', 'koller', 'siècle', 'usb', 'sakazaki', 'schoppen', 'philip', 'barcelona', 'beethoven', 'mackerel', 'teaser', 'fighting', 'chaos', 'toay', 'hofner', 'art', 'upsilon', 'l', 'espargaró', 'universidades', 'arvad', 'emd', 'guatemala', 'lee', 'konrad', 'janice', 'way', 'alfonso', 'josefina', 'faith', 'mandern', 'silva', 'music', 'castalia', 'brookes', 'sud', 'cyniclones', 'gsm', 'rom', 'beware', 'sports', 'timur', 'neopolis', 'drusilla', 'francisco', 'himeto', 'ipa', 'cosas', 'b', 'arts', 'lindsey', 'víti', 'exp', 'pantaleone', 'gutiérrez', 'templarios', 'html', 'iii', 'you', 'hour', 'explorer', 'saggi', 'honda', 'corrieri', 'récit', 'checks', 'sms', 'fjöllum', 'gmt', 'gallego', 'q', 'ebbelwei', 'cds', 'spain', 'ingleses', 'patri', 'ktm', 'sephardim', 'freunde', 'bach', 'mcavoy', 'vasquez'}, 87: {'columbo', 'azarquiel', 'valladolid', 'v', 'survivor', 'daniel', 'spike', 'wilding', 'eiji', 'isbn', 'castresana', 'maybourne', 'stephanie', 'lenbachhaus', 'timmy', 'correa', 'holden', 'gourgue', 'jason', 'laura', 'novelas', 'rebecca', 'salamanca', 'houston', 'alejandro', 'willow', 'caverzaschi', 'pauline', 'ricardo', 'lenbach', 'hamm', 'rookies', 'shinto', 'henry', 'summerslam', 'warlords', 'teletrak', 'rhyl', 'niedra', 'arados', 'álvarez', 'gibson', 'kisshu', 'philadelphia', 'osuna', 'jökulsárlón', 'poof', 'harris', 'olap', 'madrid', 'verna', 'danni', 'iridium', 'berkeley', 'lafuente', 'snyder', 'giles', 'maria', 'nash', 'holopainen', 'uribe', 'visiones', 'shriver', 'lorne', 'caritas', 'norwich', 'rodríguez', 'treve', 'molap', 'fox', 'eta', 'pepper', 'heat', 'joyce', 'güemes', 'buffy', 'tiberio', 'dettifoss', 'praia', 'ronno', 'dren', 'xander', 'esp', 'motorola', 'sloan', 'danzós', 'ngc', 'ribault', 'cabot', 'bomberman', 'love', 'molina', 'pope', 'möngke', 'ecus', 'doreen', 'artemis', 'leiden', 'wanted', 'strike', 'hitlerjunge', 'banelco', 'florianópolis'}, 42: {'espontáneo', 'aminoácido', 'alcohólico', 'toscano', 'huracanado', 'colgar', 'moralista', 'bombacho', 'caótico', 'intelectual', 'golondrina', 'táctico', 'pilar', 'tejedor', 'fisiológico', 'coloquial', 'destructivo', 'bonaerense', 'school', 'tenista', 'concéntrico', 'adinerar', 'escalonar', 'sospechoso', 'andalusí', 'represión', 'festividad', 'fotografía', 'neozelandés', 'acontecimiento'}, 57: {'polaco', 'fuste', 'kilómetro', 'madrigal', 'congreso', 'confinamiento', 'descenso', 'extintor', 'sacrificio', 'republicano', 'conocimiento', 'inventario', 'estero', 'tejido', 'carbohidrato', 'perro', 'patio', 'cartucho', 'proveedor', 'empresario', 'chiefs', 'archivo', 'dardo', 'soldado', 'canon', 'artesano', 'arquero', 'ritual', 'seminario', 'quirófano', 'amo', 'restaurante', 'abogado'}, 53: {'centenar', 'comicio', 'muro', 'contrafuerte', 'ticket', 'turno', 'suministro', 'dólar', 'dado', 'ritmo', 'comentario', 'escritorio', 'dato', 'código', 'pináculo', 'naranja', 'helicóptero', 'rechazo', 'mérito', 'artefacto', 'animal', 'metro', 'impuesto', 'caballo', 'alimento', 'casetón', 'pasajero', 'cajero', 'abuso', 'difunto', 'interes', 'soneto', 'bárbaro', 'chocolate', 'autobús', 'litigio'}, 80: {'msnm', 'femtómetro', 'custom', 'botones', 'software', 'análisis', 'quórum', 'caos', 'blog', 'necrópolis', 'blues', 'rascacielos', 'iris', 'reggae', 'algorithm', 'filling'}, 19: {'feel', 'tito', 'k', 'john', 'animador', 'ensemble', 'arguru', 'anular', 'reformatorio', 'paseíllo', 'beatlemanía', 'tac', 'm', 'jumpin', 'mix', 'attabi', 'whispers', 'intervención', 'vogue', 'deidad', 'chocar', 'limpio', 'keep', 'isleño', 'malevo', 'clarín', 'back', 'triple', 'serita', 'desbloquear', 'gardelito', 'decente', 'viez', 'vaca', 'together', 'espantá', 'ayacucho', 'disney', 'tony', 'aspar', 'remix', 'vidriera', 'store', 'sorpresa', 'nico', 'bitch'}, 47: {'japon', 'extra', 'harms', 'precámbrico', 'anegadiza', 'memory', 'ecológico', 'soledad', 'cherry', 'vogel', 'allegretto', 'suecia', 'cowan', 'paul', 'visar', 'zapatista', 'signature', 'hab', 'arnm', 'magic', 'pintoresco', 'dupuis', 'book', 'national', 'coife', 'huber', 'setlists', 'buffyverso', 'adagio', 'white', 'pixels', 'ópera', 'dinamarca', 'ducke', 'grazioso', 'clamshell'}, 11: {'granada', 'manchester', 'céspedes', 'parís', 'downingtown', 'cayo', 'putumayo', 'tlalpan', 'tlaltizapán', 'stuttgart', 'utc', 'viena', 'manila', 'vancouver', 'jacksonville', 'alabama', 'bacadéhuachi', 'haarlem', 'newcastle', 'glasgow', 'copenhague', 'gama', 'reinosa', 'álamos', 'zacatecas', 'bethesda', 'chicago', 'leeds', 'bristol', 'asturias', 'ibanez', 'londres', 'hamburgo', 'berlin', 'palmyra', 'estocolmo', 'oxford', 'envigado'}, 7: {'á'}})\n"
     ]
    }
   ],
   "source": [
    "clusters = defaultdict(set)\n",
    "for i, label in enumerate(labels):\n",
    "    clusters[label].add(final_check[i])\n",
    "print(clusters)"
   ]
  },
  {
   "cell_type": "code",
   "execution_count": 79,
   "metadata": {},
   "outputs": [
    {
     "name": "stdout",
     "output_type": "stream",
     "text": [
      "{'granada', 'manchester', 'céspedes', 'parís', 'downingtown', 'cayo', 'putumayo', 'tlalpan', 'tlaltizapán', 'stuttgart', 'utc', 'viena', 'manila', 'vancouver', 'jacksonville', 'alabama', 'bacadéhuachi', 'haarlem', 'newcastle', 'glasgow', 'copenhague', 'gama', 'reinosa', 'álamos', 'zacatecas', 'bethesda', 'chicago', 'leeds', 'bristol', 'asturias', 'ibanez', 'londres', 'hamburgo', 'berlin', 'palmyra', 'estocolmo', 'oxford', 'envigado'}\n"
     ]
    }
   ],
   "source": [
    "print(clusters[11])"
   ]
  },
  {
   "cell_type": "code",
   "execution_count": 74,
   "metadata": {},
   "outputs": [
    {
     "name": "stdout",
     "output_type": "stream",
     "text": [
      "{'nuevamente', 'brillantemente', 'completamente', 'absolutamente', 'bastante', 'sumamente', 'frecuentemente', 'solamente', 'empty', 'biológicamente', 'automáticamente', 'dramáticamente', 'naturalmente', 'obviamente', 'prácticamente', 'drásticamente', 'esencialmente', 'temporalmente', 'mayoritariamente', 'bien', 'tan', 'usualmente', 'popularmente', 'históricamente', 'flood', 'fácilmente', 'constantemente', 'extremadamente', 'quizás', 'oficialmente', 'altamente', 'aparentemente', 'típicamente', 'totalmente', 'formalmente'}\n"
     ]
    }
   ],
   "source": [
    "print(clusters[56])"
   ]
  },
  {
   "cell_type": "code",
   "execution_count": 76,
   "metadata": {},
   "outputs": [
    {
     "name": "stdout",
     "output_type": "stream",
     "text": [
      "{'enterrar', 'equipar', 'elaborar', 'preclasificado', 'remover', 'traspasar', 'transferir', 'emigrar', 'decorar', 'obsesionar', 'firmar', 'asignar', 'reconstruir', 'idear', 'editar', 'manchar', 'amurallar', 'prohibir', 'conocer', 'elevar', 'diseñar', 'reclamar', 'comprar', 'concebir', 'armar', 'atrapar', 'rodar', 'apropiar', 'nombrar', 'herir', 'elogiar', 'apasionar', 'acoplar', 'adiestrar', 'condenar', 'contratar', 'sobrevivir', 'encarcelar', 'seleccionar', 'acuñar', 'involucrar', 'reorganizar', 'asustar', 'confirmar', 'solicitar', 'curvar', 'cesar', 'galardonar', 'relacionar', 'presionar', 'inaugurar', 'fusilar', 'filmar', 'lanzar', 'registrar', 'cerrar', 'promulgar', 'conceder', 'poblar', 'esparcir', 'confundir', 'sepultar', 'vestir', 'escoger', 'citar', 'catalogar', 'mezclar', 'crecer', 'emplear'}\n"
     ]
    }
   ],
   "source": [
    "print(clusters[21])"
   ]
  },
  {
   "cell_type": "code",
   "execution_count": 78,
   "metadata": {},
   "outputs": [
    {
     "name": "stdout",
     "output_type": "stream",
     "text": [
      "{'popular', 'general', 'liberal', 'rural', 'leal', 'conceptual', 'similar', 'formal', 'provincial', 'procedente', 'auxiliar', 'comercial', 'baterista', 'posterior', 'goreana', 'ausente', 'meridional', 'franquista', 'mineral', 'comunista', 'septentrional', 'judicial', 'municipal', 'triangular', 'especial', 'terminal', 'funcional', 'estelar', 'sostenible', 'alfa', 'brillante', 'imposible', 'occidental', 'excepcional', 'ciclista', 'suave', 'constitucional', 'disponible', 'peatonal', 'altisonante', 'fascista', 'ilustre', 'elemental', 'canadiense', 'criminal', 'sample', 'fácil', 'territorial', 'moral', 'laboral', 'ejemplar', 'medieval', 'presidencial'}\n"
     ]
    }
   ],
   "source": [
    "print(clusters[37])"
   ]
  },
  {
   "cell_type": "code",
   "execution_count": 77,
   "metadata": {},
   "outputs": [
    {
     "name": "stdout",
     "output_type": "stream",
     "text": [
      "{'cabeza', 'pretensión', 'reforma', 'ley', 'leyenda', 'clase', 'pieza', 'orden', 'pendiente', 'pirámide', 'asociación', 'noche', 'frontera', 'cartera', 'línea', 'autenticidad', 'casta', 'tierra', 'actividad', 'expulsión', 'institución', 'presencia', 'superficie', 'serie', 'ironía', 'combinación', 'vida', 'presidencia', 'obligación', 'lengua', 'edición', 'mitad', 'toma', 'constelación', 'estrella', 'cara', 'habilidad', 'situación', 'figura', 'esencia', 'dirección', 'prueba', 'iglesia', 'cuestión', 'lectura', 'producción', 'administración', 'base', 'masa', 'fiesta', 'marca', 'zona', 'pérdida', 'promoción', 'colección', 'favorito', 'práctica', 'hora', 'razón', 'humillación', 'celebración', 'tendencia', 'bolsa', 'necesidad', 'idea', 'carátula', 'semifinal', 'cima', 'donación', 'categoría', 't', 'desembocadura', 'colonia', 'proliferación', 'casa', 'estructura', 'aceptación', 'construcción', 'pintura', 'existencia', 'singularidad', 'izquierda', 'ocupación', 'entrada', 'sección', 'parroquia', 'investigación', 'memoria', 'canción', 'oposición', 'unidad', 'posición', 'transformación', 'acumulación', 'persecución', 'traducción', 'rama', 'lucha', 'conclusión', 'cuenca', 'escuela', 'ayuda', 'ilustración', 'representación', 'ira', 'reina', 'diocesis', 'atención', 'falta', 'luna', 'arquitectura', 'divisoria', 'columna', 'región', 'imagen', 'medida', 'ubicación', 'determinación', 'represa', 'rendición', 'fuerza', 'liberación', 'conquista', 'final', 'muerte', 'realización', 'publicación', 'actuación', 'obra', 'clave', 'delegación', 'provincia', 'secreción', 'película', 'tesis', 'presentación', 'particularidad', 'radio', 'licencia', 'campaña', 'terraza', 'flota', 'competición', 'vía', 'bahía', 'síntesis', 'versión', 'crueldad', 'familia', 'ejecución', 'capital', 'resolución', 'tradición', 'plaza'}\n"
     ]
    }
   ],
   "source": [
    "print(clusters[2])"
   ]
  },
  {
   "cell_type": "code",
   "execution_count": 63,
   "metadata": {},
   "outputs": [
    {
     "name": "stdout",
     "output_type": "stream",
     "text": [
      "{'enorme', 'consecuente', 'simple', 'implacable', 'frágil', 'alucinante', 'grave', 'doble', 'breve', 'consiguiente', 'impresionante', 'sugerente', 'sublime', 'brutal', 'agradable', 'cuádruple', 'notable', 'gran', 'sutil', 'inusual'}\n"
     ]
    }
   ],
   "source": [
    "print(clusters[102])"
   ]
  },
  {
   "cell_type": "code",
   "execution_count": 69,
   "metadata": {},
   "outputs": [
    {
     "name": "stdout",
     "output_type": "stream",
     "text": [
      "{'rival', 'humanista', 'esquimal', 'aspirante', 'guionista', 'moralista', 'alienígenas', 'artista', 'not', 'portavoz', 'interfaz', 'congresista', 'novelista', 'habitante', 'punta', 'fabricante', 'piloto', 'atleta', 'ninja', 'but', 'guía', 'jinete', 'mar', 'policía', 'inmigrante', 'estudiante', 'element', 'defensa', 'agente', 'guitarrista', 'tenista', 'testigo', 'azúcar', 'cliente', 'solista', 'fan', 'cantante', 'periodista', 'amante', 'líder', 'futbolista', 'adolescente', 'juez', 'protagonista', 'aprendiz', 'batería'}\n"
     ]
    }
   ],
   "source": [
    "print(clusters[57])"
   ]
  },
  {
   "cell_type": "code",
   "execution_count": null,
   "metadata": {},
   "outputs": [],
   "source": []
  }
 ],
 "metadata": {
  "kernelspec": {
   "display_name": "Python 3",
   "language": "python",
   "name": "python3"
  },
  "language_info": {
   "codemirror_mode": {
    "name": "ipython",
    "version": 3
   },
   "file_extension": ".py",
   "mimetype": "text/x-python",
   "name": "python",
   "nbconvert_exporter": "python",
   "pygments_lexer": "ipython3",
   "version": "3.6.1"
  }
 },
 "nbformat": 4,
 "nbformat_minor": 2
}
