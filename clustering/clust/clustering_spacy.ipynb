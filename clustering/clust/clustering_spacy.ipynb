{
 "cells": [
  {
   "cell_type": "code",
   "execution_count": 1,
   "metadata": {},
   "outputs": [],
   "source": [
    "import spacy\n",
    "import numpy as np\n",
    "import nltk\n",
    "import re"
   ]
  },
  {
   "cell_type": "code",
   "execution_count": 2,
   "metadata": {},
   "outputs": [],
   "source": [
    "nlp = spacy.load('es')"
   ]
  },
  {
   "cell_type": "code",
   "execution_count": 3,
   "metadata": {},
   "outputs": [],
   "source": [
    "with open(\"pbaspacy.txt\", \"r\") as f:\n",
    "    corpus = f.read()"
   ]
  },
  {
   "cell_type": "code",
   "execution_count": 4,
   "metadata": {},
   "outputs": [],
   "source": [
    "# Tokenizing\n",
    "tokenizer = nltk.data.load('tokenizers/punkt/spanish.pickle')\n",
    "raw = tokenizer.tokenize(corpus)"
   ]
  },
  {
   "cell_type": "code",
   "execution_count": 5,
   "metadata": {},
   "outputs": [
    {
     "name": "stdout",
     "output_type": "stream",
     "text": [
      "['-\\n\"Lo que sostiene a la pareja es el amor\"\\nClara Crespo (50) y Rodolfo Martínez (54) no se imaginan uno sin el otro.', '\"Prefiero ni pensarlo\", dice Clara.', 'Hace 26 años que están casados, y tienen cuatro hijas mujeres.', 'Se conocieron en el Ateneo Juventus, el movimiento juvenil de Capuchinos.', 'Hoy aseguran no estar sorprendidos del tiempo que llevan juntos sino de haber logrado entenderse tan bien.', '&#226;&#8364;&#8220;¿Qué les gusta y disgusta del otro?', '¿Qué quisieran cambiarle?', '&#226;&#8364;&#8220;Rodolfo: Me gusta que sea cariñosa, alegre y esté siempre pensando en mí, y que es una gran madre.', 'Me disgustaba que cuando se enojaba no quería hablar, pero ya no lo hace más.', 'A veces es indecisa pero ya me acostumbré.', 'No quiero cambiarle nada, que sea como es.', '&#226;&#8364;&#8220;Clara : Me gusta que es una persona emprendedora, alegre, optimista y servicial.', 'Me gustaría que a veces fuera más sutil para decir las cosas.', 'Pienso que las personas vamos cambiando con el tiempo de acuerdo a la edad, a las circunstancias que vivimos y todo lo que nos rodea.', 'Seguramente que no somos los mismos que cuando nos casamos y siempre seguiremos descubriendo cosas nuevas del otro.', 'Lo bueno es conversar y ayudarse a cambiar esas cosas que molestan al otro.', '&#226;&#8364;&#8220;¿Cuál fue el momento más difícil?', '-C: Sin duda fue cuando perdimos una hija.', 'Después de un dolor tan grande uno ve la vida de otra manera y ningún problema te parece tan grande.', 'Lo que más nos ayudó es que los dos compartimos la misma fe en Dios y sólo a través de &#195;&#8240;l podes darle otro sentido a la muerte.', 'También cuando vivimos separados un año y medio, por razones de trabajo de Rody.', 'Clara asegura que lo que sostiene a la pareja es el amor.', '\"Hay que alimentarlo para que crezca siempre.', 'Los proyectos y objetivos en común también ayudan a tener ilusiones y ganas de seguir juntos, pero todo es inútil si no hay amor.', 'Hay que tratar de crecer en todos los aspectos en forma permanente\".', '&#226;&#8364;&#8220;Un matrimonio a largo plazo, ¿es un refugio contra inseguridades, una rareza, un triunfo, orgullo?', '&#226;&#8364;&#8220;R: Es un medio para ser feliz, un proyecto de vida.', '&#226;&#8364;&#8220;C: Es una hermosa experiencia, más que todo eso.', 'El triunfo es ir logrando quererse cada día más.', '&#226;&#8364;&#8220;¿Por qué ahora las parejas duran menos?', '&#226;&#8364;&#8220;C: Creo que puede faltar comunicación y a veces proyecto y objetivos en común.', 'Cuando uno elige la vida de a dos a veces tiene que dejar de lado o postergar intereses personales.', '-¿Los recursos económicos son un conflicto?', '&#226;&#8364;&#8220;R: No son un problema, aunque a veces no había suficiente nunca fue una prioridad.', 'En general lo manejamos juntos, aunque el día a día lo lleva Clara.', '&#226;&#8364;&#8220;C: Siempre pusimos en común los ingresos cuando los dos trabajábamos.']\n"
     ]
    }
   ],
   "source": [
    "print(raw)"
   ]
  },
  {
   "cell_type": "code",
   "execution_count": 6,
   "metadata": {},
   "outputs": [],
   "source": [
    "#limpiando\n",
    "clean = []\n",
    "for sent in raw:\n",
    "    a = re.sub(r'&#\\w+;', '', sent)\n",
    "    b = re.sub(r'[^\\w]', ' ', a)\n",
    "    c = b.rstrip().lstrip()\n",
    "    clean.append(c)"
   ]
  },
  {
   "cell_type": "code",
   "execution_count": 7,
   "metadata": {},
   "outputs": [
    {
     "name": "stdout",
     "output_type": "stream",
     "text": [
      "0) Lo que sostiene a la pareja es el amor  Clara Crespo  50  y Rodolfo Martínez  54  no se imaginan uno sin el otro\n",
      "1) Prefiero ni pensarlo   dice Clara\n",
      "2) Hace 26 años que están casados  y tienen cuatro hijas mujeres\n",
      "3) Se conocieron en el Ateneo Juventus  el movimiento juvenil de Capuchinos\n",
      "4) Hoy aseguran no estar sorprendidos del tiempo que llevan juntos sino de haber logrado entenderse tan bien\n",
      "5) Qué les gusta y disgusta del otro\n",
      "6) Qué quisieran cambiarle\n",
      "7) Rodolfo  Me gusta que sea cariñosa  alegre y esté siempre pensando en mí  y que es una gran madre\n",
      "8) Me disgustaba que cuando se enojaba no quería hablar  pero ya no lo hace más\n",
      "9) A veces es indecisa pero ya me acostumbré\n",
      "10) No quiero cambiarle nada  que sea como es\n",
      "11) Clara   Me gusta que es una persona emprendedora  alegre  optimista y servicial\n",
      "12) Me gustaría que a veces fuera más sutil para decir las cosas\n",
      "13) Pienso que las personas vamos cambiando con el tiempo de acuerdo a la edad  a las circunstancias que vivimos y todo lo que nos rodea\n",
      "14) Seguramente que no somos los mismos que cuando nos casamos y siempre seguiremos descubriendo cosas nuevas del otro\n",
      "15) Lo bueno es conversar y ayudarse a cambiar esas cosas que molestan al otro\n",
      "16) Cuál fue el momento más difícil\n",
      "17) C  Sin duda fue cuando perdimos una hija\n",
      "18) Después de un dolor tan grande uno ve la vida de otra manera y ningún problema te parece tan grande\n",
      "19) Lo que más nos ayudó es que los dos compartimos la misma fe en Dios y sólo a través de l podes darle otro sentido a la muerte\n",
      "20) También cuando vivimos separados un año y medio  por razones de trabajo de Rody\n",
      "21) Clara asegura que lo que sostiene a la pareja es el amor\n",
      "22) Hay que alimentarlo para que crezca siempre\n",
      "23) Los proyectos y objetivos en común también ayudan a tener ilusiones y ganas de seguir juntos  pero todo es inútil si no hay amor\n",
      "24) Hay que tratar de crecer en todos los aspectos en forma permanente\n",
      "25) Un matrimonio a largo plazo   es un refugio contra inseguridades  una rareza  un triunfo  orgullo\n",
      "26) R  Es un medio para ser feliz  un proyecto de vida\n"
     ]
    }
   ],
   "source": [
    "for i,a in enumerate(clean[:27]):\n",
    "    print(str(i)+\")\", a)"
   ]
  },
  {
   "cell_type": "code",
   "execution_count": 8,
   "metadata": {},
   "outputs": [],
   "source": [
    "#Para sacar las letras que quedaron colgadas al principio\n",
    "last_clean = []\n",
    "for a in clean:\n",
    "    aux = a.split()\n",
    "    if len(aux[0]) == 1:\n",
    "        if aux[0] not in {'A', 'Y', 'O'}:\n",
    "            del aux[0]\n",
    "    last_clean.append(aux)"
   ]
  },
  {
   "cell_type": "code",
   "execution_count": 9,
   "metadata": {},
   "outputs": [
    {
     "name": "stdout",
     "output_type": "stream",
     "text": [
      "0) ['Lo', 'que', 'sostiene', 'a', 'la', 'pareja', 'es', 'el', 'amor', 'Clara', 'Crespo', '50', 'y', 'Rodolfo', 'Martínez', '54', 'no', 'se', 'imaginan', 'uno', 'sin', 'el', 'otro']\n",
      "1) ['Prefiero', 'ni', 'pensarlo', 'dice', 'Clara']\n",
      "2) ['Hace', '26', 'años', 'que', 'están', 'casados', 'y', 'tienen', 'cuatro', 'hijas', 'mujeres']\n",
      "3) ['Se', 'conocieron', 'en', 'el', 'Ateneo', 'Juventus', 'el', 'movimiento', 'juvenil', 'de', 'Capuchinos']\n",
      "4) ['Hoy', 'aseguran', 'no', 'estar', 'sorprendidos', 'del', 'tiempo', 'que', 'llevan', 'juntos', 'sino', 'de', 'haber', 'logrado', 'entenderse', 'tan', 'bien']\n"
     ]
    }
   ],
   "source": [
    "for i,a in enumerate(last_clean[:5]):\n",
    "    print(str(i)+\")\", a)"
   ]
  },
  {
   "cell_type": "code",
   "execution_count": 10,
   "metadata": {},
   "outputs": [],
   "source": [
    "#flatten list\n",
    "flat = []\n",
    "for s in last_clean:\n",
    "    for w in s:\n",
    "        flat.append(w)"
   ]
  },
  {
   "cell_type": "code",
   "execution_count": 11,
   "metadata": {},
   "outputs": [],
   "source": [
    "#Aprovechamos que tenemos una lista de palabras para poder contar su ocurrencia\n",
    "count = dict()\n",
    "for w in flat:\n",
    "    if w not in count:\n",
    "        count[w] = 1\n",
    "    else:\n",
    "        count[w] += 1"
   ]
  },
  {
   "cell_type": "code",
   "execution_count": 12,
   "metadata": {},
   "outputs": [
    {
     "data": {
      "text/plain": [
       "5"
      ]
     },
     "execution_count": 12,
     "metadata": {},
     "output_type": "execute_result"
    }
   ],
   "source": [
    "#cuantas veces aparece la palabra \"el\" ? ---> 8\n",
    "count[\"Clara\"]"
   ]
  },
  {
   "cell_type": "code",
   "execution_count": 13,
   "metadata": {},
   "outputs": [],
   "source": [
    "#Ahora volvemos a unir las palabras a la oración que pertenecen\n",
    "final = []\n",
    "for i,s in enumerate(last_clean):\n",
    "    a = ' '.join(last_clean[i])\n",
    "    final.append(a)"
   ]
  },
  {
   "cell_type": "code",
   "execution_count": 14,
   "metadata": {},
   "outputs": [
    {
     "name": "stdout",
     "output_type": "stream",
     "text": [
      "0) Lo que sostiene a la pareja es el amor Clara Crespo 50 y Rodolfo Martínez 54 no se imaginan uno sin el otro\n",
      "1) Prefiero ni pensarlo dice Clara\n",
      "2) Hace 26 años que están casados y tienen cuatro hijas mujeres\n",
      "3) Se conocieron en el Ateneo Juventus el movimiento juvenil de Capuchinos\n",
      "4) Hoy aseguran no estar sorprendidos del tiempo que llevan juntos sino de haber logrado entenderse tan bien\n",
      "5) Qué les gusta y disgusta del otro\n",
      "6) Qué quisieran cambiarle\n",
      "7) Rodolfo Me gusta que sea cariñosa alegre y esté siempre pensando en mí y que es una gran madre\n",
      "8) Me disgustaba que cuando se enojaba no quería hablar pero ya no lo hace más\n",
      "9) A veces es indecisa pero ya me acostumbré\n",
      "10) No quiero cambiarle nada que sea como es\n",
      "11) Clara Me gusta que es una persona emprendedora alegre optimista y servicial\n",
      "12) Me gustaría que a veces fuera más sutil para decir las cosas\n",
      "13) Pienso que las personas vamos cambiando con el tiempo de acuerdo a la edad a las circunstancias que vivimos y todo lo que nos rodea\n",
      "14) Seguramente que no somos los mismos que cuando nos casamos y siempre seguiremos descubriendo cosas nuevas del otro\n",
      "15) Lo bueno es conversar y ayudarse a cambiar esas cosas que molestan al otro\n",
      "16) Cuál fue el momento más difícil\n",
      "17) Sin duda fue cuando perdimos una hija\n",
      "18) Después de un dolor tan grande uno ve la vida de otra manera y ningún problema te parece tan grande\n",
      "19) Lo que más nos ayudó es que los dos compartimos la misma fe en Dios y sólo a través de l podes darle otro sentido a la muerte\n",
      "20) También cuando vivimos separados un año y medio por razones de trabajo de Rody\n",
      "21) Clara asegura que lo que sostiene a la pareja es el amor\n",
      "22) Hay que alimentarlo para que crezca siempre\n",
      "23) Los proyectos y objetivos en común también ayudan a tener ilusiones y ganas de seguir juntos pero todo es inútil si no hay amor\n",
      "24) Hay que tratar de crecer en todos los aspectos en forma permanente\n",
      "25) Un matrimonio a largo plazo es un refugio contra inseguridades una rareza un triunfo orgullo\n",
      "26) Es un medio para ser feliz un proyecto de vida\n"
     ]
    }
   ],
   "source": [
    "for i,a in enumerate(final[:27]):\n",
    "    print(str(i)+\")\", a)"
   ]
  },
  {
   "cell_type": "code",
   "execution_count": 15,
   "metadata": {},
   "outputs": [],
   "source": [
    "#Pasamos las oraciones pre-procesadas a Spacy\n",
    "parsed_sents = []\n",
    "for doc in nlp.pipe(final, batch_size=10000, n_threads=4):\n",
    "    parsed_sents.append(doc)"
   ]
  },
  {
   "cell_type": "code",
   "execution_count": 16,
   "metadata": {},
   "outputs": [],
   "source": [
    "from nltk.corpus import stopwords"
   ]
  },
  {
   "cell_type": "code",
   "execution_count": 17,
   "metadata": {},
   "outputs": [
    {
     "data": {
      "text/plain": [
       "[Lo que sostiene a la pareja es el amor Clara Crespo 50 y Rodolfo Martínez 54 no se imaginan uno sin el otro,\n",
       " Prefiero ni pensarlo dice Clara,\n",
       " Hace 26 años que están casados y tienen cuatro hijas mujeres,\n",
       " Se conocieron en el Ateneo Juventus el movimiento juvenil de Capuchinos,\n",
       " Hoy aseguran no estar sorprendidos del tiempo que llevan juntos sino de haber logrado entenderse tan bien]"
      ]
     },
     "execution_count": 17,
     "metadata": {},
     "output_type": "execute_result"
    }
   ],
   "source": [
    "parsed_sents[0:5]"
   ]
  },
  {
   "cell_type": "code",
   "execution_count": 18,
   "metadata": {},
   "outputs": [],
   "source": [
    "#diccionario con las triplas de cada palabra\n",
    "dicc_trip = dict()\n",
    "for s in parsed_sents:\n",
    "    for w in s:\n",
    "        tags = [(w.text, w.dep_, w.head.text)]\n",
    "        if str(w) not in dicc_trip:\n",
    "            dicc_trip[str(w)] = tags\n",
    "        else:\n",
    "            dicc_trip[str(w)] += (tags)"
   ]
  },
  {
   "cell_type": "code",
   "execution_count": 19,
   "metadata": {},
   "outputs": [
    {
     "data": {
      "text/plain": [
       "Prefiero ni pensarlo dice Clara"
      ]
     },
     "execution_count": 19,
     "metadata": {},
     "output_type": "execute_result"
    }
   ],
   "source": [
    "parsed_sents[1]"
   ]
  },
  {
   "cell_type": "code",
   "execution_count": 20,
   "metadata": {},
   "outputs": [],
   "source": [
    "#lista de listas con tuplas de la forma (palabra, Pos)\n",
    "pos = []\n",
    "for s in parsed_sents:\n",
    "    aux=[]\n",
    "    for w in s:\n",
    "        aux.append((w, w.pos_))\n",
    "    pos.append(aux)"
   ]
  },
  {
   "cell_type": "code",
   "execution_count": 21,
   "metadata": {},
   "outputs": [
    {
     "data": {
      "text/plain": [
       "[(Hace, 'AUX'),\n",
       " (26, 'NUM'),\n",
       " (años, 'NOUN'),\n",
       " (que, 'PRON'),\n",
       " (están, 'AUX'),\n",
       " (casados, 'ADJ'),\n",
       " (y, 'CONJ'),\n",
       " (tienen, 'VERB'),\n",
       " (cuatro, 'NUM'),\n",
       " (hijas, 'NOUN'),\n",
       " (mujeres, 'ADJ')]"
      ]
     },
     "execution_count": 21,
     "metadata": {},
     "output_type": "execute_result"
    }
   ],
   "source": [
    "pos[2]"
   ]
  },
  {
   "cell_type": "code",
   "execution_count": 22,
   "metadata": {},
   "outputs": [
    {
     "data": {
      "text/plain": [
       "[('el', 'det', 'amor'),\n",
       " ('el', 'det', 'otro'),\n",
       " ('el', 'det', 'Ateneo'),\n",
       " ('el', 'det', 'movimiento'),\n",
       " ('el', 'det', 'tiempo'),\n",
       " ('el', 'det', 'momento'),\n",
       " ('el', 'det', 'amor'),\n",
       " ('el', 'det', 'día')]"
      ]
     },
     "execution_count": 22,
     "metadata": {},
     "output_type": "execute_result"
    }
   ],
   "source": [
    "#todas las triplas relacionadas con \"el\"\n",
    "dicc_trip[\"el\"]"
   ]
  },
  {
   "cell_type": "code",
   "execution_count": 23,
   "metadata": {},
   "outputs": [],
   "source": [
    "for key, value in dicc_trip.items():\n",
    "    aux = []\n",
    "    for fst,snd,trd in value:\n",
    "        a = snd+'.'+trd\n",
    "        aux.append(a)\n",
    "        dicc_trip[key] = aux"
   ]
  },
  {
   "cell_type": "code",
   "execution_count": 24,
   "metadata": {},
   "outputs": [
    {
     "data": {
      "text/plain": [
       "['det.amor',\n",
       " 'det.otro',\n",
       " 'det.Ateneo',\n",
       " 'det.movimiento',\n",
       " 'det.tiempo',\n",
       " 'det.momento',\n",
       " 'det.amor',\n",
       " 'det.día']"
      ]
     },
     "execution_count": 24,
     "metadata": {},
     "output_type": "execute_result"
    }
   ],
   "source": [
    "dicc_trip[\"el\"]"
   ]
  },
  {
   "cell_type": "code",
   "execution_count": 25,
   "metadata": {},
   "outputs": [],
   "source": [
    "# Lista de etiquetas para cada oración\n",
    "tag_sents = [[(token.text,token.tag_,token.pos_) for token in parsedEx] for parsedEx in parsed_sents]"
   ]
  },
  {
   "cell_type": "code",
   "execution_count": 26,
   "metadata": {},
   "outputs": [],
   "source": [
    "# final ---> lista de oraciones procesadas\n",
    "# tag_sents ---> tags de cada oración\n",
    "# dep_trips ---> triplas de dep de cada oración"
   ]
  },
  {
   "cell_type": "code",
   "execution_count": 27,
   "metadata": {},
   "outputs": [
    {
     "data": {
      "text/plain": [
       "[[('Hace',\n",
       "   'AUX__Mood=Ind|Number=Sing|Person=3|Tense=Pres|VerbForm=Fin',\n",
       "   'AUX'),\n",
       "  ('26', 'NUM__NumForm=Digit', 'NUM'),\n",
       "  ('años', 'NOUN__Gender=Masc|Number=Plur', 'NOUN'),\n",
       "  ('que', 'PRON__PronType=Rel', 'PRON'),\n",
       "  ('están',\n",
       "   'AUX__Mood=Ind|Number=Plur|Person=3|Tense=Pres|VerbForm=Fin',\n",
       "   'AUX'),\n",
       "  ('casados', 'ADJ__Gender=Masc|Number=Plur|VerbForm=Part', 'ADJ'),\n",
       "  ('y', 'CCONJ___', 'CONJ'),\n",
       "  ('tienen',\n",
       "   'VERB__Mood=Ind|Number=Plur|Person=3|Tense=Pres|VerbForm=Fin',\n",
       "   'VERB'),\n",
       "  ('cuatro', 'NUM__Number=Plur|NumType=Card', 'NUM'),\n",
       "  ('hijas', 'NOUN__Gender=Fem|Number=Plur', 'NOUN'),\n",
       "  ('mujeres', 'ADJ__Number=Plur', 'ADJ')],\n",
       " [('Se', 'PRON__Person=3', 'PRON'),\n",
       "  ('conocieron',\n",
       "   'VERB__Mood=Ind|Number=Plur|Person=3|Tense=Past|VerbForm=Fin',\n",
       "   'VERB'),\n",
       "  ('en', 'ADP__AdpType=Prep', 'ADP'),\n",
       "  ('el', 'DET__Definite=Def|Gender=Masc|Number=Sing|PronType=Art', 'DET'),\n",
       "  ('Ateneo', 'PROPN___', 'PROPN'),\n",
       "  ('Juventus', 'PROPN___', 'PROPN'),\n",
       "  ('el', 'DET__Definite=Def|Gender=Masc|Number=Sing|PronType=Art', 'DET'),\n",
       "  ('movimiento', 'NOUN__Gender=Masc|Number=Sing', 'NOUN'),\n",
       "  ('juvenil', 'ADJ__Number=Sing', 'ADJ'),\n",
       "  ('de', 'ADP__AdpType=Prep', 'ADP'),\n",
       "  ('Capuchinos', 'PROPN___', 'PROPN')]]"
      ]
     },
     "execution_count": 27,
     "metadata": {},
     "output_type": "execute_result"
    }
   ],
   "source": [
    "tag_sents[2:4]"
   ]
  },
  {
   "cell_type": "code",
   "execution_count": 30,
   "metadata": {},
   "outputs": [],
   "source": [
    "clean_info_word = []\n",
    "for a in tag_sents:\n",
    "    for fst,snd,trd in a:\n",
    "        aux = snd.split(\"|\")\n",
    "        clean_info_word.append((fst,aux,trd))"
   ]
  },
  {
   "cell_type": "code",
   "execution_count": 31,
   "metadata": {},
   "outputs": [
    {
     "name": "stdout",
     "output_type": "stream",
     "text": [
      "('Lo', ['DET__Definite=Def', 'Number=Sing', 'PronType=Art'], 'DET')\n"
     ]
    }
   ],
   "source": [
    "#Ahora tenemos una lista de triplas, donde el primer elem es la palabra, el segundo sus tags y el tercero su PoS\n",
    "print(clean_info_word[0])"
   ]
  },
  {
   "cell_type": "code",
   "execution_count": 32,
   "metadata": {},
   "outputs": [
    {
     "data": {
      "text/plain": [
       "[[(Hace, 'AUX'),\n",
       "  (26, 'NUM'),\n",
       "  (años, 'NOUN'),\n",
       "  (que, 'PRON'),\n",
       "  (están, 'AUX'),\n",
       "  (casados, 'ADJ'),\n",
       "  (y, 'CONJ'),\n",
       "  (tienen, 'VERB'),\n",
       "  (cuatro, 'NUM'),\n",
       "  (hijas, 'NOUN'),\n",
       "  (mujeres, 'ADJ')],\n",
       " [(Se, 'PRON'),\n",
       "  (conocieron, 'VERB'),\n",
       "  (en, 'ADP'),\n",
       "  (el, 'DET'),\n",
       "  (Ateneo, 'PROPN'),\n",
       "  (Juventus, 'PROPN'),\n",
       "  (el, 'DET'),\n",
       "  (movimiento, 'NOUN'),\n",
       "  (juvenil, 'ADJ'),\n",
       "  (de, 'ADP'),\n",
       "  (Capuchinos, 'PROPN')]]"
      ]
     },
     "execution_count": 32,
     "metadata": {},
     "output_type": "execute_result"
    }
   ],
   "source": [
    "pos[2:4]"
   ]
  },
  {
   "cell_type": "code",
   "execution_count": 33,
   "metadata": {},
   "outputs": [],
   "source": [
    "from collections import defaultdict\n",
    "dicc_forward = defaultdict(list)\n",
    "dicc_backward = defaultdict(list)\n",
    "for tup in pos:\n",
    "    for j,(fst,snd) in enumerate(tup):\n",
    "        if j != 0:\n",
    "            dicc_backward[fst.text].append((tup[j-1][0].text, tup[j-1][1]))\n",
    "        else:\n",
    "            dicc_backward[fst.text].append((\"[W.Start]\", \"[T.Start]\"))\n",
    "        if j != len(tup)-1:\n",
    "            dicc_forward[fst.text].append((tup[j+1][0].text, tup[j+1][1]))\n",
    "        else:\n",
    "            dicc_forward[fst.text].append((\"[W.End]\", \"[T.End]\"))"
   ]
  },
  {
   "cell_type": "code",
   "execution_count": 34,
   "metadata": {},
   "outputs": [
    {
     "data": {
      "text/plain": [
       "[('amor', 'NOUN'),\n",
       " ('dice', 'VERB'),\n",
       " ('[W.Start]', '[T.Start]'),\n",
       " ('[W.Start]', '[T.Start]'),\n",
       " ('lleva', 'VERB')]"
      ]
     },
     "execution_count": 34,
     "metadata": {},
     "output_type": "execute_result"
    }
   ],
   "source": [
    "dicc_backward[\"Clara\"]"
   ]
  },
  {
   "cell_type": "code",
   "execution_count": 35,
   "metadata": {},
   "outputs": [
    {
     "data": {
      "text/plain": [
       "('Lo', ['DET__Definite=Def', 'Number=Sing', 'PronType=Art'], 'DET')"
      ]
     },
     "execution_count": 35,
     "metadata": {},
     "output_type": "execute_result"
    }
   ],
   "source": [
    "clean_info_word[0]"
   ]
  },
  {
   "cell_type": "code",
   "execution_count": 36,
   "metadata": {},
   "outputs": [
    {
     "data": {
      "text/plain": [
       "[('Crespo', 'PROPN'),\n",
       " ('[W.End]', '[T.End]'),\n",
       " ('Me', 'PRON'),\n",
       " ('asegura', 'VERB'),\n",
       " ('[W.End]', '[T.End]')]"
      ]
     },
     "execution_count": 36,
     "metadata": {},
     "output_type": "execute_result"
    }
   ],
   "source": [
    "dicc_forward[\"Clara\"]"
   ]
  },
  {
   "cell_type": "code",
   "execution_count": 37,
   "metadata": {},
   "outputs": [],
   "source": [
    "lemma_dict = defaultdict(str)\n",
    "with open('lemmatization-es.txt') as f:\n",
    "    for line in f:\n",
    "        splited_line = line.split('\\t')\n",
    "        lemma_dict[splited_line[1].strip()] = splited_line[0]\n"
   ]
  },
  {
   "cell_type": "code",
   "execution_count": 38,
   "metadata": {},
   "outputs": [],
   "source": [
    "def lemmatize(word):\n",
    "   return lemma_dict.get(word, word)"
   ]
  },
  {
   "cell_type": "code",
   "execution_count": 39,
   "metadata": {},
   "outputs": [],
   "source": [
    "#Creando el diccionario\n",
    "dicc = dict()\n",
    "#features = dict()\n",
    "for fst,snd,trd in clean_info_word:\n",
    "    features = defaultdict(int)\n",
    "    pos = 'PoS__' + trd\n",
    "    if fst.isalpha() and fst not in dicc and count[fst] > 2 and fst not in stopwords.words('spanish'):      #si la palabra es nueva y ocurre mas de n veces -> la agrego\n",
    "        dicc[lemmatize(fst.lower())] = features\n",
    "        features[pos] = 1\n",
    "        for i in snd:\n",
    "            features[i] = 1\n",
    "        for i in dicc_trip[fst]:                 #diccionario de triplas\n",
    "            features[i] = 1\n",
    "        for i in dicc_backward[fst]:\n",
    "            features[i[0]+\"-1\"] += 1\n",
    "            features[i[1]+\"-1\"] += 1\n",
    "        for i in dicc_forward[fst]:\n",
    "            features[i[0]+\"+1\"] += 1\n",
    "            features[i[0]+\"+1\"] += 1\n",
    "            \n",
    "            \n",
    "    elif fst in dicc:                        #la palabra ya se encuentra -> actualizo el dicc\n",
    "        has_it = dicc[fst]\n",
    "        if pos in has_it:\n",
    "            has_it[pos] += 1\n",
    "        else:\n",
    "            has_it[pos] = 1\n",
    "        for tag in snd:\n",
    "            if tag in has_it:\n",
    "                has_it[tag] += 1\n",
    "            else:\n",
    "                has_it[tag] = 1\n",
    "        "
   ]
  },
  {
   "cell_type": "code",
   "execution_count": 49,
   "metadata": {},
   "outputs": [
    {
     "data": {
      "text/plain": [
       "[('esté', 'AUX'), ('y', 'CONJ'), ('crezca', 'VERB')]"
      ]
     },
     "execution_count": 49,
     "metadata": {},
     "output_type": "execute_result"
    }
   ],
   "source": [
    "dicc_backward[\"siempre\"]"
   ]
  },
  {
   "cell_type": "code",
   "execution_count": 50,
   "metadata": {},
   "outputs": [
    {
     "data": {
      "text/plain": [
       "[('pensando', 'VERB'), ('seguiremos', 'AUX'), ('[W.End]', '[T.End]')]"
      ]
     },
     "execution_count": 50,
     "metadata": {},
     "output_type": "execute_result"
    }
   ],
   "source": [
    "dicc_forward[\"siempre\"]"
   ]
  },
  {
   "cell_type": "code",
   "execution_count": 51,
   "metadata": {},
   "outputs": [
    {
     "data": {
      "text/plain": [
       "3"
      ]
     },
     "execution_count": 51,
     "metadata": {},
     "output_type": "execute_result"
    }
   ],
   "source": [
    "count[\"siempre\"]"
   ]
  },
  {
   "cell_type": "code",
   "execution_count": 52,
   "metadata": {},
   "outputs": [
    {
     "data": {
      "text/plain": [
       "defaultdict(int,\n",
       "            {'ADV___': 3,\n",
       "             'AUX-1': 1,\n",
       "             'CONJ-1': 1,\n",
       "             'PoS__ADV': 3,\n",
       "             'VERB-1': 1,\n",
       "             '[W.End]+1': 2,\n",
       "             'advmod.crezca': 1,\n",
       "             'advmod.descubriendo': 1,\n",
       "             'advmod.pensando': 1,\n",
       "             'crezca-1': 1,\n",
       "             'esté-1': 1,\n",
       "             'pensando+1': 2,\n",
       "             'seguiremos+1': 2,\n",
       "             'y-1': 1})"
      ]
     },
     "execution_count": 52,
     "metadata": {},
     "output_type": "execute_result"
    }
   ],
   "source": [
    "dicc[\"siempre\"]"
   ]
  },
  {
   "cell_type": "code",
   "execution_count": 53,
   "metadata": {},
   "outputs": [],
   "source": [
    "#Ahora preparamos la lista una lista de diccs para vectorizar\n",
    "#Tambien vamos a guardar las palabras que vamos a vectorizar para poder recuperarlas mas tarde\n",
    "lista_para_vectorizar = []\n",
    "check_list = []\n",
    "for key, value in dicc.items():\n",
    "    check_list.append(key)\n",
    "    lista_para_vectorizar.append(value)"
   ]
  },
  {
   "cell_type": "code",
   "execution_count": 54,
   "metadata": {},
   "outputs": [],
   "source": [
    "#Corroboramos la correspondencia\n",
    "for i,w in enumerate(check_list):\n",
    "    a = lista_para_vectorizar[i]\n",
    "    #print(w + \" -->\", a)"
   ]
  },
  {
   "cell_type": "code",
   "execution_count": 66,
   "metadata": {},
   "outputs": [],
   "source": [
    "#Vectorizado\n",
    "from sklearn.feature_extraction import DictVectorizer\n",
    "v = DictVectorizer(sparse=False)\n",
    "X = v.fit_transform(lista_para_vectorizar)"
   ]
  },
  {
   "cell_type": "code",
   "execution_count": 67,
   "metadata": {},
   "outputs": [
    {
     "data": {
      "text/plain": [
       "array([[ 0.,  0.,  0., ...,  0.,  0.,  0.],\n",
       "       [ 0.,  0.,  0., ...,  0.,  0.,  0.],\n",
       "       [ 0.,  0.,  0., ...,  0.,  0.,  0.],\n",
       "       ..., \n",
       "       [ 0.,  0.,  0., ...,  2.,  0.,  0.],\n",
       "       [ 0.,  0.,  1., ...,  0.,  0.,  0.],\n",
       "       [ 0.,  0.,  0., ...,  0.,  0.,  0.]])"
      ]
     },
     "execution_count": 67,
     "metadata": {},
     "output_type": "execute_result"
    }
   ],
   "source": [
    "X"
   ]
  },
  {
   "cell_type": "code",
   "execution_count": 73,
   "metadata": {},
   "outputs": [],
   "source": [
    "#Normalización\n",
    "import sklearn\n",
    "X = sklearn.preprocessing.normalize(X)"
   ]
  },
  {
   "cell_type": "code",
   "execution_count": 74,
   "metadata": {},
   "outputs": [
    {
     "data": {
      "text/plain": [
       "array([[ 0.3125385 ,  0.17616533,  0.64373017,  0.15536764,  0.27026412,\n",
       "        -0.14091921, -0.02529048,  0.15409939, -0.37992472,  0.28628365,\n",
       "         0.21669332,  0.17442547,  0.10171639,  0.03798814],\n",
       "       [ 0.78389541, -0.0547119 , -0.01144432, -0.26537942, -0.26572353,\n",
       "        -0.16374699, -0.02347703,  0.07942568, -0.08905999, -0.23971197,\n",
       "        -0.05884647,  0.06912186, -0.00174435,  0.36611258],\n",
       "       [ 0.41690619,  0.45200899,  0.08715684,  0.34246447, -0.38648819,\n",
       "         0.03684221, -0.03138418, -0.30090764, -0.36552191, -0.07341298,\n",
       "        -0.16697482, -0.21131992, -0.17659084, -0.10964153],\n",
       "       [ 0.11276682,  0.31965752, -0.08184543,  0.17872348, -0.15906118,\n",
       "         0.6480133 ,  0.38801248,  0.48869757,  0.01398091, -0.01156151,\n",
       "         0.05376062, -0.0519029 ,  0.06523493,  0.04113891],\n",
       "       [ 0.11339639,  0.59641214, -0.41604785, -0.13650545,  0.40522887,\n",
       "        -0.2158621 ,  0.05429685,  0.15087301,  0.03834683,  0.10484786,\n",
       "         0.06807831, -0.0084887 , -0.42913043,  0.04316682],\n",
       "       [ 0.21780794,  0.10711872,  0.56474974, -0.12610082,  0.53693616,\n",
       "         0.25600463, -0.21655383, -0.00188084,  0.14949209, -0.30886773,\n",
       "        -0.08806794, -0.28203443, -0.02079572,  0.00496796],\n",
       "       [ 0.07390957,  0.18017244,  0.3135571 ,  0.56956128, -0.10250034,\n",
       "        -0.49787765,  0.26873066,  0.10804969,  0.42819756, -0.10991497,\n",
       "        -0.03315523,  0.00121993,  0.01801443,  0.01476654],\n",
       "       [ 0.28455406,  0.65167584, -0.40918738, -0.10257054,  0.18154724,\n",
       "        -0.15049711, -0.06756078, -0.08512356,  0.00382194, -0.07685128,\n",
       "        -0.0449988 ,  0.01843009,  0.48557491, -0.07003583],\n",
       "       [ 0.2956843 , -0.36247965, -0.32941043,  0.51867574,  0.37337798,\n",
       "         0.08959646, -0.17437211,  0.11532406, -0.07482141,  0.13538715,\n",
       "        -0.42207682,  0.06810997,  0.02018912,  0.07332323],\n",
       "       [ 0.61940224,  0.18278716,  0.1923325 , -0.11301781, -0.03791987,\n",
       "         0.34895552,  0.030537  , -0.32999617,  0.31720448,  0.12959906,\n",
       "        -0.09732912,  0.40031588, -0.09357329, -0.06504408],\n",
       "       [ 0.6927568 , -0.15782838,  0.00379988, -0.19866484, -0.16474068,\n",
       "        -0.07503308, -0.06551836,  0.07258716,  0.22412165,  0.46712231,\n",
       "         0.00596727, -0.37459157,  0.06254639, -0.02578336],\n",
       "       [ 0.30668936, -0.30944722, -0.17234884,  0.10846323,  0.34743328,\n",
       "         0.05057002,  0.62921794, -0.43299014, -0.07996277, -0.02360362,\n",
       "         0.18372845, -0.12277115,  0.03917481,  0.06883343],\n",
       "       [ 0.49889026, -0.1681009 , -0.30249984,  0.39668011, -0.02550447,\n",
       "         0.12099757, -0.4504616 , -0.00138458,  0.09633981, -0.15191726,\n",
       "         0.46913106,  0.01835593, -0.03575622, -0.04148812],\n",
       "       [ 0.66564358, -0.36703186, -0.03377782, -0.22582839,  0.04400803,\n",
       "        -0.20164024,  0.21903505,  0.319924  , -0.12534115, -0.2180714 ,\n",
       "        -0.06124439,  0.09346174, -0.05406115, -0.31379852]])"
      ]
     },
     "execution_count": 74,
     "metadata": {},
     "output_type": "execute_result"
    }
   ],
   "source": [
    "from sklearn.decomposition import TruncatedSVD\n",
    "\n",
    "#Reducción de dimensionalidad\n",
    "svd = TruncatedSVD(n_components=47, n_iter=7, random_state=42)\n",
    "svd.fit_transform(X)"
   ]
  },
  {
   "cell_type": "code",
   "execution_count": 75,
   "metadata": {},
   "outputs": [
    {
     "data": {
      "text/plain": [
       "KMeans(algorithm='auto', copy_x=True, init='k-means++', max_iter=300,\n",
       "    n_clusters=3, n_init=10, n_jobs=1, precompute_distances='auto',\n",
       "    random_state=None, tol=0.0001, verbose=0)"
      ]
     },
     "execution_count": 75,
     "metadata": {},
     "output_type": "execute_result"
    }
   ],
   "source": [
    "#Clustering\n",
    "from sklearn.cluster import KMeans\n",
    "km = KMeans(n_clusters=3)\n",
    "km.fit(X)"
   ]
  },
  {
   "cell_type": "code",
   "execution_count": 76,
   "metadata": {},
   "outputs": [],
   "source": [
    "labels = km.predict(X)"
   ]
  },
  {
   "cell_type": "code",
   "execution_count": 77,
   "metadata": {},
   "outputs": [
    {
     "name": "stdout",
     "output_type": "stream",
     "text": [
      "[0 1 2 2 2 0 0 2 1 2 1 1 1 1]\n"
     ]
    }
   ],
   "source": [
    "print(labels)"
   ]
  },
  {
   "cell_type": "code",
   "execution_count": 78,
   "metadata": {},
   "outputs": [
    {
     "name": "stdout",
     "output_type": "stream",
     "text": [
      "defaultdict(<class 'set'>, {0: {'gustar', 'me', 'el'}, 1: {'do', 'vez', 'amor', 'vida', 'día', 'común'}, 2: {'siempre', 'tan', 'claro', 'coser', 'junto'}})\n"
     ]
    }
   ],
   "source": [
    "#Clusters obtenidos\n",
    "clusters = defaultdict(set)\n",
    "for i, label in enumerate(labels):\n",
    "    clusters[label].add(check_list[i])\n",
    "print(clusters)"
   ]
  },
  {
   "cell_type": "code",
   "execution_count": null,
   "metadata": {},
   "outputs": [],
   "source": []
  }
 ],
 "metadata": {
  "kernelspec": {
   "display_name": "Python 3",
   "language": "python",
   "name": "python3"
  },
  "language_info": {
   "codemirror_mode": {
    "name": "ipython",
    "version": 3
   },
   "file_extension": ".py",
   "mimetype": "text/x-python",
   "name": "python",
   "nbconvert_exporter": "python",
   "pygments_lexer": "ipython3",
   "version": "3.6.1"
  }
 },
 "nbformat": 4,
 "nbformat_minor": 2
}
