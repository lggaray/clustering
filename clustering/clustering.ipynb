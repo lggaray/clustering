{
 "cells": [
  {
   "cell_type": "code",
   "execution_count": 1,
   "metadata": {},
   "outputs": [],
   "source": [
    "import nltk\n",
    "import re\n",
    "import sklearn.manifold"
   ]
  },
  {
   "cell_type": "code",
   "execution_count": 2,
   "metadata": {},
   "outputs": [],
   "source": [
    "from collections import defaultdict"
   ]
  },
  {
   "cell_type": "code",
   "execution_count": 3,
   "metadata": {},
   "outputs": [],
   "source": [
    "f = open(\"pba.txt\", \"r\")\n",
    "txt = f.read()"
   ]
  },
  {
   "cell_type": "code",
   "execution_count": 4,
   "metadata": {},
   "outputs": [],
   "source": [
    "# Tokenizing\n",
    "tokenizer = nltk.data.load('tokenizers/punkt/spanish.pickle')\n",
    "raw = tokenizer.tokenize(txt)"
   ]
  },
  {
   "cell_type": "code",
   "execution_count": 5,
   "metadata": {
    "scrolled": true
   },
   "outputs": [
    {
     "name": "stdout",
     "output_type": "stream",
     "text": [
      "['-\\n\"Lo que sostiene a la pareja es el amor\"\\nClara Crespo (50) y Rodolfo Martínez (54) no se imaginan uno sin el otro.', '\"Prefiero ni pensarlo\", dice Clara.', 'Hace 26 años que están casados, y tienen cuatro hijas mujeres.', 'Se conocieron en el Ateneo Juventus, el movimiento juvenil de Capuchinos.', 'Hoy aseguran no estar sorprendidos del tiempo que llevan juntos sino de haber logrado entenderse tan bien.', '&#226;&#8364;&#8220;¿Qué les gusta y disgusta del otro?', '¿Qué quisieran cambiarle?', '&#226;&#8364;&#8220;Rodolfo: Me gusta que sea cariñosa, alegre y esté siempre pensando en mí, y que es una gran madre.', 'Me disgustaba que cuando se enojaba no quería hablar, pero ya no lo hace más.', 'A veces es indecisa pero ya me acostumbré.', 'No quiero cambiarle nada, que sea como es.', '&#226;&#8364;&#8220;Clara : Me gusta que es una persona emprendedora, alegre, optimista y servicial.', 'Me gustaría que a veces fuera más sutil para decir las cosas.', 'Pienso que las personas vamos cambiando con el tiempo de acuerdo a la edad, a las circunstancias que vivimos y todo lo que nos rodea.', 'Seguramente que no somos los mismos que cuando nos casamos y siempre seguiremos descubriendo cosas nuevas del otro.', 'Lo bueno es conversar y ayudarse a cambiar esas cosas que molestan al otro.', '&#226;&#8364;&#8220;¿Cuál fue el momento más difícil?', '-C: Sin duda fue cuando perdimos una hija.', 'Después de un dolor tan grande uno ve la vida de otra manera y ningún problema te parece tan grande.', 'Lo que más nos ayudó es que los dos compartimos la misma fe en Dios y sólo a través de &#195;&#8240;l podes darle otro sentido a la muerte.', 'También cuando vivimos separados un año y medio, por razones de trabajo de Rody.', 'Clara asegura que lo que sostiene a la pareja es el amor.', '\"Hay que alimentarlo para que crezca siempre.', 'Los proyectos y objetivos en común también ayudan a tener ilusiones y ganas de seguir juntos, pero todo es inútil si no hay amor.', 'Hay que tratar de crecer en todos los aspectos en forma permanente\".', '&#226;&#8364;&#8220;Un matrimonio a largo plazo, ¿es un refugio contra inseguridades, una rareza, un triunfo, orgullo?', '&#226;&#8364;&#8220;R: Es un medio para ser feliz, un proyecto de vida.', '&#226;&#8364;&#8220;C: Es una hermosa experiencia, más que todo eso.', 'El triunfo es ir logrando quererse cada día más.', '&#226;&#8364;&#8220;¿Por qué ahora las parejas duran menos?', '&#226;&#8364;&#8220;C: Creo que puede faltar comunicación y a veces proyecto y objetivos en común.', 'Cuando uno elige la vida de a dos a veces tiene que dejar de lado o postergar intereses personales.', '-¿Los recursos económicos son un conflicto?', '&#226;&#8364;&#8220;R: No son un problema, aunque a veces no había suficiente nunca fue una prioridad.', 'En general lo manejamos juntos, aunque el día a día lo lleva Clara.', '&#226;&#8364;&#8220;C: Siempre pusimos en común los ingresos cuando los dos trabajábamos.', 'Todo es de los dos.', '¡Menos mal, sino ahora que no trabajo estaría chau!', 'Y nos ponemos de acuerdo en la forma de administrarlo.', '&#226;&#8364;&#8220;¿La pasión es el secreto de la duración feliz?', 'R: La pasión es necesaria, pero no es el secreto de la felicidad.', 'Es importante mantener la pasión de los primeros años, toda la vida.', '-\\nEl Carbó y el Ipem 270 levantaron la toma\\nLos secundarios Ipem 270 Manuel Belgrano y Alejandro Carbó decidieron ayer levantar la toma de las instituciones escolares.', 'Así, se sumaron a la medida que ya había tomado el Jerónimo Luis de Cabrera el sábado.', 'Estos tres colegios habían iniciado la toma el miércoles 29 de septiembre en reclamo de mejoras edilicias y pidiendo que se discuta el anteproyecto de reforma de la ley de Educación.', 'El sábado, suscribieron un acuerdo con el Ministerio de Educación por el que levantaban las tomas a cambio de planes de obras de las y una instancia de debate para la normativa.', '\"Si el Gobierno nos toma el pelo, volveremos a las tomas\", advirtieron desde Secundarios Unidos de Córdoba, que aglutina a los centros de estudiantes de esas escuelas, al tiempo que calificaron lo logrado como \"una victoria\".', '\"Que sepan que cada día somos más y más colegios los que abrimos los ojos para luchar día a día por una educación para todos y todas\", agregan.', 'También firmaron el acuerdo el Deán Funes, el Nicolás Copérnico y el Ipem 16 de Villa Cornú, que en principio levantarían las tomas entre martes y miércoles, cuando lleguen los planes de obras.', 'No obstante, desde el grupo que mantiene las medidas de fuerza por el reclamo de la ley de Educación pusieron en duda esa posibilidad.', 'Ese grupo, denominado Coordinadora Interestudiantil, también volvió a llamar a la unidad del movimiento estudiantil.', '\"Convocamos a las escuelas que han firmado el acta porque se han empezado algunos de los planes de refacción a continuar las luchas\", sostuvieron.', '-\\n\"Tenemos una familia hermosa, qué más pedir\"\\nPedro (78) y Mary (74) parecen estar viviendo una luna de miel, pero llevan 51 años casados.', 'Pedro la trata como a una reina, de vez en cuando le compra bombones o la sorprende con una carta que algún locutor lee en la radio.', 'La llama \"Gordita\" a cada rato, la abraza y se ríen.', 'No han tenido una vida fácil, dicen.', 'Pero agradecen lo que les ha dado: cinco hijos (uno murió) y 13 nietos.', '\"Estamos juntos hace más de 21 mil días.', 'Hace 59 años que estamos de novios\", comenta con precisión Pedro Rodríguez, en su casa de barrio Ayacucho.', 'En la entrada del hogar que habitan hace 46 años, hay una Virgen y una leyenda que anticipa los cimientos con los que se construyó este hogar.', 'Dice más o menos así: \"Somos Pedro y Mary.', 'Tenemos una familia hermosa, qué más podemos pedir\".', 'Mary es María Isabel Barrionuevo, ex empleada de la Fábrica Militar de Aviones.', 'La mujer cuenta que se conocieron a los 13 años y todo lo que vino después.', 'La charla es tan amena que el agua para el café se consume por completo.', '\"Nada que ver con las relaciones de ahora.', 'A los dos meses de estar de novios, recién me dio el primer beso.', 'Yo lo paraba en seco\", recuerda Mary.', 'Sin embargo no cree que el tiempo pasado haya sido mejor.', '\"Había muchos tabúes\".', '&#226;&#8364;&#8220;¿Se imaginaron que iban a durar tanto tiempo?', '&#226;&#8364;&#8220;Uno no tuvo tiempo de analizar.', 'Nos casamos enamorados.', '¡No sabés lo que fue la luna de miel!', '¡Salir de noche solos!', 'Nunca habíamos salido solos&#226;&#8364;&#8220;, dice Mary, entre risas.', 'Coinciden en que son muy compañeros y saben conversar.', 'Todo lo hacen juntos.', '\"Pobrecito el que se quede cuando el otro desaparezca\", reflexiona Pedro, ex empleado de Entel.', '\"Mi madre me decía siempre que cuando en una discusión uno está nervioso, el otro se debe callar.', 'Hay que esperar que pare la tormenta y después hablar.', 'A nosotros nos ayudó\", aconseja Mary.', 'Pedro asegura que no han tenido tiempo para peleas; si había discusiones, era por los hijos.', '\"A veces uno salía en defensa de uno o de otro\", admiten.', 'Creen que los momentos más difíciles fueron los comienzos.', 'Los otros avatares de la vida los unió más.', '&#226;&#8364;&#8220;¿Qué les gusta del otro?', '&#226;&#8364;&#8220;&#195;&#8240;l es muy noble, honesto, siempre está tratando de ayudar, es sencillo y generoso, dice Mary, con mucha seguridad.', 'Pedro la mira, y responde: \"Me gusta todo, es inigualable\".', '-']\n"
     ]
    }
   ],
   "source": [
    "print(raw)"
   ]
  },
  {
   "cell_type": "code",
   "execution_count": 6,
   "metadata": {},
   "outputs": [],
   "source": [
    "# Cleaning the corpus (. , ! ? ...)\n",
    "words = []\n",
    "for s in raw:\n",
    "    #s = re.sub(r\"\\d+\", \"NUM\", s)\n",
    "    corpus = re.sub(r\"[^a-zA-ZáéíóúüñÁÉÍÓÚÜÑ]\", \" \", s)\n",
    "    corpus_sin_espacios = re.sub(' +',' ',corpus)\n",
    "    #corpus = corpus.lower()\n",
    "    #corpus = corpus.split()                              ----------> ojo \n",
    "    #corpus = re.findall(r'\\S+', corpus,flags = re.UNICODE)\n",
    "    words.append(corpus_sin_espacios)\n",
    "    \n",
    "#print(words)"
   ]
  },
  {
   "cell_type": "code",
   "execution_count": 7,
   "metadata": {},
   "outputs": [
    {
     "name": "stdout",
     "output_type": "stream",
     "text": [
      "[' Lo que sostiene a la pareja es el amor Clara Crespo y Rodolfo Martínez no se imaginan uno sin el otro ', ' Prefiero ni pensarlo dice Clara ', 'Hace años que están casados y tienen cuatro hijas mujeres ', 'Se conocieron en el Ateneo Juventus el movimiento juvenil de Capuchinos ', 'Hoy aseguran no estar sorprendidos del tiempo que llevan juntos sino de haber logrado entenderse tan bien ']\n"
     ]
    }
   ],
   "source": [
    "print(words[:5])"
   ]
  },
  {
   "cell_type": "code",
   "execution_count": 8,
   "metadata": {},
   "outputs": [],
   "source": [
    "sent_list = []\n",
    "for sentence in words:\n",
    "    if sentence != ' ':\n",
    "        sent_list.append([sentence])"
   ]
  },
  {
   "cell_type": "code",
   "execution_count": 9,
   "metadata": {},
   "outputs": [
    {
     "data": {
      "text/plain": [
       "[[' Lo que sostiene a la pareja es el amor Clara Crespo y Rodolfo Martínez no se imaginan uno sin el otro '],\n",
       " [' Prefiero ni pensarlo dice Clara '],\n",
       " ['Hace años que están casados y tienen cuatro hijas mujeres '],\n",
       " ['Se conocieron en el Ateneo Juventus el movimiento juvenil de Capuchinos '],\n",
       " ['Hoy aseguran no estar sorprendidos del tiempo que llevan juntos sino de haber logrado entenderse tan bien ']]"
      ]
     },
     "execution_count": 9,
     "metadata": {},
     "output_type": "execute_result"
    }
   ],
   "source": [
    "sent_list[:5]"
   ]
  },
  {
   "cell_type": "code",
   "execution_count": 10,
   "metadata": {},
   "outputs": [],
   "source": [
    "final = []\n",
    "for sent in sent_list:\n",
    "    #print(sent[0])\n",
    "    aux = sent[0].split()\n",
    "    #print(aux)\n",
    "    if  len(aux[0]) == 1:\n",
    "        #print(aux[0])\n",
    "        if aux[0] not in {'A', 'Y', 'O'}:\n",
    "            #print(aux[0])\n",
    "            del aux[0]\n",
    "    final.append(aux)\n"
   ]
  },
  {
   "cell_type": "code",
   "execution_count": 11,
   "metadata": {},
   "outputs": [
    {
     "name": "stdout",
     "output_type": "stream",
     "text": [
      "[['Lo', 'que', 'sostiene', 'a', 'la', 'pareja', 'es', 'el', 'amor', 'Clara', 'Crespo', 'y', 'Rodolfo', 'Martínez', 'no', 'se', 'imaginan', 'uno', 'sin', 'el', 'otro'], ['Prefiero', 'ni', 'pensarlo', 'dice', 'Clara'], ['Hace', 'años', 'que', 'están', 'casados', 'y', 'tienen', 'cuatro', 'hijas', 'mujeres'], ['Se', 'conocieron', 'en', 'el', 'Ateneo', 'Juventus', 'el', 'movimiento', 'juvenil', 'de', 'Capuchinos'], ['Hoy', 'aseguran', 'no', 'estar', 'sorprendidos', 'del', 'tiempo', 'que', 'llevan', 'juntos', 'sino', 'de', 'haber', 'logrado', 'entenderse', 'tan', 'bien']]\n"
     ]
    }
   ],
   "source": [
    "print(final[:5])"
   ]
  },
  {
   "cell_type": "code",
   "execution_count": 12,
   "metadata": {},
   "outputs": [],
   "source": [
    "from nltk.tag.stanford import StanfordPOSTagger\n",
    "\n",
    "path_to_model = \"/home/lgg/Documentos/facu/mdt/stanford-postagger-full-2017-06-09/models/spanish-distsim.tagger\"\n",
    "path_to_jar = \"/home/lgg/Documentos/facu/mdt/stanford-postagger-full-2017-06-09/stanford-postagger-3.8.0.jar\"\n",
    "\n",
    "tagger = StanfordPOSTagger(path_to_model, path_to_jar)"
   ]
  },
  {
   "cell_type": "code",
   "execution_count": 13,
   "metadata": {},
   "outputs": [],
   "source": [
    "a = []\n",
    "for sent in final:\n",
    "    a = a + ([tagger.tag(sent)])"
   ]
  },
  {
   "cell_type": "code",
   "execution_count": 14,
   "metadata": {},
   "outputs": [
    {
     "name": "stdout",
     "output_type": "stream",
     "text": [
      "[('Lo', 'da0000'), ('que', 'pr000000'), ('sostiene', 'vmip000'), ('a', 'sp000'), ('la', 'da0000'), ('pareja', 'nc0s000'), ('es', 'vsip000'), ('el', 'da0000'), ('amor', 'nc0s000'), ('Clara', 'np00000'), ('Crespo', 'np00000'), ('y', 'cc'), ('Rodolfo', 'np00000'), ('Martínez', 'np00000'), ('no', 'rn'), ('se', 'p0000000'), ('imaginan', 'vmip000'), ('uno', 'pi000000'), ('sin', 'sp000'), ('el', 'da0000'), ('otro', 'pi000000')]\n"
     ]
    }
   ],
   "source": [
    "print(a[0])"
   ]
  },
  {
   "cell_type": "code",
   "execution_count": 15,
   "metadata": {},
   "outputs": [],
   "source": [
    "#rebie lista de tuplas\n",
    "#Dos modos -> \"w\" = palabra anterior , \"t\" = tag anterior\n",
    "def tw_before(lists, i, mode):\n",
    "    if i != 0:\n",
    "        if mode == \"w\":\n",
    "            return lists[i-1][0] #palabra\n",
    "        else:\n",
    "            return lists[i-1][1] #tag\n",
    "    else:\n",
    "        return \"[start]\""
   ]
  },
  {
   "cell_type": "code",
   "execution_count": 16,
   "metadata": {},
   "outputs": [],
   "source": [
    "#recibe lista de tuplas\n",
    "#Dos modos -> \"w\" = palabra siguiente , \"t\" = tag siguiente\n",
    "def tw_after(lists, i, mode):\n",
    "    if i != len(lists)-1:\n",
    "        if mode == \"w\":\n",
    "            return lists[i+1][0] #palabra\n",
    "        else:\n",
    "            return lists[i+1][1] #tag\n",
    "    else:\n",
    "        return \"[end]\""
   ]
  },
  {
   "cell_type": "code",
   "execution_count": 17,
   "metadata": {},
   "outputs": [],
   "source": [
    "#lematizado\n",
    "lemma_dict = defaultdict(str)\n",
    "with open('lemmatization-es.txt') as f:\n",
    "    for line in f:\n",
    "        splited_line = line.split('\\t')\n",
    "        #print(splited_line)\n",
    "        lemma_dict[splited_line[1].strip()] = splited_line[0]"
   ]
  },
  {
   "cell_type": "code",
   "execution_count": 18,
   "metadata": {},
   "outputs": [],
   "source": [
    "def lemmatize(word):\n",
    "   return lemma_dict.get(word, word) # + u'*'"
   ]
  },
  {
   "cell_type": "code",
   "execution_count": 19,
   "metadata": {},
   "outputs": [],
   "source": [
    "features = []\n",
    "check_list = []"
   ]
  },
  {
   "cell_type": "code",
   "execution_count": 20,
   "metadata": {},
   "outputs": [],
   "source": [
    "for sent in a:\n",
    "    for i, (fst,snd) in enumerate(sent):\n",
    "        new_stuff_dict = {'lemma':lemmatize(fst.lower()),'POS':snd, 'lowcase':fst.islower(), \"wbefore\":tw_before(sent, i, \"w\"), \"tbefore\":tw_before(sent, i, \"t\"), \"wafter\":tw_after(sent, i, \"w\"), \"tafter\":tw_after(sent,i,\"t\")} # la palabra en si no es un feature\n",
    "        features.append(new_stuff_dict)\n",
    "        check_list.append(fst)"
   ]
  },
  {
   "cell_type": "code",
   "execution_count": 21,
   "metadata": {
    "scrolled": false
   },
   "outputs": [
    {
     "data": {
      "text/plain": [
       "[{'POS': 'da0000',\n",
       "  'lemma': 'el',\n",
       "  'lowcase': False,\n",
       "  'tafter': 'pr000000',\n",
       "  'tbefore': '[start]',\n",
       "  'wafter': 'que',\n",
       "  'wbefore': '[start]'},\n",
       " {'POS': 'pr000000',\n",
       "  'lemma': 'que',\n",
       "  'lowcase': True,\n",
       "  'tafter': 'vmip000',\n",
       "  'tbefore': 'da0000',\n",
       "  'wafter': 'sostiene',\n",
       "  'wbefore': 'Lo'},\n",
       " {'POS': 'vmip000',\n",
       "  'lemma': 'sostener',\n",
       "  'lowcase': True,\n",
       "  'tafter': 'sp000',\n",
       "  'tbefore': 'pr000000',\n",
       "  'wafter': 'a',\n",
       "  'wbefore': 'que'}]"
      ]
     },
     "execution_count": 21,
     "metadata": {},
     "output_type": "execute_result"
    }
   ],
   "source": [
    "features[:3]"
   ]
  },
  {
   "cell_type": "code",
   "execution_count": 22,
   "metadata": {},
   "outputs": [],
   "source": [
    "#Vectorizado\n",
    "from sklearn.feature_extraction import DictVectorizer\n",
    "v = DictVectorizer(sparse=False)\n",
    "X = v.fit_transform(features)"
   ]
  },
  {
   "cell_type": "code",
   "execution_count": 23,
   "metadata": {},
   "outputs": [],
   "source": [
    "Y = v.inverse_transform(X)"
   ]
  },
  {
   "cell_type": "code",
   "execution_count": 24,
   "metadata": {},
   "outputs": [
    {
     "data": {
      "text/plain": [
       "{'POS=pr000000': 1.0,\n",
       " 'lemma=que': 1.0,\n",
       " 'lowcase': 1.0,\n",
       " 'tafter=vmip000': 1.0,\n",
       " 'tbefore=da0000': 1.0,\n",
       " 'wafter=sostiene': 1.0,\n",
       " 'wbefore=Lo': 1.0}"
      ]
     },
     "execution_count": 24,
     "metadata": {},
     "output_type": "execute_result"
    }
   ],
   "source": [
    "Y[1]"
   ]
  },
  {
   "cell_type": "code",
   "execution_count": 25,
   "metadata": {},
   "outputs": [
    {
     "data": {
      "text/plain": [
       "array([ 0.,  0.,  0., ...,  0.,  0.,  0.])"
      ]
     },
     "execution_count": 25,
     "metadata": {},
     "output_type": "execute_result"
    }
   ],
   "source": [
    "X[1]"
   ]
  },
  {
   "cell_type": "code",
   "execution_count": 26,
   "metadata": {},
   "outputs": [],
   "source": [
    "from sklearn.decomposition import TruncatedSVD"
   ]
  },
  {
   "cell_type": "code",
   "execution_count": 27,
   "metadata": {},
   "outputs": [
    {
     "data": {
      "text/plain": [
       "array([[  2.09940083e-01,  -3.38443935e-01,   1.08521530e+00, ...,\n",
       "          4.38897200e-03,  -5.16779489e-03,   4.61525147e-04],\n",
       "       [  1.10759971e+00,   2.46312529e-01,  -3.04492855e-01, ...,\n",
       "         -2.28610849e-02,  -4.05514530e-02,  -1.00689347e-01],\n",
       "       [  1.16708360e+00,   3.63994144e-01,  -2.59453003e-01, ...,\n",
       "          6.11273334e-02,  -1.01858439e-01,  -3.34406722e-02],\n",
       "       ..., \n",
       "       [  1.01558927e+00,  -2.06248423e-02,  -8.21721261e-02, ...,\n",
       "         -1.58584956e-02,   3.15783181e-02,   7.94649420e-03],\n",
       "       [  1.00984036e+00,  -8.33571674e-02,  -1.37053750e-01, ...,\n",
       "          3.69209782e-03,   9.54952140e-04,   1.99159083e-02],\n",
       "       [  1.12740250e+00,   2.86740633e-01,  -6.91632909e-02, ...,\n",
       "          4.90407406e-03,  -4.31826869e-03,   2.13795576e-02]])"
      ]
     },
     "execution_count": 27,
     "metadata": {},
     "output_type": "execute_result"
    }
   ],
   "source": [
    "#Reducción de dimensionalidad\n",
    "svd = TruncatedSVD(n_components=300, n_iter=7, random_state=42)\n",
    "svd.fit_transform(X)"
   ]
  },
  {
   "cell_type": "code",
   "execution_count": 28,
   "metadata": {},
   "outputs": [
    {
     "data": {
      "text/plain": [
       "array([ 0.,  0.,  0., ...,  0.,  0.,  0.])"
      ]
     },
     "execution_count": 28,
     "metadata": {},
     "output_type": "execute_result"
    }
   ],
   "source": [
    "X[0]"
   ]
  },
  {
   "cell_type": "code",
   "execution_count": 29,
   "metadata": {},
   "outputs": [
    {
     "data": {
      "text/plain": [
       "KMeans(algorithm='auto', copy_x=True, init='k-means++', max_iter=300,\n",
       "    n_clusters=40, n_init=10, n_jobs=1, precompute_distances='auto',\n",
       "    random_state=None, tol=0.0001, verbose=0)"
      ]
     },
     "execution_count": 29,
     "metadata": {},
     "output_type": "execute_result"
    }
   ],
   "source": [
    "#Clustering\n",
    "from sklearn.cluster import KMeans\n",
    "km = KMeans(n_clusters=40)\n",
    "km.fit(X)"
   ]
  },
  {
   "cell_type": "code",
   "execution_count": 30,
   "metadata": {},
   "outputs": [],
   "source": [
    "labels = km.predict(X)"
   ]
  },
  {
   "cell_type": "code",
   "execution_count": 31,
   "metadata": {},
   "outputs": [
    {
     "name": "stdout",
     "output_type": "stream",
     "text": [
      "[28 17 19 ..., 23 32 30]\n"
     ]
    }
   ],
   "source": [
    "print(labels)"
   ]
  },
  {
   "cell_type": "code",
   "execution_count": 32,
   "metadata": {},
   "outputs": [
    {
     "name": "stdout",
     "output_type": "stream",
     "text": [
      "defaultdict(<class 'set'>, {28: {'Creo', 'Creen', 'Hoy', 'Nunca', 'Seguramente', 'Hay', 'Lo', 'Después', 'Siempre', 'Menos', 'Pienso', 'Así', 'También', 'Nada'}, 17: {'que', 'cuando'}, 19: {'sea', 'molestan', 'vivimos', 'les', 'fue', 'sostiene', 'en', 'levantaban', 'ver', 'más', 'ya', 'abrimos', 'anticipa', 'están', 'se', 'calificaron', 'vino', 'mantiene', 'llevan'}, 14: {'a'}, 4: {'la', 'los', 'las'}, 16: {'mujer', 'forma', 'medida', 'tormenta', 'día', 'pelo', 'pareja', 'otro', 'triunfo', 'vida', 'toma', 'llama', 'edad', 'pasión', 'acuerdo', 'entrada', 'grupo', 'acta', 'primer', 'duración', 'reclamo', 'secreto', 'sábado', 'momento', 'charla', 'amor', 'ley', 'agua', 'café', 'otros', 'luna', 'unidad', 'anteproyecto', 'miércoles', 'tiempo', 'movimiento'}, 32: {'somos', 'fue', 'fueron', 'Somos', 'son', 'ser', 'es', 'sido'}, 9: {'lo', 'el'}, 10: {'Ipem', 'Jerónimo', 'Fábrica', 'Nicolás', 'Deán', 'Secundarios', 'Coordinadora', 'Clara', 'Ateneo', 'Villa', 'Ministerio', 'Pedro', 'María', 'Alejandro', 'Rodolfo', 'Gobierno'}, 2: {'Belgrano', 'Córdoba', 'Dios', 'Interestudiantil', 'Militar', 'Gordita', 'Manuel', 'Copérnico', 'Martínez', 'Virgen', 'Cabrera', 'Funes', 'Luis', 'Barrionuevo', 'Cornú', 'Unidos', 'Crespo', 'Isabel', 'Carbó', 'Educación', 'Juventus', 'Rodríguez', 'Mary', 'Pedro'}, 25: {'y', 'sino', 'pero', 'o'}, 15: {'nos', 'no'}, 24: {'les', 'desaparezca', 'Me', 'Los', 'lo', 'nos', 'uno', 'nosotros', 'le', 'los', 'te', 'la', 'me', 'se'}, 36: {'está', 'aconseja', 'manejamos', 'hay', 'podemos', 'debe', 'recuerda', 'imaginan', 'experiencia', 'decía', 'duran', 'aseguran', 'dice', 'compra', 'parece', 'quiero', 'sabés', 'parecen', 'lleva', 'reflexiona', 'podes', 'casamos', 'hace', 'qué', 'hacen', 'trabajo'}, 13: {'ayudó', 'cambiando', 'pensando', 'sorprende', 'volvió', 'quede', 'volveremos', 'algunos', 'uno', 'salía', 'comenta', 'enojaba', 'construyó', 'decidieron', 'tratando', 'conocieron', 'aunque', 'unió', 'ponemos', 'suscribieron', 'pusieron', 'ayudan', 'pusimos', 'era', 'sumaron', 'consume', 'gusta', 'advirtieron', 'paraba', 'lee'}, 33: {'sin', 'con', 'fue', 'para', 'firmaron', 'levantarían', 'aunque', 'en', 'firmado', 'de', 'dio', 'cuando', 'discuta', 'desde', 'toma', 'por', 'tomado', 'nervioso'}, 37: {'radio', 'muerte', 'normativa', 'dos', 'sábado', 'otro', 'amor', 'vida', 'felicidad'}, 5: {'La', 'A', 'Coinciden', 'Qué', 'Que', 'Clara', 'El', 'Pero', 'Uno', 'Todo', 'Ese', 'No', 'Yo', 'Lo', 'Si', 'Salir', 'Rodolfo', 'Pobrecito', 'En', 'Estos', 'Sin', 'Mi', 'Había', 'Hace', 'Estamos', 'Tenemos', 'Me', 'Y', 'Es', 'Prefiero', 'Dice', 'Un', 'Mary', 'Los', 'Convocamos', 'Pedro', 'Se', 'Nos', 'Cuando', 'Por', 'Cuál'}, 11: {'ahora', 'menos', 'siempre', 'ni', 'también', 'fuera', 'ayer', 'tan', 'así', 'recién', 'más', 'nunca', 'muy', 'mal', 'emprendedora'}, 8: {'forma', 'día', 'su', 'empleada', 'pensarlo', 'llamar', 'través', 'defensa', 'dos', 'luchar', 'grupo', 'continuar', 'embargo', 'precisión', 'madre', 'duda', 'reclamo', 'razones', 'hogar', 'fe', 'cambiar', 'cuando', 'principio', 'todos', 'qué', 'durar', 'tiempo', 'tener', 'casa', 'cambio', 'decir', 'movimiento'}, 38: {'Rody', 'Aviones', 'Mary', 'Clara', 'Capuchinos', 'Ayacucho', 'Entel', 'Educación'}, 0: {'inseguridades', 'ir', 'hijos', 'veces', 'discusiones', 'quería', 'quererse', 'uno', 'nada', 'darle', 'hijas', 'tenido', 'cinco', 'empezado', 'colegios', 'viviendo', 'bombones', 'faltar', 'pedir', 'peleas', 'estar', 'seguiremos', 'este', 'me', 'descubriendo', 'logrado', 'entenderse', 'salido', 'tres', 'logrando', 'se', 'cuatro', 'muchos', 'quisieran', 'tuvo', 'pasado', 'intereses', 'estaría', 'años', 'cambiarle', 'cosas', 'esas', 'dado', 'vamos'}, 20: {'edilicias', 'conversar', 'sencillo', 'proyectos', 'comunicación', 'abraza', 'más', 'mira', 'compañeros', 'ilusiones', 'las', 'hablar', 'proyecto', 'todos', 'casamos', 'alegre', 'martes', 'casados', 'gusta', 'murió', 'mí', 'optimista'}, 39: {'ganas', 'medio', 'siempre', 'sólo', 'tienen', 'responde', 'objetivos', 'generoso', 'saben', 'pidiendo', 'Mary', 'miércoles', 'agradecen', 'más', 'después', 'postergar', 'disgusta', 'llevan', 'esté', 'ayudarse'}, 7: {'siempre', 'admiten', 'hijos', 'acostumbré', 'agregan', 'trabajábamos', 'comienzos', 'otro', 'chau', 'después', 'callar', 'vida', 'analizar', 'risas', 'conversar', 'mujeres', 'bien', 'días', 'más', 'ríen', 'pedir', 'nietos', 'sostuvieron', 'es', 'hablar', 'miel', 'menos', 'ahora', 'tabúes', 'dicen', 'administrarlo', 'rodea', 'enamorados', 'cambiarle', 'cosas', 'obras'}, 6: {'gran', 'seco', 'fácil', 'honesto', 'necesaria', 'hermosa', 'misma', 'común', 'inútil', 'indecisa', 'obstante', 'noble', 'bueno', 'general', 'separados', 'suficiente', 'cariñosa', 'nuevas', 'largo', 'grande', 'logrado', 'solos', 'económicos', 'denominado', 'juntos', 'ex', 'sorprendidos', 'alegre', 'importante', 'feliz', 'juvenil', 'sutil', 'amena', 'secundarios', 'difíciles', 'empleado'}, 22: {'con', 'para', 'entre', 'en', 'de', 'desde', 'como', 'por'}, 1: {'con', 'para', 'contra', 'del', 'al', 'en', 'a', 'de', 'esa', 'por'}, 31: {'habían', 'ha', 'haber', 'hay', 'han', 'haya', 'habíamos', 'había'}, 35: {'para', 'trata', 'asegura', 'gustaría', 'disgustaba', 'gusta', 'cree', 'sepan', 'cuenta', 'imaginaron', 'tiene'}, 12: {'si', 'que', 'cuando', 'como', 'porque'}, 3: {'algún', 'esperar', 'dejar', 'todo', 'uno', 'habitan', 'son', 'aglutina', 'en', 'perdimos', 'había', 'crezca', 'tratar', 'sea', 'puede', 'pare', 'estamos', 'es', 'cuando', 'los', 'las', 'se', 'alimentarlo', 'iban', 'lleguen', 'cada'}, 34: {'En', 'iniciado', 'en', 'de', 'mantener', 'compartimos', 've', 'levantar', 'levantaron', 'por', 'toda', 'elige'}, 23: {'ayudó', 'que', 'todo', 'todas', 'ya', 'plazo', 'no', 'como'}, 18: {'mucha', 'otro', 'otra', 'ningún', 'tanto', 'cada', 'una', 'un'}, 29: {'beso', 'victoria', 'posibilidad', 'hija', 'hogar', 'amor', 'tiempo', 'eso', 'madre', 'prioridad', 'orgullo', 'conflicto', 'seguridad'}, 21: {'reina', 'discusión', 'día', 'triunfo', 'vida', 'matrimonio', 'acuerdo', 'manera', 'rato', 'persona', 'familia', 'medio', 'educación', 'rareza', 'instancia', 'refugio', 'proyecto', 'luna', 'leyenda', 'carta', 'año', 'sentido', 'problema', 'locutor', 'dolor'}, 30: {'servicial', 'permanente', 'inigualable', 'estudiantil', 'completo', 'mejor', 'grande', 'difícil', 'feliz', 'casados', 'solos', 'escolares', 'juntos', 'personales', 'común'}, 27: {'escuelas', 'primeros', 'planes', 'aspectos', 'medidas', 'ojos', 'relaciones', 'circunstancias', 'parejas', 'luchas', 'ingresos', 'tomas', 'dos', 'instituciones', 'mismos', 'meses', 'avatares', 'personas', 'cimientos', 'recursos', 'momentos', 'años', 'centros'}, 26: {'novios', 'planes', 'otro', 'uno', 'mil', 'refacción', 'ayudar', 'acuerdo', 'debate', 'fuerza', 'barrio', 'estar', 'estudiantes', 'septiembre', 'seguir', 'l', 'mejoras', 'Educación', 'miel', 'noche', 'reforma', 'vez', 'trabajo', 'crecer', 'esas', 'obras', 'lado'}})\n"
     ]
    }
   ],
   "source": [
    "#Clusters obtenidos\n",
    "words = defaultdict(set)\n",
    "for i, label in enumerate(labels):\n",
    "    words[label].add(check_list[i])\n",
    "print(words)"
   ]
  },
  {
   "cell_type": "code",
   "execution_count": 74,
   "metadata": {},
   "outputs": [
    {
     "name": "stdout",
     "output_type": "stream",
     "text": [
      "{'Carbó', 'Belgrano', 'Gordita', 'Rodríguez', 'Crespo', 'Cabrera', 'Educación', 'Luis', 'Cornú', 'Funes', 'Martínez', 'Copérnico', 'Interestudiantil', 'Virgen', 'Unidos', 'Mary', 'Juventus', 'Dios', 'Ipem', 'Ministerio', 'Pedro', 'Barrionuevo'}\n"
     ]
    }
   ],
   "source": [
    "print(words[23])"
   ]
  },
  {
   "cell_type": "code",
   "execution_count": 67,
   "metadata": {},
   "outputs": [
    {
     "name": "stdout",
     "output_type": "stream",
     "text": [
      "{'fue', 'se', 'molestan', 'vino', 'sostiene', 'ya', 'llevan', 'calificaron', 'levantaban', 'en', 'han', 'están', 'mantiene', 'les', 'anticipa', 'ver', 'sea', 'abrimos', 'vivimos', 'más'}\n"
     ]
    }
   ],
   "source": [
    "print(words[13])"
   ]
  },
  {
   "cell_type": "code",
   "execution_count": 68,
   "metadata": {},
   "outputs": [
    {
     "name": "stdout",
     "output_type": "stream",
     "text": [
      "{'se', 'Los', 'le', 'Me', 'lo', 'les', 'te', 'nos', 'los', 'la', 'me'}\n"
     ]
    }
   ],
   "source": [
    "print(words[32])"
   ]
  },
  {
   "cell_type": "code",
   "execution_count": 106,
   "metadata": {},
   "outputs": [
    {
     "name": "stdout",
     "output_type": "stream",
     "text": [
      "{'o', 'pero', 'y'}\n"
     ]
    }
   ],
   "source": [
    "print(words[15])"
   ]
  },
  {
   "cell_type": "code",
   "execution_count": 141,
   "metadata": {},
   "outputs": [
    {
     "name": "stdout",
     "output_type": "stream",
     "text": [
      "{'fue', 'fueron', 'es', 'Somos', 'son', 'sido', 'somos', 'ser'}\n"
     ]
    }
   ],
   "source": [
    "print(words[6])"
   ]
  },
  {
   "cell_type": "code",
   "execution_count": 29,
   "metadata": {},
   "outputs": [
    {
     "name": "stdout",
     "output_type": "stream",
     "text": [
      "{'radio', 'felicidad', 'reclamo', 'entrada', 'pasión', 'misma', 'vida', 'anteproyecto', 'normativa', 'medida', 'unidad', 'toma', 'tiempo', 'secreto', 'luna', 'muerte', 'duración', 'forma', 'mujer', 'edad', 'tormenta', 'ley'}\n"
     ]
    }
   ],
   "source": [
    "print(words[25])"
   ]
  }
 ],
 "metadata": {
  "kernelspec": {
   "display_name": "Python 3",
   "language": "python",
   "name": "python3"
  },
  "language_info": {
   "codemirror_mode": {
    "name": "ipython",
    "version": 3
   },
   "file_extension": ".py",
   "mimetype": "text/x-python",
   "name": "python",
   "nbconvert_exporter": "python",
   "pygments_lexer": "ipython3",
   "version": "3.6.1"
  }
 },
 "nbformat": 4,
 "nbformat_minor": 2
}
