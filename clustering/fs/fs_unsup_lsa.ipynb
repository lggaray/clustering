{
 "cells": [
  {
   "cell_type": "code",
   "execution_count": 1,
   "metadata": {},
   "outputs": [],
   "source": [
    "from collections import defaultdict"
   ]
  },
  {
   "cell_type": "code",
   "execution_count": 2,
   "metadata": {},
   "outputs": [],
   "source": [
    "from itertools import islice\n",
    "with open(\"wikicorpus_01\") as myfile:\n",
    "    head = list(islice(myfile, 651))"
   ]
  },
  {
   "cell_type": "code",
   "execution_count": 3,
   "metadata": {},
   "outputs": [],
   "source": [
    "sent = []\n",
    "for s in head:\n",
    "    sent.append(s.split())"
   ]
  },
  {
   "cell_type": "code",
   "execution_count": 4,
   "metadata": {},
   "outputs": [],
   "source": [
    "words = []\n",
    "sentences = []\n",
    "for s in sent:\n",
    "    if len(s) == 4 and s[0] not in {'(', ')', ','} and '[' not in s[1]:\n",
    "        words.append((s[0], s[1], s[2], s[3]))\n",
    "        #if 'endofarticle' in s[1]:\n",
    "        #    sentences.append(words)\n",
    "        #    words = []"
   ]
  },
  {
   "cell_type": "code",
   "execution_count": 5,
   "metadata": {},
   "outputs": [
    {
     "data": {
      "text/plain": [
       "[('Néstor_Gabriel_Martinena', 'néstor_gabriel_martinena', 'NP00000', '0'),\n",
       " ('La', 'el', 'DA0FS0', '0'),\n",
       " ('Plata', 'plata', 'NP00000', '10501473'),\n",
       " ('Buenos_Aires', 'buenos_aires', 'NP00000', '0')]"
      ]
     },
     "execution_count": 5,
     "metadata": {},
     "output_type": "execute_result"
    }
   ],
   "source": [
    "words[:4]"
   ]
  },
  {
   "cell_type": "code",
   "execution_count": 6,
   "metadata": {},
   "outputs": [],
   "source": [
    "count = dict()\n",
    "for fst,snd,trd, fth in words:\n",
    "    if fst not in count:\n",
    "        count[fst] = 1\n",
    "    else:\n",
    "        count[fst] += 1"
   ]
  },
  {
   "cell_type": "code",
   "execution_count": 7,
   "metadata": {},
   "outputs": [],
   "source": [
    "aux = []\n",
    "check = []\n",
    "for fst,snd,trd, fth in words:\n",
    "    aux.append((fst,snd,trd, fth))\n",
    "    if fst == '.':\n",
    "        check.append(aux)\n",
    "        aux = []"
   ]
  },
  {
   "cell_type": "code",
   "execution_count": 8,
   "metadata": {},
   "outputs": [
    {
     "data": {
      "text/plain": [
       "[[('Néstor_Gabriel_Martinena', 'néstor_gabriel_martinena', 'NP00000', '0'),\n",
       "  ('La', 'el', 'DA0FS0', '0'),\n",
       "  ('Plata', 'plata', 'NP00000', '10501473'),\n",
       "  ('Buenos_Aires', 'buenos_aires', 'NP00000', '0'),\n",
       "  ('Argentina', 'argentina', 'NP00000', '02035234'),\n",
       "  ('es', 'ser', 'VSIP3S0', '01775973'),\n",
       "  ('un', 'uno', 'DI0MS0', '0'),\n",
       "  ('futbolista', 'futbolista', 'NCCS000', '0'),\n",
       "  ('argentino', 'argentino', 'AQ0MS0', '00278090'),\n",
       "  ('.', '.', 'Fp', '0')],\n",
       " [('Juega', 'jugar', 'VMM02S0', '00727813'),\n",
       "  ('de', 'de', 'SPS00', '0'),\n",
       "  ('delantero', 'delantero', 'NCMS000', '00466114'),\n",
       "  ('y', 'y', 'CC', '0'),\n",
       "  ('su', 'su', 'DP3CS0', '0'),\n",
       "  ('equipo', 'equipo', 'NCMS000', '06093198'),\n",
       "  ('actual', 'actual', 'AQ0CS0', '01667781'),\n",
       "  ('es', 'ser', 'VSIP3S0', '01775973'),\n",
       "  ('Gimnasia', 'gimnasia', 'NP00000', '00275488'),\n",
       "  ('y', 'y', 'CC', '0'),\n",
       "  ('Esgrima_La_Plata_de_la_Primera_División_de_Argentina',\n",
       "   'esgrima_la_plata_de_la_primera_división_de_argentina',\n",
       "   'NP00000',\n",
       "   '0'),\n",
       "  ('.', '.', 'Fp', '0')]]"
      ]
     },
     "execution_count": 8,
     "metadata": {},
     "output_type": "execute_result"
    }
   ],
   "source": [
    "check[:2]"
   ]
  },
  {
   "cell_type": "code",
   "execution_count": 9,
   "metadata": {},
   "outputs": [],
   "source": [
    "dicc_backward = defaultdict(list)\n",
    "dicc_forward = defaultdict(list)\n",
    "for s in check:\n",
    "    for i,w in enumerate(s):\n",
    "        if i != 0:\n",
    "            dicc_backward[w[0]].append((s[i-1][0], s[i-1][1], s[i-1][2], s[i-1][3]))\n",
    "        else:\n",
    "            dicc_backward[w[0]].append(('[W.Start]', '[L.Start]', '[T.Start]', '[S.Start]'))\n",
    "        if i != len(s)-1:\n",
    "            dicc_forward[w[0]].append((s[i+1][0], s[i+1][1], s[i+1][2], s[i+1][3]))\n",
    "        else:\n",
    "            dicc_forward[w[0]].append(('[W.End]', '[T.End]', '[T.End]', '[S.End]'))"
   ]
  },
  {
   "cell_type": "code",
   "execution_count": 10,
   "metadata": {},
   "outputs": [
    {
     "data": {
      "text/plain": [
       "[('su', 'su', 'DP3CS0', '0'),\n",
       " ('el', 'el', 'DA0MS0', '0'),\n",
       " ('su', 'su', 'DP3CS0', '0'),\n",
       " ('el', 'el', 'DA0MS0', '0')]"
      ]
     },
     "execution_count": 10,
     "metadata": {},
     "output_type": "execute_result"
    }
   ],
   "source": [
    "dicc_backward['equipo']"
   ]
  },
  {
   "cell_type": "code",
   "execution_count": 11,
   "metadata": {},
   "outputs": [
    {
     "data": {
      "text/plain": [
       "[('actual', 'actual', 'AQ0CS0', '01667781'),\n",
       " ('Racing_Club', 'racing_club', 'NP00000', '0'),\n",
       " ('y', 'y', 'CC', '0'),\n",
       " ('de', 'de', 'SPS00', '0')]"
      ]
     },
     "execution_count": 11,
     "metadata": {},
     "output_type": "execute_result"
    }
   ],
   "source": [
    "dicc_forward['equipo']"
   ]
  },
  {
   "cell_type": "code",
   "execution_count": 12,
   "metadata": {},
   "outputs": [
    {
     "data": {
      "text/plain": [
       "1"
      ]
     },
     "execution_count": 12,
     "metadata": {},
     "output_type": "execute_result"
    }
   ],
   "source": [
    "count['La']"
   ]
  },
  {
   "cell_type": "code",
   "execution_count": 29,
   "metadata": {},
   "outputs": [],
   "source": [
    "dicc = dict()\n",
    "for fst,snd,trd,fth in words:\n",
    "    features = defaultdict(int)\n",
    "    pos = 'PoS__' + snd\n",
    "    if snd not in dicc and snd not in {'.', ',', ':', ';'} and snd.isalpha(): #and count[fst] > 2:\n",
    "        dicc[snd] = features\n",
    "        features[pos] = 1\n",
    "        features[fth] = 1 #synset\n",
    "        for i in dicc_backward[fst]:\n",
    "            features[i[1]+\"-1\"] += 1\n",
    "            features[i[2]+\"-1\"] += 1\n",
    "            features[i[3]+\"-1\"] += 1\n",
    "        for i in dicc_forward[fst]:\n",
    "            features[i[1]+\"+1\"] += 1\n",
    "            features[i[2]+\"+1\"] += 1\n",
    "            features[i[3]+\"+1\"] += 1\n",
    "        \n",
    "    elif fst in dicc:\n",
    "        has_it = dicc[fst]\n",
    "        if fth in has_it:\n",
    "            has_it[fth] += 1\n",
    "        else:\n",
    "            has_it[fth] = 1\n",
    "        if pos in has_it:\n",
    "            has_it[pos] += 1\n",
    "        else:\n",
    "            has_it[pos] = 1"
   ]
  },
  {
   "cell_type": "code",
   "execution_count": 30,
   "metadata": {},
   "outputs": [
    {
     "data": {
      "text/plain": [
       "defaultdict(int,\n",
       "            {'0': 3,\n",
       "             '0-1': 3,\n",
       "             '04538868+1': 1,\n",
       "             '06239374+1': 1,\n",
       "             '07076177+1': 1,\n",
       "             'NCMS000+1': 3,\n",
       "             'NP00000-1': 3,\n",
       "             'PoS__cuyo': 3,\n",
       "             'ayuntamiento_de_valle_de_losa-1': 1,\n",
       "             'ha-1': 1,\n",
       "             'la_zarza-1': 1,\n",
       "             'plan+1': 1,\n",
       "             'promotor+1': 1,\n",
       "             'sistema+1': 1})"
      ]
     },
     "execution_count": 30,
     "metadata": {},
     "output_type": "execute_result"
    }
   ],
   "source": [
    "dicc['cuyo']"
   ]
  },
  {
   "cell_type": "code",
   "execution_count": 31,
   "metadata": {},
   "outputs": [],
   "source": [
    "lista_para_vectorizar = []\n",
    "check_list = []\n",
    "for key, value in dicc.items():\n",
    "    check_list.append(key)\n",
    "    lista_para_vectorizar.append(value)"
   ]
  },
  {
   "cell_type": "code",
   "execution_count": 32,
   "metadata": {},
   "outputs": [],
   "source": [
    "from sklearn.feature_extraction import DictVectorizer\n",
    "v = DictVectorizer(sparse=False)\n",
    "X = v.fit_transform(lista_para_vectorizar)"
   ]
  },
  {
   "cell_type": "code",
   "execution_count": 33,
   "metadata": {},
   "outputs": [
    {
     "data": {
      "text/plain": [
       "array([[  2.41147769e+01,   3.54558162e+01,  -8.65994619e+00, ...,\n",
       "          7.07418848e-03,  -1.08162165e-02,   1.10827980e-02],\n",
       "       [  7.58197799e-01,  -3.55861594e-01,   7.61374223e-01, ...,\n",
       "          3.47463084e-01,   2.64380631e-02,   1.30348104e-01],\n",
       "       [  2.61404266e-01,   2.20514612e-02,   5.85892450e-01, ...,\n",
       "         -2.18886512e-01,  -1.91572363e-01,   1.94636976e-01],\n",
       "       ..., \n",
       "       [  1.22247354e+00,   1.32614278e-01,   4.13726265e-01, ...,\n",
       "         -4.45731712e-02,   2.11204511e-01,  -2.80679038e-01],\n",
       "       [  6.41333078e-01,  -3.06928154e-01,   8.84307091e-01, ...,\n",
       "          1.45749191e-02,  -1.94442750e-03,   2.32131945e-02],\n",
       "       [  4.42536786e-01,  -2.59694736e-01,   4.60542666e-01, ...,\n",
       "          2.14797830e-03,  -2.23666581e-02,   5.29656100e-02]])"
      ]
     },
     "execution_count": 33,
     "metadata": {},
     "output_type": "execute_result"
    }
   ],
   "source": [
    "from sklearn.decomposition import TruncatedSVD\n",
    "\n",
    "#Reducción de dimensionalidad\n",
    "svd = TruncatedSVD(n_components=47, n_iter=7, random_state=42)\n",
    "svd.fit_transform(X)"
   ]
  },
  {
   "cell_type": "code",
   "execution_count": 34,
   "metadata": {},
   "outputs": [],
   "source": [
    "import sklearn\n",
    "Y = sklearn.preprocessing.normalize(X, axis=0)"
   ]
  },
  {
   "cell_type": "code",
   "execution_count": 21,
   "metadata": {},
   "outputs": [
    {
     "data": {
      "text/plain": [
       "array([[ 0.        ,  0.        ,  0.09996876, ...,  0.        ,\n",
       "         0.70710678,  0.        ],\n",
       "       [ 0.        ,  0.7148096 ,  0.79975012, ...,  0.        ,\n",
       "         0.        ,  0.        ],\n",
       "       [ 0.        ,  0.29242211,  0.17494534, ...,  0.        ,\n",
       "         0.        ,  0.        ],\n",
       "       ..., \n",
       "       [ 0.        ,  0.04873702,  0.        , ...,  0.        ,\n",
       "         0.        ,  0.        ],\n",
       "       [ 0.        ,  0.        ,  0.02499219, ...,  0.        ,\n",
       "         0.        ,  0.        ],\n",
       "       [ 0.89442719,  0.        ,  0.07497657, ...,  0.        ,\n",
       "         0.        ,  0.        ]])"
      ]
     },
     "execution_count": 21,
     "metadata": {},
     "output_type": "execute_result"
    }
   ],
   "source": [
    "Y"
   ]
  },
  {
   "cell_type": "code",
   "execution_count": 35,
   "metadata": {},
   "outputs": [
    {
     "data": {
      "text/plain": [
       "KMeans(algorithm='auto', copy_x=True, init='k-means++', max_iter=300,\n",
       "    n_clusters=5, n_init=10, n_jobs=1, precompute_distances='auto',\n",
       "    random_state=None, tol=0.0001, verbose=0)"
      ]
     },
     "execution_count": 35,
     "metadata": {},
     "output_type": "execute_result"
    }
   ],
   "source": [
    "from sklearn.cluster import KMeans\n",
    "km = KMeans(n_clusters=5)\n",
    "km.fit(Y)"
   ]
  },
  {
   "cell_type": "code",
   "execution_count": 36,
   "metadata": {},
   "outputs": [],
   "source": [
    "labels = km.predict(Y)"
   ]
  },
  {
   "cell_type": "code",
   "execution_count": 27,
   "metadata": {},
   "outputs": [
    {
     "name": "stdout",
     "output_type": "stream",
     "text": [
      "[0 1 2 0 0 4 3 0 0 0 0 0 0 0 0 0 0 0 0]\n"
     ]
    }
   ],
   "source": [
    "print(labels)"
   ]
  },
  {
   "cell_type": "code",
   "execution_count": 28,
   "metadata": {},
   "outputs": [
    {
     "name": "stdout",
     "output_type": "stream",
     "text": [
      "defaultdict(<class 'set'>, {0: {'partido', 'su', 'uno', 'con', 'localidad', 'tiempo', 'altura', 'planta', 'por', 'equipo', 'minuto', 'que', 'cuyo', 'a', 'ser'}, 1: {'de'}, 2: {'y'}, 4: {'en'}, 3: {'el'}})\n"
     ]
    }
   ],
   "source": [
    "clusters = defaultdict(set)\n",
    "for i, label in enumerate(labels):\n",
    "    clusters[label].add(check_list[i])\n",
    "print(clusters)"
   ]
  },
  {
   "cell_type": "code",
   "execution_count": null,
   "metadata": {},
   "outputs": [],
   "source": []
  }
 ],
 "metadata": {
  "kernelspec": {
   "display_name": "Python 3",
   "language": "python",
   "name": "python3"
  },
  "language_info": {
   "codemirror_mode": {
    "name": "ipython",
    "version": 3
   },
   "file_extension": ".py",
   "mimetype": "text/x-python",
   "name": "python",
   "nbconvert_exporter": "python",
   "pygments_lexer": "ipython3",
   "version": "3.6.1"
  }
 },
 "nbformat": 4,
 "nbformat_minor": 2
}
